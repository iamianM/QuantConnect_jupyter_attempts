{
 "cells": [
  {
   "cell_type": "code",
   "execution_count": 1,
   "id": "lesbian-constitutional",
   "metadata": {},
   "outputs": [],
   "source": [
    "import os\n",
    "os.environ[\"CUDA_VISIBLE_DEVICES\"] = \"-1\""
   ]
  },
  {
   "cell_type": "code",
   "execution_count": 2,
   "id": "41f459b3",
   "metadata": {},
   "outputs": [],
   "source": [
    "import tensorflow as tf\n",
    "\n",
    "from tensorflow.keras import datasets, models, optimizers\n",
    "from tensorflow.keras.layers import TimeDistributed, Conv2D, Flatten, Dense, LSTM, ConvLSTM2D, MaxPool2D, Dropout, Conv1D\n",
    "import matplotlib.pyplot as plt\n",
    "\n",
    "import numpy as np \n",
    "import pandas as pd"
   ]
  },
  {
   "cell_type": "code",
   "execution_count": 3,
   "id": "offensive-merchant",
   "metadata": {},
   "outputs": [
    {
     "data": {
      "text/plain": [
       "True"
      ]
     },
     "execution_count": 3,
     "metadata": {},
     "output_type": "execute_result"
    }
   ],
   "source": [
    "tf.test.is_built_with_cuda()"
   ]
  },
  {
   "cell_type": "code",
   "execution_count": 4,
   "id": "dae60f38",
   "metadata": {},
   "outputs": [],
   "source": [
    "tf.compat.v1.enable_eager_execution()"
   ]
  },
  {
   "cell_type": "code",
   "execution_count": 5,
   "id": "86f4cad1",
   "metadata": {},
   "outputs": [],
   "source": [
    "inputs_train = np.load(\"inputs_train_180.npy\")\n",
    "inputs_test = np.load(\"inputs_test_180.npy\")"
   ]
  },
  {
   "cell_type": "code",
   "execution_count": 6,
   "id": "external-aviation",
   "metadata": {},
   "outputs": [],
   "source": [
    "inputs_train = np.transpose(inputs_train, (0, 2,3,1))\n",
    "inputs_test = np.transpose(inputs_test, (0, 2,3,1))"
   ]
  },
  {
   "cell_type": "code",
   "execution_count": 7,
   "id": "royal-royalty",
   "metadata": {},
   "outputs": [],
   "source": [
    "inputs_train = inputs_train.reshape(inputs_train.shape[:2] + (inputs_train.shape[2]*inputs_train.shape[3],))\n",
    "inputs_test = inputs_test.reshape(inputs_test.shape[:2] + (inputs_test.shape[2]*inputs_test.shape[3],))"
   ]
  },
  {
   "cell_type": "code",
   "execution_count": 7,
   "id": "growing-ceremony",
   "metadata": {},
   "outputs": [],
   "source": [
    "window_size = 180"
   ]
  },
  {
   "cell_type": "code",
   "execution_count": 8,
   "id": "c6052538",
   "metadata": {},
   "outputs": [],
   "source": [
    "train = pd.read_csv('train_timeframes.csv').iloc[window_size-1:]\n",
    "test = pd.read_csv('test_timeframes.csv').iloc[window_size-1:]"
   ]
  },
  {
   "cell_type": "code",
   "execution_count": 9,
   "id": "assured-mambo",
   "metadata": {},
   "outputs": [],
   "source": [
    "df = [train, test]"
   ]
  },
  {
   "cell_type": "code",
   "execution_count": 10,
   "id": "9326d1b3",
   "metadata": {},
   "outputs": [],
   "source": [
    "img = inputs_train[0,:,:]"
   ]
  },
  {
   "cell_type": "code",
   "execution_count": 96,
   "id": "stuffed-stations",
   "metadata": {},
   "outputs": [
    {
     "data": {
      "text/plain": [
       "(180, 4)"
      ]
     },
     "execution_count": 96,
     "metadata": {},
     "output_type": "execute_result"
    }
   ],
   "source": [
    "img.shape"
   ]
  },
  {
   "cell_type": "code",
   "execution_count": 11,
   "id": "22b9f610",
   "metadata": {},
   "outputs": [
    {
     "data": {
      "text/plain": [
       "((73516, 180, 4), (73575, 23))"
      ]
     },
     "execution_count": 11,
     "metadata": {},
     "output_type": "execute_result"
    }
   ],
   "source": [
    "inputs_train.shape, train.shape"
   ]
  },
  {
   "cell_type": "code",
   "execution_count": 12,
   "id": "amateur-collins",
   "metadata": {},
   "outputs": [
    {
     "data": {
      "text/plain": [
       "((24186, 180, 4), (24245, 23))"
      ]
     },
     "execution_count": 12,
     "metadata": {},
     "output_type": "execute_result"
    }
   ],
   "source": [
    "inputs_test.shape, test.shape"
   ]
  },
  {
   "cell_type": "code",
   "execution_count": 13,
   "id": "6e56c8b4",
   "metadata": {},
   "outputs": [],
   "source": [
    "idx = 0\n",
    "batch_size = 32\n",
    "stop_limit = 0.0100\n",
    "price_limit = 0.0500\n",
    "margin_size = 50\n",
    "time_limit = 120"
   ]
  },
  {
   "cell_type": "code",
   "execution_count": 14,
   "id": "hungry-intent",
   "metadata": {},
   "outputs": [],
   "source": [
    "def get_model():\n",
    "    model = models.Sequential()\n",
    "    # model.add(LSTM(64, input_shape = img.shape, return_sequences=True, dropout=0.2))\n",
    "    model.add(LSTM(32, input_shape = img.shape, dropout=0.5))\n",
    "    # model.add(LSTM(32, dropout=0.2))\n",
    "    model.add(Dense(3, activation = \"tanh\"))\n",
    "    return model\n",
    "\n",
    "model = get_model()"
   ]
  },
  {
   "cell_type": "code",
   "execution_count": 194,
   "id": "broken-engineer",
   "metadata": {},
   "outputs": [],
   "source": [
    "# model = tf.keras.models.load_model('profit_model/', compile=False)"
   ]
  },
  {
   "cell_type": "code",
   "execution_count": 15,
   "id": "convertible-gossip",
   "metadata": {},
   "outputs": [
    {
     "name": "stdout",
     "output_type": "stream",
     "text": [
      "Model: \"sequential\"\n",
      "_________________________________________________________________\n",
      "Layer (type)                 Output Shape              Param #   \n",
      "=================================================================\n",
      "lstm (LSTM)                  (None, 32)                6784      \n",
      "_________________________________________________________________\n",
      "dense (Dense)                (None, 3)                 99        \n",
      "=================================================================\n",
      "Total params: 6,883\n",
      "Trainable params: 6,883\n",
      "Non-trainable params: 0\n",
      "_________________________________________________________________\n"
     ]
    }
   ],
   "source": [
    "model.summary()"
   ]
  },
  {
   "cell_type": "code",
   "execution_count": 19,
   "id": "generic-activity",
   "metadata": {},
   "outputs": [],
   "source": [
    "buffer_train = train.shape[0] - inputs_train.shape[0] +time_limit - 1\n",
    "buffer_test = test.shape[0] - inputs_test.shape[0] +time_limit - 1"
   ]
  },
  {
   "cell_type": "code",
   "execution_count": 21,
   "id": "fourth-style",
   "metadata": {
    "scrolled": true
   },
   "outputs": [],
   "source": [
    "all_closes_train = tf.convert_to_tensor([df[0].iloc[i:i+1+time_limit]['close_1min'].tolist() for i in range(len(df[0])-buffer_train)])\n",
    "all_closes_test = tf.convert_to_tensor([df[1].iloc[i:i+1+time_limit]['close_1min'].tolist() for i in range(len(df[1])-buffer_test)])"
   ]
  },
  {
   "cell_type": "code",
   "execution_count": 22,
   "id": "attended-milan",
   "metadata": {},
   "outputs": [],
   "source": [
    "all_spread_train = tf.convert_to_tensor([df[0].iloc[i:i+1]['spread'].tolist() for i in range(len(df[0])-buffer_train)])\n",
    "all_spread_test = tf.convert_to_tensor([df[1].iloc[i:i+1]['spread'].tolist() for i in range(len(df[1])-buffer_test)])"
   ]
  },
  {
   "cell_type": "code",
   "execution_count": 147,
   "id": "temporal-custody",
   "metadata": {},
   "outputs": [],
   "source": [
    "np.save(open('all_closes_train', 'wb'), all_closes_train.numpy())\n",
    "np.save(open('all_closes_test', 'wb'), all_closes_test.numpy())\n",
    "np.save(open('all_spread_train', 'wb'), all_spread_train.numpy())\n",
    "np.save(open('all_spread_test', 'wb'), all_spread_test.numpy())"
   ]
  },
  {
   "cell_type": "code",
   "execution_count": 16,
   "id": "authentic-front",
   "metadata": {},
   "outputs": [],
   "source": [
    "all_closes_train = tf.convert_to_tensor(np.load('all_closes_train.npy'))\n",
    "all_closes_test = tf.convert_to_tensor(np.load('all_closes_test.npy'))\n",
    "all_spread_train = tf.convert_to_tensor(np.load('all_spread_train.npy'))\n",
    "all_spread_test = tf.convert_to_tensor(np.load('all_spread_test.npy'))"
   ]
  },
  {
   "cell_type": "code",
   "execution_count": 23,
   "id": "monthly-there",
   "metadata": {},
   "outputs": [
    {
     "data": {
      "text/plain": [
       "(TensorShape([73397, 121]), TensorShape([73397, 1]))"
      ]
     },
     "execution_count": 23,
     "metadata": {},
     "output_type": "execute_result"
    }
   ],
   "source": [
    "all_closes_train.shape, all_spread_train.shape"
   ]
  },
  {
   "cell_type": "code",
   "execution_count": 53,
   "id": "elementary-second",
   "metadata": {},
   "outputs": [],
   "source": [
    "def custom_loss_wrapper(idx, stop_limit, price_limit, margin_size):  \n",
    "    def custom_loss(y_true, y_pred):\n",
    "        #margin = ((y_pred[:,:1] - 0.5) * 2)\n",
    "        #margin *= margin_size\n",
    "        margin = y_pred[:,:1] #* direction * -1 * stop_limit\n",
    "        direction = tf.sign(margin)\n",
    "        stop_loss = ((y_pred[:,1:2] + 1) / 2) * direction * -1 * stop_limit\n",
    "        price_target = ((y_pred[:,2:3] + 1) / 2) * direction * 1 * price_limit\n",
    "        \n",
    "        idxs = y_true[:,1]\n",
    "        df_name = y_true[0][0]\n",
    "        closes = tf.cond(df_name == tf.constant(0), lambda: tf.gather(all_closes_train, idxs), lambda: tf.gather(all_closes_test, idxs))\n",
    "        spread = tf.cond(df_name == tf.constant(0), lambda: tf.gather(all_spread_train, idxs), lambda: tf.gather(all_spread_test, idxs))\n",
    "        close1 = closes[:,:1]\n",
    "        close2 = tf.zeros_like(closes[:,:1])\n",
    "        i = tf.constant(0)\n",
    "        def while_condition(i, close2): \n",
    "            return tf.less(i, tf.constant(closes.shape[1]))\n",
    "        def body(i, close2):\n",
    "            s = tf.slice(closes, [0, i], [-1, 1])\n",
    "            diff = (s  - close1) * direction\n",
    "            cond = tf.logical_or(tf.less(diff, stop_loss), tf.greater(diff, price_target))\n",
    "            close2 = tf.where(tf.logical_and(tf.equal(close2, 0), cond), s, close2)\n",
    "            return [tf.add(i, 1), close2]\n",
    "        r = tf.while_loop(while_condition, body, [i, close2], parallel_iterations=closes.shape[1], swap_memory=True)#, shape_invariants=[0, close2])\n",
    "            \n",
    "        close2 = tf.where(tf.equal(close2, 0), closes[:,-1:], close2)\n",
    "\n",
    "        diff = close2 - close1\n",
    "        profit = -100 * (margin * margin_size * (diff - (spread*direction))) /  close1\n",
    "        return profit\n",
    "#         return tf.where(tf.less(tf.abs(profit), 1), tf.sign(profit)*tf.sqrt(tf.abs(profit)), profit)\n",
    "    return custom_loss"
   ]
  },
  {
   "cell_type": "code",
   "execution_count": 99,
   "id": "supreme-turkey",
   "metadata": {},
   "outputs": [],
   "source": [
    "def get_profit(data, y_preds, margin_lower_limit=0):\n",
    "    idx = 0\n",
    "    profits = []\n",
    "    while idx < len(y_preds) - 1:\n",
    "        margin = ((y_preds[idx][0] - 0.5) * 2)\n",
    "        margin *= margin_size\n",
    "        if abs(margin) < margin_lower_limit:\n",
    "            idx += 1\n",
    "        else:\n",
    "            direction = np.sign(margin)\n",
    "            stop_loss = ((y_preds[idx,1] + 1) / 2) * direction * -1 * stop_limit\n",
    "            price_target = ((y_preds[idx,2] + 1) / 2) * direction * 1 * price_limit\n",
    "\n",
    "            start_idx = idx\n",
    "            close1 =  data.iloc[idx]['close_1min']\n",
    "            spread = data.iloc[idx]['spread']\n",
    "            idx += 1\n",
    "            new_i = idx\n",
    "            while new_i < len(data) - 1 and new_i - start_idx < time_limit:\n",
    "                close2 = data.iloc[new_i]['close_1min']\n",
    "                diff = (close2 - close1) \n",
    "                if min(stop_loss, price_limit) < diff * direction < max(stop_loss, price_limit):\n",
    "                    break\n",
    "                new_i += 1\n",
    "            profit = 100 * (margin * (diff - (spread*direction))) /  close1\n",
    "#             print(profit)\n",
    "            profits.append(profit)\n",
    "#             break\n",
    "    return profits\n",
    "\n",
    "# data = df[]"
   ]
  },
  {
   "cell_type": "code",
   "execution_count": 59,
   "id": "stone-washer",
   "metadata": {},
   "outputs": [],
   "source": [
    "from keras.callbacks import Callback\n",
    "\n",
    "class IntervalEvaluation(Callback):\n",
    "    def __init__(self, validation_data=(), interval=10):\n",
    "        super(Callback, self).__init__()\n",
    "\n",
    "        self.interval = interval\n",
    "        self.X_val, self.y_val = validation_data\n",
    "\n",
    "    def on_epoch_end(self, epoch, logs={}):\n",
    "        if epoch % self.interval == 0:\n",
    "            y_pred = self.model.predict(self.X_val, verbose=0)\n",
    "#             score = np.mean(custom_metric_wrapper(idx, stop_limit, price_limit, margin_size, time_limit)(tf.convert_to_tensor(self.y_val), tf.convert_to_tensor(y_pred)))\n",
    "#             profits = get_profit(df[1], y_pred)\n",
    "#             profits_0 = get_profit(df[1], y_pred, 0)\n",
    "            print(np.min(y_pred, axis=0))\n",
    "            print(np.mean(y_pred, axis=0))\n",
    "            print(np.max(y_pred, axis=0))\n",
    "#             print(\"interval evaluation - epoch: {:d} - score: {:.6f} -- score_0: {:.6f}\".format(epoch, profits, profits_0))\n",
    "           \n",
    "buffer = (batch_size+time_limit) + 1000\n",
    "ival = IntervalEvaluation(validation_data=(inputs_test[:-buffer], np.array([[1, i] for i in range(len(test)-buffer)])), interval=10)"
   ]
  },
  {
   "cell_type": "code",
   "execution_count": 60,
   "id": "legitimate-smoke",
   "metadata": {},
   "outputs": [],
   "source": [
    "model = get_model()"
   ]
  },
  {
   "cell_type": "code",
   "execution_count": 61,
   "id": "instant-forestry",
   "metadata": {},
   "outputs": [],
   "source": [
    "model.compile(\n",
    "    optimizer=optimizers.Adam(learning_rate=0.0001, epsilon=1.0),\n",
    "    loss=custom_loss_wrapper(idx, stop_limit, price_limit, margin_size),\n",
    "#     metrics=[custom_metric_wrapper(idx, stop_limit, price_limit, margin_size, time_limit)],\n",
    "    run_eagerly=False\n",
    ")"
   ]
  },
  {
   "cell_type": "code",
   "execution_count": 62,
   "id": "452981fb",
   "metadata": {
    "scrolled": true
   },
   "outputs": [
    {
     "name": "stdout",
     "output_type": "stream",
     "text": [
      "Epoch 1/10000\n",
      "2292/2292 [==============================] - 64s 27ms/step - loss: -0.6296\n",
      "[-0.28555876 -0.16894011 -0.30899078]\n",
      "[ 0.42463735 -0.05549951 -0.18300852]\n",
      "[0.85618305 0.06603079 0.02622559]\n",
      "Epoch 2/10000\n",
      "2292/2292 [==============================] - 65s 29ms/step - loss: -2.5174\n",
      "Epoch 3/10000\n",
      "2292/2292 [==============================] - 65s 28ms/step - loss: -3.7100\n",
      "Epoch 4/10000\n",
      "2292/2292 [==============================] - 65s 28ms/step - loss: -4.0159\n",
      "Epoch 5/10000\n",
      "2292/2292 [==============================] - 66s 29ms/step - loss: -4.2797\n",
      "Epoch 6/10000\n",
      "2292/2292 [==============================] - 65s 28ms/step - loss: -4.4289\n",
      "Epoch 7/10000\n",
      "2292/2292 [==============================] - 65s 29ms/step - loss: -4.4897\n",
      "Epoch 8/10000\n",
      "2292/2292 [==============================] - 65s 28ms/step - loss: -4.4895\n",
      "Epoch 9/10000\n",
      "2292/2292 [==============================] - 65s 28ms/step - loss: -4.5713\n",
      "Epoch 10/10000\n",
      "2292/2292 [==============================] - 72s 31ms/step - loss: -4.4891 - val_loss: -3.0259\n",
      "Epoch 11/10000\n",
      "2292/2292 [==============================] - 65s 28ms/step - loss: -4.5146\n",
      "[-0.9960227  -0.23483072 -0.60707915]\n",
      "[ 0.16162768 -0.00531785 -0.25133103]\n",
      "[0.99926853 0.18562849 0.11992142]\n",
      "Epoch 12/10000\n",
      "2292/2292 [==============================] - 65s 28ms/step - loss: -4.6239\n",
      "Epoch 13/10000\n",
      "2292/2292 [==============================] - 65s 28ms/step - loss: -4.65200s - los\n",
      "Epoch 14/10000\n",
      "2292/2292 [==============================] - 65s 28ms/step - loss: -4.6417\n",
      "Epoch 15/10000\n",
      "2292/2292 [==============================] - 65s 28ms/step - loss: -4.6279\n",
      "Epoch 16/10000\n",
      "2292/2292 [==============================] - 65s 28ms/step - loss: -4.8400\n",
      "Epoch 17/10000\n",
      "2292/2292 [==============================] - 65s 28ms/step - loss: -5.1119\n",
      "Epoch 18/10000\n",
      "2292/2292 [==============================] - 65s 28ms/step - loss: -5.1290\n",
      "Epoch 19/10000\n",
      "2292/2292 [==============================] - 65s 28ms/step - loss: -5.0848\n",
      "Epoch 20/10000\n",
      "2292/2292 [==============================] - 72s 31ms/step - loss: -5.1865 - val_loss: -3.6349\n",
      "Epoch 21/10000\n",
      "2292/2292 [==============================] - 65s 28ms/step - loss: -5.0877\n",
      "[-0.9995571  -0.09728332 -0.5940879 ]\n",
      "[-0.06238028  0.08388844 -0.15406282]\n",
      "[0.99985063 0.20142871 0.09426016]\n",
      "Epoch 22/10000\n",
      "2292/2292 [==============================] - 65s 28ms/step - loss: -5.2456\n",
      "Epoch 23/10000\n",
      "2292/2292 [==============================] - 65s 28ms/step - loss: -5.3278\n",
      "Epoch 24/10000\n",
      "2292/2292 [==============================] - 65s 28ms/step - loss: -5.2646\n",
      "Epoch 25/10000\n",
      "2292/2292 [==============================] - 65s 28ms/step - loss: -5.2433\n",
      "Epoch 26/10000\n",
      "2292/2292 [==============================] - 65s 29ms/step - loss: -5.2407\n",
      "Epoch 27/10000\n",
      "2292/2292 [==============================] - 65s 28ms/step - loss: -4.9105\n",
      "Epoch 28/10000\n",
      "2292/2292 [==============================] - 65s 28ms/step - loss: -5.2483\n",
      "Epoch 29/10000\n",
      "2292/2292 [==============================] - 66s 29ms/step - loss: -5.3039\n",
      "Epoch 30/10000\n",
      "2292/2292 [==============================] - 72s 31ms/step - loss: -5.2380 - val_loss: -3.5879\n",
      "Epoch 31/10000\n",
      "2292/2292 [==============================] - 66s 29ms/step - loss: -5.4398\n",
      "[-0.999825   -0.07840504 -0.5886897 ]\n",
      "[-0.03269118  0.09697198 -0.1509717 ]\n",
      "[0.9999586  0.22158507 0.08802256]\n",
      "Epoch 32/10000\n",
      "2292/2292 [==============================] - 65s 28ms/step - loss: -5.1522\n",
      "Epoch 33/10000\n",
      "2292/2292 [==============================] - 66s 29ms/step - loss: -5.4429\n",
      "Epoch 34/10000\n",
      "2292/2292 [==============================] - 65s 28ms/step - loss: -5.3180\n",
      "Epoch 35/10000\n",
      "2292/2292 [==============================] - 66s 29ms/step - loss: -5.2519\n",
      "Epoch 36/10000\n",
      "2292/2292 [==============================] - 65s 28ms/step - loss: -5.3564\n",
      "Epoch 37/10000\n",
      "2292/2292 [==============================] - 66s 29ms/step - loss: -5.2803\n",
      "Epoch 38/10000\n",
      "2292/2292 [==============================] - 66s 29ms/step - loss: -5.3635\n",
      "Epoch 39/10000\n",
      "2292/2292 [==============================] - 66s 29ms/step - loss: -5.3150\n",
      "Epoch 40/10000\n",
      "2292/2292 [==============================] - 72s 31ms/step - loss: -5.3610 - val_loss: -3.6614\n",
      "Epoch 41/10000\n",
      "2292/2292 [==============================] - 66s 29ms/step - loss: -5.5127\n",
      "[-0.99992347 -0.12337729 -0.63487375]\n",
      "[ 0.08078589  0.1182375  -0.17144755]\n",
      "[0.9999752  0.25681403 0.15711993]\n",
      "Epoch 42/10000\n",
      "2292/2292 [==============================] - 65s 28ms/step - loss: -5.2604\n",
      "Epoch 43/10000\n",
      "2292/2292 [==============================] - 66s 29ms/step - loss: -5.3717\n",
      "Epoch 44/10000\n",
      "2292/2292 [==============================] - 65s 28ms/step - loss: -5.3902\n",
      "Epoch 45/10000\n",
      "2292/2292 [==============================] - 65s 28ms/step - loss: -5.3512\n",
      "Epoch 46/10000\n",
      "2292/2292 [==============================] - 65s 28ms/step - loss: -5.3724\n",
      "Epoch 47/10000\n",
      "2292/2292 [==============================] - 66s 29ms/step - loss: -5.4452\n",
      "Epoch 48/10000\n",
      "2292/2292 [==============================] - 65s 28ms/step - loss: -5.3926\n",
      "Epoch 49/10000\n",
      "2292/2292 [==============================] - 65s 28ms/step - loss: -5.4908\n",
      "Epoch 50/10000\n",
      "2292/2292 [==============================] - 72s 31ms/step - loss: -5.4176 - val_loss: -3.9210\n",
      "Epoch 51/10000\n",
      "2292/2292 [==============================] - 65s 28ms/step - loss: -5.5805\n",
      "[-0.99994415 -0.17260493 -0.65325606]\n",
      "[ 0.00096332  0.10785629 -0.13695377]\n",
      "[0.9999924  0.2997501  0.19563676]\n",
      "Epoch 52/10000\n",
      "2292/2292 [==============================] - 65s 28ms/step - loss: -5.4655\n",
      "Epoch 53/10000\n",
      "2292/2292 [==============================] - 65s 28ms/step - loss: -5.4616\n",
      "Epoch 54/10000\n",
      "2292/2292 [==============================] - 65s 28ms/step - loss: -5.4256\n",
      "Epoch 55/10000\n",
      "2292/2292 [==============================] - 65s 28ms/step - loss: -5.4312\n",
      "Epoch 56/10000\n",
      "2292/2292 [==============================] - 65s 28ms/step - loss: -5.5367\n",
      "Epoch 57/10000\n",
      "2292/2292 [==============================] - 65s 28ms/step - loss: -5.4239\n",
      "Epoch 58/10000\n",
      "2292/2292 [==============================] - 65s 28ms/step - loss: -5.4817\n",
      "Epoch 59/10000\n",
      "2292/2292 [==============================] - 65s 28ms/step - loss: -5.5493\n",
      "Epoch 60/10000\n",
      "2292/2292 [==============================] - 71s 31ms/step - loss: -5.5943 - val_loss: -3.7101\n",
      "Epoch 61/10000\n",
      "2292/2292 [==============================] - 65s 28ms/step - loss: -5.5005\n",
      "[-0.9999584  -0.22523627 -0.6676322 ]\n",
      "[-0.00136978  0.11558644 -0.12663202]\n",
      "[0.9999945  0.3445155  0.23775248]\n",
      "Epoch 62/10000\n",
      "2292/2292 [==============================] - 65s 28ms/step - loss: -5.6511\n",
      "Epoch 63/10000\n",
      "2292/2292 [==============================] - 64s 28ms/step - loss: -5.4850\n",
      "Epoch 64/10000\n",
      "2292/2292 [==============================] - 64s 28ms/step - loss: -5.4517\n",
      "Epoch 65/10000\n",
      "2292/2292 [==============================] - 65s 28ms/step - loss: -5.5965\n",
      "Epoch 66/10000\n",
      "2292/2292 [==============================] - 65s 28ms/step - loss: -5.5682\n",
      "Epoch 67/10000\n",
      "2292/2292 [==============================] - 65s 28ms/step - loss: -5.4950\n",
      "Epoch 68/10000\n",
      "2292/2292 [==============================] - 64s 28ms/step - loss: -5.5845\n",
      "Epoch 69/10000\n",
      "2292/2292 [==============================] - 65s 28ms/step - loss: -5.5403\n",
      "Epoch 70/10000\n",
      "2292/2292 [==============================] - 71s 31ms/step - loss: -5.5224 - val_loss: -3.6964\n",
      "Epoch 71/10000\n",
      "2292/2292 [==============================] - 64s 28ms/step - loss: -5.5519\n",
      "[-0.9999766  -0.24548025 -0.66995865]\n",
      "[ 0.06519488  0.11206277 -0.12443289]\n",
      "[0.9999952  0.37708652 0.25439784]\n",
      "Epoch 72/10000\n",
      "2292/2292 [==============================] - 65s 28ms/step - loss: -5.5190\n",
      "Epoch 73/10000\n",
      "2292/2292 [==============================] - 64s 28ms/step - loss: -5.4897\n",
      "Epoch 74/10000\n",
      "2292/2292 [==============================] - 65s 28ms/step - loss: -5.4311\n",
      "Epoch 75/10000\n",
      "2292/2292 [==============================] - 65s 28ms/step - loss: -5.5664\n",
      "Epoch 76/10000\n",
      "2292/2292 [==============================] - 65s 28ms/step - loss: -5.6113\n",
      "Epoch 77/10000\n",
      "2292/2292 [==============================] - 65s 28ms/step - loss: -5.4700\n",
      "Epoch 78/10000\n",
      "2292/2292 [==============================] - 65s 28ms/step - loss: -5.4299\n",
      "Epoch 79/10000\n",
      "2292/2292 [==============================] - 65s 28ms/step - loss: -5.4374\n",
      "Epoch 80/10000\n",
      "2292/2292 [==============================] - 70s 31ms/step - loss: -5.5336 - val_loss: -3.3509\n",
      "Epoch 81/10000\n",
      "2292/2292 [==============================] - 64s 28ms/step - loss: -5.4796\n",
      "[-0.9999855 -0.2731055 -0.6766933]\n",
      "[ 0.10030434  0.11060482 -0.13024066]\n",
      "[0.99999577 0.4038841  0.25030932]\n",
      "Epoch 82/10000\n",
      "2292/2292 [==============================] - 64s 28ms/step - loss: -5.5854\n",
      "Epoch 83/10000\n",
      "2292/2292 [==============================] - 64s 28ms/step - loss: -5.5581\n",
      "Epoch 84/10000\n",
      "2292/2292 [==============================] - 64s 28ms/step - loss: -5.5694\n",
      "Epoch 85/10000\n",
      "2292/2292 [==============================] - 64s 28ms/step - loss: -5.4908\n",
      "Epoch 86/10000\n",
      "2292/2292 [==============================] - 64s 28ms/step - loss: -5.3711\n",
      "Epoch 87/10000\n",
      "2292/2292 [==============================] - 64s 28ms/step - loss: -5.5545\n",
      "Epoch 88/10000\n",
      "2292/2292 [==============================] - 64s 28ms/step - loss: -5.5260\n",
      "Epoch 89/10000\n",
      "2292/2292 [==============================] - 64s 28ms/step - loss: -5.5041\n",
      "Epoch 90/10000\n",
      "2292/2292 [==============================] - 71s 31ms/step - loss: -5.5164 - val_loss: -3.5108\n",
      "Epoch 91/10000\n",
      "2292/2292 [==============================] - 64s 28ms/step - loss: -5.4777\n",
      "[-0.99998933 -0.25530827 -0.663484  ]\n",
      "[ 0.05429578  0.13053717 -0.11338607]\n",
      "[0.99999774 0.44024998 0.22509591]\n",
      "Epoch 92/10000\n",
      "2292/2292 [==============================] - 64s 28ms/step - loss: -5.5166\n",
      "Epoch 93/10000\n",
      "2292/2292 [==============================] - 64s 28ms/step - loss: -5.4692\n",
      "Epoch 94/10000\n",
      "2292/2292 [==============================] - 64s 28ms/step - loss: -5.3873\n",
      "Epoch 95/10000\n",
      "2292/2292 [==============================] - 64s 28ms/step - loss: -5.4646\n",
      "Epoch 96/10000\n",
      "2292/2292 [==============================] - 64s 28ms/step - loss: -5.4818\n",
      "Epoch 97/10000\n",
      "2292/2292 [==============================] - 64s 28ms/step - loss: -5.6323\n",
      "Epoch 98/10000\n",
      "2292/2292 [==============================] - 64s 28ms/step - loss: -5.6541\n",
      "Epoch 99/10000\n",
      "2292/2292 [==============================] - 65s 28ms/step - loss: -5.4713\n",
      "Epoch 100/10000\n",
      "2292/2292 [==============================] - 71s 31ms/step - loss: -5.4634 - val_loss: -3.7090\n",
      "Epoch 101/10000\n",
      "2292/2292 [==============================] - 64s 28ms/step - loss: -5.4869\n",
      "[-0.9999918  -0.25138313 -0.6639463 ]\n",
      "[ 0.04212739  0.14005816 -0.11209369]\n",
      "[0.9999977  0.46966684 0.26098496]\n",
      "Epoch 102/10000\n",
      "2292/2292 [==============================] - 64s 28ms/step - loss: -5.4971\n",
      "Epoch 103/10000\n",
      "2292/2292 [==============================] - 64s 28ms/step - loss: -5.5321\n",
      "Epoch 104/10000\n",
      "2292/2292 [==============================] - 64s 28ms/step - loss: -5.5479\n",
      "Epoch 105/10000\n",
      "2292/2292 [==============================] - 64s 28ms/step - loss: -5.4594\n",
      "Epoch 106/10000\n",
      "2292/2292 [==============================] - 64s 28ms/step - loss: -5.6431\n",
      "Epoch 107/10000\n",
      "2292/2292 [==============================] - 64s 28ms/step - loss: -5.3871\n",
      "Epoch 108/10000\n",
      "2292/2292 [==============================] - 64s 28ms/step - loss: -5.4691\n",
      "Epoch 109/10000\n",
      "2292/2292 [==============================] - 64s 28ms/step - loss: -5.5655\n",
      "Epoch 110/10000\n",
      "2292/2292 [==============================] - 70s 31ms/step - loss: -5.4735 - val_loss: -3.6415\n",
      "Epoch 111/10000\n",
      "2292/2292 [==============================] - 64s 28ms/step - loss: -5.5955\n",
      "[-0.9999942  -0.23714541 -0.6238075 ]\n",
      "[ 0.09646831  0.14663437 -0.09326375]\n",
      "[0.99999785 0.47848892 0.29310897]\n",
      "Epoch 112/10000\n",
      "2292/2292 [==============================] - 64s 28ms/step - loss: -5.5408\n",
      "Epoch 113/10000\n",
      "2292/2292 [==============================] - 64s 28ms/step - loss: -5.5007\n",
      "Epoch 114/10000\n",
      "2292/2292 [==============================] - 64s 28ms/step - loss: -5.5927\n",
      "Epoch 115/10000\n",
      "2292/2292 [==============================] - 64s 28ms/step - loss: -5.7129\n",
      "Epoch 116/10000\n",
      "2292/2292 [==============================] - 64s 28ms/step - loss: -5.5062\n",
      "Epoch 117/10000\n",
      "2292/2292 [==============================] - 64s 28ms/step - loss: -5.5698\n",
      "Epoch 118/10000\n",
      "2292/2292 [==============================] - 64s 28ms/step - loss: -5.5534\n",
      "Epoch 119/10000\n",
      "2292/2292 [==============================] - 64s 28ms/step - loss: -5.4926\n",
      "Epoch 120/10000\n",
      "2292/2292 [==============================] - 71s 31ms/step - loss: -5.5114 - val_loss: -3.6636\n",
      "Epoch 121/10000\n",
      "2292/2292 [==============================] - 64s 28ms/step - loss: -5.5596\n",
      "[-0.9999958  -0.27542442 -0.64124066]\n",
      "[ 0.02333495  0.15121831 -0.08919558]\n",
      "[0.99999833 0.5140805  0.32357225]\n",
      "Epoch 122/10000\n",
      "2292/2292 [==============================] - 64s 28ms/step - loss: -5.5835\n",
      "Epoch 123/10000\n",
      "2292/2292 [==============================] - 64s 28ms/step - loss: -5.5506\n",
      "Epoch 124/10000\n",
      "2292/2292 [==============================] - 64s 28ms/step - loss: -5.3860\n",
      "Epoch 125/10000\n",
      "2292/2292 [==============================] - 64s 28ms/step - loss: -5.5040\n",
      "Epoch 126/10000\n",
      "2292/2292 [==============================] - 64s 28ms/step - loss: -5.4965\n",
      "Epoch 127/10000\n",
      "2292/2292 [==============================] - 64s 28ms/step - loss: -5.6441\n",
      "Epoch 128/10000\n",
      "2292/2292 [==============================] - 64s 28ms/step - loss: -5.6531\n",
      "Epoch 129/10000\n",
      "2292/2292 [==============================] - 64s 28ms/step - loss: -5.4711\n",
      "Epoch 130/10000\n",
      "2292/2292 [==============================] - 71s 31ms/step - loss: -5.5367 - val_loss: -3.7378\n",
      "Epoch 131/10000\n",
      "2292/2292 [==============================] - 64s 28ms/step - loss: -5.4289\n",
      "[-0.9999973  -0.3159652  -0.66812605]\n",
      "[ 0.04377745  0.13921252 -0.09236649]\n",
      "[0.99999815 0.5508833  0.32296905]\n",
      "Epoch 132/10000\n",
      "2292/2292 [==============================] - 65s 28ms/step - loss: -5.5890\n",
      "Epoch 133/10000\n",
      "2292/2292 [==============================] - 65s 28ms/step - loss: -5.5278\n",
      "Epoch 134/10000\n",
      "2292/2292 [==============================] - 64s 28ms/step - loss: -5.4805\n",
      "Epoch 135/10000\n",
      "2292/2292 [==============================] - 64s 28ms/step - loss: -5.4219\n",
      "Epoch 136/10000\n",
      "2292/2292 [==============================] - 64s 28ms/step - loss: -5.6714\n",
      "Epoch 137/10000\n",
      "2292/2292 [==============================] - 64s 28ms/step - loss: -5.5112\n",
      "Epoch 138/10000\n",
      "2292/2292 [==============================] - 64s 28ms/step - loss: -5.2241\n",
      "Epoch 139/10000\n",
      "2292/2292 [==============================] - 64s 28ms/step - loss: -5.6911\n",
      "Epoch 140/10000\n",
      "2292/2292 [==============================] - 71s 31ms/step - loss: -5.5436 - val_loss: -3.8976\n",
      "Epoch 141/10000\n",
      "2292/2292 [==============================] - 65s 28ms/step - loss: -5.6547\n",
      "[-0.999998   -0.35586634 -0.7071537 ]\n",
      "[-0.01326346  0.16683812 -0.0772156 ]\n",
      "[0.9999983 0.5899868 0.3442839]\n",
      "Epoch 142/10000\n",
      "2292/2292 [==============================] - 64s 28ms/step - loss: -5.5153\n",
      "Epoch 143/10000\n",
      "2292/2292 [==============================] - 64s 28ms/step - loss: -5.6567\n",
      "Epoch 144/10000\n",
      "2292/2292 [==============================] - 64s 28ms/step - loss: -5.5564\n",
      "Epoch 145/10000\n",
      "2292/2292 [==============================] - 64s 28ms/step - loss: -5.5526\n",
      "Epoch 146/10000\n",
      "2292/2292 [==============================] - 67s 29ms/step - loss: -5.4289\n",
      "Epoch 147/10000\n",
      "2292/2292 [==============================] - 64s 28ms/step - loss: -5.5845\n",
      "Epoch 148/10000\n",
      "2292/2292 [==============================] - 64s 28ms/step - loss: -5.5516\n",
      "Epoch 149/10000\n",
      "2292/2292 [==============================] - 64s 28ms/step - loss: -5.6061\n",
      "Epoch 150/10000\n",
      "2292/2292 [==============================] - 71s 31ms/step - loss: -5.4795 - val_loss: -3.6943\n",
      "Epoch 151/10000\n",
      "2292/2292 [==============================] - 64s 28ms/step - loss: -5.6471\n",
      "[-0.99999833 -0.36924538 -0.7131421 ]\n",
      "[ 0.07162508  0.16178401 -0.06339882]\n",
      "[0.9999989  0.6296028  0.35682273]\n",
      "Epoch 152/10000\n",
      "2292/2292 [==============================] - 65s 28ms/step - loss: -5.5118\n",
      "Epoch 153/10000\n",
      "2292/2292 [==============================] - 64s 28ms/step - loss: -5.5222\n",
      "Epoch 154/10000\n",
      "2292/2292 [==============================] - 64s 28ms/step - loss: -5.5290\n",
      "Epoch 155/10000\n",
      "2292/2292 [==============================] - 64s 28ms/step - loss: -5.6122\n",
      "Epoch 156/10000\n",
      "2292/2292 [==============================] - 64s 28ms/step - loss: -5.5436\n",
      "Epoch 157/10000\n",
      "2292/2292 [==============================] - 64s 28ms/step - loss: -5.66610s - l\n",
      "Epoch 158/10000\n"
     ]
    },
    {
     "name": "stdout",
     "output_type": "stream",
     "text": [
      "2292/2292 [==============================] - 64s 28ms/step - loss: -5.6269\n",
      "Epoch 159/10000\n",
      "2292/2292 [==============================] - 64s 28ms/step - loss: -5.4243\n",
      "Epoch 160/10000\n",
      "2292/2292 [==============================] - 70s 31ms/step - loss: -5.4686 - val_loss: -3.8086\n",
      "Epoch 161/10000\n",
      "2292/2292 [==============================] - 64s 28ms/step - loss: -5.4089\n",
      "[-0.9999989  -0.43061218 -0.7267279 ]\n",
      "[ 0.15682934  0.11809692 -0.09958671]\n",
      "[0.99999833 0.6132659  0.44384393]\n",
      "Epoch 162/10000\n",
      "2292/2292 [==============================] - 64s 28ms/step - loss: -5.6229\n",
      "Epoch 163/10000\n",
      "2292/2292 [==============================] - 64s 28ms/step - loss: -5.5323\n",
      "Epoch 164/10000\n",
      "2292/2292 [==============================] - 64s 28ms/step - loss: -5.6062\n",
      "Epoch 165/10000\n",
      "2292/2292 [==============================] - 64s 28ms/step - loss: -5.6255\n",
      "Epoch 166/10000\n",
      "2292/2292 [==============================] - 64s 28ms/step - loss: -5.4345\n",
      "Epoch 167/10000\n",
      "2292/2292 [==============================] - 64s 28ms/step - loss: -5.4754\n",
      "Epoch 168/10000\n",
      "2292/2292 [==============================] - 64s 28ms/step - loss: -5.6438\n",
      "Epoch 169/10000\n",
      "2292/2292 [==============================] - 64s 28ms/step - loss: -5.7375\n",
      "Epoch 170/10000\n",
      "2292/2292 [==============================] - 71s 31ms/step - loss: -5.6595 - val_loss: -3.6861\n",
      "Epoch 171/10000\n",
      "2292/2292 [==============================] - 64s 28ms/step - loss: -5.6116\n",
      "[-0.9999989  -0.39983392 -0.731232  ]\n",
      "[ 0.09000189  0.1682975  -0.07974018]\n",
      "[0.99999875 0.67519575 0.4241993 ]\n",
      "Epoch 172/10000\n",
      "2292/2292 [==============================] - 64s 28ms/step - loss: -5.5972\n",
      "Epoch 173/10000\n",
      "2292/2292 [==============================] - 65s 28ms/step - loss: -5.5817\n",
      "Epoch 174/10000\n",
      "2292/2292 [==============================] - 64s 28ms/step - loss: -5.5281\n",
      "Epoch 175/10000\n",
      "2292/2292 [==============================] - 64s 28ms/step - loss: -5.6423\n",
      "Epoch 176/10000\n",
      "2292/2292 [==============================] - 65s 28ms/step - loss: -5.5645\n",
      "Epoch 177/10000\n",
      "2292/2292 [==============================] - 65s 28ms/step - loss: -5.5485\n",
      "Epoch 178/10000\n",
      "2292/2292 [==============================] - 64s 28ms/step - loss: -5.4255\n",
      "Epoch 179/10000\n",
      "2292/2292 [==============================] - 65s 28ms/step - loss: -5.6105\n",
      "Epoch 180/10000\n",
      "2292/2292 [==============================] - 71s 31ms/step - loss: -5.5281 - val_loss: -3.6491\n",
      "Epoch 181/10000\n",
      "2292/2292 [==============================] - 64s 28ms/step - loss: -5.4871\n",
      "[-0.99999905 -0.417494   -0.7562851 ]\n",
      "[ 0.08261652  0.17893972 -0.07299054]\n",
      "[0.9999993  0.6903138  0.43743977]\n",
      "Epoch 182/10000\n",
      "2292/2292 [==============================] - 64s 28ms/step - loss: -5.5582\n",
      "Epoch 183/10000\n",
      "2292/2292 [==============================] - 64s 28ms/step - loss: -5.6399\n",
      "Epoch 184/10000\n",
      "2292/2292 [==============================] - 64s 28ms/step - loss: -5.5513\n",
      "Epoch 185/10000\n",
      "2292/2292 [==============================] - 64s 28ms/step - loss: -5.6393\n",
      "Epoch 186/10000\n",
      "2292/2292 [==============================] - 64s 28ms/step - loss: -5.6475\n",
      "Epoch 187/10000\n",
      "2292/2292 [==============================] - 64s 28ms/step - loss: -5.6088\n",
      "Epoch 188/10000\n",
      "2292/2292 [==============================] - 64s 28ms/step - loss: -5.7561\n",
      "Epoch 189/10000\n",
      "2292/2292 [==============================] - 64s 28ms/step - loss: -5.5563\n",
      "Epoch 190/10000\n",
      "2292/2292 [==============================] - 70s 31ms/step - loss: -5.7145 - val_loss: -3.6178\n",
      "Epoch 191/10000\n",
      "2292/2292 [==============================] - 64s 28ms/step - loss: -5.4720\n",
      "[-0.99999917 -0.42918736 -0.75478715]\n",
      "[-0.08437085  0.22753088 -0.03701901]\n",
      "[0.99999946 0.7006256  0.47646803]\n",
      "Epoch 192/10000\n",
      "2292/2292 [==============================] - 64s 28ms/step - loss: -5.5438\n",
      "Epoch 193/10000\n",
      "2292/2292 [==============================] - 64s 28ms/step - loss: -5.6408\n",
      "Epoch 194/10000\n",
      "2292/2292 [==============================] - 65s 28ms/step - loss: -5.6622\n",
      "Epoch 195/10000\n",
      "2292/2292 [==============================] - 64s 28ms/step - loss: -5.6419\n",
      "Epoch 196/10000\n",
      "2292/2292 [==============================] - 64s 28ms/step - loss: -5.6771\n",
      "Epoch 197/10000\n",
      "2292/2292 [==============================] - 64s 28ms/step - loss: -5.5437\n",
      "Epoch 198/10000\n",
      "2292/2292 [==============================] - 64s 28ms/step - loss: -5.6402\n",
      "Epoch 199/10000\n",
      "2292/2292 [==============================] - 64s 28ms/step - loss: -5.6577\n",
      "Epoch 200/10000\n",
      "2292/2292 [==============================] - 71s 31ms/step - loss: -5.6192 - val_loss: -3.6537\n",
      "Epoch 201/10000\n",
      "2292/2292 [==============================] - 64s 28ms/step - loss: -5.6578\n",
      "[-0.9999994  -0.43497813 -0.76624286]\n",
      "[ 0.07273518  0.18244635 -0.06199475]\n",
      "[0.9999996 0.7141919 0.4851438]\n",
      "Epoch 202/10000\n",
      "2292/2292 [==============================] - 64s 28ms/step - loss: -5.6297\n",
      "Epoch 203/10000\n",
      "2292/2292 [==============================] - 65s 28ms/step - loss: -5.5537\n",
      "Epoch 204/10000\n",
      "2292/2292 [==============================] - 65s 28ms/step - loss: -5.6545\n",
      "Epoch 205/10000\n",
      "2292/2292 [==============================] - 64s 28ms/step - loss: -5.5414\n",
      "Epoch 206/10000\n",
      "2292/2292 [==============================] - 64s 28ms/step - loss: -5.6973\n",
      "Epoch 207/10000\n",
      "2292/2292 [==============================] - 64s 28ms/step - loss: -5.6664\n",
      "Epoch 208/10000\n",
      "2292/2292 [==============================] - 64s 28ms/step - loss: -5.6154\n",
      "Epoch 209/10000\n",
      "2292/2292 [==============================] - 65s 28ms/step - loss: -5.5878\n",
      "Epoch 210/10000\n",
      "2292/2292 [==============================] - 71s 31ms/step - loss: -5.6383 - val_loss: -3.7870\n",
      "Epoch 211/10000\n",
      "2292/2292 [==============================] - 64s 28ms/step - loss: -5.6070\n",
      "[-0.9999993  -0.44460765 -0.771833  ]\n",
      "[ 0.07051699  0.18612063 -0.06025323]\n",
      "[0.99999976 0.72047406 0.4354993 ]\n",
      "Epoch 212/10000\n",
      "2292/2292 [==============================] - 64s 28ms/step - loss: -5.7445\n",
      "Epoch 213/10000\n",
      "2292/2292 [==============================] - 64s 28ms/step - loss: -5.6006\n",
      "Epoch 214/10000\n",
      "2292/2292 [==============================] - 64s 28ms/step - loss: -5.5452\n",
      "Epoch 215/10000\n",
      "2292/2292 [==============================] - 64s 28ms/step - loss: -5.7204\n",
      "Epoch 216/10000\n",
      "2292/2292 [==============================] - 64s 28ms/step - loss: -5.6701\n",
      "Epoch 217/10000\n",
      "2292/2292 [==============================] - 64s 28ms/step - loss: -5.5103\n",
      "Epoch 218/10000\n",
      "2292/2292 [==============================] - 64s 28ms/step - loss: -5.5460\n",
      "Epoch 219/10000\n",
      "2292/2292 [==============================] - 64s 28ms/step - loss: -5.6721\n",
      "Epoch 220/10000\n",
      "2292/2292 [==============================] - 70s 31ms/step - loss: -5.7144 - val_loss: -3.6303\n",
      "Epoch 221/10000\n",
      "2292/2292 [==============================] - 64s 28ms/step - loss: -5.5626\n",
      "[-0.9999996  -0.44472438 -0.7772311 ]\n",
      "[ 0.03106866  0.1902205  -0.04076777]\n",
      "[0.9999997  0.73288894 0.5752013 ]\n",
      "Epoch 222/10000\n",
      "2292/2292 [==============================] - 65s 28ms/step - loss: -5.6808\n",
      "Epoch 223/10000\n",
      "2292/2292 [==============================] - 65s 28ms/step - loss: -5.5433\n",
      "Epoch 224/10000\n",
      "2292/2292 [==============================] - 64s 28ms/step - loss: -5.6345\n",
      "Epoch 225/10000\n",
      "2292/2292 [==============================] - 65s 28ms/step - loss: -5.5282\n",
      "Epoch 226/10000\n",
      "2292/2292 [==============================] - 65s 28ms/step - loss: -5.6643\n",
      "Epoch 227/10000\n",
      "2292/2292 [==============================] - 65s 28ms/step - loss: -5.6430\n",
      "Epoch 228/10000\n",
      "2292/2292 [==============================] - 64s 28ms/step - loss: -5.6162\n",
      "Epoch 229/10000\n",
      "2292/2292 [==============================] - 65s 28ms/step - loss: -5.5897\n",
      "Epoch 230/10000\n",
      "2292/2292 [==============================] - 71s 31ms/step - loss: -5.6664 - val_loss: -3.5918\n",
      "Epoch 231/10000\n",
      "2292/2292 [==============================] - 65s 28ms/step - loss: -5.6518\n",
      "[-0.9999997 -0.4432029 -0.7759106]\n",
      "[ 0.05281284  0.17971031 -0.04470702]\n",
      "[0.9999997  0.75246125 0.5745343 ]\n",
      "Epoch 232/10000\n",
      "2292/2292 [==============================] - 65s 28ms/step - loss: -5.6157\n",
      "Epoch 233/10000\n",
      "2292/2292 [==============================] - 65s 28ms/step - loss: -5.7214\n",
      "Epoch 234/10000\n",
      "2292/2292 [==============================] - 65s 28ms/step - loss: -5.6253\n",
      "Epoch 235/10000\n",
      "2292/2292 [==============================] - 65s 28ms/step - loss: -5.5923\n",
      "Epoch 236/10000\n",
      "2292/2292 [==============================] - 65s 28ms/step - loss: -5.5145\n",
      "Epoch 237/10000\n",
      "2292/2292 [==============================] - 64s 28ms/step - loss: -5.7485\n",
      "Epoch 238/10000\n",
      "2292/2292 [==============================] - 65s 28ms/step - loss: -5.5921\n",
      "Epoch 239/10000\n",
      "2292/2292 [==============================] - 64s 28ms/step - loss: -5.6714\n",
      "Epoch 240/10000\n",
      "2292/2292 [==============================] - 71s 31ms/step - loss: -5.6354 - val_loss: -3.7159\n",
      "Epoch 241/10000\n",
      "2292/2292 [==============================] - 64s 28ms/step - loss: -5.5918\n",
      "[-0.99999976 -0.41024968 -0.7630328 ]\n",
      "[ 0.2590606   0.11312868 -0.10244081]\n",
      "[0.9999997  0.7616921  0.57247126]\n",
      "Epoch 242/10000\n",
      "2292/2292 [==============================] - 64s 28ms/step - loss: -5.6781\n",
      "Epoch 243/10000\n",
      "2292/2292 [==============================] - 64s 28ms/step - loss: -5.5743\n",
      "Epoch 244/10000\n",
      "2292/2292 [==============================] - 65s 28ms/step - loss: -5.6746\n",
      "Epoch 245/10000\n",
      "2292/2292 [==============================] - 65s 28ms/step - loss: -5.6461\n",
      "Epoch 246/10000\n",
      "2292/2292 [==============================] - 67s 29ms/step - loss: -5.6981\n",
      "Epoch 247/10000\n",
      "2292/2292 [==============================] - 67s 29ms/step - loss: -5.6767\n",
      "Epoch 248/10000\n",
      "2292/2292 [==============================] - 64s 28ms/step - loss: -5.7338\n",
      "Epoch 249/10000\n",
      "2292/2292 [==============================] - 65s 28ms/step - loss: -5.6777\n",
      "Epoch 250/10000\n",
      "2292/2292 [==============================] - 73s 32ms/step - loss: -5.7102 - val_loss: -3.5704\n",
      "Epoch 251/10000\n",
      "2292/2292 [==============================] - 67s 29ms/step - loss: -5.6430\n",
      "[-0.9999997 -0.4758782 -0.7924099]\n",
      "[ 0.07170256  0.19089228 -0.06138051]\n",
      "[0.9999998 0.7969229 0.5390771]\n",
      "Epoch 252/10000\n",
      " 523/2292 [=====>........................] - ETA: 51s - loss: -5.5124"
     ]
    },
    {
     "ename": "KeyboardInterrupt",
     "evalue": "",
     "output_type": "error",
     "traceback": [
      "\u001b[1;31m---------------------------------------------------------------------------\u001b[0m",
      "\u001b[1;31mKeyboardInterrupt\u001b[0m                         Traceback (most recent call last)",
      "\u001b[1;32m<ipython-input-62-350e63065b28>\u001b[0m in \u001b[0;36m<module>\u001b[1;34m\u001b[0m\n\u001b[0;32m      8\u001b[0m     \u001b[0muse_multiprocessing\u001b[0m\u001b[1;33m=\u001b[0m\u001b[1;32mTrue\u001b[0m\u001b[1;33m,\u001b[0m \u001b[0mverbose\u001b[0m\u001b[1;33m=\u001b[0m\u001b[1;36m1\u001b[0m\u001b[1;33m,\u001b[0m\u001b[1;33m\u001b[0m\u001b[1;33m\u001b[0m\u001b[0m\n\u001b[0;32m      9\u001b[0m     \u001b[0mvalidation_freq\u001b[0m\u001b[1;33m=\u001b[0m\u001b[1;36m10\u001b[0m\u001b[1;33m,\u001b[0m\u001b[1;33m\u001b[0m\u001b[1;33m\u001b[0m\u001b[0m\n\u001b[1;32m---> 10\u001b[1;33m     \u001b[0mworkers\u001b[0m\u001b[1;33m=\u001b[0m\u001b[1;36m64\u001b[0m\u001b[1;33m,\u001b[0m\u001b[1;33m\u001b[0m\u001b[1;33m\u001b[0m\u001b[0m\n\u001b[0m\u001b[0;32m     11\u001b[0m \u001b[1;31m#     initial_epoch=model.history.epoch[-1],\u001b[0m\u001b[1;33m\u001b[0m\u001b[1;33m\u001b[0m\u001b[1;33m\u001b[0m\u001b[0m\n\u001b[0;32m     12\u001b[0m )\n",
      "\u001b[1;32m~\\AppData\\Roaming\\Python\\Python37\\site-packages\\tensorflow\\python\\keras\\engine\\training.py\u001b[0m in \u001b[0;36mfit\u001b[1;34m(self, x, y, batch_size, epochs, verbose, callbacks, validation_split, validation_data, shuffle, class_weight, sample_weight, initial_epoch, steps_per_epoch, validation_steps, validation_batch_size, validation_freq, max_queue_size, workers, use_multiprocessing)\u001b[0m\n\u001b[0;32m   1098\u001b[0m                 _r=1):\n\u001b[0;32m   1099\u001b[0m               \u001b[0mcallbacks\u001b[0m\u001b[1;33m.\u001b[0m\u001b[0mon_train_batch_begin\u001b[0m\u001b[1;33m(\u001b[0m\u001b[0mstep\u001b[0m\u001b[1;33m)\u001b[0m\u001b[1;33m\u001b[0m\u001b[1;33m\u001b[0m\u001b[0m\n\u001b[1;32m-> 1100\u001b[1;33m               \u001b[0mtmp_logs\u001b[0m \u001b[1;33m=\u001b[0m \u001b[0mself\u001b[0m\u001b[1;33m.\u001b[0m\u001b[0mtrain_function\u001b[0m\u001b[1;33m(\u001b[0m\u001b[0miterator\u001b[0m\u001b[1;33m)\u001b[0m\u001b[1;33m\u001b[0m\u001b[1;33m\u001b[0m\u001b[0m\n\u001b[0m\u001b[0;32m   1101\u001b[0m               \u001b[1;32mif\u001b[0m \u001b[0mdata_handler\u001b[0m\u001b[1;33m.\u001b[0m\u001b[0mshould_sync\u001b[0m\u001b[1;33m:\u001b[0m\u001b[1;33m\u001b[0m\u001b[1;33m\u001b[0m\u001b[0m\n\u001b[0;32m   1102\u001b[0m                 \u001b[0mcontext\u001b[0m\u001b[1;33m.\u001b[0m\u001b[0masync_wait\u001b[0m\u001b[1;33m(\u001b[0m\u001b[1;33m)\u001b[0m\u001b[1;33m\u001b[0m\u001b[1;33m\u001b[0m\u001b[0m\n",
      "\u001b[1;32m~\\AppData\\Roaming\\Python\\Python37\\site-packages\\tensorflow\\python\\eager\\def_function.py\u001b[0m in \u001b[0;36m__call__\u001b[1;34m(self, *args, **kwds)\u001b[0m\n\u001b[0;32m    826\u001b[0m     \u001b[0mtracing_count\u001b[0m \u001b[1;33m=\u001b[0m \u001b[0mself\u001b[0m\u001b[1;33m.\u001b[0m\u001b[0mexperimental_get_tracing_count\u001b[0m\u001b[1;33m(\u001b[0m\u001b[1;33m)\u001b[0m\u001b[1;33m\u001b[0m\u001b[1;33m\u001b[0m\u001b[0m\n\u001b[0;32m    827\u001b[0m     \u001b[1;32mwith\u001b[0m \u001b[0mtrace\u001b[0m\u001b[1;33m.\u001b[0m\u001b[0mTrace\u001b[0m\u001b[1;33m(\u001b[0m\u001b[0mself\u001b[0m\u001b[1;33m.\u001b[0m\u001b[0m_name\u001b[0m\u001b[1;33m)\u001b[0m \u001b[1;32mas\u001b[0m \u001b[0mtm\u001b[0m\u001b[1;33m:\u001b[0m\u001b[1;33m\u001b[0m\u001b[1;33m\u001b[0m\u001b[0m\n\u001b[1;32m--> 828\u001b[1;33m       \u001b[0mresult\u001b[0m \u001b[1;33m=\u001b[0m \u001b[0mself\u001b[0m\u001b[1;33m.\u001b[0m\u001b[0m_call\u001b[0m\u001b[1;33m(\u001b[0m\u001b[1;33m*\u001b[0m\u001b[0margs\u001b[0m\u001b[1;33m,\u001b[0m \u001b[1;33m**\u001b[0m\u001b[0mkwds\u001b[0m\u001b[1;33m)\u001b[0m\u001b[1;33m\u001b[0m\u001b[1;33m\u001b[0m\u001b[0m\n\u001b[0m\u001b[0;32m    829\u001b[0m       \u001b[0mcompiler\u001b[0m \u001b[1;33m=\u001b[0m \u001b[1;34m\"xla\"\u001b[0m \u001b[1;32mif\u001b[0m \u001b[0mself\u001b[0m\u001b[1;33m.\u001b[0m\u001b[0m_experimental_compile\u001b[0m \u001b[1;32melse\u001b[0m \u001b[1;34m\"nonXla\"\u001b[0m\u001b[1;33m\u001b[0m\u001b[1;33m\u001b[0m\u001b[0m\n\u001b[0;32m    830\u001b[0m       \u001b[0mnew_tracing_count\u001b[0m \u001b[1;33m=\u001b[0m \u001b[0mself\u001b[0m\u001b[1;33m.\u001b[0m\u001b[0mexperimental_get_tracing_count\u001b[0m\u001b[1;33m(\u001b[0m\u001b[1;33m)\u001b[0m\u001b[1;33m\u001b[0m\u001b[1;33m\u001b[0m\u001b[0m\n",
      "\u001b[1;32m~\\AppData\\Roaming\\Python\\Python37\\site-packages\\tensorflow\\python\\eager\\def_function.py\u001b[0m in \u001b[0;36m_call\u001b[1;34m(self, *args, **kwds)\u001b[0m\n\u001b[0;32m    853\u001b[0m       \u001b[1;31m# In this case we have created variables on the first call, so we run the\u001b[0m\u001b[1;33m\u001b[0m\u001b[1;33m\u001b[0m\u001b[1;33m\u001b[0m\u001b[0m\n\u001b[0;32m    854\u001b[0m       \u001b[1;31m# defunned version which is guaranteed to never create variables.\u001b[0m\u001b[1;33m\u001b[0m\u001b[1;33m\u001b[0m\u001b[1;33m\u001b[0m\u001b[0m\n\u001b[1;32m--> 855\u001b[1;33m       \u001b[1;32mreturn\u001b[0m \u001b[0mself\u001b[0m\u001b[1;33m.\u001b[0m\u001b[0m_stateless_fn\u001b[0m\u001b[1;33m(\u001b[0m\u001b[1;33m*\u001b[0m\u001b[0margs\u001b[0m\u001b[1;33m,\u001b[0m \u001b[1;33m**\u001b[0m\u001b[0mkwds\u001b[0m\u001b[1;33m)\u001b[0m  \u001b[1;31m# pylint: disable=not-callable\u001b[0m\u001b[1;33m\u001b[0m\u001b[1;33m\u001b[0m\u001b[0m\n\u001b[0m\u001b[0;32m    856\u001b[0m     \u001b[1;32melif\u001b[0m \u001b[0mself\u001b[0m\u001b[1;33m.\u001b[0m\u001b[0m_stateful_fn\u001b[0m \u001b[1;32mis\u001b[0m \u001b[1;32mnot\u001b[0m \u001b[1;32mNone\u001b[0m\u001b[1;33m:\u001b[0m\u001b[1;33m\u001b[0m\u001b[1;33m\u001b[0m\u001b[0m\n\u001b[0;32m    857\u001b[0m       \u001b[1;31m# Release the lock early so that multiple threads can perform the call\u001b[0m\u001b[1;33m\u001b[0m\u001b[1;33m\u001b[0m\u001b[1;33m\u001b[0m\u001b[0m\n",
      "\u001b[1;32m~\\AppData\\Roaming\\Python\\Python37\\site-packages\\tensorflow\\python\\eager\\function.py\u001b[0m in \u001b[0;36m__call__\u001b[1;34m(self, *args, **kwargs)\u001b[0m\n\u001b[0;32m   2941\u001b[0m        filtered_flat_args) = self._maybe_define_function(args, kwargs)\n\u001b[0;32m   2942\u001b[0m     return graph_function._call_flat(\n\u001b[1;32m-> 2943\u001b[1;33m         filtered_flat_args, captured_inputs=graph_function.captured_inputs)  # pylint: disable=protected-access\n\u001b[0m\u001b[0;32m   2944\u001b[0m \u001b[1;33m\u001b[0m\u001b[0m\n\u001b[0;32m   2945\u001b[0m   \u001b[1;33m@\u001b[0m\u001b[0mproperty\u001b[0m\u001b[1;33m\u001b[0m\u001b[1;33m\u001b[0m\u001b[0m\n",
      "\u001b[1;32m~\\AppData\\Roaming\\Python\\Python37\\site-packages\\tensorflow\\python\\eager\\function.py\u001b[0m in \u001b[0;36m_call_flat\u001b[1;34m(self, args, captured_inputs, cancellation_manager)\u001b[0m\n\u001b[0;32m   1917\u001b[0m       \u001b[1;31m# No tape is watching; skip to running the function.\u001b[0m\u001b[1;33m\u001b[0m\u001b[1;33m\u001b[0m\u001b[1;33m\u001b[0m\u001b[0m\n\u001b[0;32m   1918\u001b[0m       return self._build_call_outputs(self._inference_function.call(\n\u001b[1;32m-> 1919\u001b[1;33m           ctx, args, cancellation_manager=cancellation_manager))\n\u001b[0m\u001b[0;32m   1920\u001b[0m     forward_backward = self._select_forward_and_backward_functions(\n\u001b[0;32m   1921\u001b[0m         \u001b[0margs\u001b[0m\u001b[1;33m,\u001b[0m\u001b[1;33m\u001b[0m\u001b[1;33m\u001b[0m\u001b[0m\n",
      "\u001b[1;32m~\\AppData\\Roaming\\Python\\Python37\\site-packages\\tensorflow\\python\\eager\\function.py\u001b[0m in \u001b[0;36mcall\u001b[1;34m(self, ctx, args, cancellation_manager)\u001b[0m\n\u001b[0;32m    558\u001b[0m               \u001b[0minputs\u001b[0m\u001b[1;33m=\u001b[0m\u001b[0margs\u001b[0m\u001b[1;33m,\u001b[0m\u001b[1;33m\u001b[0m\u001b[1;33m\u001b[0m\u001b[0m\n\u001b[0;32m    559\u001b[0m               \u001b[0mattrs\u001b[0m\u001b[1;33m=\u001b[0m\u001b[0mattrs\u001b[0m\u001b[1;33m,\u001b[0m\u001b[1;33m\u001b[0m\u001b[1;33m\u001b[0m\u001b[0m\n\u001b[1;32m--> 560\u001b[1;33m               ctx=ctx)\n\u001b[0m\u001b[0;32m    561\u001b[0m         \u001b[1;32melse\u001b[0m\u001b[1;33m:\u001b[0m\u001b[1;33m\u001b[0m\u001b[1;33m\u001b[0m\u001b[0m\n\u001b[0;32m    562\u001b[0m           outputs = execute.execute_with_cancellation(\n",
      "\u001b[1;32m~\\AppData\\Roaming\\Python\\Python37\\site-packages\\tensorflow\\python\\eager\\execute.py\u001b[0m in \u001b[0;36mquick_execute\u001b[1;34m(op_name, num_outputs, inputs, attrs, ctx, name)\u001b[0m\n\u001b[0;32m     58\u001b[0m     \u001b[0mctx\u001b[0m\u001b[1;33m.\u001b[0m\u001b[0mensure_initialized\u001b[0m\u001b[1;33m(\u001b[0m\u001b[1;33m)\u001b[0m\u001b[1;33m\u001b[0m\u001b[1;33m\u001b[0m\u001b[0m\n\u001b[0;32m     59\u001b[0m     tensors = pywrap_tfe.TFE_Py_Execute(ctx._handle, device_name, op_name,\n\u001b[1;32m---> 60\u001b[1;33m                                         inputs, attrs, num_outputs)\n\u001b[0m\u001b[0;32m     61\u001b[0m   \u001b[1;32mexcept\u001b[0m \u001b[0mcore\u001b[0m\u001b[1;33m.\u001b[0m\u001b[0m_NotOkStatusException\u001b[0m \u001b[1;32mas\u001b[0m \u001b[0me\u001b[0m\u001b[1;33m:\u001b[0m\u001b[1;33m\u001b[0m\u001b[1;33m\u001b[0m\u001b[0m\n\u001b[0;32m     62\u001b[0m     \u001b[1;32mif\u001b[0m \u001b[0mname\u001b[0m \u001b[1;32mis\u001b[0m \u001b[1;32mnot\u001b[0m \u001b[1;32mNone\u001b[0m\u001b[1;33m:\u001b[0m\u001b[1;33m\u001b[0m\u001b[1;33m\u001b[0m\u001b[0m\n",
      "\u001b[1;31mKeyboardInterrupt\u001b[0m: "
     ]
    }
   ],
   "source": [
    "history = model.fit(\n",
    "    tf.convert_to_tensor(inputs_train[:-buffer_train]), \n",
    "    tf.convert_to_tensor([[0, i] for i in range(len(inputs_train)-buffer_train)]), \n",
    "    validation_data=(tf.convert_to_tensor(inputs_test[:-buffer_test]), tf.convert_to_tensor([[1, i] for i in range(len(inputs_test)-buffer_test)])),\n",
    "    epochs=10000, shuffle=True,\n",
    "    batch_size=batch_size,\n",
    "    callbacks=[ival],\n",
    "    use_multiprocessing=True, verbose=1, \n",
    "    validation_freq=10,\n",
    "    workers=64,\n",
    "#     initial_epoch=model.history.epoch[-1],\n",
    ")"
   ]
  },
  {
   "cell_type": "code",
   "execution_count": 112,
   "id": "herbal-comedy",
   "metadata": {},
   "outputs": [
    {
     "data": {
      "text/plain": [
       "'2.4.1'"
      ]
     },
     "execution_count": 112,
     "metadata": {},
     "output_type": "execute_result"
    }
   ],
   "source": [
    "import tensorflow\n",
    "tensorflow.__version__"
   ]
  },
  {
   "cell_type": "code",
   "execution_count": 113,
   "id": "split-training",
   "metadata": {},
   "outputs": [
    {
     "data": {
      "text/plain": [
       "'2.4.3'"
      ]
     },
     "execution_count": 113,
     "metadata": {},
     "output_type": "execute_result"
    }
   ],
   "source": [
    "import keras\n",
    "keras.__version__"
   ]
  },
  {
   "cell_type": "code",
   "execution_count": 76,
   "id": "focused-recall",
   "metadata": {},
   "outputs": [
    {
     "name": "stderr",
     "output_type": "stream",
     "text": [
      "WARNING:absl:Found untraced functions such as lstm_cell_7_layer_call_fn, lstm_cell_7_layer_call_and_return_conditional_losses, lstm_cell_7_layer_call_fn, lstm_cell_7_layer_call_and_return_conditional_losses, lstm_cell_7_layer_call_and_return_conditional_losses while saving (showing 5 of 5). These functions will not be directly callable after loading.\n",
      "WARNING:absl:Found untraced functions such as lstm_cell_7_layer_call_fn, lstm_cell_7_layer_call_and_return_conditional_losses, lstm_cell_7_layer_call_fn, lstm_cell_7_layer_call_and_return_conditional_losses, lstm_cell_7_layer_call_and_return_conditional_losses while saving (showing 5 of 5). These functions will not be directly callable after loading.\n"
     ]
    },
    {
     "name": "stdout",
     "output_type": "stream",
     "text": [
      "INFO:tensorflow:Assets written to: profit_model_fast\\assets\n"
     ]
    },
    {
     "name": "stderr",
     "output_type": "stream",
     "text": [
      "INFO:tensorflow:Assets written to: profit_model_fast\\assets\n"
     ]
    }
   ],
   "source": [
    "model.save('profit_model_fast')"
   ]
  },
  {
   "cell_type": "code",
   "execution_count": 90,
   "id": "dramatic-character",
   "metadata": {},
   "outputs": [],
   "source": [
    "import json\n",
    "weights_list = model.get_weights()\n",
    "json.dump([w.tolist() for w in weights_list], open('profit_model_fast_weights.json', 'w'))"
   ]
  },
  {
   "cell_type": "code",
   "execution_count": 110,
   "id": "private-vessel",
   "metadata": {},
   "outputs": [
    {
     "data": {
      "text/plain": [
       "array([[0.97965571, 0.98591549, 0.89514867, 0.91236307],\n",
       "       [0.91236307, 0.98122066, 0.91236307, 0.98122066],\n",
       "       [0.97965571, 0.99843505, 0.96400626, 0.99530516],\n",
       "       [0.99374022, 1.        , 0.94992175, 0.9514867 ],\n",
       "       [0.95305164, 0.96713615, 0.94835681, 0.96557121],\n",
       "       [0.96557121, 0.97809077, 0.9514867 , 0.96713615],\n",
       "       [0.96557121, 0.97026604, 0.93114241, 0.9342723 ],\n",
       "       [0.9342723 , 0.94992175, 0.91079812, 0.92018779],\n",
       "       [0.91862285, 0.93114241, 0.87636933, 0.9029734 ],\n",
       "       [0.90453834, 0.91236307, 0.85446009, 0.90766823],\n",
       "       [0.90923318, 0.94209703, 0.90923318, 0.93270736],\n",
       "       [0.93114241, 0.9342723 , 0.89671362, 0.91392801],\n",
       "       [0.91236307, 0.91392801, 0.85758998, 0.87636933],\n",
       "       [0.87480438, 0.90923318, 0.87480438, 0.88888889],\n",
       "       [0.88732394, 0.88888889, 0.8513302 , 0.86697966],\n",
       "       [0.86541471, 0.87793427, 0.81846635, 0.86541471],\n",
       "       [0.86541471, 0.91549296, 0.86541471, 0.90923318],\n",
       "       [0.91236307, 0.94209703, 0.90923318, 0.93896714],\n",
       "       [0.94053208, 0.95305164, 0.91549296, 0.94835681],\n",
       "       [0.94992175, 0.95931142, 0.94053208, 0.9514867 ],\n",
       "       [0.95305164, 0.96557121, 0.86697966, 0.87480438],\n",
       "       [0.87636933, 0.92018779, 0.84976526, 0.90610329],\n",
       "       [0.90766823, 0.90766823, 0.87010955, 0.89671362],\n",
       "       [0.89671362, 0.89984351, 0.87323944, 0.88732394],\n",
       "       [0.88888889, 0.90140845, 0.81533646, 0.82942097],\n",
       "       [0.82785603, 0.84037559, 0.77934272, 0.78716745],\n",
       "       [0.78873239, 0.79655712, 0.71048513, 0.72300469],\n",
       "       [0.72456964, 0.72769953, 0.63380282, 0.6400626 ],\n",
       "       [0.63849765, 0.66666667, 0.61189358, 0.64788732],\n",
       "       [0.64632238, 0.66040689, 0.59780908, 0.61815336],\n",
       "       [0.61658842, 0.63849765, 0.56651017, 0.58372457],\n",
       "       [0.58215962, 0.63536776, 0.56494523, 0.62597809],\n",
       "       [0.62754304, 0.66666667, 0.61971831, 0.66040689],\n",
       "       [0.65884194, 0.69640063, 0.6400626 , 0.67762128],\n",
       "       [0.67918623, 0.70109546, 0.66510172, 0.68388106],\n",
       "       [0.68544601, 0.69327074, 0.6713615 , 0.68544601],\n",
       "       [0.68701095, 0.6885759 , 0.62128326, 0.6400626 ],\n",
       "       [0.63849765, 0.6541471 , 0.60406886, 0.63536776],\n",
       "       [0.63849765, 0.66353678, 0.63536776, 0.65571205],\n",
       "       [0.65101721, 0.66040689, 0.61971831, 0.66040689],\n",
       "       [0.65884194, 0.66040689, 0.63693271, 0.64162754],\n",
       "       [0.6400626 , 0.65571205, 0.5399061 , 0.56964006],\n",
       "       [0.57120501, 0.60093897, 0.57120501, 0.58372457],\n",
       "       [0.58528951, 0.60250391, 0.5743349 , 0.60093897],\n",
       "       [0.59937402, 0.66510172, 0.59780908, 0.61345853],\n",
       "       [0.61189358, 0.62754304, 0.57746479, 0.58059468],\n",
       "       [0.57902973, 0.61345853, 0.56494523, 0.56651017],\n",
       "       [0.56807512, 0.5915493 , 0.56181534, 0.58841941],\n",
       "       [0.58528951, 0.6228482 , 0.56025039, 0.6228482 ],\n",
       "       [0.62128326, 0.62128326, 0.46165884, 0.46478873],\n",
       "       [0.46165884, 0.54616588, 0.45852895, 0.5399061 ],\n",
       "       [0.53521127, 0.54929577, 0.52425665, 0.54460094],\n",
       "       [0.54616588, 0.57120501, 0.51956182, 0.5258216 ],\n",
       "       [0.52425665, 0.52738654, 0.39123631, 0.44600939],\n",
       "       [0.4428795 , 0.47887324, 0.41471049, 0.47104851],\n",
       "       [0.47261346, 0.48982786, 0.43505477, 0.47104851],\n",
       "       [0.46791862, 0.48200313, 0.45696401, 0.46322379],\n",
       "       [0.46165884, 0.48043818, 0.43661972, 0.46165884],\n",
       "       [0.46478873, 0.48513302, 0.41940532, 0.48200313],\n",
       "       [0.48356808, 0.49608764, 0.45696401, 0.46948357],\n",
       "       [0.46791862, 0.48826291, 0.45070423, 0.47574335],\n",
       "       [0.4741784 , 0.50704225, 0.4600939 , 0.47887324],\n",
       "       [0.47730829, 0.50234742, 0.42097027, 0.49921753],\n",
       "       [0.50078247, 0.5258216 , 0.48982786, 0.52425665],\n",
       "       [0.52112676, 0.52425665, 0.49295775, 0.49765258],\n",
       "       [0.49921753, 0.49921753, 0.43505477, 0.45539906],\n",
       "       [0.45539906, 0.4913928 , 0.45539906, 0.48826291],\n",
       "       [0.48669797, 0.49295775, 0.43192488, 0.43192488],\n",
       "       [0.43505477, 0.4913928 , 0.4256651 , 0.47104851],\n",
       "       [0.46948357, 0.49295775, 0.43035994, 0.49295775],\n",
       "       [0.49295775, 0.51486698, 0.48669797, 0.51173709],\n",
       "       [0.51017214, 0.51643192, 0.46948357, 0.46948357],\n",
       "       [0.47574335, 0.51799687, 0.47574335, 0.48669797],\n",
       "       [0.48826291, 0.49921753, 0.4741784 , 0.48043818],\n",
       "       [0.48043818, 0.50391236, 0.47887324, 0.49921753],\n",
       "       [0.50078247, 0.50078247, 0.44444444, 0.46478873],\n",
       "       [0.46322379, 0.4741784 , 0.40532081, 0.42253521],\n",
       "       [0.42253521, 0.43192488, 0.40688576, 0.41940532],\n",
       "       [0.42097027, 0.45383412, 0.42097027, 0.43974961],\n",
       "       [0.44131455, 0.4600939 , 0.43035994, 0.43818466],\n",
       "       [0.43505477, 0.45226917, 0.33489828, 0.35524257],\n",
       "       [0.35524257, 0.46635368, 0.34115806, 0.46635368],\n",
       "       [0.46635368, 0.48982786, 0.44131455, 0.45696401],\n",
       "       [0.45696401, 0.4913928 , 0.45226917, 0.48826291],\n",
       "       [0.48669797, 0.48669797, 0.42410016, 0.44131455],\n",
       "       [0.43974961, 0.45696401, 0.41314554, 0.41471049],\n",
       "       [0.41627543, 0.41627543, 0.36463224, 0.37871674],\n",
       "       [0.38028169, 0.44600939, 0.36619718, 0.41471049],\n",
       "       [0.41627543, 0.4428795 , 0.38184664, 0.39593114],\n",
       "       [0.3943662 , 0.4256651 , 0.38028169, 0.4084507 ],\n",
       "       [0.41001565, 0.42253521, 0.37871674, 0.38810642],\n",
       "       [0.38654147, 0.4256651 , 0.38654147, 0.40375587],\n",
       "       [0.40532081, 0.43661972, 0.39123631, 0.4256651 ],\n",
       "       [0.42879499, 0.43192488, 0.37558685, 0.41158059],\n",
       "       [0.41001565, 0.44444444, 0.39280125, 0.43818466],\n",
       "       [0.43661972, 0.45852895, 0.4256651 , 0.44444444],\n",
       "       [0.4428795 , 0.44757433, 0.4084507 , 0.42723005],\n",
       "       [0.4256651 , 0.45226917, 0.42097027, 0.43348983],\n",
       "       [0.43505477, 0.43818466, 0.39593114, 0.39906103],\n",
       "       [0.39749609, 0.41158059, 0.39749609, 0.39749609],\n",
       "       [0.39906103, 0.4084507 , 0.37402191, 0.40062598],\n",
       "       [0.39906103, 0.42097027, 0.39593114, 0.40532081],\n",
       "       [0.4084507 , 0.41158059, 0.37558685, 0.41001565],\n",
       "       [0.4084507 , 0.41158059, 0.38654147, 0.38967136],\n",
       "       [0.38810642, 0.40062598, 0.38184664, 0.38967136],\n",
       "       [0.38810642, 0.39749609, 0.36932707, 0.39593114],\n",
       "       [0.3943662 , 0.39749609, 0.34898279, 0.34898279],\n",
       "       [0.35054773, 0.38184664, 0.28951487, 0.38028169],\n",
       "       [0.38028169, 0.43035994, 0.36776213, 0.41784038],\n",
       "       [0.41471049, 0.49452269, 0.40532081, 0.4741784 ],\n",
       "       [0.47261346, 0.47574335, 0.3943662 , 0.40375587],\n",
       "       [0.40532081, 0.41940532, 0.35680751, 0.37245696],\n",
       "       [0.37089202, 0.43035994, 0.36776213, 0.39749609],\n",
       "       [0.39906103, 0.39906103, 0.36463224, 0.36619718],\n",
       "       [0.36463224, 0.36776213, 0.33176839, 0.36776213],\n",
       "       [0.36619718, 0.39280125, 0.35837246, 0.38810642],\n",
       "       [0.38654147, 0.41314554, 0.37089202, 0.40062598],\n",
       "       [0.40062598, 0.42097027, 0.35680751, 0.38654147],\n",
       "       [0.38810642, 0.38810642, 0.28951487, 0.29264476],\n",
       "       [0.29577465, 0.3286385 , 0.24726135, 0.28794992],\n",
       "       [0.29107981, 0.30829421, 0.25821596, 0.30359937],\n",
       "       [0.30203443, 0.3114241 , 0.24413146, 0.26447574],\n",
       "       [0.26447574, 0.34115806, 0.2629108 , 0.31298905],\n",
       "       [0.30985915, 0.33489828, 0.30359937, 0.33333333],\n",
       "       [0.33489828, 0.37558685, 0.3286385 , 0.36306729],\n",
       "       [0.36463224, 0.38654147, 0.3458529 , 0.3458529 ],\n",
       "       [0.34741784, 0.38497653, 0.31924883, 0.37402191],\n",
       "       [0.37558685, 0.41158059, 0.37089202, 0.39123631],\n",
       "       [0.39123631, 0.41001565, 0.38028169, 0.39123631],\n",
       "       [0.39280125, 0.39749609, 0.36463224, 0.37871674],\n",
       "       [0.3771518 , 0.38497653, 0.33020344, 0.34898279],\n",
       "       [0.3458529 , 0.40688576, 0.34428795, 0.40375587],\n",
       "       [0.40219092, 0.41314554, 0.38967136, 0.39749609],\n",
       "       [0.39906103, 0.4256651 , 0.38184664, 0.38810642],\n",
       "       [0.38810642, 0.42723005, 0.38497653, 0.4084507 ],\n",
       "       [0.41158059, 0.41471049, 0.342723  , 0.3458529 ],\n",
       "       [0.34741784, 0.35680751, 0.30672926, 0.35211268],\n",
       "       [0.35211268, 0.36150235, 0.33333333, 0.33333333],\n",
       "       [0.33176839, 0.3458529 , 0.30985915, 0.34115806],\n",
       "       [0.33959311, 0.34115806, 0.30203443, 0.33020344],\n",
       "       [0.33333333, 0.34428795, 0.28794992, 0.29890454],\n",
       "       [0.29733959, 0.30203443, 0.20187793, 0.20970266],\n",
       "       [0.21283255, 0.25821596, 0.21126761, 0.23943662],\n",
       "       [0.23943662, 0.25665102, 0.20657277, 0.22535211],\n",
       "       [0.22378717, 0.23161189, 0.15336463, 0.17214397],\n",
       "       [0.17057903, 0.1971831 , 0.16431925, 0.1971831 ],\n",
       "       [0.20031299, 0.23943662, 0.16118936, 0.21596244],\n",
       "       [0.21752739, 0.23630673, 0.17370892, 0.19405321],\n",
       "       [0.1971831 , 0.25665102, 0.19248826, 0.24882629],\n",
       "       [0.24726135, 0.25195618, 0.20031299, 0.24100156],\n",
       "       [0.23943662, 0.25665102, 0.18779343, 0.25352113],\n",
       "       [0.25508607, 0.28638498, 0.18622848, 0.20187793],\n",
       "       [0.20031299, 0.21596244, 0.17683881, 0.20657277],\n",
       "       [0.20344288, 0.20970266, 0.16431925, 0.20970266],\n",
       "       [0.21126761, 0.23474178, 0.18935837, 0.1971831 ],\n",
       "       [0.19874804, 0.20813772, 0.16744914, 0.17057903],\n",
       "       [0.17214397, 0.18779343, 0.15023474, 0.16118936],\n",
       "       [0.15962441, 0.16588419, 0.1314554 , 0.13615023],\n",
       "       [0.13458529, 0.17057903, 0.        , 0.0312989 ],\n",
       "       [0.03286385, 0.08137715, 0.02503912, 0.05477308],\n",
       "       [0.05633803, 0.09076682, 0.05477308, 0.08607199],\n",
       "       [0.08450704, 0.114241  , 0.05164319, 0.09859155],\n",
       "       [0.10015649, 0.114241  , 0.0829421 , 0.09389671],\n",
       "       [0.09546166, 0.15179969, 0.09546166, 0.14397496],\n",
       "       [0.14397496, 0.17214397, 0.13302034, 0.14397496],\n",
       "       [0.14553991, 0.20813772, 0.14397496, 0.20031299],\n",
       "       [0.20187793, 0.20657277, 0.17057903, 0.17527387],\n",
       "       [0.17370892, 0.18935837, 0.12519562, 0.1314554 ],\n",
       "       [0.1314554 , 0.20031299, 0.1314554 , 0.18153365],\n",
       "       [0.18309859, 0.19874804, 0.16588419, 0.18935837],\n",
       "       [0.19092332, 0.22065728, 0.15179969, 0.15179969],\n",
       "       [0.1486698 , 0.19248826, 0.12519562, 0.18466354],\n",
       "       [0.17840376, 0.20500782, 0.14241002, 0.20031299],\n",
       "       [0.20031299, 0.20031299, 0.13458529, 0.15649452],\n",
       "       [0.15962441, 0.17840376, 0.15179969, 0.17214397],\n",
       "       [0.17057903, 0.17527387, 0.13771518, 0.1627543 ],\n",
       "       [0.16431925, 0.21126761, 0.16431925, 0.20813772],\n",
       "       [0.20657277, 0.21283255, 0.14710485, 0.15962441],\n",
       "       [0.15805947, 0.23943662, 0.15649452, 0.23787167],\n",
       "       [0.23474178, 0.24100156, 0.15492958, 0.18466354]])"
      ]
     },
     "execution_count": 110,
     "metadata": {},
     "output_type": "execute_result"
    }
   ],
   "source": [
    "inputs_train[0]"
   ]
  },
  {
   "cell_type": "code",
   "execution_count": null,
   "id": "median-drove",
   "metadata": {},
   "outputs": [],
   "source": [
    "mode"
   ]
  },
  {
   "cell_type": "code",
   "execution_count": 111,
   "id": "informed-declaration",
   "metadata": {
    "scrolled": true
   },
   "outputs": [
    {
     "data": {
      "text/plain": [
       "array([[-0.9998713 ,  0.38396364,  0.02222573]], dtype=float32)"
      ]
     },
     "execution_count": 111,
     "metadata": {},
     "output_type": "execute_result"
    }
   ],
   "source": [
    "model.predict(inputs_train[:1])"
   ]
  },
  {
   "cell_type": "code",
   "execution_count": 94,
   "id": "accepting-portfolio",
   "metadata": {},
   "outputs": [
    {
     "data": {
      "text/plain": [
       "array([[-0.9998713 ,  0.38396356,  0.02222568],\n",
       "       [-0.99980795,  0.39179978,  0.02079021],\n",
       "       [-0.9996873 ,  0.40438262,  0.01821101],\n",
       "       ...,\n",
       "       [-0.7010914 ,  0.38647288,  0.23123334],\n",
       "       [-0.6424865 ,  0.3917611 ,  0.22934084],\n",
       "       [-0.55829275,  0.39865336,  0.22696523]], dtype=float32)"
      ]
     },
     "execution_count": 94,
     "metadata": {},
     "output_type": "execute_result"
    }
   ],
   "source": [
    "y_preds['train']"
   ]
  },
  {
   "cell_type": "code",
   "execution_count": 63,
   "id": "classified-mineral",
   "metadata": {},
   "outputs": [],
   "source": [
    "y_preds = {'train': model.predict(inputs_train[:-buffer]), 'test': model.predict(inputs_test[:-buffer])}"
   ]
  },
  {
   "cell_type": "code",
   "execution_count": 100,
   "id": "aggregate-small",
   "metadata": {},
   "outputs": [],
   "source": [
    "profits = {'train': get_profit(df[0], y_preds['train'], 0), 'test': get_profit(df[1], y_preds['test'], 0)}"
   ]
  },
  {
   "cell_type": "code",
   "execution_count": 101,
   "id": "reasonable-tablet",
   "metadata": {},
   "outputs": [],
   "source": [
    "temp = {'train': train.iloc[:len(profits['train'])].copy(), 'test': test.iloc[:len(profits['test'])].copy()}\n",
    "temp['train']['profit'] = profits['train']\n",
    "temp['test']['profit'] = profits['test']"
   ]
  },
  {
   "cell_type": "code",
   "execution_count": 102,
   "id": "standard-marijuana",
   "metadata": {},
   "outputs": [
    {
     "data": {
      "text/plain": [
       "<AxesSubplot:>"
      ]
     },
     "execution_count": 102,
     "metadata": {},
     "output_type": "execute_result"
    },
    {
     "data": {
      "image/png": "[encoded data removed]",
      "text/plain": [
       "<Figure size 432x288 with 1 Axes>"
      ]
     },
     "metadata": {
      "needs_background": "light"
     },
     "output_type": "display_data"
    }
   ],
   "source": [
    "temp['train']['profit'].plot()"
   ]
  },
  {
   "cell_type": "code",
   "execution_count": 103,
   "id": "considerable-certificate",
   "metadata": {},
   "outputs": [
    {
     "data": {
      "text/plain": [
       "<AxesSubplot:>"
      ]
     },
     "execution_count": 103,
     "metadata": {},
     "output_type": "execute_result"
    },
    {
     "data": {
      "image/png": "[encoded data removed]",
      "text/plain": [
       "<Figure size 432x288 with 1 Axes>"
      ]
     },
     "metadata": {
      "needs_background": "light"
     },
     "output_type": "display_data"
    }
   ],
   "source": [
    "temp['test']['profit'].plot()"
   ]
  },
  {
   "cell_type": "code",
   "execution_count": 104,
   "id": "younger-invitation",
   "metadata": {},
   "outputs": [
    {
     "data": {
      "text/plain": [
       "<AxesSubplot:>"
      ]
     },
     "execution_count": 104,
     "metadata": {},
     "output_type": "execute_result"
    },
    {
     "data": {
      "image/png": "[encoded data removed]",
      "text/plain": [
       "<Figure size 432x288 with 1 Axes>"
      ]
     },
     "metadata": {
      "needs_background": "light"
     },
     "output_type": "display_data"
    }
   ],
   "source": [
    "temp['train']['profit'].cumsum().plot()"
   ]
  },
  {
   "cell_type": "code",
   "execution_count": 105,
   "id": "ignored-frederick",
   "metadata": {},
   "outputs": [
    {
     "data": {
      "text/plain": [
       "<AxesSubplot:>"
      ]
     },
     "execution_count": 105,
     "metadata": {},
     "output_type": "execute_result"
    },
    {
     "data": {
      "image/png": "[encoded data removed]",
      "text/plain": [
       "<Figure size 432x288 with 1 Axes>"
      ]
     },
     "metadata": {
      "needs_background": "light"
     },
     "output_type": "display_data"
    }
   ],
   "source": [
    "temp['test']['profit'].cumsum().plot()"
   ]
  },
  {
   "cell_type": "code",
   "execution_count": 106,
   "id": "cloudy-pizza",
   "metadata": {},
   "outputs": [
    {
     "data": {
      "text/plain": [
       "563296.8603183313"
      ]
     },
     "execution_count": 106,
     "metadata": {},
     "output_type": "execute_result"
    }
   ],
   "source": [
    "sum(profits['train'])"
   ]
  },
  {
   "cell_type": "code",
   "execution_count": 107,
   "id": "color-buyer",
   "metadata": {},
   "outputs": [
    {
     "data": {
      "text/plain": [
       "142749.83685771326"
      ]
     },
     "execution_count": 107,
     "metadata": {},
     "output_type": "execute_result"
    }
   ],
   "source": [
    "sum(profits['test'])"
   ]
  },
  {
   "cell_type": "code",
   "execution_count": 108,
   "id": "assumed-friend",
   "metadata": {},
   "outputs": [
    {
     "data": {
      "text/plain": [
       "3.3293941273754353"
      ]
     },
     "execution_count": 108,
     "metadata": {},
     "output_type": "execute_result"
    }
   ],
   "source": [
    "(252 ** 0.5) * np.mean(profits['train']) / np.std(profits['train'])"
   ]
  },
  {
   "cell_type": "code",
   "execution_count": 109,
   "id": "announced-shock",
   "metadata": {},
   "outputs": [
    {
     "data": {
      "text/plain": [
       "4.192614650142112"
      ]
     },
     "execution_count": 109,
     "metadata": {},
     "output_type": "execute_result"
    }
   ],
   "source": [
    "(252 ** 0.5) * np.mean(profits['test']) / np.std(profits['test'])"
   ]
  },
  {
   "cell_type": "code",
   "execution_count": null,
   "id": "cardiovascular-flour",
   "metadata": {},
   "outputs": [],
   "source": []
  }
 ],
 "metadata": {
  "kernelspec": {
   "display_name": "Python 3",
   "language": "python",
   "name": "python3"
  },
  "language_info": {
   "codemirror_mode": {
    "name": "ipython",
    "version": 3
   },
   "file_extension": ".py",
   "mimetype": "text/x-python",
   "name": "python",
   "nbconvert_exporter": "python",
   "pygments_lexer": "ipython3",
   "version": "3.6.8"
  }
 },
 "nbformat": 4,
 "nbformat_minor": 5
}
