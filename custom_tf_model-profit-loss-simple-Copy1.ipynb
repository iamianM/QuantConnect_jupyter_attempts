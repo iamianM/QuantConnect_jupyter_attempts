{
 "cells": [
  {
   "cell_type": "code",
   "execution_count": 1,
   "id": "lesbian-constitutional",
   "metadata": {},
   "outputs": [],
   "source": [
    "import os\n",
    "os.environ[\"CUDA_VISIBLE_DEVICES\"] = \"-1\""
   ]
  },
  {
   "cell_type": "code",
   "execution_count": 2,
   "id": "41f459b3",
   "metadata": {},
   "outputs": [],
   "source": [
    "import tensorflow as tf\n",
    "\n",
    "from tensorflow.keras import datasets, models, optimizers\n",
    "from tensorflow.keras.layers import TimeDistributed, Conv2D, Flatten, Dense, LSTM, ConvLSTM2D, MaxPool2D, Dropout, Conv1D\n",
    "import matplotlib.pyplot as plt\n",
    "\n",
    "import numpy as np \n",
    "import pandas as pd"
   ]
  },
  {
   "cell_type": "code",
   "execution_count": 3,
   "id": "offensive-merchant",
   "metadata": {},
   "outputs": [
    {
     "data": {
      "text/plain": [
       "False"
      ]
     },
     "execution_count": 3,
     "metadata": {},
     "output_type": "execute_result"
    }
   ],
   "source": [
    "tf.test.is_built_with_cuda()"
   ]
  },
  {
   "cell_type": "code",
   "execution_count": 4,
   "id": "dae60f38",
   "metadata": {},
   "outputs": [],
   "source": [
    "tf.compat.v1.enable_eager_execution()"
   ]
  },
  {
   "cell_type": "code",
   "execution_count": 6,
   "id": "86f4cad1",
   "metadata": {},
   "outputs": [],
   "source": [
    "inputs_train = np.load(\"inputs_train_180.npy\")\n",
    "inputs_test = np.load(\"inputs_test_180.npy\")"
   ]
  },
  {
   "cell_type": "code",
   "execution_count": 5,
   "id": "flexible-italic",
   "metadata": {},
   "outputs": [],
   "source": [
    "import numpy as np\n",
    "def normalize(data, window, step):\n",
    "    frame = '_1min'\n",
    "    values = [c for c in data.columns if frame in c]\n",
    "    ohlc = data.iloc[step - window + 1:step + 1][values].copy()\n",
    "\n",
    "    min_low = ohlc[values].min().min()\n",
    "    for c in ohlc.columns:\n",
    "        ohlc[c] -= min_low\n",
    "\n",
    "    max_high = ohlc[values].max().max()\n",
    "    for c in ohlc.columns:\n",
    "        ohlc[c] /= max_high\n",
    "\n",
    "    return ohlc.values"
   ]
  },
  {
   "cell_type": "code",
   "execution_count": 6,
   "id": "peaceful-allah",
   "metadata": {},
   "outputs": [],
   "source": [
    "window_size = 180"
   ]
  },
  {
   "cell_type": "code",
   "execution_count": null,
   "id": "compatible-marshall",
   "metadata": {
    "scrolled": true
   },
   "outputs": [],
   "source": [
    "%%time\n",
    "inputs_train = []\n",
    "for i in range(window_size-1, len(train)):\n",
    "    if i % 1000 == 0:\n",
    "        print(i)\n",
    "    inputs_train.append(normalize(train, window_size , i))\n",
    "inputs_train = np.array(inputs_train)"
   ]
  },
  {
   "cell_type": "code",
   "execution_count": 8,
   "id": "fresh-valuable",
   "metadata": {},
   "outputs": [
    {
     "name": "stdout",
     "output_type": "stream",
     "text": [
      "1000\n",
      "2000\n",
      "3000\n",
      "4000\n",
      "5000\n",
      "6000\n",
      "7000\n",
      "8000\n",
      "9000\n",
      "10000\n",
      "11000\n",
      "12000\n",
      "13000\n",
      "14000\n",
      "15000\n",
      "16000\n",
      "17000\n",
      "18000\n",
      "19000\n",
      "20000\n",
      "21000\n",
      "22000\n",
      "23000\n",
      "24000\n",
      "Wall time: 2min 3s\n"
     ]
    }
   ],
   "source": [
    "%%time\n",
    "inputs_test = []\n",
    "for i in range(window_size-1, len(test)):\n",
    "    if i % 1000 == 0:\n",
    "        print(i)\n",
    "    inputs_test.append(normalize(test, window_size , i))\n",
    "inputs_test = np.array(inputs_test)"
   ]
  },
  {
   "cell_type": "code",
   "execution_count": 7,
   "id": "c6052538",
   "metadata": {},
   "outputs": [],
   "source": [
    "train = pd.read_csv('train_timeframes.csv').iloc[window_size-1:]\n",
    "test = pd.read_csv('test_timeframes.csv').iloc[window_size-1:]"
   ]
  },
  {
   "cell_type": "code",
   "execution_count": 9,
   "id": "assured-mambo",
   "metadata": {},
   "outputs": [],
   "source": [
    "df = [train, test]"
   ]
  },
  {
   "cell_type": "code",
   "execution_count": 10,
   "id": "9326d1b3",
   "metadata": {},
   "outputs": [],
   "source": [
    "img = inputs_train[0,:,:]"
   ]
  },
  {
   "cell_type": "code",
   "execution_count": 11,
   "id": "22b9f610",
   "metadata": {},
   "outputs": [
    {
     "data": {
      "text/plain": [
       "((73516, 180, 4), (73575, 23))"
      ]
     },
     "execution_count": 11,
     "metadata": {},
     "output_type": "execute_result"
    }
   ],
   "source": [
    "inputs_train.shape, train.shape"
   ]
  },
  {
   "cell_type": "code",
   "execution_count": 12,
   "id": "amateur-collins",
   "metadata": {},
   "outputs": [
    {
     "data": {
      "text/plain": [
       "((24066, 180, 4), 24066)"
      ]
     },
     "execution_count": 12,
     "metadata": {},
     "output_type": "execute_result"
    }
   ],
   "source": [
    "inputs_test.shape, test.shape[0] - (window_size-1)"
   ]
  },
  {
   "cell_type": "code",
   "execution_count": 13,
   "id": "6e56c8b4",
   "metadata": {},
   "outputs": [],
   "source": [
    "idx = 0\n",
    "margin_size = 50\n",
    "time_limit = 1"
   ]
  },
  {
   "cell_type": "code",
   "execution_count": 14,
   "id": "hungry-intent",
   "metadata": {},
   "outputs": [],
   "source": [
    "def get_model():\n",
    "    model = models.Sequential()\n",
    "    # model.add(LSTM(64, input_shape = img.shape, return_sequences=True, dropout=0.2))\n",
    "    model.add(LSTM(32, input_shape = img.shape, dropout=0.5))\n",
    "    # model.add(LSTM(32, dropout=0.2))\n",
    "    model.add(Dense(1, activation=\"linear\"))\n",
    "    return model\n",
    "\n",
    "model = get_model()"
   ]
  },
  {
   "cell_type": "code",
   "execution_count": 15,
   "id": "convertible-gossip",
   "metadata": {},
   "outputs": [
    {
     "name": "stdout",
     "output_type": "stream",
     "text": [
      "Model: \"sequential\"\n",
      "_________________________________________________________________\n",
      "Layer (type)                 Output Shape              Param #   \n",
      "=================================================================\n",
      "lstm (LSTM)                  (None, 32)                4736      \n",
      "_________________________________________________________________\n",
      "dense (Dense)                (None, 1)                 33        \n",
      "=================================================================\n",
      "Total params: 4,769\n",
      "Trainable params: 4,769\n",
      "Non-trainable params: 0\n",
      "_________________________________________________________________\n"
     ]
    }
   ],
   "source": [
    "model.summary()"
   ]
  },
  {
   "cell_type": "code",
   "execution_count": 16,
   "id": "funded-overall",
   "metadata": {},
   "outputs": [],
   "source": [
    "buffer_train = train.shape[0] - inputs_train.shape[0] -time_limit - 1\n",
    "buffer_test = test.shape[0] - inputs_test.shape[0] -time_limit - 1"
   ]
  },
  {
   "cell_type": "code",
   "execution_count": 17,
   "id": "fourth-style",
   "metadata": {
    "scrolled": true
   },
   "outputs": [],
   "source": [
    "all_closes_train = tf.convert_to_tensor([df[0].iloc[i:i+1+time_limit]['close_1min'].tolist() for i in range(len(df[0])-buffer_train)])\n",
    "all_closes_test = tf.convert_to_tensor([df[1].iloc[i:i+1+time_limit]['close_1min'].tolist() for i in range(len(df[1])-buffer_test)])"
   ]
  },
  {
   "cell_type": "code",
   "execution_count": 18,
   "id": "attended-milan",
   "metadata": {},
   "outputs": [],
   "source": [
    "all_spread_train = tf.convert_to_tensor([df[0].iloc[i:i+1]['spread'].tolist() for i in range(len(df[0])-buffer_train)])\n",
    "all_spread_test = tf.convert_to_tensor([df[1].iloc[i:i+1]['spread'].tolist() for i in range(len(df[1])-buffer_test)])"
   ]
  },
  {
   "cell_type": "code",
   "execution_count": 147,
   "id": "temporal-custody",
   "metadata": {},
   "outputs": [],
   "source": [
    "np.save(open('all_closes_train', 'wb'), all_closes_train.numpy())\n",
    "np.save(open('all_closes_test', 'wb'), all_closes_test.numpy())\n",
    "np.save(open('all_spread_train', 'wb'), all_spread_train.numpy())\n",
    "np.save(open('all_spread_test', 'wb'), all_spread_test.numpy())"
   ]
  },
  {
   "cell_type": "code",
   "execution_count": 30,
   "id": "authentic-front",
   "metadata": {},
   "outputs": [],
   "source": [
    "all_closes_train = tf.convert_to_tensor(np.load('all_closes_train.npy'))[:,:,:time_limit+1]\n",
    "all_closes_test = tf.convert_to_tensor(np.load('all_closes_test.npy'))[:,:,:time_limit+1]\n",
    "all_spread_train = tf.convert_to_tensor(np.load('all_spread_train.npy'))[:,:,:time_limit+1]\n",
    "all_spread_test = tf.convert_to_tensor(np.load('all_spread_test.npy'))[:,:,:time_limit+1]"
   ]
  },
  {
   "cell_type": "code",
   "execution_count": 19,
   "id": "monthly-there",
   "metadata": {},
   "outputs": [
    {
     "data": {
      "text/plain": [
       "(TensorShape([73518, 2]), TensorShape([73518, 1]))"
      ]
     },
     "execution_count": 19,
     "metadata": {},
     "output_type": "execute_result"
    }
   ],
   "source": [
    "all_closes_train.shape, all_spread_train.shape"
   ]
  },
  {
   "cell_type": "code",
   "execution_count": 121,
   "id": "christian-penny",
   "metadata": {},
   "outputs": [
    {
     "data": {
      "text/plain": [
       "(<tf.Tensor: shape=(2,), dtype=float32, numpy=array([1.13622, 1.13597], dtype=float32)>,\n",
       " <tf.Tensor: shape=(1,), dtype=float32, numpy=array([-1.1000594], dtype=float32)>)"
      ]
     },
     "execution_count": 121,
     "metadata": {},
     "output_type": "execute_result"
    }
   ],
   "source": [
    "all_closes_train[0], 100 * margin_size *(all_closes_train[0][-1:] - all_closes_train[0][:1])/all_closes_train[0][:1]"
   ]
  },
  {
   "cell_type": "code",
   "execution_count": 20,
   "id": "da4a290c",
   "metadata": {},
   "outputs": [],
   "source": [
    "def custom_loss_wrapper(idx, margin_size):  \n",
    "    def custom_loss(y_true, y_pred):\n",
    "#         print()\n",
    "#         print(y_pred[:,:1][0].numpy())\n",
    "#         pred = y_pred[:,0]\n",
    "#         margin *= margin_size\n",
    "        \n",
    "        idxs = y_true[:,1]\n",
    "        df_name = y_true[0][0]\n",
    "        closes = tf.cond(df_name == tf.constant(0), lambda: tf.gather(all_closes_train, idxs), lambda: tf.gather(all_closes_test, idxs))\n",
    "        spread = tf.cond(df_name == tf.constant(0), lambda: tf.gather(all_spread_train, idxs), lambda: tf.gather(all_spread_test, idxs))\n",
    "        close1 = closes[:,:1]\n",
    "        close2 = closes[:,-1:]\n",
    "\n",
    "        diff = close2 - close1\n",
    "        profit = 100 * margin_size * diff /  close1\n",
    "#         print(close1[0].numpy(), close2[0].numpy(), margin[0].numpy(), diff[0].numpy(), profit[0].numpy())\n",
    "#         print(profit.numpy())\n",
    "#         print(tf.pow(profit, 1.0/3.0).numpy())\n",
    "#         print(profit.shape, spread.shape, close1.shape, close2.shape)\n",
    "#         return tf.where(tf.less(tf.abs(profit), 0.5), tf.zeros_like(profit), profit)\n",
    "#         return tf.where(tf.less(profit, 0), -tf.pow(tf.abs(profit), 1.0/2.0), tf.pow(tf.abs(profit), 1.0/2.0))\n",
    "#         return tf.where(tf.less(profit, 0), -tf.sqrt(tf.abs(profit)), tf.sqrt(tf.abs(profit)))\n",
    "#         return tf.where(tf.less(tf.abs(profit), 1), tf.sign(profit)*tf.sqrt(tf.abs(profit)), profit)\n",
    "#         return tf.pow(profit, 3.0)\n",
    "        return tf.keras.losses.MSE(profit, y_pred[:,0])\n",
    "    return custom_loss"
   ]
  },
  {
   "cell_type": "code",
   "execution_count": 65,
   "id": "supreme-turkey",
   "metadata": {},
   "outputs": [],
   "source": [
    "def get_profit(data, y_preds, times_spread=0):\n",
    "    preds = y_preds.flatten()[:-time_limit]\n",
    "    direction = np.sign(preds)\n",
    "    b = data.shape[0] - preds.shape[0]\n",
    "    close1 = data['close_1min'].values[:-b]\n",
    "    close2 = data['close_1min'].values[time_limit:-b+time_limit]\n",
    "    diff = close2 - close1\n",
    "    spread = data['spread'].values[:-b]\n",
    "    profit = 100 * (margin_size*direction * (diff - (spread*direction))) /  close1\n",
    "    profit = [p for p, pred, s, c in zip(profit, preds, spread, close1) if abs(pred) > 100*margin_size*times_spread*s/c]\n",
    "    return profit"
   ]
  },
  {
   "cell_type": "code",
   "execution_count": 25,
   "id": "stone-washer",
   "metadata": {},
   "outputs": [],
   "source": [
    "from keras.callbacks import Callback\n",
    "\n",
    "class IntervalEvaluation(Callback):\n",
    "    def __init__(self, validation_data=(), interval=10):\n",
    "        super(Callback, self).__init__()\n",
    "\n",
    "        self.interval = interval\n",
    "        self.X_val, self.y_val = validation_data\n",
    "\n",
    "    def on_epoch_end(self, epoch, logs={}):\n",
    "        if epoch % self.interval == 0:\n",
    "            y_pred = self.model.predict(inputs_train[:-buffer_train], verbose=0)\n",
    "            print(np.min(y_pred, axis=0))\n",
    "            print(np.mean(y_pred, axis=0))\n",
    "            print(np.max(y_pred, axis=0))\n",
    "            print()\n",
    "            y_pred = self.model.predict(inputs_test[:-buffer_test], verbose=0)\n",
    "            print(np.min(y_pred, axis=0))\n",
    "            print(np.mean(y_pred, axis=0))\n",
    "            print(np.max(y_pred, axis=0))            \n",
    "            profits = get_profit(df[1], y_pred, times_spread=0)\n",
    "            print(sum(profits))\n",
    "#             print(\"interval evaluation - epoch: {:d} - score: {:.6f} -- score_0: {:.6f}\".format(epoch, profits, profits_0))\n",
    "           \n",
    "# buffer = (batch_size+time_limit) + 1000\n",
    "ival = IntervalEvaluation(\n",
    "    validation_data=(inputs_train[:-buffer_train], np.array([[1, i] for i in range(len(inputs_train)-buffer_train)]))\n",
    "    , interval=10\n",
    ")"
   ]
  },
  {
   "cell_type": "code",
   "execution_count": 23,
   "id": "legitimate-smoke",
   "metadata": {},
   "outputs": [],
   "source": [
    "model = get_model()"
   ]
  },
  {
   "cell_type": "code",
   "execution_count": 24,
   "id": "instant-forestry",
   "metadata": {},
   "outputs": [],
   "source": [
    "model.compile(\n",
    "    optimizer=optimizers.Adam(learning_rate=0.0001), #, epsilon=1.0),\n",
    "    loss=custom_loss_wrapper(idx, margin_size),\n",
    "#     metrics=[custom_metric_wrapper(idx, stop_limit, price_limit, margin_size, time_limit)],\n",
    "    run_eagerly=False\n",
    ")"
   ]
  },
  {
   "cell_type": "code",
   "execution_count": 123,
   "id": "452981fb",
   "metadata": {
    "scrolled": true
   },
   "outputs": [
    {
     "name": "stdout",
     "output_type": "stream",
     "text": [
      "Epoch 1/10000\n",
      "2296/2296 [==============================] - 76s 33ms/step - loss: 3.0286\n",
      "[-0.00554868]\n",
      "[-0.00151359]\n",
      "[0.00371765]\n",
      "\n",
      "[-0.00515689]\n",
      "[-0.00154314]\n",
      "[0.00314912]\n",
      "-6902.591348148562\n",
      "Epoch 2/10000\n",
      "2296/2296 [==============================] - 74s 32ms/step - loss: 3.0285\n",
      "Epoch 3/10000\n",
      "2296/2296 [==============================] - 75s 33ms/step - loss: 3.0285\n",
      "Epoch 4/10000\n",
      "2296/2296 [==============================] - 75s 33ms/step - loss: 3.0285\n",
      "Epoch 5/10000\n",
      "2296/2296 [==============================] - 75s 33ms/step - loss: 3.0285\n",
      "Epoch 6/10000\n",
      "2296/2296 [==============================] - 75s 33ms/step - loss: 3.0285\n",
      "Epoch 7/10000\n",
      "2296/2296 [==============================] - 75s 33ms/step - loss: 3.0285\n",
      "Epoch 8/10000\n",
      "2296/2296 [==============================] - 75s 33ms/step - loss: 3.0284\n",
      "Epoch 9/10000\n",
      "2296/2296 [==============================] - 75s 33ms/step - loss: 3.0285\n",
      "Epoch 10/10000\n",
      "2296/2296 [==============================] - 81s 35ms/step - loss: 3.0285 - val_loss: 1.1695\n",
      "Epoch 11/10000\n",
      "2296/2296 [==============================] - 74s 32ms/step - loss: 3.0285\n",
      "[0.00187391]\n",
      "[0.01798975]\n",
      "[0.03353526]\n",
      "\n",
      "[0.00232291]\n",
      "[0.01781465]\n",
      "[0.03285143]\n",
      "-12888.259420065258\n",
      "Epoch 12/10000\n",
      "2296/2296 [==============================] - 74s 32ms/step - loss: 3.0285\n",
      "Epoch 13/10000\n",
      "2296/2296 [==============================] - 74s 32ms/step - loss: 3.0285\n",
      "Epoch 14/10000\n",
      "2296/2296 [==============================] - 74s 32ms/step - loss: 3.0285\n",
      "Epoch 15/10000\n",
      "2296/2296 [==============================] - 74s 32ms/step - loss: 3.0284\n",
      "Epoch 16/10000\n",
      "2296/2296 [==============================] - 74s 32ms/step - loss: 3.0285\n",
      "Epoch 17/10000\n",
      "2296/2296 [==============================] - 74s 32ms/step - loss: 3.0283\n",
      "Epoch 18/10000\n",
      "2296/2296 [==============================] - 74s 32ms/step - loss: 3.0285\n",
      "Epoch 19/10000\n",
      "2296/2296 [==============================] - 74s 32ms/step - loss: 3.0285\n",
      "Epoch 20/10000\n",
      "2296/2296 [==============================] - 80s 35ms/step - loss: 3.0285 - val_loss: 1.1699\n",
      "Epoch 21/10000\n",
      "2296/2296 [==============================] - 74s 32ms/step - loss: 3.0285\n",
      "[0.0001111]\n",
      "[0.01493981]\n",
      "[0.02720186]\n",
      "\n",
      "[0.00047381]\n",
      "[0.01473677]\n",
      "[0.02697002]\n",
      "-12888.259420065258\n",
      "Epoch 22/10000\n",
      "2296/2296 [==============================] - 76s 33ms/step - loss: 3.0285\n",
      "Epoch 23/10000\n",
      "2296/2296 [==============================] - 75s 33ms/step - loss: 3.0286\n",
      "Epoch 24/10000\n",
      "2296/2296 [==============================] - 76s 33ms/step - loss: 3.0285\n",
      "Epoch 25/10000\n",
      "2296/2296 [==============================] - 76s 33ms/step - loss: 3.0286\n",
      "Epoch 26/10000\n",
      "2296/2296 [==============================] - 77s 33ms/step - loss: 3.0285\n",
      "Epoch 27/10000\n",
      "2296/2296 [==============================] - 77s 34ms/step - loss: 3.0285\n",
      "Epoch 28/10000\n",
      "2296/2296 [==============================] - 77s 33ms/step - loss: 3.0285\n",
      "Epoch 29/10000\n",
      "2296/2296 [==============================] - 77s 33ms/step - loss: 3.0286\n",
      "Epoch 30/10000\n",
      "2296/2296 [==============================] - 83s 36ms/step - loss: 3.0285 - val_loss: 1.1692\n",
      "Epoch 31/10000\n",
      "2296/2296 [==============================] - 76s 33ms/step - loss: 3.0285\n",
      "[0.00174612]\n",
      "[0.02137207]\n",
      "[0.0361818]\n",
      "\n",
      "[0.00226304]\n",
      "[0.02112531]\n",
      "[0.03596343]\n",
      "-12888.259420065258\n",
      "Epoch 32/10000\n",
      "2296/2296 [==============================] - 75s 33ms/step - loss: 3.0285\n",
      "Epoch 33/10000\n",
      "2296/2296 [==============================] - 75s 33ms/step - loss: 3.0285\n",
      "Epoch 34/10000\n",
      "2296/2296 [==============================] - 75s 33ms/step - loss: 3.0284\n",
      "Epoch 35/10000\n",
      "2296/2296 [==============================] - 75s 33ms/step - loss: 3.0285\n",
      "Epoch 36/10000\n",
      "2296/2296 [==============================] - 75s 33ms/step - loss: 3.0285\n",
      "Epoch 37/10000\n",
      "2296/2296 [==============================] - 75s 33ms/step - loss: 3.0283\n",
      "Epoch 38/10000\n",
      "2296/2296 [==============================] - 76s 33ms/step - loss: 3.0285\n",
      "Epoch 39/10000\n",
      "2296/2296 [==============================] - 76s 33ms/step - loss: 3.0285\n",
      "Epoch 40/10000\n",
      "2296/2296 [==============================] - 82s 36ms/step - loss: 3.0285 - val_loss: 1.1697\n",
      "Epoch 41/10000\n",
      "2296/2296 [==============================] - 75s 33ms/step - loss: 3.0285\n",
      "[-0.01042922]\n",
      "[-0.00261076]\n",
      "[0.00469305]\n",
      "\n",
      "[-0.00989151]\n",
      "[-0.00259556]\n",
      "[0.00431485]\n",
      "-11633.14696948536\n",
      "Epoch 42/10000\n",
      "2296/2296 [==============================] - 75s 33ms/step - loss: 3.0285\n",
      "Epoch 43/10000\n",
      "2296/2296 [==============================] - 76s 33ms/step - loss: 3.0285\n",
      "Epoch 44/10000\n",
      "2296/2296 [==============================] - 75s 33ms/step - loss: 3.0285\n",
      "Epoch 45/10000\n",
      "2296/2296 [==============================] - 76s 33ms/step - loss: 3.0284\n",
      "Epoch 46/10000\n",
      "2296/2296 [==============================] - 77s 33ms/step - loss: 3.0285\n",
      "Epoch 47/10000\n",
      "2296/2296 [==============================] - 77s 33ms/step - loss: 3.0285\n",
      "Epoch 48/10000\n",
      "2296/2296 [==============================] - 76s 33ms/step - loss: 3.0284\n",
      "Epoch 49/10000\n",
      "2296/2296 [==============================] - 76s 33ms/step - loss: 3.0285\n",
      "Epoch 50/10000\n",
      "2296/2296 [==============================] - 83s 36ms/step - loss: 3.0284 - val_loss: 1.1695\n",
      "Epoch 51/10000\n",
      "2296/2296 [==============================] - 75s 33ms/step - loss: 3.0285\n",
      "[-0.00298663]\n",
      "[0.01068501]\n",
      "[0.01959323]\n",
      "\n",
      "[-0.00249837]\n",
      "[0.01055886]\n",
      "[0.01845063]\n",
      "-11287.208955956414\n",
      "Epoch 52/10000\n",
      "2296/2296 [==============================] - 76s 33ms/step - loss: 3.0285\n",
      "Epoch 53/10000\n",
      "2296/2296 [==============================] - 76s 33ms/step - loss: 3.0285\n",
      "Epoch 54/10000\n",
      "2296/2296 [==============================] - 76s 33ms/step - loss: 3.0284\n",
      "Epoch 55/10000\n",
      "2296/2296 [==============================] - 76s 33ms/step - loss: 3.0285\n",
      "Epoch 56/10000\n",
      "2296/2296 [==============================] - 76s 33ms/step - loss: 3.0285\n",
      "Epoch 57/10000\n",
      "2296/2296 [==============================] - 77s 34ms/step - loss: 3.0284\n",
      "Epoch 58/10000\n",
      "2296/2296 [==============================] - 77s 34ms/step - loss: 3.0285\n",
      "Epoch 59/10000\n",
      "2296/2296 [==============================] - 78s 34ms/step - loss: 3.0284\n",
      "Epoch 60/10000\n",
      "2296/2296 [==============================] - 84s 36ms/step - loss: 3.0285 - val_loss: 1.1694\n",
      "Epoch 61/10000\n",
      "2296/2296 [==============================] - 76s 33ms/step - loss: 3.0284\n",
      "[-0.00094827]\n",
      "[0.01360391]\n",
      "[0.0215668]\n",
      "\n",
      "[-0.00038338]\n",
      "[0.01347064]\n",
      "[0.02150737]\n",
      "-12292.914496701256\n",
      "Epoch 62/10000\n",
      "2296/2296 [==============================] - 75s 33ms/step - loss: 3.0284\n",
      "Epoch 63/10000\n",
      "2296/2296 [==============================] - 75s 33ms/step - loss: 3.0284\n",
      "Epoch 64/10000\n",
      "2296/2296 [==============================] - 75s 33ms/step - loss: 3.0285\n",
      "Epoch 65/10000\n",
      "2296/2296 [==============================] - 76s 33ms/step - loss: 3.0285\n",
      "Epoch 66/10000\n",
      "2296/2296 [==============================] - 76s 33ms/step - loss: 3.0285\n",
      "Epoch 67/10000\n",
      "2296/2296 [==============================] - 76s 33ms/step - loss: 3.0285\n",
      "Epoch 68/10000\n",
      "2296/2296 [==============================] - 77s 33ms/step - loss: 3.0285\n",
      "Epoch 69/10000\n",
      "2296/2296 [==============================] - 77s 34ms/step - loss: 3.0284\n",
      "Epoch 70/10000\n",
      "2296/2296 [==============================] - 83s 36ms/step - loss: 3.0284 - val_loss: 1.1692\n",
      "Epoch 71/10000\n",
      "2296/2296 [==============================] - 76s 33ms/step - loss: 3.0284\n",
      "[-0.00822289]\n",
      "[-0.00114237]\n",
      "[0.00459458]\n",
      "\n",
      "[-0.00765468]\n",
      "[-0.00115448]\n",
      "[0.00457942]\n",
      "-8034.148599350997\n",
      "Epoch 72/10000\n",
      "2296/2296 [==============================] - 76s 33ms/step - loss: 3.0284\n",
      "Epoch 73/10000\n",
      "2296/2296 [==============================] - 77s 33ms/step - loss: 3.0284\n",
      "Epoch 74/10000\n",
      "2296/2296 [==============================] - 77s 33ms/step - loss: 3.0285\n",
      "Epoch 75/10000\n",
      "2296/2296 [==============================] - 77s 33ms/step - loss: 3.0284\n",
      "Epoch 76/10000\n",
      "2296/2296 [==============================] - 77s 33ms/step - loss: 3.0285\n",
      "Epoch 77/10000\n",
      "2296/2296 [==============================] - 77s 34ms/step - loss: 3.0285\n",
      "Epoch 78/10000\n",
      "2296/2296 [==============================] - 78s 34ms/step - loss: 3.0284\n",
      "Epoch 79/10000\n",
      "2296/2296 [==============================] - 78s 34ms/step - loss: 3.0284\n",
      "Epoch 80/10000\n",
      "2296/2296 [==============================] - 84s 37ms/step - loss: 3.0285 - val_loss: 1.1695\n",
      "Epoch 81/10000\n",
      "2296/2296 [==============================] - 76s 33ms/step - loss: 3.0285\n",
      "[-0.00462092]\n",
      "[0.00575495]\n",
      "[0.010339]\n",
      "\n"
     ]
    },
    {
     "name": "stdout",
     "output_type": "stream",
     "text": [
      "[-0.00414993]\n",
      "[0.00567886]\n",
      "[0.01036614]\n",
      "-9057.775564861988\n",
      "Epoch 82/10000\n",
      "2296/2296 [==============================] - 76s 33ms/step - loss: 3.0285 0s - loss: 3.029\n",
      "Epoch 83/10000\n",
      "2296/2296 [==============================] - 75s 33ms/step - loss: 3.0284\n",
      "Epoch 84/10000\n",
      "2296/2296 [==============================] - 76s 33ms/step - loss: 3.0284\n",
      "Epoch 85/10000\n",
      "2296/2296 [==============================] - 77s 34ms/step - loss: 3.0285\n",
      "Epoch 86/10000\n",
      "2296/2296 [==============================] - 77s 33ms/step - loss: 3.0284\n",
      "Epoch 87/10000\n",
      "2296/2296 [==============================] - 77s 33ms/step - loss: 3.0285\n",
      "Epoch 88/10000\n",
      "2296/2296 [==============================] - 77s 34ms/step - loss: 3.0284\n",
      "Epoch 89/10000\n",
      "2296/2296 [==============================] - 77s 34ms/step - loss: 3.0284\n",
      "Epoch 90/10000\n",
      "2296/2296 [==============================] - 83s 36ms/step - loss: 3.0284 - val_loss: 1.1698\n",
      "Epoch 91/10000\n",
      "2296/2296 [==============================] - 77s 33ms/step - loss: 3.0284\n",
      "[-0.00082634]\n",
      "[0.00991267]\n",
      "[0.01541931]\n",
      "\n",
      "[-0.00037796]\n",
      "[0.00982388]\n",
      "[0.01536296]\n",
      "-12299.333774930567\n",
      "Epoch 92/10000\n",
      "2296/2296 [==============================] - 76s 33ms/step - loss: 3.0284\n",
      "Epoch 93/10000\n",
      "2296/2296 [==============================] - 77s 34ms/step - loss: 3.0284\n",
      "Epoch 94/10000\n",
      "2296/2296 [==============================] - 76s 33ms/step - loss: 3.0284\n",
      "Epoch 95/10000\n",
      "2296/2296 [==============================] - 76s 33ms/step - loss: 3.0284\n",
      "Epoch 96/10000\n",
      "2296/2296 [==============================] - 77s 33ms/step - loss: 3.0284\n",
      "Epoch 97/10000\n",
      "2296/2296 [==============================] - 77s 33ms/step - loss: 3.0284\n",
      "Epoch 98/10000\n",
      "2296/2296 [==============================] - 77s 33ms/step - loss: 3.0285\n",
      "Epoch 99/10000\n",
      "2296/2296 [==============================] - 77s 34ms/step - loss: 3.0284\n",
      "Epoch 100/10000\n",
      "2296/2296 [==============================] - 84s 36ms/step - loss: 3.0284 - val_loss: 1.1693\n",
      "Epoch 101/10000\n",
      "2296/2296 [==============================] - 77s 34ms/step - loss: 3.0284\n",
      "[-0.00406505]\n",
      "[0.00230862]\n",
      "[0.00497368]\n",
      "\n",
      "[-0.00371052]\n",
      "[0.00228305]\n",
      "[0.00500437]\n",
      "-8410.618855176737\n",
      "Epoch 102/10000\n",
      "2296/2296 [==============================] - 76s 33ms/step - loss: 3.0284\n",
      "Epoch 103/10000\n",
      "2296/2296 [==============================] - 76s 33ms/step - loss: 3.0284\n",
      "Epoch 104/10000\n",
      "2296/2296 [==============================] - 76s 33ms/step - loss: 3.0285\n",
      "Epoch 105/10000\n",
      "2296/2296 [==============================] - 77s 33ms/step - loss: 3.0283\n",
      "Epoch 106/10000\n",
      "2296/2296 [==============================] - 76s 33ms/step - loss: 3.0284\n",
      "Epoch 107/10000\n",
      "2296/2296 [==============================] - 76s 33ms/step - loss: 3.0285\n",
      "Epoch 108/10000\n",
      "2296/2296 [==============================] - 76s 33ms/step - loss: 3.0284\n",
      "Epoch 109/10000\n",
      "2296/2296 [==============================] - 77s 33ms/step - loss: 3.0284\n",
      "Epoch 110/10000\n",
      "2296/2296 [==============================] - 83s 36ms/step - loss: 3.0285 - val_loss: 1.1697\n",
      "Epoch 111/10000\n",
      "2296/2296 [==============================] - 76s 33ms/step - loss: 3.0284\n",
      "[-0.0088347]\n",
      "[0.00187614]\n",
      "[0.00947438]\n",
      "\n",
      "[-0.00769002]\n",
      "[0.00183437]\n",
      "[0.00828407]\n",
      "-6206.833920506434\n",
      "Epoch 112/10000\n",
      "2296/2296 [==============================] - 76s 33ms/step - loss: 3.0284\n",
      "Epoch 113/10000\n",
      "2296/2296 [==============================] - 77s 33ms/step - loss: 3.0284\n",
      "Epoch 114/10000\n",
      "2296/2296 [==============================] - 77s 34ms/step - loss: 3.0284\n",
      "Epoch 115/10000\n",
      "2296/2296 [==============================] - 77s 34ms/step - loss: 3.0285\n",
      "Epoch 116/10000\n",
      "2296/2296 [==============================] - 78s 34ms/step - loss: 3.0284\n",
      "Epoch 117/10000\n",
      "2296/2296 [==============================] - 77s 34ms/step - loss: 3.0284\n",
      "Epoch 118/10000\n",
      "2296/2296 [==============================] - 78s 34ms/step - loss: 3.0284\n",
      "Epoch 119/10000\n",
      "2296/2296 [==============================] - 77s 34ms/step - loss: 3.0284\n",
      "Epoch 120/10000\n",
      "2296/2296 [==============================] - 83s 36ms/step - loss: 3.0284 - val_loss: 1.1695\n",
      "Epoch 121/10000\n",
      "2296/2296 [==============================] - 76s 33ms/step - loss: 3.0284\n",
      "[-0.00126287]\n",
      "[0.01398758]\n",
      "[0.02204884]\n",
      "\n",
      "[-0.00057976]\n",
      "[0.01384987]\n",
      "[0.02195912]\n",
      "-12302.52949781468\n",
      "Epoch 122/10000\n",
      "2296/2296 [==============================] - 76s 33ms/step - loss: 3.0284\n",
      "Epoch 123/10000\n",
      "2296/2296 [==============================] - 76s 33ms/step - loss: 3.0284\n",
      "Epoch 124/10000\n",
      "2296/2296 [==============================] - 76s 33ms/step - loss: 3.0284\n",
      "Epoch 125/10000\n",
      "2296/2296 [==============================] - 79s 34ms/step - loss: 3.0284\n",
      "Epoch 126/10000\n",
      "2296/2296 [==============================] - 76s 33ms/step - loss: 3.0284\n",
      "Epoch 127/10000\n",
      "2296/2296 [==============================] - 77s 33ms/step - loss: 3.0284\n",
      "Epoch 128/10000\n",
      "2296/2296 [==============================] - 77s 33ms/step - loss: 3.0284\n",
      "Epoch 129/10000\n",
      "2296/2296 [==============================] - 76s 33ms/step - loss: 3.0284\n",
      "Epoch 130/10000\n",
      "2296/2296 [==============================] - 82s 36ms/step - loss: 3.0284 - val_loss: 1.1694\n",
      "Epoch 131/10000\n",
      "2296/2296 [==============================] - 75s 32ms/step - loss: 3.0284\n",
      "[-0.00518518]\n",
      "[0.00577691]\n",
      "[0.01263151]\n",
      "\n",
      "[-0.00471369]\n",
      "[0.00566479]\n",
      "[0.01251084]\n",
      "-8336.698243344934\n",
      "Epoch 132/10000\n",
      "2296/2296 [==============================] - 76s 33ms/step - loss: 3.0284\n",
      "Epoch 133/10000\n",
      "2296/2296 [==============================] - 76s 33ms/step - loss: 3.0284\n",
      "Epoch 134/10000\n",
      "2296/2296 [==============================] - 77s 33ms/step - loss: 3.0284\n",
      "Epoch 135/10000\n",
      "2296/2296 [==============================] - 77s 34ms/step - loss: 3.0284\n",
      "Epoch 136/10000\n",
      "2296/2296 [==============================] - 77s 34ms/step - loss: 3.0284\n",
      "Epoch 137/10000\n",
      "2296/2296 [==============================] - 78s 34ms/step - loss: 3.0284\n",
      "Epoch 138/10000\n",
      "2296/2296 [==============================] - 77s 34ms/step - loss: 3.0284\n",
      "Epoch 139/10000\n",
      "2296/2296 [==============================] - 78s 34ms/step - loss: 3.0284\n",
      "Epoch 140/10000\n",
      "2296/2296 [==============================] - 84s 36ms/step - loss: 3.0284 - val_loss: 1.1698\n",
      "Epoch 141/10000\n",
      "2296/2296 [==============================] - 77s 33ms/step - loss: 3.0283\n",
      "[-0.02232637]\n",
      "[-0.01075837]\n",
      "[0.00110805]\n",
      "\n",
      "[-0.02158814]\n",
      "[-0.01065198]\n",
      "[0.00098408]\n",
      "-11758.654368724565\n",
      "Epoch 142/10000\n",
      "2296/2296 [==============================] - 76s 33ms/step - loss: 3.0285\n",
      "Epoch 143/10000\n",
      "2296/2296 [==============================] - 77s 34ms/step - loss: 3.0284\n",
      "Epoch 144/10000\n",
      "2296/2296 [==============================] - 77s 33ms/step - loss: 3.0283\n",
      "Epoch 145/10000\n",
      "2296/2296 [==============================] - 77s 34ms/step - loss: 3.0284\n",
      "Epoch 146/10000\n",
      "2296/2296 [==============================] - 77s 34ms/step - loss: 3.0284\n",
      "Epoch 147/10000\n",
      "2296/2296 [==============================] - 77s 34ms/step - loss: 3.0283\n",
      "Epoch 148/10000\n",
      "2296/2296 [==============================] - 77s 34ms/step - loss: 3.0284\n",
      "Epoch 149/10000\n",
      "2296/2296 [==============================] - 78s 34ms/step - loss: 3.0284\n",
      "Epoch 150/10000\n",
      "2296/2296 [==============================] - 84s 37ms/step - loss: 3.0284 - val_loss: 1.1694\n",
      "Epoch 151/10000\n",
      "2296/2296 [==============================] - 77s 33ms/step - loss: 3.0284\n",
      "[-0.00213911]\n",
      "[0.00876898]\n",
      "[0.01416293]\n",
      "\n",
      "[-0.00154792]\n",
      "[0.00867878]\n",
      "[0.01407276]\n",
      "-11654.21070538317\n",
      "Epoch 152/10000\n",
      "2296/2296 [==============================] - 76s 33ms/step - loss: 3.0283\n",
      "Epoch 153/10000\n",
      "2296/2296 [==============================] - 76s 33ms/step - loss: 3.0284\n",
      "Epoch 154/10000\n",
      "2296/2296 [==============================] - 77s 33ms/step - loss: 3.0284\n",
      "Epoch 155/10000\n",
      "2296/2296 [==============================] - 77s 33ms/step - loss: 3.0284\n",
      "Epoch 156/10000\n",
      "2296/2296 [==============================] - 77s 34ms/step - loss: 3.0283\n",
      "Epoch 157/10000\n",
      "2296/2296 [==============================] - 78s 34ms/step - loss: 3.0281\n",
      "Epoch 158/10000\n",
      "2296/2296 [==============================] - 78s 34ms/step - loss: 3.0284\n",
      "Epoch 159/10000\n",
      "2296/2296 [==============================] - 78s 34ms/step - loss: 3.0284\n",
      "Epoch 160/10000\n",
      "2296/2296 [==============================] - 84s 37ms/step - loss: 3.0284 - val_loss: 1.1695\n",
      "Epoch 161/10000\n",
      "2296/2296 [==============================] - 77s 33ms/step - loss: 3.0284\n",
      "[-0.00612317]\n",
      "[0.01209057]\n",
      "[0.02191161]\n",
      "\n",
      "[-0.00496877]\n",
      "[0.01197196]\n",
      "[0.02167181]\n",
      "-11183.311915138196\n",
      "Epoch 162/10000\n"
     ]
    },
    {
     "name": "stdout",
     "output_type": "stream",
     "text": [
      "2296/2296 [==============================] - 76s 33ms/step - loss: 3.0284\n",
      "Epoch 163/10000\n",
      "2296/2296 [==============================] - 77s 33ms/step - loss: 3.0284\n",
      "Epoch 164/10000\n",
      "2296/2296 [==============================] - 77s 34ms/step - loss: 3.0283\n",
      "Epoch 165/10000\n",
      "2296/2296 [==============================] - 77s 33ms/step - loss: 3.0284\n",
      "Epoch 166/10000\n",
      "2296/2296 [==============================] - 77s 34ms/step - loss: 3.0284\n",
      "Epoch 167/10000\n",
      "2296/2296 [==============================] - 77s 33ms/step - loss: 3.0284\n",
      "Epoch 168/10000\n",
      "2296/2296 [==============================] - 78s 34ms/step - loss: 3.0283\n",
      "Epoch 169/10000\n",
      "2296/2296 [==============================] - 78s 34ms/step - loss: 3.0284\n",
      "Epoch 170/10000\n",
      "2296/2296 [==============================] - 84s 36ms/step - loss: 3.0284 - val_loss: 1.1694\n",
      "Epoch 171/10000\n",
      "2296/2296 [==============================] - 79s 34ms/step - loss: 3.0284\n",
      "[-0.00464529]\n",
      "[0.00537883]\n",
      "[0.00906332]\n",
      "\n",
      "[-0.0039507]\n",
      "[0.00531904]\n",
      "[0.00900529]\n",
      "-9916.323380202752\n",
      "Epoch 172/10000\n",
      "2296/2296 [==============================] - 77s 33ms/step - loss: 3.0284\n",
      "Epoch 173/10000\n",
      "2296/2296 [==============================] - 77s 33ms/step - loss: 3.0284\n",
      "Epoch 174/10000\n",
      "2296/2296 [==============================] - 77s 34ms/step - loss: 3.0283\n",
      "Epoch 175/10000\n",
      "2296/2296 [==============================] - 77s 33ms/step - loss: 3.0284\n",
      "Epoch 176/10000\n",
      "2296/2296 [==============================] - 77s 34ms/step - loss: 3.0284\n",
      "Epoch 177/10000\n",
      "2296/2296 [==============================] - 77s 34ms/step - loss: 3.0284\n",
      "Epoch 178/10000\n",
      "2296/2296 [==============================] - 78s 34ms/step - loss: 3.0283\n",
      "Epoch 179/10000\n",
      "2296/2296 [==============================] - 78s 34ms/step - loss: 3.0284\n",
      "Epoch 180/10000\n",
      "2296/2296 [==============================] - 84s 37ms/step - loss: 3.0284 - val_loss: 1.1700\n",
      "Epoch 181/10000\n",
      "2296/2296 [==============================] - 76s 33ms/step - loss: 3.0284\n",
      "[-0.01073974]\n",
      "[-0.00017611]\n",
      "[0.00438268]\n",
      "\n",
      "[-0.00852832]\n",
      "[-0.00018486]\n",
      "[0.0041477]\n",
      "-4526.564173969533\n",
      "Epoch 182/10000\n",
      "2296/2296 [==============================] - 76s 33ms/step - loss: 3.0284\n",
      "Epoch 183/10000\n",
      "2296/2296 [==============================] - 76s 33ms/step - loss: 3.0283\n",
      "Epoch 184/10000\n",
      "2296/2296 [==============================] - 77s 33ms/step - loss: 3.0284\n",
      "Epoch 185/10000\n",
      "2296/2296 [==============================] - 76s 33ms/step - loss: 3.0284\n",
      "Epoch 186/10000\n",
      "2296/2296 [==============================] - 78s 34ms/step - loss: 3.0284\n",
      "Epoch 187/10000\n",
      "2296/2296 [==============================] - 77s 33ms/step - loss: 3.0284\n",
      "Epoch 188/10000\n",
      "2296/2296 [==============================] - 77s 33ms/step - loss: 3.0284\n",
      "Epoch 189/10000\n",
      "2296/2296 [==============================] - 76s 33ms/step - loss: 3.0284\n",
      "Epoch 190/10000\n",
      "2296/2296 [==============================] - 83s 36ms/step - loss: 3.0284 - val_loss: 1.1695\n",
      "Epoch 191/10000\n",
      "2296/2296 [==============================] - 76s 33ms/step - loss: 3.0283\n",
      "[-0.00264819]\n",
      "[0.02106531]\n",
      "[0.03170856]\n",
      "\n",
      "[-0.00057983]\n",
      "[0.0208879]\n",
      "[0.03102481]\n",
      "-12317.24882639383\n",
      "Epoch 192/10000\n",
      "2296/2296 [==============================] - 75s 33ms/step - loss: 3.0284\n",
      "Epoch 193/10000\n",
      "2296/2296 [==============================] - 76s 33ms/step - loss: 3.0284\n",
      "Epoch 194/10000\n",
      "2296/2296 [==============================] - 75s 33ms/step - loss: 3.0284\n",
      "Epoch 195/10000\n",
      "2296/2296 [==============================] - 76s 33ms/step - loss: 3.0284\n",
      "Epoch 196/10000\n",
      "2296/2296 [==============================] - 76s 33ms/step - loss: 3.0283\n",
      "Epoch 197/10000\n",
      "2296/2296 [==============================] - 76s 33ms/step - loss: 3.0284\n",
      "Epoch 198/10000\n",
      "2296/2296 [==============================] - 76s 33ms/step - loss: 3.0284\n",
      "Epoch 199/10000\n",
      "2296/2296 [==============================] - 76s 33ms/step - loss: 3.0284\n",
      "Epoch 200/10000\n",
      "2296/2296 [==============================] - 83s 36ms/step - loss: 3.0284 - val_loss: 1.1697\n",
      "Epoch 201/10000\n",
      "2296/2296 [==============================] - 76s 33ms/step - loss: 3.0284\n",
      "[-0.0086333]\n",
      "[-1.4564755e-05]\n",
      "[0.00382602]\n",
      "\n",
      "[-0.00691459]\n",
      "[-1.2484299e-05]\n",
      "[0.00360409]\n",
      "-5035.12455302781\n",
      "Epoch 202/10000\n",
      "2296/2296 [==============================] - 75s 33ms/step - loss: 3.0283\n",
      "Epoch 203/10000\n",
      "2296/2296 [==============================] - 75s 33ms/step - loss: 3.0284\n",
      "Epoch 204/10000\n",
      "2296/2296 [==============================] - 76s 33ms/step - loss: 3.0284\n",
      "Epoch 205/10000\n",
      "2296/2296 [==============================] - 76s 33ms/step - loss: 3.0284\n",
      "Epoch 206/10000\n",
      "2296/2296 [==============================] - 76s 33ms/step - loss: 3.0284\n",
      "Epoch 207/10000\n",
      "2296/2296 [==============================] - 76s 33ms/step - loss: 3.0284\n",
      "Epoch 208/10000\n",
      "2296/2296 [==============================] - 76s 33ms/step - loss: 3.0283\n",
      "Epoch 209/10000\n",
      "2296/2296 [==============================] - 77s 33ms/step - loss: 3.0284\n",
      "Epoch 210/10000\n",
      "2296/2296 [==============================] - 83s 36ms/step - loss: 3.0284 - val_loss: 1.1696\n",
      "Epoch 211/10000\n",
      "2296/2296 [==============================] - 75s 33ms/step - loss: 3.0284\n",
      "[-0.01166136]\n",
      "[0.00178355]\n",
      "[0.00754274]\n",
      "\n",
      "[-0.01050756]\n",
      "[0.00173298]\n",
      "[0.00714022]\n",
      "-5711.862979993711\n",
      "Epoch 212/10000\n",
      "2296/2296 [==============================] - 75s 33ms/step - loss: 3.0284\n",
      "Epoch 213/10000\n",
      "2296/2296 [==============================] - 75s 33ms/step - loss: 3.0284\n",
      "Epoch 214/10000\n",
      "2296/2296 [==============================] - 75s 33ms/step - loss: 3.0284\n",
      "Epoch 215/10000\n",
      "2296/2296 [==============================] - 75s 33ms/step - loss: 3.0283\n",
      "Epoch 216/10000\n",
      "2296/2296 [==============================] - 76s 33ms/step - loss: 3.0284\n",
      "Epoch 217/10000\n",
      "2296/2296 [==============================] - 76s 33ms/step - loss: 3.0284\n",
      "Epoch 218/10000\n",
      "2296/2296 [==============================] - 76s 33ms/step - loss: 3.0284\n",
      "Epoch 219/10000\n",
      "2296/2296 [==============================] - 76s 33ms/step - loss: 3.0283\n",
      "Epoch 220/10000\n",
      "2296/2296 [==============================] - 82s 36ms/step - loss: 3.0284 - val_loss: 1.1697\n",
      "Epoch 221/10000\n",
      "2296/2296 [==============================] - 75s 33ms/step - loss: 3.0283\n",
      "[-0.00182578]\n",
      "[0.01121337]\n",
      "[0.01769102]\n",
      "\n",
      "[-0.00089968]\n",
      "[0.01111831]\n",
      "[0.01682644]\n",
      "-12331.08942447361\n",
      "Epoch 222/10000\n",
      "2296/2296 [==============================] - 76s 33ms/step - loss: 3.0284\n",
      "Epoch 223/10000\n",
      "2296/2296 [==============================] - 76s 33ms/step - loss: 3.0284\n",
      "Epoch 224/10000\n",
      "1500/2296 [==================>...........] - ETA: 26s - loss: 3.2712"
     ]
    },
    {
     "ename": "KeyboardInterrupt",
     "evalue": "",
     "output_type": "error",
     "traceback": [
      "\u001b[1;31m---------------------------------------------------------------------------\u001b[0m",
      "\u001b[1;31mKeyboardInterrupt\u001b[0m                         Traceback (most recent call last)",
      "\u001b[1;32m<ipython-input-123-85db351bd5b7>\u001b[0m in \u001b[0;36m<module>\u001b[1;34m\u001b[0m\n\u001b[0;32m      8\u001b[0m     \u001b[0muse_multiprocessing\u001b[0m\u001b[1;33m=\u001b[0m\u001b[1;32mTrue\u001b[0m\u001b[1;33m,\u001b[0m \u001b[0mverbose\u001b[0m\u001b[1;33m=\u001b[0m\u001b[1;36m1\u001b[0m\u001b[1;33m,\u001b[0m\u001b[1;33m\u001b[0m\u001b[1;33m\u001b[0m\u001b[0m\n\u001b[0;32m      9\u001b[0m     \u001b[0mvalidation_freq\u001b[0m\u001b[1;33m=\u001b[0m\u001b[1;36m10\u001b[0m\u001b[1;33m,\u001b[0m\u001b[1;33m\u001b[0m\u001b[1;33m\u001b[0m\u001b[0m\n\u001b[1;32m---> 10\u001b[1;33m     \u001b[0mworkers\u001b[0m\u001b[1;33m=\u001b[0m\u001b[1;36m32\u001b[0m\u001b[1;33m,\u001b[0m\u001b[1;33m\u001b[0m\u001b[1;33m\u001b[0m\u001b[0m\n\u001b[0m\u001b[0;32m     11\u001b[0m \u001b[1;31m#     initial_epoch=model.history.epoch[-1],\u001b[0m\u001b[1;33m\u001b[0m\u001b[1;33m\u001b[0m\u001b[1;33m\u001b[0m\u001b[0m\n\u001b[0;32m     12\u001b[0m )\n",
      "\u001b[1;32m~\\AppData\\Roaming\\Python\\Python37\\site-packages\\tensorflow\\python\\keras\\engine\\training.py\u001b[0m in \u001b[0;36mfit\u001b[1;34m(self, x, y, batch_size, epochs, verbose, callbacks, validation_split, validation_data, shuffle, class_weight, sample_weight, initial_epoch, steps_per_epoch, validation_steps, validation_batch_size, validation_freq, max_queue_size, workers, use_multiprocessing)\u001b[0m\n\u001b[0;32m   1098\u001b[0m                 _r=1):\n\u001b[0;32m   1099\u001b[0m               \u001b[0mcallbacks\u001b[0m\u001b[1;33m.\u001b[0m\u001b[0mon_train_batch_begin\u001b[0m\u001b[1;33m(\u001b[0m\u001b[0mstep\u001b[0m\u001b[1;33m)\u001b[0m\u001b[1;33m\u001b[0m\u001b[1;33m\u001b[0m\u001b[0m\n\u001b[1;32m-> 1100\u001b[1;33m               \u001b[0mtmp_logs\u001b[0m \u001b[1;33m=\u001b[0m \u001b[0mself\u001b[0m\u001b[1;33m.\u001b[0m\u001b[0mtrain_function\u001b[0m\u001b[1;33m(\u001b[0m\u001b[0miterator\u001b[0m\u001b[1;33m)\u001b[0m\u001b[1;33m\u001b[0m\u001b[1;33m\u001b[0m\u001b[0m\n\u001b[0m\u001b[0;32m   1101\u001b[0m               \u001b[1;32mif\u001b[0m \u001b[0mdata_handler\u001b[0m\u001b[1;33m.\u001b[0m\u001b[0mshould_sync\u001b[0m\u001b[1;33m:\u001b[0m\u001b[1;33m\u001b[0m\u001b[1;33m\u001b[0m\u001b[0m\n\u001b[0;32m   1102\u001b[0m                 \u001b[0mcontext\u001b[0m\u001b[1;33m.\u001b[0m\u001b[0masync_wait\u001b[0m\u001b[1;33m(\u001b[0m\u001b[1;33m)\u001b[0m\u001b[1;33m\u001b[0m\u001b[1;33m\u001b[0m\u001b[0m\n",
      "\u001b[1;32m~\\AppData\\Roaming\\Python\\Python37\\site-packages\\tensorflow\\python\\eager\\def_function.py\u001b[0m in \u001b[0;36m__call__\u001b[1;34m(self, *args, **kwds)\u001b[0m\n\u001b[0;32m    826\u001b[0m     \u001b[0mtracing_count\u001b[0m \u001b[1;33m=\u001b[0m \u001b[0mself\u001b[0m\u001b[1;33m.\u001b[0m\u001b[0mexperimental_get_tracing_count\u001b[0m\u001b[1;33m(\u001b[0m\u001b[1;33m)\u001b[0m\u001b[1;33m\u001b[0m\u001b[1;33m\u001b[0m\u001b[0m\n\u001b[0;32m    827\u001b[0m     \u001b[1;32mwith\u001b[0m \u001b[0mtrace\u001b[0m\u001b[1;33m.\u001b[0m\u001b[0mTrace\u001b[0m\u001b[1;33m(\u001b[0m\u001b[0mself\u001b[0m\u001b[1;33m.\u001b[0m\u001b[0m_name\u001b[0m\u001b[1;33m)\u001b[0m \u001b[1;32mas\u001b[0m \u001b[0mtm\u001b[0m\u001b[1;33m:\u001b[0m\u001b[1;33m\u001b[0m\u001b[1;33m\u001b[0m\u001b[0m\n\u001b[1;32m--> 828\u001b[1;33m       \u001b[0mresult\u001b[0m \u001b[1;33m=\u001b[0m \u001b[0mself\u001b[0m\u001b[1;33m.\u001b[0m\u001b[0m_call\u001b[0m\u001b[1;33m(\u001b[0m\u001b[1;33m*\u001b[0m\u001b[0margs\u001b[0m\u001b[1;33m,\u001b[0m \u001b[1;33m**\u001b[0m\u001b[0mkwds\u001b[0m\u001b[1;33m)\u001b[0m\u001b[1;33m\u001b[0m\u001b[1;33m\u001b[0m\u001b[0m\n\u001b[0m\u001b[0;32m    829\u001b[0m       \u001b[0mcompiler\u001b[0m \u001b[1;33m=\u001b[0m \u001b[1;34m\"xla\"\u001b[0m \u001b[1;32mif\u001b[0m \u001b[0mself\u001b[0m\u001b[1;33m.\u001b[0m\u001b[0m_experimental_compile\u001b[0m \u001b[1;32melse\u001b[0m \u001b[1;34m\"nonXla\"\u001b[0m\u001b[1;33m\u001b[0m\u001b[1;33m\u001b[0m\u001b[0m\n\u001b[0;32m    830\u001b[0m       \u001b[0mnew_tracing_count\u001b[0m \u001b[1;33m=\u001b[0m \u001b[0mself\u001b[0m\u001b[1;33m.\u001b[0m\u001b[0mexperimental_get_tracing_count\u001b[0m\u001b[1;33m(\u001b[0m\u001b[1;33m)\u001b[0m\u001b[1;33m\u001b[0m\u001b[1;33m\u001b[0m\u001b[0m\n",
      "\u001b[1;32m~\\AppData\\Roaming\\Python\\Python37\\site-packages\\tensorflow\\python\\eager\\def_function.py\u001b[0m in \u001b[0;36m_call\u001b[1;34m(self, *args, **kwds)\u001b[0m\n\u001b[0;32m    853\u001b[0m       \u001b[1;31m# In this case we have created variables on the first call, so we run the\u001b[0m\u001b[1;33m\u001b[0m\u001b[1;33m\u001b[0m\u001b[1;33m\u001b[0m\u001b[0m\n\u001b[0;32m    854\u001b[0m       \u001b[1;31m# defunned version which is guaranteed to never create variables.\u001b[0m\u001b[1;33m\u001b[0m\u001b[1;33m\u001b[0m\u001b[1;33m\u001b[0m\u001b[0m\n\u001b[1;32m--> 855\u001b[1;33m       \u001b[1;32mreturn\u001b[0m \u001b[0mself\u001b[0m\u001b[1;33m.\u001b[0m\u001b[0m_stateless_fn\u001b[0m\u001b[1;33m(\u001b[0m\u001b[1;33m*\u001b[0m\u001b[0margs\u001b[0m\u001b[1;33m,\u001b[0m \u001b[1;33m**\u001b[0m\u001b[0mkwds\u001b[0m\u001b[1;33m)\u001b[0m  \u001b[1;31m# pylint: disable=not-callable\u001b[0m\u001b[1;33m\u001b[0m\u001b[1;33m\u001b[0m\u001b[0m\n\u001b[0m\u001b[0;32m    856\u001b[0m     \u001b[1;32melif\u001b[0m \u001b[0mself\u001b[0m\u001b[1;33m.\u001b[0m\u001b[0m_stateful_fn\u001b[0m \u001b[1;32mis\u001b[0m \u001b[1;32mnot\u001b[0m \u001b[1;32mNone\u001b[0m\u001b[1;33m:\u001b[0m\u001b[1;33m\u001b[0m\u001b[1;33m\u001b[0m\u001b[0m\n\u001b[0;32m    857\u001b[0m       \u001b[1;31m# Release the lock early so that multiple threads can perform the call\u001b[0m\u001b[1;33m\u001b[0m\u001b[1;33m\u001b[0m\u001b[1;33m\u001b[0m\u001b[0m\n",
      "\u001b[1;32m~\\AppData\\Roaming\\Python\\Python37\\site-packages\\tensorflow\\python\\eager\\function.py\u001b[0m in \u001b[0;36m__call__\u001b[1;34m(self, *args, **kwargs)\u001b[0m\n\u001b[0;32m   2941\u001b[0m        filtered_flat_args) = self._maybe_define_function(args, kwargs)\n\u001b[0;32m   2942\u001b[0m     return graph_function._call_flat(\n\u001b[1;32m-> 2943\u001b[1;33m         filtered_flat_args, captured_inputs=graph_function.captured_inputs)  # pylint: disable=protected-access\n\u001b[0m\u001b[0;32m   2944\u001b[0m \u001b[1;33m\u001b[0m\u001b[0m\n\u001b[0;32m   2945\u001b[0m   \u001b[1;33m@\u001b[0m\u001b[0mproperty\u001b[0m\u001b[1;33m\u001b[0m\u001b[1;33m\u001b[0m\u001b[0m\n",
      "\u001b[1;32m~\\AppData\\Roaming\\Python\\Python37\\site-packages\\tensorflow\\python\\eager\\function.py\u001b[0m in \u001b[0;36m_call_flat\u001b[1;34m(self, args, captured_inputs, cancellation_manager)\u001b[0m\n\u001b[0;32m   1917\u001b[0m       \u001b[1;31m# No tape is watching; skip to running the function.\u001b[0m\u001b[1;33m\u001b[0m\u001b[1;33m\u001b[0m\u001b[1;33m\u001b[0m\u001b[0m\n\u001b[0;32m   1918\u001b[0m       return self._build_call_outputs(self._inference_function.call(\n\u001b[1;32m-> 1919\u001b[1;33m           ctx, args, cancellation_manager=cancellation_manager))\n\u001b[0m\u001b[0;32m   1920\u001b[0m     forward_backward = self._select_forward_and_backward_functions(\n\u001b[0;32m   1921\u001b[0m         \u001b[0margs\u001b[0m\u001b[1;33m,\u001b[0m\u001b[1;33m\u001b[0m\u001b[1;33m\u001b[0m\u001b[0m\n",
      "\u001b[1;32m~\\AppData\\Roaming\\Python\\Python37\\site-packages\\tensorflow\\python\\eager\\function.py\u001b[0m in \u001b[0;36mcall\u001b[1;34m(self, ctx, args, cancellation_manager)\u001b[0m\n\u001b[0;32m    558\u001b[0m               \u001b[0minputs\u001b[0m\u001b[1;33m=\u001b[0m\u001b[0margs\u001b[0m\u001b[1;33m,\u001b[0m\u001b[1;33m\u001b[0m\u001b[1;33m\u001b[0m\u001b[0m\n\u001b[0;32m    559\u001b[0m               \u001b[0mattrs\u001b[0m\u001b[1;33m=\u001b[0m\u001b[0mattrs\u001b[0m\u001b[1;33m,\u001b[0m\u001b[1;33m\u001b[0m\u001b[1;33m\u001b[0m\u001b[0m\n\u001b[1;32m--> 560\u001b[1;33m               ctx=ctx)\n\u001b[0m\u001b[0;32m    561\u001b[0m         \u001b[1;32melse\u001b[0m\u001b[1;33m:\u001b[0m\u001b[1;33m\u001b[0m\u001b[1;33m\u001b[0m\u001b[0m\n\u001b[0;32m    562\u001b[0m           outputs = execute.execute_with_cancellation(\n",
      "\u001b[1;32m~\\AppData\\Roaming\\Python\\Python37\\site-packages\\tensorflow\\python\\eager\\execute.py\u001b[0m in \u001b[0;36mquick_execute\u001b[1;34m(op_name, num_outputs, inputs, attrs, ctx, name)\u001b[0m\n\u001b[0;32m     58\u001b[0m     \u001b[0mctx\u001b[0m\u001b[1;33m.\u001b[0m\u001b[0mensure_initialized\u001b[0m\u001b[1;33m(\u001b[0m\u001b[1;33m)\u001b[0m\u001b[1;33m\u001b[0m\u001b[1;33m\u001b[0m\u001b[0m\n\u001b[0;32m     59\u001b[0m     tensors = pywrap_tfe.TFE_Py_Execute(ctx._handle, device_name, op_name,\n\u001b[1;32m---> 60\u001b[1;33m                                         inputs, attrs, num_outputs)\n\u001b[0m\u001b[0;32m     61\u001b[0m   \u001b[1;32mexcept\u001b[0m \u001b[0mcore\u001b[0m\u001b[1;33m.\u001b[0m\u001b[0m_NotOkStatusException\u001b[0m \u001b[1;32mas\u001b[0m \u001b[0me\u001b[0m\u001b[1;33m:\u001b[0m\u001b[1;33m\u001b[0m\u001b[1;33m\u001b[0m\u001b[0m\n\u001b[0;32m     62\u001b[0m     \u001b[1;32mif\u001b[0m \u001b[0mname\u001b[0m \u001b[1;32mis\u001b[0m \u001b[1;32mnot\u001b[0m \u001b[1;32mNone\u001b[0m\u001b[1;33m:\u001b[0m\u001b[1;33m\u001b[0m\u001b[1;33m\u001b[0m\u001b[0m\n",
      "\u001b[1;31mKeyboardInterrupt\u001b[0m: "
     ]
    }
   ],
   "source": [
    "history = model.fit(\n",
    "    tf.convert_to_tensor(inputs_train[:-buffer_train]), \n",
    "    tf.convert_to_tensor([[0, i] for i in range(len(inputs_train)-buffer_train)]), \n",
    "    validation_data=(tf.convert_to_tensor(inputs_test[:-buffer_test]), tf.convert_to_tensor([[1, i] for i in range(len(inputs_test)-buffer_test)])),\n",
    "    epochs=10000, shuffle=True,\n",
    "    batch_size=32,\n",
    "    callbacks=[ival],\n",
    "    use_multiprocessing=True, verbose=1, \n",
    "    validation_freq=10,\n",
    "    workers=32,\n",
    "#     initial_epoch=model.history.epoch[-1],\n",
    ")"
   ]
  },
  {
   "cell_type": "code",
   "execution_count": 29,
   "id": "saving-substitute",
   "metadata": {},
   "outputs": [
    {
     "name": "stdout",
     "output_type": "stream",
     "text": [
      "[0.00079171]\n",
      "[0.01482076]\n",
      "[0.0253868]\n"
     ]
    }
   ],
   "source": [
    "y_pred = model.predict(inputs_test[:-buffer_test], verbose=0)\n",
    "print(np.min(y_pred, axis=0))\n",
    "print(np.mean(y_pred, axis=0))\n",
    "print(np.max(y_pred, axis=0))            "
   ]
  },
  {
   "cell_type": "code",
   "execution_count": 63,
   "id": "mechanical-motivation",
   "metadata": {},
   "outputs": [
    {
     "name": "stdout",
     "output_type": "stream",
     "text": [
      "[0.0004175]\n",
      "[0.01499404]\n",
      "[0.02602589]\n"
     ]
    }
   ],
   "source": [
    "y_pred_train = model.predict(inputs_train[:-buffer_train], verbose=0)\n",
    "print(np.min(y_pred_train, axis=0))\n",
    "print(np.mean(y_pred_train, axis=0))\n",
    "print(np.max(y_pred_train, axis=0)) "
   ]
  },
  {
   "cell_type": "code",
   "execution_count": 116,
   "id": "unlikely-production",
   "metadata": {},
   "outputs": [
    {
     "data": {
      "text/plain": [
       "0.000417504"
      ]
     },
     "execution_count": 116,
     "metadata": {},
     "output_type": "execute_result"
    }
   ],
   "source": [
    "y_pred_train.min()"
   ]
  },
  {
   "cell_type": "code",
   "execution_count": 104,
   "id": "aware-puppy",
   "metadata": {},
   "outputs": [],
   "source": [
    "close1 = train['close_1min'].values[:-time_limit]\n",
    "close2 = train['close_1min'].values[time_limit:]\n",
    "diff = close2 - close1\n",
    "direction = np.sign(diff)\n",
    "spread = train['spread'].values[:-time_limit]\n",
    "profit = 100 * (margin_size*direction * (diff - (spread*direction))) /  close1"
   ]
  },
  {
   "cell_type": "code",
   "execution_count": 115,
   "id": "asian-constitutional",
   "metadata": {},
   "outputs": [
    {
     "data": {
      "text/plain": [
       "0.457255645020063"
      ]
     },
     "execution_count": 115,
     "metadata": {},
     "output_type": "execute_result"
    }
   ],
   "source": [
    "abs(profit).mean()"
   ]
  },
  {
   "cell_type": "code",
   "execution_count": 96,
   "id": "warming-norfolk",
   "metadata": {},
   "outputs": [],
   "source": [
    "profits = get_profit(df[1], y_pred, times_spread=0.0395)"
   ]
  },
  {
   "cell_type": "code",
   "execution_count": 97,
   "id": "therapeutic-documentary",
   "metadata": {},
   "outputs": [
    {
     "data": {
      "text/plain": [
       "-1035.291307286773"
      ]
     },
     "execution_count": 97,
     "metadata": {},
     "output_type": "execute_result"
    }
   ],
   "source": [
    "sum(profits)"
   ]
  },
  {
   "cell_type": "code",
   "execution_count": 94,
   "id": "reliable-colon",
   "metadata": {},
   "outputs": [],
   "source": [
    "profits_train = get_profit(df[0], y_pred_train, times_spread=0.0395)"
   ]
  },
  {
   "cell_type": "code",
   "execution_count": 95,
   "id": "undefined-green",
   "metadata": {},
   "outputs": [
    {
     "data": {
      "text/plain": [
       "2162.1060376512473"
      ]
     },
     "execution_count": 95,
     "metadata": {},
     "output_type": "execute_result"
    }
   ],
   "source": [
    "sum(profits_train)"
   ]
  },
  {
   "cell_type": "code",
   "execution_count": null,
   "id": "focused-recall",
   "metadata": {},
   "outputs": [],
   "source": [
    "model.save('profit_model_fast')"
   ]
  },
  {
   "cell_type": "code",
   "execution_count": 58,
   "id": "informed-declaration",
   "metadata": {
    "scrolled": true
   },
   "outputs": [
    {
     "data": {
      "text/plain": [
       "array([[-0.18511762],\n",
       "       [-0.16315258],\n",
       "       [-0.14490741],\n",
       "       [-0.12828492],\n",
       "       [-0.11587099],\n",
       "       [-0.10429251],\n",
       "       [-0.09419919],\n",
       "       [-0.08451166],\n",
       "       [-0.08083578],\n",
       "       [-0.06614358],\n",
       "       [-0.06304047],\n",
       "       [-0.05744674],\n",
       "       [-0.08215604],\n",
       "       [-0.07946705],\n",
       "       [-0.08231978],\n",
       "       [-0.0613009 ],\n",
       "       [-0.05833121],\n",
       "       [-0.06071296],\n",
       "       [-0.0635265 ],\n",
       "       [-0.07250223],\n",
       "       [-0.05633896],\n",
       "       [-0.05072678],\n",
       "       [-0.02748454],\n",
       "       [-0.02112693],\n",
       "       [-0.06522039],\n",
       "       [-0.06551221],\n",
       "       [-0.06433132],\n",
       "       [-0.07699323],\n",
       "       [-0.07052597],\n",
       "       [-0.10773009],\n",
       "       [-0.10774461],\n",
       "       [-0.0916043 ],\n",
       "       [-0.08286908],\n",
       "       [-0.0802924 ],\n",
       "       [-0.08301003],\n",
       "       [-0.08627913],\n",
       "       [-0.08846469],\n",
       "       [-0.09030184],\n",
       "       [-0.09492922],\n",
       "       [-0.09729075],\n",
       "       [-0.09824879],\n",
       "       [-0.09297457],\n",
       "       [-0.09258007],\n",
       "       [-0.0908793 ],\n",
       "       [-0.09150287],\n",
       "       [-0.09860062],\n",
       "       [-0.10544267],\n",
       "       [-0.10787223],\n",
       "       [-0.10910562],\n",
       "       [-0.14889619],\n",
       "       [-0.14635816],\n",
       "       [-0.14897138],\n",
       "       [-0.15107535],\n",
       "       [-0.13626926],\n",
       "       [-0.13616128],\n",
       "       [-0.12806255],\n",
       "       [-0.12520622],\n",
       "       [-0.12030788],\n",
       "       [-0.11738498],\n",
       "       [-0.16215378],\n",
       "       [-0.15026173],\n",
       "       [-0.12859358],\n",
       "       [-0.10791153],\n",
       "       [-0.09751289],\n",
       "       [-0.08934012],\n",
       "       [-0.06733825],\n",
       "       [-0.05719829],\n",
       "       [-0.06283722],\n",
       "       [-0.05440237],\n",
       "       [-0.04786497],\n",
       "       [-0.05256469],\n",
       "       [-0.05453265],\n",
       "       [-0.05649182],\n",
       "       [-0.05708468],\n",
       "       [-0.0551557 ],\n",
       "       [-0.05595035],\n",
       "       [-0.0640293 ],\n",
       "       [-0.06482492],\n",
       "       [-0.0633101 ],\n",
       "       [-0.06260968],\n",
       "       [-0.08500122],\n",
       "       [-0.08499085],\n",
       "       [-0.09044436],\n",
       "       [-0.09529928],\n",
       "       [-0.09533162],\n",
       "       [-0.08637075],\n",
       "       [-0.07313   ],\n",
       "       [-0.06477836],\n",
       "       [-0.0656225 ],\n",
       "       [-0.13512732],\n",
       "       [-0.12129886],\n",
       "       [-0.11258581],\n",
       "       [-0.10805942],\n",
       "       [-0.10151731],\n",
       "       [-0.10107505],\n",
       "       [-0.1061381 ],\n",
       "       [-0.10523456],\n",
       "       [-0.10902692],\n",
       "       [-0.10784324],\n",
       "       [-0.11037675]], dtype=float32)"
      ]
     },
     "execution_count": 58,
     "metadata": {},
     "output_type": "execute_result"
    }
   ],
   "source": [
    "model.predict(inputs_train[:100])"
   ]
  },
  {
   "cell_type": "code",
   "execution_count": 168,
   "id": "classified-mineral",
   "metadata": {},
   "outputs": [],
   "source": [
    "y_preds = {'train': model.predict(inputs_train[:-buffer]), 'test': model.predict(inputs_test[:-buffer])}"
   ]
  },
  {
   "cell_type": "code",
   "execution_count": 114,
   "id": "aggregate-small",
   "metadata": {},
   "outputs": [],
   "source": [
    "profits = {'train': get_profit(df[0], y_preds['train'], 0), 'test': get_profit(df[1], y_preds['test'], 0)}"
   ]
  },
  {
   "cell_type": "code",
   "execution_count": 116,
   "id": "reasonable-tablet",
   "metadata": {},
   "outputs": [],
   "source": [
    "temp = {'train': train.iloc[:-buffer].copy(), 'test': test.iloc[:-buffer].copy()}\n",
    "temp['train']['pred'] = y_preds['train']\n",
    "temp['test']['pred'] = y_preds['test']\n",
    "temp['train']['profit'] = profits['train']\n",
    "temp['test']['profit'] = profits['test']"
   ]
  },
  {
   "cell_type": "code",
   "execution_count": 108,
   "id": "standard-marijuana",
   "metadata": {},
   "outputs": [
    {
     "data": {
      "text/plain": [
       "<AxesSubplot:xlabel='idx', ylabel='profit'>"
      ]
     },
     "execution_count": 108,
     "metadata": {},
     "output_type": "execute_result"
    },
    {
     "data": {
      "image/png": "[encoded data removed]",
      "text/plain": [
       "<Figure size 432x288 with 1 Axes>"
      ]
     },
     "metadata": {
      "needs_background": "light"
     },
     "output_type": "display_data"
    }
   ],
   "source": [
    "temp['train']['idx'] = temp['train'].index\n",
    "temp['train'].plot.scatter('idx', 'profit')"
   ]
  },
  {
   "cell_type": "code",
   "execution_count": 109,
   "id": "broken-discovery",
   "metadata": {},
   "outputs": [
    {
     "data": {
      "text/plain": [
       "<AxesSubplot:xlabel='idx', ylabel='profit'>"
      ]
     },
     "execution_count": 109,
     "metadata": {},
     "output_type": "execute_result"
    },
    {
     "data": {
      "image/png": "[encoded data removed]",
      "text/plain": [
       "<Figure size 432x288 with 1 Axes>"
      ]
     },
     "metadata": {
      "needs_background": "light"
     },
     "output_type": "display_data"
    }
   ],
   "source": [
    "temp['test']['idx'] = temp['test'].index\n",
    "temp['test'].plot.scatter('idx', 'profit')"
   ]
  },
  {
   "cell_type": "code",
   "execution_count": 144,
   "id": "yellow-profit",
   "metadata": {},
   "outputs": [
    {
     "data": {
      "text/plain": [
       "(0.4102172, 0.19561991)"
      ]
     },
     "execution_count": 144,
     "metadata": {},
     "output_type": "execute_result"
    }
   ],
   "source": [
    "temp['train']['pred'].abs().max(), temp['train'][temp['train']['profit'] > 0.4]['pred'].abs().min()"
   ]
  },
  {
   "cell_type": "code",
   "execution_count": 139,
   "id": "younger-invitation",
   "metadata": {},
   "outputs": [
    {
     "data": {
      "text/plain": [
       "<AxesSubplot:>"
      ]
     },
     "execution_count": 139,
     "metadata": {},
     "output_type": "execute_result"
    },
    {
     "data": {
      "image/png": "[encoded data removed]",
      "text/plain": [
       "<Figure size 432x288 with 1 Axes>"
      ]
     },
     "metadata": {
      "needs_background": "light"
     },
     "output_type": "display_data"
    }
   ],
   "source": [
    "temp['train']['profit'].cumsum().plot()"
   ]
  },
  {
   "cell_type": "code",
   "execution_count": 81,
   "id": "ignored-frederick",
   "metadata": {},
   "outputs": [
    {
     "data": {
      "text/plain": [
       "<AxesSubplot:>"
      ]
     },
     "execution_count": 81,
     "metadata": {},
     "output_type": "execute_result"
    },
    {
     "data": {
      "image/png": "[encoded data removed]",
      "text/plain": [
       "<Figure size 432x288 with 1 Axes>"
      ]
     },
     "metadata": {
      "needs_background": "light"
     },
     "output_type": "display_data"
    }
   ],
   "source": [
    "temp['test']['profit'].cumsum().plot()"
   ]
  },
  {
   "cell_type": "code",
   "execution_count": 82,
   "id": "cloudy-pizza",
   "metadata": {},
   "outputs": [
    {
     "data": {
      "text/plain": [
       "-143.49729948486893"
      ]
     },
     "execution_count": 82,
     "metadata": {},
     "output_type": "execute_result"
    }
   ],
   "source": [
    "sum(profits['train'])"
   ]
  },
  {
   "cell_type": "code",
   "execution_count": 83,
   "id": "color-buyer",
   "metadata": {},
   "outputs": [
    {
     "data": {
      "text/plain": [
       "-39.76582186072883"
      ]
     },
     "execution_count": 83,
     "metadata": {},
     "output_type": "execute_result"
    }
   ],
   "source": [
    "sum(profits['test'])"
   ]
  },
  {
   "cell_type": "code",
   "execution_count": 84,
   "id": "assumed-friend",
   "metadata": {},
   "outputs": [
    {
     "data": {
      "text/plain": [
       "-4.734169867709254"
      ]
     },
     "execution_count": 84,
     "metadata": {},
     "output_type": "execute_result"
    }
   ],
   "source": [
    "(252 ** 0.5) * np.mean(profits['train']) / np.std(profits['train'])"
   ]
  },
  {
   "cell_type": "code",
   "execution_count": 85,
   "id": "announced-shock",
   "metadata": {},
   "outputs": [
    {
     "data": {
      "text/plain": [
       "-6.869967198065778"
      ]
     },
     "execution_count": 85,
     "metadata": {},
     "output_type": "execute_result"
    }
   ],
   "source": [
    "(252 ** 0.5) * np.mean(profits['test']) / np.std(profits['test'])"
   ]
  },
  {
   "cell_type": "code",
   "execution_count": null,
   "id": "cardiovascular-flour",
   "metadata": {},
   "outputs": [],
   "source": []
  }
 ],
 "metadata": {
  "kernelspec": {
   "display_name": "Python 3",
   "language": "python",
   "name": "python3"
  },
  "language_info": {
   "codemirror_mode": {
    "name": "ipython",
    "version": 3
   },
   "file_extension": ".py",
   "mimetype": "text/x-python",
   "name": "python",
   "nbconvert_exporter": "python",
   "pygments_lexer": "ipython3",
   "version": "3.6.8"
  }
 },
 "nbformat": 4,
 "nbformat_minor": 5
}
