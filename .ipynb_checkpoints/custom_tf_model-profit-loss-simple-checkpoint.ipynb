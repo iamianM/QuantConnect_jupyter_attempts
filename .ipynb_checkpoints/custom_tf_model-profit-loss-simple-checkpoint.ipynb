{
 "cells": [
  {
   "cell_type": "code",
   "execution_count": 1,
   "id": "lesbian-constitutional",
   "metadata": {},
   "outputs": [],
   "source": [
    "import os\n",
    "os.environ[\"CUDA_VISIBLE_DEVICES\"] = \"-1\""
   ]
  },
  {
   "cell_type": "code",
   "execution_count": 2,
   "id": "41f459b3",
   "metadata": {},
   "outputs": [],
   "source": [
    "import tensorflow as tf\n",
    "\n",
    "from tensorflow.keras import datasets, models, optimizers\n",
    "from tensorflow.keras.layers import TimeDistributed, Conv2D, Flatten, Dense, LSTM, ConvLSTM2D, MaxPool2D, Dropout, Conv1D\n",
    "import matplotlib.pyplot as plt\n",
    "\n",
    "import numpy as np \n",
    "import pandas as pd"
   ]
  },
  {
   "cell_type": "code",
   "execution_count": 3,
   "id": "offensive-merchant",
   "metadata": {},
   "outputs": [
    {
     "data": {
      "text/plain": [
       "True"
      ]
     },
     "execution_count": 3,
     "metadata": {},
     "output_type": "execute_result"
    }
   ],
   "source": [
    "tf.test.is_built_with_cuda()"
   ]
  },
  {
   "cell_type": "code",
   "execution_count": 4,
   "id": "dae60f38",
   "metadata": {},
   "outputs": [],
   "source": [
    "tf.compat.v1.enable_eager_execution()"
   ]
  },
  {
   "cell_type": "code",
   "execution_count": 5,
   "id": "86f4cad1",
   "metadata": {},
   "outputs": [],
   "source": [
    "inputs_train = np.load(\"inputs_train.npy\")\n",
    "inputs_test = np.load(\"inputs_test.npy\")"
   ]
  },
  {
   "cell_type": "code",
   "execution_count": 6,
   "id": "external-aviation",
   "metadata": {},
   "outputs": [],
   "source": [
    "inputs_train = np.transpose(inputs_train, (0, 2,3,1))\n",
    "inputs_test = np.transpose(inputs_test, (0, 2,3,1))"
   ]
  },
  {
   "cell_type": "code",
   "execution_count": 7,
   "id": "royal-royalty",
   "metadata": {},
   "outputs": [],
   "source": [
    "inputs_train = inputs_train.reshape(inputs_train.shape[:2] + (inputs_train.shape[2]*inputs_train.shape[3],))\n",
    "inputs_test = inputs_test.reshape(inputs_test.shape[:2] + (inputs_test.shape[2]*inputs_test.shape[3],))"
   ]
  },
  {
   "cell_type": "code",
   "execution_count": 8,
   "id": "c6052538",
   "metadata": {},
   "outputs": [],
   "source": [
    "train = pd.read_csv('train_timeframes.csv').iloc[59:]\n",
    "test = pd.read_csv('test_timeframes.csv').iloc[59:]"
   ]
  },
  {
   "cell_type": "code",
   "execution_count": 9,
   "id": "assured-mambo",
   "metadata": {},
   "outputs": [],
   "source": [
    "df = [train, test]"
   ]
  },
  {
   "cell_type": "code",
   "execution_count": 10,
   "id": "9326d1b3",
   "metadata": {},
   "outputs": [],
   "source": [
    "img = inputs_train[0,:,:]"
   ]
  },
  {
   "cell_type": "code",
   "execution_count": 11,
   "id": "22b9f610",
   "metadata": {},
   "outputs": [
    {
     "data": {
      "text/plain": [
       "((73695, 60, 20), (73695, 23))"
      ]
     },
     "execution_count": 11,
     "metadata": {},
     "output_type": "execute_result"
    }
   ],
   "source": [
    "inputs_train.shape, train.shape"
   ]
  },
  {
   "cell_type": "code",
   "execution_count": 12,
   "id": "amateur-collins",
   "metadata": {},
   "outputs": [
    {
     "data": {
      "text/plain": [
       "((24365, 60, 20), (24365, 23))"
      ]
     },
     "execution_count": 12,
     "metadata": {},
     "output_type": "execute_result"
    }
   ],
   "source": [
    "inputs_test.shape, test.shape"
   ]
  },
  {
   "cell_type": "code",
   "execution_count": 13,
   "id": "6e56c8b4",
   "metadata": {},
   "outputs": [],
   "source": [
    "idx = 0\n",
    "batch_size = 32\n",
    "stop_limit = 0.0100\n",
    "price_limit = 0.0500\n",
    "margin_size = 50\n",
    "time_limit = 120"
   ]
  },
  {
   "cell_type": "code",
   "execution_count": 57,
   "id": "hungry-intent",
   "metadata": {},
   "outputs": [],
   "source": [
    "def get_model():\n",
    "    model = models.Sequential()\n",
    "    # model.add(LSTM(64, input_shape = img.shape, return_sequences=True, dropout=0.2))\n",
    "    model.add(LSTM(32, input_shape = img.shape, dropout=0.5))\n",
    "    # model.add(LSTM(32, dropout=0.2))\n",
    "    model.add(Dense(3, activation = \"tanh\"))\n",
    "    return model\n",
    "\n",
    "model = get_model()"
   ]
  },
  {
   "cell_type": "code",
   "execution_count": 193,
   "id": "protective-medium",
   "metadata": {},
   "outputs": [],
   "source": [
    "# model = models.Sequential()\n",
    "\n",
    "# model.add(Conv2D(32, (5, 1),padding ='Same', activation='relu', input_shape = img.shape))\n",
    "# model.add(Conv2D(32, (5, 1),padding = 'Same', activation ='relu'))\n",
    "# model.add(MaxPool2D((2, 1)))\n",
    "# model.add(Dropout(0.25))\n",
    "\n",
    "# model.add(Conv2D(64,(3, 1),padding = 'Same', activation ='relu'))\n",
    "# model.add(Conv2D(64, (3, 1),padding = 'Same', activation ='relu'))\n",
    "# model.add(MaxPool2D(pool_size=(2, 1), strides=(2, 1)))\n",
    "# model.add(Dropout(0.25))\n",
    "\n",
    "# model.add(Flatten())\n",
    "# model.add(Dense(256, activation = \"relu\"))\n",
    "# model.add(Dropout(0.5))\n",
    "# model.add(Dense(3, activation = \"sigmoid\"))"
   ]
  },
  {
   "cell_type": "code",
   "execution_count": 194,
   "id": "broken-engineer",
   "metadata": {},
   "outputs": [],
   "source": [
    "# model = tf.keras.models.load_model('profit_model/', compile=False)"
   ]
  },
  {
   "cell_type": "code",
   "execution_count": 15,
   "id": "convertible-gossip",
   "metadata": {},
   "outputs": [
    {
     "name": "stdout",
     "output_type": "stream",
     "text": [
      "Model: \"sequential\"\n",
      "_________________________________________________________________\n",
      "Layer (type)                 Output Shape              Param #   \n",
      "=================================================================\n",
      "lstm (LSTM)                  (None, 32)                6784      \n",
      "_________________________________________________________________\n",
      "dense (Dense)                (None, 3)                 99        \n",
      "=================================================================\n",
      "Total params: 6,883\n",
      "Trainable params: 6,883\n",
      "Non-trainable params: 0\n",
      "_________________________________________________________________\n"
     ]
    }
   ],
   "source": [
    "model.summary()"
   ]
  },
  {
   "cell_type": "code",
   "execution_count": 144,
   "id": "fourth-style",
   "metadata": {
    "scrolled": true
   },
   "outputs": [],
   "source": [
    "all_closes_train = tf.convert_to_tensor([[df[0].iloc[i+j:i+j+time_limit]['close_1min'].tolist() for j in range(batch_size)] for i in range(len(df[0])-buffer)])\n",
    "all_closes_test = tf.convert_to_tensor([[df[1].iloc[i+j:i+j+time_limit]['close_1min'].tolist() for j in range(batch_size)] for i in range(len(df[1])-buffer)])"
   ]
  },
  {
   "cell_type": "code",
   "execution_count": 145,
   "id": "attended-milan",
   "metadata": {},
   "outputs": [],
   "source": [
    "all_spread_train = tf.convert_to_tensor([[df[0].iloc[i+j:i+j+1]['spread'].tolist() for j in range(batch_size)] for i in range(len(df[0])-buffer)])\n",
    "all_spread_test = tf.convert_to_tensor([[df[1].iloc[i+j:i+j+1]['spread'].tolist() for j in range(batch_size)] for i in range(len(df[1])-buffer)])"
   ]
  },
  {
   "cell_type": "code",
   "execution_count": 147,
   "id": "temporal-custody",
   "metadata": {},
   "outputs": [],
   "source": [
    "np.save(open('all_closes_train', 'wb'), all_closes_train.numpy())\n",
    "np.save(open('all_closes_test', 'wb'), all_closes_test.numpy())\n",
    "np.save(open('all_spread_train', 'wb'), all_spread_train.numpy())\n",
    "np.save(open('all_spread_test', 'wb'), all_spread_test.numpy())"
   ]
  },
  {
   "cell_type": "code",
   "execution_count": 16,
   "id": "authentic-front",
   "metadata": {},
   "outputs": [],
   "source": [
    "all_closes_train = tf.convert_to_tensor(np.load('all_closes_train.npy'))\n",
    "all_closes_test = tf.convert_to_tensor(np.load('all_closes_test.npy'))\n",
    "all_spread_train = tf.convert_to_tensor(np.load('all_spread_train.npy'))\n",
    "all_spread_test = tf.convert_to_tensor(np.load('all_spread_test.npy'))"
   ]
  },
  {
   "cell_type": "code",
   "execution_count": 17,
   "id": "monthly-there",
   "metadata": {},
   "outputs": [
    {
     "data": {
      "text/plain": [
       "(TensorShape([72603, 32, 60]), TensorShape([72603, 32, 1]))"
      ]
     },
     "execution_count": 17,
     "metadata": {},
     "output_type": "execute_result"
    }
   ],
   "source": [
    "all_closes_train.shape, all_spread_train.shape"
   ]
  },
  {
   "cell_type": "code",
   "execution_count": 53,
   "id": "utility-writing",
   "metadata": {},
   "outputs": [],
   "source": [
    "def custom_loss_wrapper(idx, stop_limit, price_limit, margin_size):  \n",
    "    def custom_loss(y_true, y_pred):\n",
    "        #margin = ((y_pred[:,:1] - 0.5) * 2)\n",
    "        #margin *= margin_size\n",
    "        margin = y_pred[:,:1] #* direction * -1 * stop_limit\n",
    "        direction = tf.sign(margin)\n",
    "        stop_loss = y_pred[:,1:2] #* direction * -1 * stop_limit\n",
    "        price_target = y_pred[:,2:3] #* direction * 1 * price_limit\n",
    "        \n",
    "        idx = y_true[0][1]\n",
    "        df_name = y_true[0][0]\n",
    "        batch_size = y_pred.shape[0]\n",
    "        closes = tf.cond(df_name == tf.constant(0), lambda: tf.gather(all_closes_train, idx), lambda: tf.gather(all_closes_test, idx))\n",
    "        closes = closes[:,:batch_size]\n",
    "        spread = tf.cond(df_name == tf.constant(0), lambda: tf.gather(all_spread_train, idx), lambda: tf.gather(all_spread_test, idx))\n",
    "        close1 = closes[:,:1]\n",
    "        close2 = tf.zeros_like(closes[:,:1])\n",
    "        i = tf.constant(0)\n",
    "        def while_condition(i, close2): \n",
    "            return tf.less(i, tf.constant(closes.shape[1]))\n",
    "        def body(i, close2):\n",
    "            s = tf.slice(closes, [0, i], [closes.shape[0], 1])\n",
    "            diff = (s  - close1) * direction\n",
    "            cond = tf.logical_or(tf.less(diff, stop_loss), tf.greater(diff, price_target))\n",
    "            close2 = tf.where(tf.logical_and(tf.equal(close2, 0), cond), s, close2)\n",
    "            return [tf.add(i, 1), close2]\n",
    "        r = tf.while_loop(while_condition, body, [i, close2], parallel_iterations=closes.shape[1], swap_memory=True)#, shape_invariants=[0, close2])\n",
    "            \n",
    "        close2 = tf.where(tf.equal(close2, 0), closes[:,-1:], close2)\n",
    "\n",
    "        diff = close2 - close1\n",
    "        profit = -100 * (margin * (diff - (spread*direction))) /  close1\n",
    "        return profit\n",
    "#         return tf.where(tf.less(tf.abs(profit), 1), tf.sign(profit)*tf.sqrt(tf.abs(profit)), profit)\n",
    "    return custom_loss"
   ]
  },
  {
   "cell_type": "code",
   "execution_count": 58,
   "id": "still-petite",
   "metadata": {},
   "outputs": [],
   "source": [
    "def custom_loss_wrapper(idx, stop_limit, price_limit, margin_size):  \n",
    "    def custom_loss(y_true, y_pred):\n",
    "        margin = y_pred[:,:1]\n",
    "        margin *= margin_size\n",
    "        direction = tf.sign(margin)\n",
    "        stop_loss = ((y_pred[:,1:2] / 2) + 0.5) * direction * -1 * stop_limit\n",
    "        price_target = ((y_pred[:,2:3] / 2) + 0.5) * direction * 1 * price_limit\n",
    "        \n",
    "        idx = y_true[0][1]\n",
    "        df_name = y_true[0][0]\n",
    "        batch_size = y_pred.shape[0]\n",
    "        closes = tf.cond(df_name == tf.constant(0), lambda: tf.gather(all_closes_train, idx), lambda: tf.gather(all_closes_test, idx))\n",
    "        closes = closes[:,:batch_size]\n",
    "        spread = tf.cond(df_name == tf.constant(0), lambda: tf.gather(all_spread_train, idx), lambda: tf.gather(all_spread_test, idx))\n",
    "        close1 = closes[:,:1]\n",
    "        close2 = tf.zeros_like(closes[:,:1])\n",
    "        lower_bound = tf.minimum(stop_loss, price_target)\n",
    "        upper_bound = tf.maximum(stop_loss, price_target)\n",
    "        i = tf.constant(0)\n",
    "        def while_condition(i, close2): \n",
    "            return tf.less(i, tf.constant(closes.shape[1]))\n",
    "        def body(i, close2):\n",
    "            s = tf.slice(closes, [0, i], [closes.shape[0], 1])\n",
    "            diff = (s  - close1) * direction\n",
    "            cond = tf.logical_or(tf.less(diff, lower_bound), tf.greater(diff, upper_bound))\n",
    "            close2 = tf.where(tf.logical_and(tf.equal(close2, 0), cond), s, close2)\n",
    "            return [tf.add(i, 1), close2]\n",
    "        r = tf.while_loop(while_condition, body, [i, close2], parallel_iterations=closes.shape[1], swap_memory=True)#, shape_invariants=[0, close2])\n",
    "            \n",
    "        close2 = tf.where(tf.equal(close2, 0), closes[:,-1:], close2)\n",
    "\n",
    "        diff = close2 - close1\n",
    "        profit = -100 * (margin * (diff - (spread*direction))) /  close1\n",
    "#         print(profit.numpy())\n",
    "#         print(tf.pow(profit, 1.0/3.0).numpy())\n",
    "#         print(profit.shape, spread.shape, close1.shape, close2.shape)\n",
    "#         return tf.where(tf.less(tf.abs(profit), 0.5), tf.zeros_like(profit), profit)\n",
    "#         return tf.where(tf.less(profit, 0), -tf.pow(tf.abs(profit), 1.0/2.0), tf.pow(tf.abs(profit), 1.0/2.0))\n",
    "#         return tf.where(tf.less(profit, 0), -tf.sqrt(tf.abs(profit)), tf.sqrt(tf.abs(profit)))\n",
    "#         return tf.where(tf.less(tf.abs(profit), 1), tf.sign(profit)*tf.sqrt(tf.abs(profit)), profit)\n",
    "#         return tf.pow(profit, 3.0)\n",
    "        return profit\n",
    "    return custom_loss"
   ]
  },
  {
   "cell_type": "code",
   "execution_count": 39,
   "id": "da4a290c",
   "metadata": {},
   "outputs": [],
   "source": [
    "def custom_loss_wrapper(idx, stop_limit, price_limit, margin_size):  \n",
    "    def custom_loss(y_true, y_pred):\n",
    "#         print()\n",
    "        margin = ((y_pred[:,:1] - 0.5) * 2)\n",
    "        margin *= margin_size\n",
    "        direction = tf.sign(margin)\n",
    "        stop_loss = y_pred[:,1:2] * direction * -1 * stop_limit\n",
    "        price_target = y_pred[:,2:3] * direction * 1 * price_limit\n",
    "        \n",
    "        idx = y_true[0][1]\n",
    "        df_name = y_true[0][0]\n",
    "        batch_size = y_pred.shape[0]\n",
    "        closes = tf.cond(df_name == tf.constant(0), lambda: tf.gather(all_closes_train, idx), lambda: tf.gather(all_closes_test, idx))\n",
    "        closes = closes[:,:batch_size]\n",
    "        spread = tf.cond(df_name == tf.constant(0), lambda: tf.gather(all_spread_train, idx), lambda: tf.gather(all_spread_test, idx))\n",
    "        close1 = closes[:,:1]\n",
    "        close2 = tf.zeros_like(closes[:,:1])\n",
    "        lower_bound = tf.minimum(stop_loss, price_target)\n",
    "        upper_bound = tf.maximum(stop_loss, price_target)\n",
    "        i = tf.constant(0)\n",
    "        def while_condition(i, close2): \n",
    "            return tf.less(i, tf.constant(closes.shape[1]))\n",
    "        def body(i, close2):\n",
    "            s = tf.slice(closes, [0, i], [closes.shape[0], 1])\n",
    "            diff = (s  - close1) * direction\n",
    "            cond = tf.logical_or(tf.less(diff, lower_bound), tf.greater(diff, upper_bound))\n",
    "            close2 = tf.where(tf.logical_and(tf.equal(close2, 0), cond), s, close2)\n",
    "            return [tf.add(i, 1), close2]\n",
    "        r = tf.while_loop(while_condition, body, [i, close2], parallel_iterations=closes.shape[1], swap_memory=True)#, shape_invariants=[0, close2])\n",
    "            \n",
    "        close2 = tf.where(tf.equal(close2, 0), closes[:,-1:], close2)\n",
    "\n",
    "        diff = close2 - close1\n",
    "        profit = -100 * (margin * (diff - (spread*direction))) /  close1\n",
    "#         print(profit.numpy())\n",
    "#         print(tf.pow(profit, 1.0/3.0).numpy())\n",
    "#         print(profit.shape, spread.shape, close1.shape, close2.shape)\n",
    "#         return tf.where(tf.less(tf.abs(profit), 0.5), tf.zeros_like(profit), profit)\n",
    "#         return tf.where(tf.less(profit, 0), -tf.pow(tf.abs(profit), 1.0/2.0), tf.pow(tf.abs(profit), 1.0/2.0))\n",
    "#         return tf.where(tf.less(profit, 0), -tf.sqrt(tf.abs(profit)), tf.sqrt(tf.abs(profit)))\n",
    "        return tf.where(tf.less(tf.abs(profit), 1), tf.sign(profit)*tf.sqrt(tf.abs(profit)), profit)\n",
    "#         return tf.pow(profit, 3.0)\n",
    "#         return profit\n",
    "    return custom_loss"
   ]
  },
  {
   "cell_type": "code",
   "execution_count": 40,
   "id": "supreme-turkey",
   "metadata": {},
   "outputs": [],
   "source": [
    "def get_profit(data, y_preds, margin_lower_limit=0):\n",
    "    idx = 0\n",
    "    profits = []\n",
    "    while idx < len(y_preds) - 1:\n",
    "        margin = ((y_preds[idx][0] - 0.5) * 2)\n",
    "        margin *= margin_size\n",
    "        if abs(margin) < margin_lower_limit:\n",
    "            idx += 1\n",
    "        else:\n",
    "            direction = np.sign(margin)\n",
    "            stop_loss = y_preds[idx][1] * direction * -1 * stop_limit\n",
    "            price_target = y_preds[idx][2] * direction * 1 * price_limit\n",
    "\n",
    "            start_idx = idx\n",
    "            close1 =  data.iloc[idx]['close_1min']\n",
    "            spread = data.iloc[idx]['spread']\n",
    "            idx += 1\n",
    "            new_i = idx\n",
    "            while new_i < len(data) - 1 and new_i - start_idx < time_limit:\n",
    "                close2 = data.iloc[new_i]['close_1min']\n",
    "                diff = (close2 - close1) \n",
    "                if min(stop_loss, price_limit) < diff * direction < max(stop_loss, price_limit):\n",
    "                    break\n",
    "                new_i += 1\n",
    "            profit = 100 * (margin * (diff - (spread*direction))) /  close1\n",
    "#             print(profit)\n",
    "            profits.append(profit)\n",
    "#             break\n",
    "    return profits\n",
    "\n",
    "# data = df[]"
   ]
  },
  {
   "cell_type": "code",
   "execution_count": 41,
   "id": "stone-washer",
   "metadata": {},
   "outputs": [],
   "source": [
    "from keras.callbacks import Callback\n",
    "\n",
    "class IntervalEvaluation(Callback):\n",
    "    def __init__(self, validation_data=(), interval=10):\n",
    "        super(Callback, self).__init__()\n",
    "\n",
    "        self.interval = interval\n",
    "        self.X_val, self.y_val = validation_data\n",
    "\n",
    "    def on_epoch_end(self, epoch, logs={}):\n",
    "        if epoch % self.interval == 0:\n",
    "            y_pred = self.model.predict(self.X_val, verbose=0)\n",
    "#             score = np.mean(custom_metric_wrapper(idx, stop_limit, price_limit, margin_size, time_limit)(tf.convert_to_tensor(self.y_val), tf.convert_to_tensor(y_pred)))\n",
    "#             profits = get_profit(df[1], y_pred)\n",
    "#             profits_0 = get_profit(df[1], y_pred, 0)\n",
    "            print(np.min(y_pred, axis=0))\n",
    "            print(np.mean(y_pred, axis=0))\n",
    "            print(np.max(y_pred, axis=0))\n",
    "#             print(\"interval evaluation - epoch: {:d} - score: {:.6f} -- score_0: {:.6f}\".format(epoch, profits, profits_0))\n",
    "           \n",
    "buffer = (batch_size+time_limit) + 1000\n",
    "ival = IntervalEvaluation(validation_data=(inputs_test[:-buffer], np.array([[1, i] for i in range(len(test)-buffer)])), interval=1)"
   ]
  },
  {
   "cell_type": "code",
   "execution_count": 59,
   "id": "legitimate-smoke",
   "metadata": {},
   "outputs": [],
   "source": [
    "model = get_model()"
   ]
  },
  {
   "cell_type": "code",
   "execution_count": 60,
   "id": "instant-forestry",
   "metadata": {},
   "outputs": [],
   "source": [
    "model.compile(\n",
    "    optimizer=optimizers.Adam(learning_rate=0.0001, epsilon=1.0),\n",
    "    loss=custom_loss_wrapper(idx, stop_limit, price_limit, margin_size),\n",
    "#     metrics=[custom_metric_wrapper(idx, stop_limit, price_limit, margin_size, time_limit)],\n",
    "    run_eagerly=False\n",
    ")"
   ]
  },
  {
   "cell_type": "code",
   "execution_count": null,
   "id": "452981fb",
   "metadata": {
    "scrolled": true
   },
   "outputs": [
    {
     "name": "stdout",
     "output_type": "stream",
     "text": [
      "Epoch 1/10000\n",
      "2266/2266 [==============================] - 23s 9ms/step - loss: 0.1556 - val_loss: 0.0491\n",
      "[-0.21538949 -0.13788147 -0.39834964]\n",
      "[ 0.04255402  0.16802782 -0.09029593]\n",
      "[0.27205497 0.46332556 0.23161925]\n",
      "Epoch 2/10000\n",
      "2266/2266 [==============================] - 21s 9ms/step - loss: 0.0338 - val_loss: 0.0811\n",
      "[-0.14310078 -0.14270963 -0.38989303]\n",
      "[ 0.09855598  0.15273826 -0.08037493]\n",
      "[0.31241685 0.45320216 0.23959713]\n",
      "Epoch 3/10000\n",
      "2266/2266 [==============================] - 21s 9ms/step - loss: 0.0600 - val_loss: 0.0331\n",
      "[-0.21010114 -0.12702844 -0.40645775]\n",
      "[ 0.01359108  0.17457445 -0.10341872]\n",
      "[0.22710593 0.46859646 0.22369762]\n",
      "Epoch 4/10000\n",
      "2266/2266 [==============================] - 21s 9ms/step - loss: 0.0660 - val_loss: 0.0528\n",
      "[-0.14832829 -0.12769583 -0.39807603]\n",
      "[ 0.05835468  0.16265516 -0.08838096]\n",
      "[0.2589858  0.4617738  0.23548295]\n",
      "Epoch 5/10000\n",
      "2266/2266 [==============================] - 22s 10ms/step - loss: 0.0529 - val_loss: 0.0427\n",
      "[-0.146128   -0.1209649  -0.40229318]\n",
      "[ 0.0435428   0.16812296 -0.09460803]\n",
      "[0.23544115 0.46677548 0.23059052]\n",
      "Epoch 6/10000\n",
      "2266/2266 [==============================] - 21s 9ms/step - loss: 0.0496 - val_loss: 0.0245\n",
      "[-0.17127636 -0.11009401 -0.4062544 ]\n",
      "[ 0.00686541  0.18218449 -0.0993393 ]\n",
      "[0.18599692 0.47906154 0.22943994]\n",
      "Epoch 7/10000\n",
      "2266/2266 [==============================] - 22s 10ms/step - loss: 0.0608 - val_loss: 0.0803\n",
      "[-0.08193656 -0.11687917 -0.38203672]\n",
      "[ 0.10361692  0.16189246 -0.06974889]\n",
      "[0.26487985 0.4674968  0.2523918 ]\n",
      "Epoch 8/10000\n",
      "2266/2266 [==============================] - 23s 10ms/step - loss: 0.0684 - val_loss: 0.0270\n",
      "[-0.13927302 -0.09797153 -0.4015456 ]\n",
      "[ 0.02172223  0.18780254 -0.08975192]\n",
      "[0.17496632 0.48747683 0.23893665]\n",
      "Epoch 9/10000\n",
      "2266/2266 [==============================] - 21s 9ms/step - loss: 0.0460 - val_loss: 0.0260\n",
      "[-0.12872729 -0.09400737 -0.39780682]\n",
      "[ 0.02136603  0.18887924 -0.086911  ]\n",
      "[0.17001417 0.4889772  0.24179336]\n",
      "Epoch 10/10000\n",
      "2266/2266 [==============================] - 22s 10ms/step - loss: 0.0403 - val_loss: 0.0735\n",
      "[-0.06919231 -0.09988806 -0.38265887]\n",
      "[ 0.09618298  0.1708856  -0.06374045]\n",
      "[0.22991148 0.47797227 0.26224992]\n",
      "Epoch 11/10000\n",
      "2266/2266 [==============================] - 22s 10ms/step - loss: 0.0517 - val_loss: 0.0391\n",
      "[-0.09884192 -0.08783847 -0.39070565]\n",
      "[ 0.04670678  0.18763512 -0.07092272]\n",
      "[0.17757322 0.49160516 0.25627863]\n",
      "Epoch 12/10000\n",
      "2266/2266 [==============================] - 22s 10ms/step - loss: 0.0491 - val_loss: 0.0663\n",
      "[-0.06560355 -0.09157919 -0.38003066]\n",
      "[ 0.087069    0.17680335 -0.05911927]\n",
      "[0.20744902 0.48502448 0.2663109 ]\n",
      "Epoch 13/10000\n",
      "2266/2266 [==============================] - 22s 10ms/step - loss: 0.0585 - val_loss: 0.0311\n",
      "[-0.09607692 -0.07933984 -0.39122462]\n",
      "[ 0.03564917  0.19319084 -0.07237169]\n",
      "[0.15252814 0.49774203 0.25925496]\n",
      "Epoch 14/10000\n",
      "2266/2266 [==============================] - 22s 10ms/step - loss: 0.0558 - val_loss: 0.0443\n",
      "[-0.06919554 -0.08237939 -0.38991824]\n",
      "[ 0.05610266  0.18380985 -0.07540711]\n",
      "[0.16808744 0.49130768 0.25566876]\n",
      "Epoch 15/10000\n",
      "2266/2266 [==============================] - 22s 10ms/step - loss: 0.0335 - val_loss: 0.1182\n",
      "[-0.02153126 -0.09233008 -0.36808094]\n",
      "[ 0.16046993  0.15627071 -0.04691133]\n",
      "[0.27204004 0.47431615 0.27949867]\n",
      "Epoch 16/10000\n",
      "2266/2266 [==============================] - 22s 10ms/step - loss: 0.0175 - val_loss: 0.1185\n",
      "[-0.02136611 -0.09238332 -0.36640638]\n",
      "[ 0.16102538  0.1598305  -0.04392517]\n",
      "[0.27643007 0.47664395 0.28125206]\n",
      "Epoch 17/10000\n",
      "2266/2266 [==============================] - 22s 10ms/step - loss: 0.0515 - val_loss: 0.0319\n",
      "[-0.08353583 -0.07459715 -0.3949245 ]\n",
      "[ 0.03826367  0.19526841 -0.07558155]\n",
      "[0.14398731 0.50249696 0.25771257]\n",
      "Epoch 18/10000\n",
      "2266/2266 [==============================] - 22s 10ms/step - loss: 0.0355 - val_loss: 0.0815\n",
      "[-0.02787343 -0.08311772 -0.3796594 ]\n",
      "[ 0.11023009  0.17445698 -0.05885773]\n",
      "[0.21781139 0.48870397 0.27021453]\n",
      "Epoch 19/10000\n",
      "2266/2266 [==============================] - 22s 10ms/step - loss: 0.0409 - val_loss: 0.0415\n",
      "[-0.05525564 -0.06855936 -0.38532165]\n",
      "[ 0.05397527  0.19427846 -0.06731983]\n",
      "[0.15203194 0.5038007  0.26269317]\n",
      "Epoch 20/10000\n",
      "2266/2266 [==============================] - 22s 10ms/step - loss: 0.0381 - val_loss: 0.0169\n",
      "[-0.0799289  -0.05881119 -0.38629013]\n",
      "[ 0.01600295  0.21325232 -0.06799849]\n",
      "[0.11825667 0.51853305 0.25952876]\n",
      "Epoch 21/10000\n",
      "2266/2266 [==============================] - 22s 10ms/step - loss: 0.0308 - val_loss: 0.0130\n",
      "[-0.08963539 -0.05550404 -0.39074218]\n",
      "[ 0.00724398  0.2149086  -0.07578471]\n",
      "[0.10633834 0.5204352  0.25346857]\n",
      "Epoch 22/10000\n",
      "2266/2266 [==============================] - 21s 9ms/step - loss: 0.0358 - val_loss: 0.0803\n",
      "[-0.01893795 -0.06912715 -0.3687873 ]\n",
      "[ 0.10854927  0.18449382 -0.05643338]\n",
      "[0.20148057 0.49868253 0.26845214]\n",
      "Epoch 23/10000\n",
      "2266/2266 [==============================] - 22s 10ms/step - loss: 0.0556 - val_loss: 0.0458\n",
      "[-0.03811102 -0.06010686 -0.37903693]\n",
      "[ 0.06121888  0.20167586 -0.06644594]\n",
      "[0.1554733  0.51253194 0.26143092]\n",
      "Epoch 24/10000\n",
      "2266/2266 [==============================] - 22s 10ms/step - loss: 0.0370 - val_loss: 0.0108\n",
      "[-0.08651788 -0.05110659 -0.39202502]\n",
      "[ 0.00441561  0.21635813 -0.08382159]\n",
      "[0.09352804 0.52397573 0.24825235]\n",
      "Epoch 25/10000\n",
      "2266/2266 [==============================] - 22s 10ms/step - loss: 0.0364 - val_loss: 0.0395\n",
      "[-0.04206583 -0.05688202 -0.38124314]\n",
      "[ 0.05277234  0.20203918 -0.07111564]\n",
      "[0.14231858 0.51370263 0.25802383]\n",
      "Epoch 26/10000\n",
      "2266/2266 [==============================] - 22s 10ms/step - loss: 0.0430 - val_loss: 0.0581\n",
      "[-0.02816042 -0.05987993 -0.37251726]\n",
      "[ 0.07858206  0.19370396 -0.06291037]\n",
      "[0.16801171 0.50805336 0.26497975]\n",
      "Epoch 27/10000\n",
      "2266/2266 [==============================] - 22s 10ms/step - loss: 0.0167 - val_loss: 0.0359\n",
      "[-0.04431387 -0.05346158 -0.37839463]\n",
      "[ 0.04749644  0.20549907 -0.06899142]\n",
      "[0.13238767 0.51773566 0.25972655]\n",
      "Epoch 28/10000\n",
      "2266/2266 [==============================] - 21s 9ms/step - loss: 0.0285 - val_loss: 0.0356\n",
      "[-0.04565407 -0.05042776 -0.37465298]\n",
      "[ 0.04702673  0.21001652 -0.06635381]\n",
      "[0.13153493 0.5208921  0.26140353]\n",
      "Epoch 29/10000\n",
      "2266/2266 [==============================] - 22s 10ms/step - loss: 0.0307 - val_loss: 0.0376\n",
      "[-0.04375534 -0.0509616  -0.3710719 ]\n",
      "[ 0.04995195  0.21031535 -0.06200446]\n",
      "[0.1352503 0.5213552 0.2639059]\n",
      "Epoch 30/10000\n",
      "2266/2266 [==============================] - 21s 9ms/step - loss: 0.0381 - val_loss: 0.0338\n",
      "[-0.05184442 -0.04942775 -0.3683217 ]\n",
      "[ 0.04424558  0.21375526 -0.05880896]\n",
      "[0.13173622 0.5245469  0.26676288]\n",
      "Epoch 31/10000\n",
      "2266/2266 [==============================] - 22s 10ms/step - loss: 0.0308 - val_loss: 0.0595\n",
      "[-0.03406978 -0.05469872 -0.35855594]\n",
      "[ 0.08066357  0.20256907 -0.05011981]\n",
      "[0.1723881  0.5162938  0.27358934]\n",
      "Epoch 32/10000\n",
      "2266/2266 [==============================] - 21s 9ms/step - loss: 0.0247 - val_loss: 0.0235\n",
      "[-0.05730395 -0.04544805 -0.3664114 ]\n",
      "[ 0.02948749  0.21935321 -0.05643425]\n",
      "[0.11556239 0.5292065  0.26814294]\n",
      "Epoch 33/10000\n",
      " 292/2266 [==>...........................] - ETA: 17s - loss: 0.0342"
     ]
    }
   ],
   "source": [
    "history = model.fit(\n",
    "    tf.convert_to_tensor(inputs_train[:-buffer-(len(inputs_train)-buffer)%batch_size]), \n",
    "    tf.convert_to_tensor([[0, i] for i in range(len(train)-buffer-(len(inputs_train)-buffer)%batch_size)]), \n",
    "    validation_data=(tf.convert_to_tensor(inputs_test[:-buffer-(len(inputs_test)-buffer)%batch_size]), tf.convert_to_tensor([[1, i] for i in range(len(test)-buffer-(len(inputs_test)-buffer)%batch_size)])),\n",
    "    epochs=10000, shuffle=True,\n",
    "    batch_size=batch_size,\n",
    "    callbacks=[ival],\n",
    "    use_multiprocessing=True, verbose=1, \n",
    "    validation_freq=1,\n",
    "    workers=64,\n",
    "#     initial_epoch=model.history.epoch[-1],\n",
    ")"
   ]
  },
  {
   "cell_type": "code",
   "execution_count": 52,
   "id": "focused-recall",
   "metadata": {},
   "outputs": [
    {
     "name": "stderr",
     "output_type": "stream",
     "text": [
      "WARNING:absl:Found untraced functions such as lstm_cell_layer_call_fn, lstm_cell_layer_call_and_return_conditional_losses, lstm_cell_layer_call_fn, lstm_cell_layer_call_and_return_conditional_losses, lstm_cell_layer_call_and_return_conditional_losses while saving (showing 5 of 5). These functions will not be directly callable after loading.\n",
      "WARNING:absl:Found untraced functions such as lstm_cell_layer_call_fn, lstm_cell_layer_call_and_return_conditional_losses, lstm_cell_layer_call_fn, lstm_cell_layer_call_and_return_conditional_losses, lstm_cell_layer_call_and_return_conditional_losses while saving (showing 5 of 5). These functions will not be directly callable after loading.\n"
     ]
    },
    {
     "name": "stdout",
     "output_type": "stream",
     "text": [
      "INFO:tensorflow:Assets written to: profit_model\\assets\n"
     ]
    },
    {
     "name": "stderr",
     "output_type": "stream",
     "text": [
      "INFO:tensorflow:Assets written to: profit_model\\assets\n"
     ]
    }
   ],
   "source": [
    "model.save('profit_model_fast')"
   ]
  },
  {
   "cell_type": "code",
   "execution_count": null,
   "id": "informed-declaration",
   "metadata": {
    "scrolled": true
   },
   "outputs": [],
   "source": [
    "model.predict(inputs_train[:100])"
   ]
  },
  {
   "cell_type": "code",
   "execution_count": 264,
   "id": "classified-mineral",
   "metadata": {},
   "outputs": [],
   "source": [
    "y_preds = {'train': model.predict(inputs_train[:-buffer]), 'test': model.predict(inputs_test[:-buffer])}"
   ]
  },
  {
   "cell_type": "code",
   "execution_count": 265,
   "id": "aggregate-small",
   "metadata": {},
   "outputs": [],
   "source": [
    "profits = {'train': get_profit(df[0], y_preds['train'], 0), 'test': get_profit(df[1], y_preds['test'], 0)}"
   ]
  },
  {
   "cell_type": "code",
   "execution_count": 266,
   "id": "reasonable-tablet",
   "metadata": {},
   "outputs": [],
   "source": [
    "temp = {'train': train.iloc[:-buffer-1].copy(), 'test': test.iloc[:-buffer-1].copy()}\n",
    "temp['train']['profit'] = profits['train']\n",
    "temp['test']['profit'] = profits['test']"
   ]
  },
  {
   "cell_type": "code",
   "execution_count": 267,
   "id": "standard-marijuana",
   "metadata": {},
   "outputs": [
    {
     "data": {
      "text/plain": [
       "<AxesSubplot:>"
      ]
     },
     "execution_count": 267,
     "metadata": {},
     "output_type": "execute_result"
    },
    {
     "data": {
      "image/png": "[encoded data removed]",
      "text/plain": [
       "<Figure size 432x288 with 1 Axes>"
      ]
     },
     "metadata": {
      "needs_background": "light"
     },
     "output_type": "display_data"
    }
   ],
   "source": [
    "temp['train']['profit'].plot()"
   ]
  },
  {
   "cell_type": "code",
   "execution_count": 268,
   "id": "considerable-certificate",
   "metadata": {},
   "outputs": [
    {
     "data": {
      "text/plain": [
       "<AxesSubplot:>"
      ]
     },
     "execution_count": 268,
     "metadata": {},
     "output_type": "execute_result"
    },
    {
     "data": {
      "image/png": "[encoded data removed]",
      "text/plain": [
       "<Figure size 432x288 with 1 Axes>"
      ]
     },
     "metadata": {
      "needs_background": "light"
     },
     "output_type": "display_data"
    }
   ],
   "source": [
    "temp['test']['profit'].plot()"
   ]
  },
  {
   "cell_type": "code",
   "execution_count": 269,
   "id": "younger-invitation",
   "metadata": {},
   "outputs": [
    {
     "data": {
      "text/plain": [
       "<AxesSubplot:>"
      ]
     },
     "execution_count": 269,
     "metadata": {},
     "output_type": "execute_result"
    },
    {
     "data": {
      "image/png": "[encoded data removed]",
      "text/plain": [
       "<Figure size 432x288 with 1 Axes>"
      ]
     },
     "metadata": {
      "needs_background": "light"
     },
     "output_type": "display_data"
    }
   ],
   "source": [
    "temp['train']['profit'].cumsum().plot()"
   ]
  },
  {
   "cell_type": "code",
   "execution_count": 270,
   "id": "ignored-frederick",
   "metadata": {},
   "outputs": [
    {
     "name": "stdout",
     "output_type": "stream",
     "text": [
      "ERROR:tensorflow:==================================\n",
      "Object was never used (type <class 'tensorflow.python.ops.tensor_array_ops.TensorArray'>):\n",
      "<tensorflow.python.ops.tensor_array_ops.TensorArray object at 0x0000027C4C2DD588>\n",
      "If you want to mark it as used call its \"mark_used()\" method.\n",
      "It was originally created here:\n",
      "  File \"C:\\Users\\Mcian\\AppData\\Roaming\\Python\\Python37\\site-packages\\tensorflow\\python\\keras\\backend.py\", line 4489, in <genexpr>\n",
      "    ta.write(time, out) for ta, out in zip(output_ta_t, flat_output))  File \"C:\\Users\\Mcian\\AppData\\Roaming\\Python\\Python37\\site-packages\\tensorflow\\python\\util\\tf_should_use.py\", line 249, in wrapped\n",
      "    error_in_function=error_in_function)\n",
      "==================================\n"
     ]
    },
    {
     "data": {
      "text/plain": [
       "<AxesSubplot:>"
      ]
     },
     "execution_count": 270,
     "metadata": {},
     "output_type": "execute_result"
    },
    {
     "data": {
      "image/png": "[encoded data removed]",
      "text/plain": [
       "<Figure size 432x288 with 1 Axes>"
      ]
     },
     "metadata": {
      "needs_background": "light"
     },
     "output_type": "display_data"
    }
   ],
   "source": [
    "temp['test']['profit'].cumsum().plot()"
   ]
  },
  {
   "cell_type": "code",
   "execution_count": 271,
   "id": "cloudy-pizza",
   "metadata": {},
   "outputs": [
    {
     "data": {
      "text/plain": [
       "-42020.4586347991"
      ]
     },
     "execution_count": 271,
     "metadata": {},
     "output_type": "execute_result"
    }
   ],
   "source": [
    "sum(profits['train'])"
   ]
  },
  {
   "cell_type": "code",
   "execution_count": 272,
   "id": "color-buyer",
   "metadata": {},
   "outputs": [
    {
     "data": {
      "text/plain": [
       "-12026.749234259445"
      ]
     },
     "execution_count": 272,
     "metadata": {},
     "output_type": "execute_result"
    }
   ],
   "source": [
    "sum(profits['test'])"
   ]
  },
  {
   "cell_type": "code",
   "execution_count": 273,
   "id": "assumed-friend",
   "metadata": {},
   "outputs": [
    {
     "data": {
      "text/plain": [
       "-5.316856360124336"
      ]
     },
     "execution_count": 273,
     "metadata": {},
     "output_type": "execute_result"
    }
   ],
   "source": [
    "(252 ** 0.5) * np.mean(profits['train']) / np.std(profits['train'])"
   ]
  },
  {
   "cell_type": "code",
   "execution_count": 274,
   "id": "announced-shock",
   "metadata": {},
   "outputs": [
    {
     "data": {
      "text/plain": [
       "-7.6009152420183135"
      ]
     },
     "execution_count": 274,
     "metadata": {},
     "output_type": "execute_result"
    }
   ],
   "source": [
    "(252 ** 0.5) * np.mean(profits['test']) / np.std(profits['test'])"
   ]
  },
  {
   "cell_type": "code",
   "execution_count": null,
   "id": "cardiovascular-flour",
   "metadata": {},
   "outputs": [],
   "source": []
  }
 ],
 "metadata": {
  "kernelspec": {
   "display_name": "Python 3",
   "language": "python",
   "name": "python3"
  },
  "language_info": {
   "codemirror_mode": {
    "name": "ipython",
    "version": 3
   },
   "file_extension": ".py",
   "mimetype": "text/x-python",
   "name": "python",
   "nbconvert_exporter": "python",
   "pygments_lexer": "ipython3",
   "version": "3.7.4"
  }
 },
 "nbformat": 4,
 "nbformat_minor": 5
}
