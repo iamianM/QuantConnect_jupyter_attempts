{
 "cells": [
  {
   "cell_type": "code",
   "execution_count": 1,
   "id": "bc3aafa9",
   "metadata": {},
   "outputs": [],
   "source": [
    "# import os\n",
    "# os.environ[\"CUDA_VISIBLE_DEVICES\"] = \"-1\""
   ]
  },
  {
   "cell_type": "code",
   "execution_count": 1,
   "id": "deed5985",
   "metadata": {},
   "outputs": [
    {
     "name": "stdout",
     "output_type": "stream",
     "text": [
      "1 Physical GPUs, 1 Logical GPUs\n"
     ]
    }
   ],
   "source": [
    "import tensorflow as tf\n",
    "gpus = tf.config.experimental.list_physical_devices('GPU')\n",
    "if gpus:\n",
    "  # Restrict TensorFlow to only allocate 4GB of memory on the first GPU\n",
    "  try:\n",
    "    tf.config.experimental.set_virtual_device_configuration(\n",
    "        gpus[0],\n",
    "        [tf.config.experimental.VirtualDeviceConfiguration(memory_limit=4096)])\n",
    "    logical_gpus = tf.config.experimental.list_logical_devices('GPU')\n",
    "    print(len(gpus), \"Physical GPUs,\", len(logical_gpus), \"Logical GPUs\")\n",
    "  except RuntimeError as e:\n",
    "    # Virtual devices must be set before GPUs have been initialized\n",
    "    print(e)"
   ]
  },
  {
   "cell_type": "code",
   "execution_count": 1,
   "id": "weighted-landing",
   "metadata": {},
   "outputs": [],
   "source": [
    "import os\n",
    "os.environ['TF_FORCE_GPU_ALLOW_GROWTH'] = 'true'"
   ]
  },
  {
   "cell_type": "code",
   "execution_count": 2,
   "id": "cosmetic-chain",
   "metadata": {},
   "outputs": [],
   "source": [
    "import tensorflow as tf\n",
    "\n",
    "config = tf.ConfigProto()\n",
    "config.gpu_options.allow_growth = True\n",
    "tf.keras.backend.set_session(tf.Session(config=config))"
   ]
  },
  {
   "cell_type": "code",
   "execution_count": 2,
   "id": "bc2ba2c0",
   "metadata": {},
   "outputs": [
    {
     "data": {
      "text/plain": [
       "[PhysicalDevice(name='/physical_device:GPU:0', device_type='GPU')]"
      ]
     },
     "execution_count": 2,
     "metadata": {},
     "output_type": "execute_result"
    }
   ],
   "source": [
    "gpus"
   ]
  },
  {
   "cell_type": "code",
   "execution_count": 1,
   "id": "106afdb9",
   "metadata": {},
   "outputs": [],
   "source": [
    "import tensorflow as tf\n",
    "\n",
    "from tensorflow.keras import datasets, models, optimizers\n",
    "from tensorflow.keras.layers import TimeDistributed, Conv2D, Flatten, Dense, LSTM, ConvLSTM2D, MaxPool2D, Dropout, Conv1D, Activation, MaxPooling1D, CuDNNLSTM\n",
    "import matplotlib.pyplot as plt\n",
    "\n",
    "import numpy as np \n",
    "import pandas as pd"
   ]
  },
  {
   "cell_type": "code",
   "execution_count": 2,
   "id": "db33269f",
   "metadata": {},
   "outputs": [
    {
     "data": {
      "text/plain": [
       "'1.15.2'"
      ]
     },
     "execution_count": 2,
     "metadata": {},
     "output_type": "execute_result"
    }
   ],
   "source": [
    "tf.__version__"
   ]
  },
  {
   "cell_type": "code",
   "execution_count": 3,
   "id": "refined-engineering",
   "metadata": {},
   "outputs": [
    {
     "data": {
      "text/plain": [
       "True"
      ]
     },
     "execution_count": 3,
     "metadata": {},
     "output_type": "execute_result"
    }
   ],
   "source": [
    " tf.test.is_gpu_available()"
   ]
  },
  {
   "cell_type": "code",
   "execution_count": 4,
   "id": "c6b3f7ee",
   "metadata": {},
   "outputs": [
    {
     "data": {
      "text/plain": [
       "True"
      ]
     },
     "execution_count": 4,
     "metadata": {},
     "output_type": "execute_result"
    }
   ],
   "source": [
    "tf.test.is_built_with_cuda()"
   ]
  },
  {
   "cell_type": "code",
   "execution_count": 5,
   "id": "8a1a7683",
   "metadata": {},
   "outputs": [],
   "source": [
    "window_size = 6*60"
   ]
  },
  {
   "cell_type": "code",
   "execution_count": 6,
   "id": "d3fb9ce9",
   "metadata": {
    "scrolled": true
   },
   "outputs": [],
   "source": [
    "train = pd.read_csv('train_crypt.csv')\n",
    "test = pd.read_csv('test_crypt.csv')"
   ]
  },
  {
   "cell_type": "code",
   "execution_count": 7,
   "id": "ahead-halifax",
   "metadata": {},
   "outputs": [],
   "source": [
    "train = train[train['symbol'] == 'btcusd.csv']\n",
    "test = test[test['symbol'] == 'btcusd.csv']"
   ]
  },
  {
   "cell_type": "code",
   "execution_count": 8,
   "id": "extraordinary-decimal",
   "metadata": {},
   "outputs": [],
   "source": [
    "train = train.reset_index(drop=True)\n",
    "test = test.reset_index(drop=True)"
   ]
  },
  {
   "cell_type": "code",
   "execution_count": 67,
   "id": "induced-latitude",
   "metadata": {},
   "outputs": [],
   "source": [
    "import numpy as np\n",
    "def normalize(data, window, step):\n",
    "    ohlc = data[step - window + 1:step + 1, :].copy()\n",
    "    min_low = ohlc[:, :4].min()\n",
    "    ohlc[:, :4] = ohlc[:, :4] - min_low\n",
    "\n",
    "    max_high = ohlc[:, :4].max()\n",
    "    ohlc[:, :4] = ohlc[:, :4] / max_high\n",
    "\n",
    "    min_low = ohlc[:, 5:].min(axis=0)\n",
    "    ohlc[:, 5:] = ohlc[:, 5:] - min_low\n",
    "\n",
    "    max_high = ohlc[:, 5:].max(axis=0)\n",
    "    ohlc[:, 5:] = ohlc[:, 5:] / max_high\n",
    "\n",
    "    return ohlc"
   ]
  },
  {
   "cell_type": "code",
   "execution_count": 70,
   "id": "british-kinase",
   "metadata": {
    "scrolled": true
   },
   "outputs": [
    {
     "name": "stdout",
     "output_type": "stream",
     "text": [
      "0\n",
      "10000\n",
      "20000\n",
      "30000\n",
      "40000\n",
      "50000\n",
      "60000\n",
      "70000\n",
      "80000\n",
      "90000\n",
      "100000\n",
      "110000\n",
      "120000\n",
      "130000\n",
      "140000\n",
      "150000\n",
      "160000\n",
      "170000\n",
      "180000\n",
      "190000\n",
      "200000\n",
      "210000\n",
      "220000\n",
      "230000\n",
      "240000\n",
      "250000\n",
      "260000\n",
      "270000\n",
      "280000\n",
      "290000\n",
      "300000\n",
      "310000\n",
      "320000\n",
      "330000\n",
      "340000\n",
      "350000\n",
      "360000\n",
      "370000\n",
      "380000\n",
      "390000\n",
      "400000\n",
      "410000\n",
      "420000\n",
      "430000\n",
      "440000\n",
      "450000\n",
      "460000\n",
      "470000\n",
      "480000\n",
      "490000\n",
      "500000\n",
      "510000\n",
      "520000\n",
      "530000\n",
      "540000\n",
      "550000\n",
      "560000\n",
      "570000\n",
      "580000\n",
      "590000\n",
      "600000\n",
      "610000\n",
      "620000\n",
      "630000\n",
      "640000\n",
      "650000\n",
      "660000\n",
      "670000\n",
      "680000\n",
      "690000\n",
      "700000\n",
      "710000\n",
      "720000\n",
      "730000\n",
      "740000\n",
      "750000\n",
      "760000\n",
      "770000\n",
      "780000\n",
      "790000\n",
      "800000\n",
      "810000\n",
      "820000\n",
      "830000\n",
      "840000\n",
      "850000\n",
      "860000\n",
      "870000\n",
      "880000\n",
      "890000\n",
      "900000\n",
      "910000\n",
      "920000\n",
      "930000\n",
      "940000\n",
      "950000\n",
      "960000\n",
      "970000\n",
      "980000\n",
      "990000\n",
      "1000000\n",
      "1010000\n",
      "1020000\n",
      "1030000\n",
      "1040000\n",
      "1050000\n",
      "1060000\n",
      "1070000\n",
      "1080000\n",
      "1090000\n",
      "1100000\n",
      "1110000\n",
      "1120000\n",
      "1130000\n",
      "1140000\n",
      "1150000\n",
      "1160000\n",
      "1170000\n",
      "1180000\n",
      "1190000\n",
      "1200000\n",
      "1210000\n",
      "1220000\n",
      "1230000\n",
      "1240000\n",
      "1250000\n",
      "1260000\n",
      "1270000\n",
      "1280000\n",
      "1290000\n",
      "1300000\n",
      "1310000\n",
      "1320000\n",
      "1330000\n",
      "1340000\n",
      "1350000\n",
      "1360000\n",
      "1370000\n",
      "1380000\n",
      "1390000\n",
      "1400000\n",
      "1410000\n",
      "1420000\n",
      "1430000\n",
      "1440000\n",
      "1450000\n",
      "1460000\n",
      "1470000\n",
      "1480000\n",
      "1490000\n",
      "1500000\n",
      "1510000\n",
      "1520000\n",
      "1530000\n",
      "1540000\n",
      "1550000\n",
      "1560000\n",
      "1570000\n",
      "1580000\n",
      "1590000\n",
      "1600000\n",
      "1610000\n",
      "1620000\n",
      "1630000\n",
      "1640000\n",
      "1650000\n",
      "1660000\n",
      "1670000\n",
      "1680000\n",
      "1690000\n",
      "1700000\n",
      "1710000\n",
      "1720000\n",
      "1730000\n",
      "1740000\n",
      "1750000\n",
      "1760000\n",
      "1770000\n",
      "1780000\n",
      "1790000\n",
      "1800000\n",
      "1810000\n",
      "1820000\n",
      "1830000\n",
      "1840000\n",
      "1850000\n",
      "1860000\n",
      "1870000\n",
      "1880000\n",
      "1890000\n",
      "1900000\n",
      "1910000\n",
      "1920000\n",
      "1930000\n",
      "1940000\n",
      "1950000\n",
      "1960000\n",
      "1970000\n",
      "1980000\n",
      "1990000\n",
      "2000000\n",
      "2010000\n",
      "2020000\n",
      "2030000\n",
      "2040000\n",
      "2050000\n",
      "2060000\n",
      "2070000\n",
      "2080000\n",
      "2090000\n",
      "2100000\n",
      "2110000\n",
      "2120000\n",
      "2130000\n",
      "2140000\n",
      "2150000\n",
      "2160000\n",
      "2170000\n",
      "2180000\n",
      "2190000\n",
      "2200000\n",
      "2210000\n",
      "2220000\n",
      "2230000\n",
      "2240000\n",
      "2250000\n",
      "2260000\n",
      "2270000\n",
      "2280000\n",
      "2290000\n",
      "2300000\n",
      "2310000\n",
      "2320000\n",
      "2330000\n",
      "2340000\n",
      "2350000\n",
      "2360000\n",
      "2370000\n",
      "2380000\n",
      "2390000\n",
      "2400000\n",
      "2410000\n",
      "2420000\n",
      "2430000\n",
      "2440000\n",
      "2450000\n",
      "2460000\n",
      "2470000\n",
      "2480000\n",
      "2490000\n",
      "2500000\n",
      "2510000\n",
      "2520000\n",
      "2530000\n",
      "2540000\n",
      "2550000\n",
      "2560000\n",
      "2570000\n",
      "2580000\n",
      "2590000\n",
      "2600000\n",
      "2610000\n",
      "2620000\n",
      "2630000\n",
      "2640000\n",
      "2650000\n",
      "2660000\n",
      "2670000\n",
      "2680000\n",
      "2690000\n",
      "2700000\n",
      "2710000\n",
      "2720000\n",
      "2730000\n",
      "2740000\n",
      "2750000\n",
      "2760000\n",
      "2770000\n",
      "2780000\n",
      "2790000\n",
      "2800000\n",
      "2810000\n",
      "2820000\n",
      "2830000\n",
      "2840000\n",
      "2850000\n",
      "2860000\n",
      "2870000\n",
      "2880000\n",
      "2890000\n",
      "2900000\n",
      "2910000\n",
      "2920000\n",
      "2930000\n",
      "2940000\n",
      "2950000\n",
      "2960000\n",
      "2970000\n",
      "2980000\n",
      "2990000\n",
      "3000000\n",
      "3010000\n",
      "3020000\n",
      "3030000\n",
      "3040000\n",
      "3050000\n",
      "3060000\n",
      "3070000\n",
      "3080000\n",
      "3090000\n",
      "3100000\n",
      "3110000\n",
      "3120000\n",
      "3130000\n",
      "3140000\n",
      "CPU times: user 7min 13s, sys: 35.6 s, total: 7min 48s\n",
      "Wall time: 7min 48s\n"
     ]
    }
   ],
   "source": [
    "%%time\n",
    "\n",
    "frame = '_1min'\n",
    "candlestick_c = ['open_1min', 'high_1min', 'low_1min', 'close_1min']\n",
    "values = candlestick_c + [c for c in train.columns if c not in candlestick_c and frame in c]\n",
    "ohlc = train[values].values\n",
    "\n",
    "inputs_train = np.empty(shape=(len(ohlc) - window_size-1,) + normalize(ohlc, window_size , window_size-1).shape)\n",
    "for i in range(len(ohlc) - window_size-1):\n",
    "    if i % 10000 == 0:\n",
    "        print(i)\n",
    "    inputs_train[i] = normalize(ohlc, window_size , i+window_size-1)"
   ]
  },
  {
   "cell_type": "code",
   "execution_count": 71,
   "id": "cordless-minimum",
   "metadata": {
    "scrolled": true
   },
   "outputs": [
    {
     "name": "stdout",
     "output_type": "stream",
     "text": [
      "0\n",
      "10000\n",
      "20000\n",
      "30000\n",
      "40000\n",
      "50000\n",
      "60000\n",
      "70000\n",
      "80000\n",
      "90000\n",
      "100000\n",
      "110000\n",
      "120000\n",
      "130000\n",
      "140000\n",
      "150000\n",
      "160000\n",
      "170000\n",
      "180000\n",
      "190000\n",
      "200000\n",
      "210000\n",
      "CPU times: user 29.5 s, sys: 2.42 s, total: 32 s\n",
      "Wall time: 31.9 s\n"
     ]
    }
   ],
   "source": [
    "%%time\n",
    "\n",
    "frame = '_1min'\n",
    "candlestick_c = ['open_1min', 'high_1min', 'low_1min', 'close_1min']\n",
    "values = candlestick_c + [c for c in test.columns if c not in candlestick_c and frame in c]\n",
    "ohlc = test[values].values\n",
    "\n",
    "inputs_test = np.empty(shape=(len(ohlc) - window_size-1,) + normalize(ohlc, window_size , window_size-1).shape)\n",
    "for i in range(len(ohlc) - window_size-1):\n",
    "    if i % 10000 == 0:\n",
    "        print(i)\n",
    "    inputs_test[i] = normalize(ohlc, window_size , i+window_size-1)"
   ]
  },
  {
   "cell_type": "code",
   "execution_count": 54,
   "id": "occupied-environment",
   "metadata": {},
   "outputs": [],
   "source": [
    "train = pd.read_csv('train_crypt.csv').iloc[window_size-1:]\n",
    "test = pd.read_csv('test_crypt.csv').iloc[window_size-1:]"
   ]
  },
  {
   "cell_type": "code",
   "execution_count": 72,
   "id": "wicked-indonesia",
   "metadata": {},
   "outputs": [],
   "source": [
    "train = train.iloc[window_size-1:]\n",
    "test = test.iloc[window_size-1:]"
   ]
  },
  {
   "cell_type": "code",
   "execution_count": 73,
   "id": "duplicate-withdrawal",
   "metadata": {},
   "outputs": [],
   "source": [
    "np.save(f\"inputs_train_crypt_{window_size}.npy\", inputs_train)\n",
    "np.save(f\"inputs_test_crypt_{window_size}.npy\", inputs_test)"
   ]
  },
  {
   "cell_type": "code",
   "execution_count": 177,
   "id": "sudden-jumping",
   "metadata": {},
   "outputs": [],
   "source": [
    "inputs_train = np.load(f\"inputs_train_{window_size}.npy\")\n",
    "inputs_test = np.load(f\"inputs_test_{window_size}.npy\")"
   ]
  },
  {
   "cell_type": "code",
   "execution_count": 74,
   "id": "b19933fc",
   "metadata": {},
   "outputs": [],
   "source": [
    "margin_size = 50\n",
    "time_limit = 15"
   ]
  },
  {
   "cell_type": "code",
   "execution_count": 75,
   "id": "bridal-somewhere",
   "metadata": {},
   "outputs": [],
   "source": [
    "y_true = np.array([train['close_1min'].values[:-time_limit], train['close_1min'].values[time_limit:]]).T\n",
    "y_true_pred = np.array([test['close_1min'].values[:-time_limit], test['close_1min'].values[time_limit:]]).T"
   ]
  },
  {
   "cell_type": "code",
   "execution_count": 76,
   "id": "auburn-grant",
   "metadata": {},
   "outputs": [],
   "source": [
    "inputs_train = inputs_train[:len(y_true)]\n",
    "inputs_test = inputs_test[:len(y_true_pred)]"
   ]
  },
  {
   "cell_type": "code",
   "execution_count": 77,
   "id": "academic-adventure",
   "metadata": {},
   "outputs": [],
   "source": [
    "idxs = []\n",
    "for i in range(time_limit):\n",
    "    idxs.extend(list(range(i, len(inputs_train), time_limit)))\n",
    "idxs = np.array(idxs)"
   ]
  },
  {
   "cell_type": "code",
   "execution_count": 78,
   "id": "magnetic-albert",
   "metadata": {},
   "outputs": [],
   "source": [
    "idxs_test = []\n",
    "for i in range(time_limit):\n",
    "    idxs_test.extend(list(range(i, len(inputs_test), time_limit)))\n",
    "idxs_test = np.array(idxs_test)"
   ]
  },
  {
   "cell_type": "code",
   "execution_count": 79,
   "id": "flexible-removal",
   "metadata": {},
   "outputs": [],
   "source": [
    "inputs_train = inputs_train[idxs]\n",
    "inputs_test = inputs_test[idxs_test]"
   ]
  },
  {
   "cell_type": "code",
   "execution_count": 80,
   "id": "adolescent-powell",
   "metadata": {},
   "outputs": [],
   "source": [
    "y_true = y_true[idxs]\n",
    "y_true_pred = y_true_pred[idxs_test]"
   ]
  },
  {
   "cell_type": "code",
   "execution_count": 81,
   "id": "7c382044",
   "metadata": {},
   "outputs": [],
   "source": [
    "img = inputs_train[0,:,:]"
   ]
  },
  {
   "cell_type": "code",
   "execution_count": 82,
   "id": "187a2689",
   "metadata": {},
   "outputs": [
    {
     "data": {
      "text/plain": [
       "(360, 13)"
      ]
     },
     "execution_count": 82,
     "metadata": {},
     "output_type": "execute_result"
    }
   ],
   "source": [
    "img.shape"
   ]
  },
  {
   "cell_type": "code",
   "execution_count": 83,
   "id": "60e413db",
   "metadata": {},
   "outputs": [
    {
     "data": {
      "text/plain": [
       "((3146208, 360, 13), (3146223, 16))"
      ]
     },
     "execution_count": 83,
     "metadata": {},
     "output_type": "execute_result"
    }
   ],
   "source": [
    "inputs_train.shape, train.shape"
   ]
  },
  {
   "cell_type": "code",
   "execution_count": 84,
   "id": "3bd587f0",
   "metadata": {},
   "outputs": [
    {
     "data": {
      "text/plain": [
       "((213458, 360, 13), (213473, 16))"
      ]
     },
     "execution_count": 84,
     "metadata": {},
     "output_type": "execute_result"
    }
   ],
   "source": [
    "inputs_test.shape, test.shape"
   ]
  },
  {
   "cell_type": "code",
   "execution_count": 85,
   "id": "reasonable-compression",
   "metadata": {},
   "outputs": [],
   "source": [
    "def meanm(y_true, y_pred):\n",
    "    return tf.reduce_mean(y_pred)\n",
    "def absmeanm(y_true, y_pred):\n",
    "    return tf.reduce_mean(tf.abs(y_pred))\n",
    "def minm(y_true, y_pred):\n",
    "    return tf.reduce_min(y_pred)\n",
    "def maxm(y_true, y_pred):\n",
    "    return tf.reduce_max(y_pred)"
   ]
  },
  {
   "cell_type": "code",
   "execution_count": 86,
   "id": "useful-exhaust",
   "metadata": {},
   "outputs": [],
   "source": [
    "def custom_metric_wrapper(margin_size):  \n",
    "    def profit(y_true, y_pred):\n",
    "        margin = y_pred[:,:1] \n",
    "        \n",
    "        close1 = y_true[:,:1]\n",
    "        close2 = y_true[:,1:2]\n",
    "        diff = close2 - close1\n",
    "\n",
    "        profit = 100 * margin * ((diff/close1))\n",
    "        x = tf.reduce_mean(profit)\n",
    "        return x\n",
    "    return profit"
   ]
  },
  {
   "cell_type": "code",
   "execution_count": 92,
   "id": "58d2407b",
   "metadata": {},
   "outputs": [],
   "source": [
    "def custom_loss_wrapper(margin_size):  \n",
    "    def custom_loss(y_true, y_pred):\n",
    "        margin = y_pred[:,:1]\n",
    "        \n",
    "        close1 = y_true[:,:1]\n",
    "        close2 = y_true[:,1:2]\n",
    "        diff = close2 - close1\n",
    "\n",
    "        profit = 100 * margin * ((diff/close1))\n",
    "        mean = tf.reduce_mean(profit)\n",
    "        idx_downside = profit < 0\n",
    "#         downside_std = tf.math.reduce_std(tf.boolean_mask(profit, idx_downside))\n",
    "        downside_std = tf.math.reduce_std(profit)\n",
    "#         downside_std = tf.where(downside_std < 0.01, 0.01, downside_std)\n",
    "        cond = tf.logical_and(tf.abs(mean) < 0.001, tf.abs(downside_std) < 0.001)\n",
    "#         sharpe = tf.cond(cond, lambda: 0*tf.ones_like(downside_std), lambda: ((252*24*60/time_limit) ** 0.5) * mean / downside_std)\n",
    "        sharpe = ((252*24*60/time_limit) ** 0.5) * mean / downside_std\n",
    "        x = tf.where(tf.abs(sharpe) < 0.01, 0*tf.ones_like(sharpe), -tf.sign(sharpe)*tf.log(tf.abs(sharpe)))\n",
    "#         x = -tf.sign(sharpe)*tf.log(tf.abs(sharpe))\n",
    "#         x = -sharpe\n",
    "#         x = tf.where(tf.abs(profit) < 0.01, 0*tf.ones_like(profit), -tf.sign(profit)*tf.log(tf.abs(profit)))\n",
    "#         x = -tf.sign(profit)*tf.log(tf.abs(profit))\n",
    "#         x = -profit\n",
    "        return tf.reduce_mean(x)\n",
    "    return custom_loss"
   ]
  },
  {
   "cell_type": "code",
   "execution_count": 98,
   "id": "resident-canada",
   "metadata": {},
   "outputs": [
    {
     "data": {
      "text/plain": [
       "(213832, 13)"
      ]
     },
     "execution_count": 98,
     "metadata": {},
     "output_type": "execute_result"
    }
   ],
   "source": [
    "ohlc.shape"
   ]
  },
  {
   "cell_type": "code",
   "execution_count": 108,
   "id": "subtle-paint",
   "metadata": {
    "scrolled": true
   },
   "outputs": [],
   "source": [
    "n_features = ohlc.shape[1]\n",
    "n_seq = 12\n",
    "n_steps = 30\n",
    "X = inputs_train.reshape((inputs_train.shape[0], n_seq, n_steps, n_features, 1))\n",
    "X_test = inputs_test.reshape((inputs_test.shape[0], n_seq, n_steps, n_features, 1))\n",
    "def get_model():\n",
    "    model = models.Sequential()\n",
    "    model.add(ConvLSTM2D(filters=32, kernel_size=(5,1), activation='relu', \n",
    "                         input_shape=(n_seq, n_steps, n_features, 1), dropout=0.5,))\n",
    "#                         kernel_regularizer='l1', recurrent_regularizer='l1'))\n",
    "    model.add(Flatten())\n",
    "    model.add(Dense(1, activation=\"sigmoid\"))\n",
    "#     model = models.Sequential()\n",
    "#     model.add(TimeDistributed(Conv1D(filters=64, kernel_size=1, activation='relu'), input_shape=(None, n_steps, n_features)))\n",
    "#     model.add(TimeDistributed(MaxPooling1D(pool_size=2)))\n",
    "#     model.add(TimeDistributed(Flatten()))\n",
    "#     model.add(LSTM(50, activation='relu'))\n",
    "#     model.add(Dense(1))\n",
    "    return model\n",
    "    \n",
    "model = get_model()\n",
    "model.compile(\n",
    "    optimizer=optimizers.Adam(learning_rate=0.001, clipnorm=1),\n",
    "    loss=custom_loss_wrapper(margin_size),\n",
    "    metrics=[custom_metric_wrapper(margin_size), absmeanm, meanm, minm, maxm],\n",
    "    run_eagerly=False\n",
    ")"
   ]
  },
  {
   "cell_type": "code",
   "execution_count": 109,
   "id": "structured-adams",
   "metadata": {
    "scrolled": true
   },
   "outputs": [
    {
     "name": "stdout",
     "output_type": "stream",
     "text": [
      "Train on 3146207 samples, validate on 213457 samples\n",
      "Epoch 1/10000\n",
      "3146207/3146207 [==============================] - 753s 239us/sample - loss: -0.3722 - profit: 0.0081 - absmeanm: 0.9716 - meanm: 0.9716 - minm: 0.8190 - maxm: 1.0000 - val_loss: -0.1939 - val_profit: 0.0029 - val_absmeanm: 0.9601 - val_meanm: 0.9601 - val_minm: 0.0000e+00 - val_maxm: 1.0000\n",
      "Epoch 2/10000\n",
      "3146207/3146207 [==============================] - 756s 240us/sample - loss: -0.3402 - profit: 0.0078 - absmeanm: 0.7893 - meanm: 0.7893 - minm: 0.0488 - maxm: 1.0000 - val_loss: -0.1432 - val_profit: 0.0015 - val_absmeanm: 0.8586 - val_meanm: 0.8586 - val_minm: 0.0000e+00 - val_maxm: 1.0000\n",
      "Epoch 3/10000\n",
      "3146207/3146207 [==============================] - 755s 240us/sample - loss: -0.3898 - profit: 0.0082 - absmeanm: 0.9870 - meanm: 0.9870 - minm: 0.7283 - maxm: 1.0000 - val_loss: -0.2659 - val_profit: 0.0032 - val_absmeanm: 1.0000 - val_meanm: 1.0000 - val_minm: 1.0000 - val_maxm: 1.0000\n",
      "Epoch 4/10000\n",
      "3146207/3146207 [==============================] - 765s 243us/sample - loss: -0.3868 - profit: 0.0082 - absmeanm: 0.9999 - meanm: 0.9999 - minm: 0.9828 - maxm: 1.0000 - val_loss: -0.2121 - val_profit: 0.0031 - val_absmeanm: 1.0000 - val_meanm: 1.0000 - val_minm: 1.0000 - val_maxm: 1.0000\n",
      "Epoch 5/10000\n",
      "3146207/3146207 [==============================] - 760s 242us/sample - loss: -0.3861 - profit: 0.0082 - absmeanm: 1.0000 - meanm: 1.0000 - minm: 0.9997 - maxm: 1.0000 - val_loss: -0.2228 - val_profit: 0.0031 - val_absmeanm: 1.0000 - val_meanm: 1.0000 - val_minm: 1.0000 - val_maxm: 1.0000\n",
      "Epoch 6/10000\n",
      "3146207/3146207 [==============================] - 752s 239us/sample - loss: -0.3861 - profit: 0.0082 - absmeanm: 1.0000 - meanm: 1.0000 - minm: 1.0000 - maxm: 1.0000 - val_loss: -0.2248 - val_profit: 0.0031 - val_absmeanm: 1.0000 - val_meanm: 1.0000 - val_minm: 1.0000 - val_maxm: 1.0000\n",
      "Epoch 7/10000\n",
      "3146207/3146207 [==============================] - 759s 241us/sample - loss: -0.3862 - profit: 0.0082 - absmeanm: 0.9964 - meanm: 0.9964 - minm: 0.9235 - maxm: 1.0000 - val_loss: -0.2508 - val_profit: 0.0023 - val_absmeanm: 0.8931 - val_meanm: 0.8931 - val_minm: 0.0256 - val_maxm: 1.0000\n",
      "Epoch 8/10000\n",
      "3146207/3146207 [==============================] - 741s 235us/sample - loss: -0.3779 - profit: 0.0080 - absmeanm: 0.9117 - meanm: 0.9117 - minm: 0.0734 - maxm: 1.0000 - val_loss: -0.2913 - val_profit: 0.0026 - val_absmeanm: 0.7558 - val_meanm: 0.7558 - val_minm: 0.1076 - val_maxm: 1.0000\n",
      "Epoch 9/10000\n",
      "3146207/3146207 [==============================] - 740s 235us/sample - loss: -0.4162 - profit: 0.0078 - absmeanm: 0.8624 - meanm: 0.8624 - minm: 0.0153 - maxm: 1.0000 - val_loss: -0.0966 - val_profit: 0.0011 - val_absmeanm: 0.8202 - val_meanm: 0.8202 - val_minm: 0.0030 - val_maxm: 1.0000\n",
      "Epoch 10/10000\n",
      "3146207/3146207 [==============================] - 741s 235us/sample - loss: -0.4300 - profit: 0.0082 - absmeanm: 0.8984 - meanm: 0.8984 - minm: 0.0060 - maxm: 1.0000 - val_loss: -0.1475 - val_profit: 0.0014 - val_absmeanm: 0.8203 - val_meanm: 0.8203 - val_minm: 1.3040e-05 - val_maxm: 1.0000\n",
      "Epoch 11/10000\n",
      "3146207/3146207 [==============================] - 739s 235us/sample - loss: -0.4188 - profit: 0.0082 - absmeanm: 0.8877 - meanm: 0.8877 - minm: 0.0017 - maxm: 1.0000 - val_loss: -0.1015 - val_profit: 0.0015 - val_absmeanm: 0.8043 - val_meanm: 0.8043 - val_minm: 0.0000e+00 - val_maxm: 1.0000\n",
      "Epoch 12/10000\n",
      "3146207/3146207 [==============================] - 741s 235us/sample - loss: -0.4426 - profit: 0.0082 - absmeanm: 0.8741 - meanm: 0.8741 - minm: 0.0049 - maxm: 1.0000 - val_loss: -0.1201 - val_profit: 0.0011 - val_absmeanm: 0.7371 - val_meanm: 0.7371 - val_minm: 2.7949e-08 - val_maxm: 1.0000\n",
      "Epoch 13/10000\n",
      "3146207/3146207 [==============================] - 740s 235us/sample - loss: -0.4415 - profit: 0.0081 - absmeanm: 0.8612 - meanm: 0.8612 - minm: 3.3935e-04 - maxm: 1.0000 - val_loss: -0.1101 - val_profit: 0.0020 - val_absmeanm: 0.7101 - val_meanm: 0.7101 - val_minm: 9.9816e-10 - val_maxm: 1.0000\n",
      "Epoch 14/10000\n",
      "3146207/3146207 [==============================] - 741s 236us/sample - loss: -0.4635 - profit: 0.0080 - absmeanm: 0.7824 - meanm: 0.7824 - minm: 8.5149e-09 - maxm: 1.0000 - val_loss: -0.0614 - val_profit: 4.8157e-04 - val_absmeanm: 0.6890 - val_meanm: 0.6890 - val_minm: 0.0000e+00 - val_maxm: 1.0000\n",
      "Epoch 15/10000\n",
      "3146207/3146207 [==============================] - 740s 235us/sample - loss: -0.4526 - profit: 0.0069 - absmeanm: 0.8053 - meanm: 0.8053 - minm: 0.0000e+00 - maxm: 1.0000 - val_loss: 0.0489 - val_profit: 2.3215e-04 - val_absmeanm: 0.8444 - val_meanm: 0.8444 - val_minm: 5.7038e-10 - val_maxm: 1.0000\n",
      "Epoch 16/10000\n",
      "3146207/3146207 [==============================] - 740s 235us/sample - loss: -0.4582 - profit: 0.0083 - absmeanm: 0.8654 - meanm: 0.8654 - minm: 3.7823e-10 - maxm: 1.0000 - val_loss: -0.2302 - val_profit: 0.0029 - val_absmeanm: 0.4252 - val_meanm: 0.4252 - val_minm: 0.0000e+00 - val_maxm: 1.0000\n",
      "Epoch 17/10000\n",
      "3146207/3146207 [==============================] - 739s 235us/sample - loss: -0.4254 - profit: 0.0053 - absmeanm: 0.8259 - meanm: 0.8259 - minm: 0.0000e+00 - maxm: 1.0000 - val_loss: -0.0402 - val_profit: 9.8965e-04 - val_absmeanm: 0.8898 - val_meanm: 0.8898 - val_minm: 0.0000e+00 - val_maxm: 1.0000\n",
      "Epoch 18/10000\n",
      "3146207/3146207 [==============================] - 739s 235us/sample - loss: -0.4163 - profit: 0.0082 - absmeanm: 0.9308 - meanm: 0.9308 - minm: 0.0224 - maxm: 1.0000 - val_loss: -0.2638 - val_profit: 0.0037 - val_absmeanm: 0.7636 - val_meanm: 0.7636 - val_minm: 0.0000e+00 - val_maxm: 1.0000\n",
      "Epoch 19/10000\n",
      "3146207/3146207 [==============================] - 741s 236us/sample - loss: -0.2913 - profit: 0.0061 - absmeanm: 0.6583 - meanm: 0.6583 - minm: 0.0000e+00 - maxm: 1.0000 - val_loss: 0.1565 - val_profit: -2.7621e-04 - val_absmeanm: 0.6903 - val_meanm: 0.6903 - val_minm: 0.0000e+00 - val_maxm: 1.0000\n",
      "Epoch 20/10000\n",
      "3146207/3146207 [==============================] - 744s 236us/sample - loss: -0.3859 - profit: 0.0080 - absmeanm: 0.9741 - meanm: 0.9741 - minm: 0.4719 - maxm: 1.0000 - val_loss: -0.1667 - val_profit: 0.0031 - val_absmeanm: 0.9982 - val_meanm: 0.9982 - val_minm: 0.1914 - val_maxm: 1.0000\n",
      "Epoch 21/10000\n",
      "3146207/3146207 [==============================] - 743s 236us/sample - loss: -0.3769 - profit: 0.0053 - absmeanm: 0.9619 - meanm: 0.9619 - minm: 0.3781 - maxm: 1.0000 - val_loss: -0.2573 - val_profit: 0.0031 - val_absmeanm: 0.9985 - val_meanm: 0.9985 - val_minm: 0.2536 - val_maxm: 1.0000\n",
      "Epoch 22/10000\n",
      "3146207/3146207 [==============================] - 745s 237us/sample - loss: -0.3490 - profit: 0.0077 - absmeanm: 0.8039 - meanm: 0.8039 - minm: 0.1813 - maxm: 1.0000 - val_loss: 0.3733 - val_profit: -0.0037 - val_absmeanm: 0.2987 - val_meanm: 0.2987 - val_minm: 0.0000e+00 - val_maxm: 1.0000\n",
      "Epoch 23/10000\n",
      "3146207/3146207 [==============================] - 745s 237us/sample - loss: -0.1435 - profit: 0.0025 - absmeanm: 0.3304 - meanm: 0.3304 - minm: 3.2541e-04 - maxm: 1.0000 - val_loss: -0.0783 - val_profit: 1.1005e-04 - val_absmeanm: 0.0102 - val_meanm: 0.0102 - val_minm: 0.0000e+00 - val_maxm: 1.0000\n",
      "Epoch 24/10000\n",
      "3146207/3146207 [==============================] - 746s 237us/sample - loss: -0.2751 - profit: 0.0071 - absmeanm: 0.5490 - meanm: 0.5490 - minm: 0.0000e+00 - maxm: 1.0000 - val_loss: 0.2772 - val_profit: -0.0031 - val_absmeanm: 0.3715 - val_meanm: 0.3715 - val_minm: 0.0000e+00 - val_maxm: 1.0000\n",
      "Epoch 25/10000\n",
      "3146207/3146207 [==============================] - 744s 236us/sample - loss: nan - profit: nan - absmeanm: nan - meanm: nan - minm: 0.2704 - maxm: 0.9997 - val_loss: nan - val_profit: nan - val_absmeanm: nan - val_meanm: nan - val_minm: 1.0000 - val_maxm: 1.0000\n",
      "Epoch 26/10000\n",
      "3146207/3146207 [==============================] - 742s 236us/sample - loss: nan - profit: nan - absmeanm: nan - meanm: nan - minm: 1.0000 - maxm: 1.0000 - val_loss: nan - val_profit: nan - val_absmeanm: nan - val_meanm: nan - val_minm: 1.0000 - val_maxm: 1.0000\n",
      "Epoch 27/10000\n",
      "3146207/3146207 [==============================] - 742s 236us/sample - loss: nan - profit: nan - absmeanm: nan - meanm: nan - minm: 1.0000 - maxm: 1.0000 - val_loss: nan - val_profit: nan - val_absmeanm: nan - val_meanm: nan - val_minm: 1.0000 - val_maxm: 1.0000\n"
     ]
    },
    {
     "name": "stdout",
     "output_type": "stream",
     "text": [
      "Epoch 28/10000\n",
      "3146207/3146207 [==============================] - 741s 236us/sample - loss: nan - profit: nan - absmeanm: nan - meanm: nan - minm: 1.0000 - maxm: 1.0000 - val_loss: nan - val_profit: nan - val_absmeanm: nan - val_meanm: nan - val_minm: 1.0000 - val_maxm: 1.0000\n",
      "Epoch 29/10000\n",
      "3146207/3146207 [==============================] - 741s 235us/sample - loss: nan - profit: nan - absmeanm: nan - meanm: nan - minm: 1.0000 - maxm: 1.0000 - val_loss: nan - val_profit: nan - val_absmeanm: nan - val_meanm: nan - val_minm: 1.0000 - val_maxm: 1.0000\n",
      "Epoch 30/10000\n",
      "3146207/3146207 [==============================] - 741s 235us/sample - loss: nan - profit: nan - absmeanm: nan - meanm: nan - minm: 1.0000 - maxm: 1.0000 - val_loss: nan - val_profit: nan - val_absmeanm: nan - val_meanm: nan - val_minm: 1.0000 - val_maxm: 1.0000\n",
      "Epoch 31/10000\n",
      "3146207/3146207 [==============================] - 740s 235us/sample - loss: nan - profit: nan - absmeanm: nan - meanm: nan - minm: 1.0000 - maxm: 1.0000 - val_loss: nan - val_profit: nan - val_absmeanm: nan - val_meanm: nan - val_minm: 1.0000 - val_maxm: 1.0000\n",
      "Epoch 32/10000\n",
      "3146207/3146207 [==============================] - 741s 235us/sample - loss: nan - profit: nan - absmeanm: nan - meanm: nan - minm: 1.0000 - maxm: 1.0000 - val_loss: nan - val_profit: nan - val_absmeanm: nan - val_meanm: nan - val_minm: 1.0000 - val_maxm: 1.0000\n",
      "Epoch 33/10000\n",
      "3146207/3146207 [==============================] - 740s 235us/sample - loss: nan - profit: nan - absmeanm: nan - meanm: nan - minm: 1.0000 - maxm: 1.0000 - val_loss: nan - val_profit: nan - val_absmeanm: nan - val_meanm: nan - val_minm: 1.0000 - val_maxm: 1.0000\n",
      "Epoch 34/10000\n",
      "3146207/3146207 [==============================] - 740s 235us/sample - loss: nan - profit: nan - absmeanm: nan - meanm: nan - minm: 1.0000 - maxm: 1.0000 - val_loss: nan - val_profit: nan - val_absmeanm: nan - val_meanm: nan - val_minm: 1.0000 - val_maxm: 1.0000\n",
      "Epoch 35/10000\n",
      "3146207/3146207 [==============================] - 740s 235us/sample - loss: nan - profit: nan - absmeanm: nan - meanm: nan - minm: 1.0000 - maxm: 1.0000 - val_loss: nan - val_profit: nan - val_absmeanm: nan - val_meanm: nan - val_minm: 1.0000 - val_maxm: 1.0000\n",
      "Epoch 36/10000\n",
      "3146207/3146207 [==============================] - 741s 235us/sample - loss: nan - profit: nan - absmeanm: nan - meanm: nan - minm: 1.0000 - maxm: 1.0000 - val_loss: nan - val_profit: nan - val_absmeanm: nan - val_meanm: nan - val_minm: 1.0000 - val_maxm: 1.0000\n",
      "Epoch 37/10000\n",
      "3146207/3146207 [==============================] - 740s 235us/sample - loss: nan - profit: nan - absmeanm: nan - meanm: nan - minm: 1.0000 - maxm: 1.0000 - val_loss: nan - val_profit: nan - val_absmeanm: nan - val_meanm: nan - val_minm: 1.0000 - val_maxm: 1.0000\n",
      "Epoch 38/10000\n",
      "3146207/3146207 [==============================] - 741s 235us/sample - loss: nan - profit: nan - absmeanm: nan - meanm: nan - minm: 1.0000 - maxm: 1.0000 - val_loss: nan - val_profit: nan - val_absmeanm: nan - val_meanm: nan - val_minm: 1.0000 - val_maxm: 1.0000\n",
      "Epoch 39/10000\n",
      "3146207/3146207 [==============================] - 740s 235us/sample - loss: nan - profit: nan - absmeanm: nan - meanm: nan - minm: 1.0000 - maxm: 1.0000 - val_loss: nan - val_profit: nan - val_absmeanm: nan - val_meanm: nan - val_minm: 1.0000 - val_maxm: 1.0000\n",
      "Epoch 40/10000\n",
      "3146207/3146207 [==============================] - 740s 235us/sample - loss: nan - profit: nan - absmeanm: nan - meanm: nan - minm: 1.0000 - maxm: 1.0000 - val_loss: nan - val_profit: nan - val_absmeanm: nan - val_meanm: nan - val_minm: 1.0000 - val_maxm: 1.0000\n",
      "Epoch 41/10000\n",
      "3146207/3146207 [==============================] - 740s 235us/sample - loss: nan - profit: nan - absmeanm: nan - meanm: nan - minm: 1.0000 - maxm: 1.0000 - val_loss: nan - val_profit: nan - val_absmeanm: nan - val_meanm: nan - val_minm: 1.0000 - val_maxm: 1.0000\n",
      "Epoch 42/10000\n",
      "3146207/3146207 [==============================] - 741s 235us/sample - loss: nan - profit: nan - absmeanm: nan - meanm: nan - minm: 1.0000 - maxm: 1.0000 - val_loss: nan - val_profit: nan - val_absmeanm: nan - val_meanm: nan - val_minm: 1.0000 - val_maxm: 1.0000\n",
      "Epoch 43/10000\n",
      "3146207/3146207 [==============================] - 740s 235us/sample - loss: nan - profit: nan - absmeanm: nan - meanm: nan - minm: 1.0000 - maxm: 1.0000 - val_loss: nan - val_profit: nan - val_absmeanm: nan - val_meanm: nan - val_minm: 1.0000 - val_maxm: 1.0000\n",
      "Epoch 44/10000\n",
      "3146207/3146207 [==============================] - 742s 236us/sample - loss: nan - profit: nan - absmeanm: nan - meanm: nan - minm: 1.0000 - maxm: 1.0000 - val_loss: nan - val_profit: nan - val_absmeanm: nan - val_meanm: nan - val_minm: 1.0000 - val_maxm: 1.0000\n",
      "Epoch 45/10000\n",
      "3146207/3146207 [==============================] - 740s 235us/sample - loss: nan - profit: nan - absmeanm: nan - meanm: nan - minm: 1.0000 - maxm: 1.0000 - val_loss: nan - val_profit: nan - val_absmeanm: nan - val_meanm: nan - val_minm: 1.0000 - val_maxm: 1.0000\n",
      "Epoch 46/10000\n",
      "3146207/3146207 [==============================] - 741s 236us/sample - loss: nan - profit: nan - absmeanm: nan - meanm: nan - minm: 1.0000 - maxm: 1.0000 - val_loss: nan - val_profit: nan - val_absmeanm: nan - val_meanm: nan - val_minm: 1.0000 - val_maxm: 1.0000\n",
      "Epoch 47/10000\n",
      "3146207/3146207 [==============================] - 740s 235us/sample - loss: nan - profit: nan - absmeanm: nan - meanm: nan - minm: 1.0000 - maxm: 1.0000 - val_loss: nan - val_profit: nan - val_absmeanm: nan - val_meanm: nan - val_minm: 1.0000 - val_maxm: 1.0000\n",
      "Epoch 48/10000\n",
      "3146207/3146207 [==============================] - 741s 235us/sample - loss: nan - profit: nan - absmeanm: nan - meanm: nan - minm: 1.0000 - maxm: 1.0000 - val_loss: nan - val_profit: nan - val_absmeanm: nan - val_meanm: nan - val_minm: 1.0000 - val_maxm: 1.0000\n",
      "Epoch 49/10000\n",
      "3146207/3146207 [==============================] - 740s 235us/sample - loss: nan - profit: nan - absmeanm: nan - meanm: nan - minm: 1.0000 - maxm: 1.0000 - val_loss: nan - val_profit: nan - val_absmeanm: nan - val_meanm: nan - val_minm: 1.0000 - val_maxm: 1.0000\n",
      "Epoch 50/10000\n",
      "3146207/3146207 [==============================] - 740s 235us/sample - loss: nan - profit: nan - absmeanm: nan - meanm: nan - minm: 1.0000 - maxm: 1.0000 - val_loss: nan - val_profit: nan - val_absmeanm: nan - val_meanm: nan - val_minm: 1.0000 - val_maxm: 1.0000\n",
      "Epoch 51/10000\n",
      "3146207/3146207 [==============================] - 740s 235us/sample - loss: nan - profit: nan - absmeanm: nan - meanm: nan - minm: 1.0000 - maxm: 1.0000 - val_loss: nan - val_profit: nan - val_absmeanm: nan - val_meanm: nan - val_minm: 1.0000 - val_maxm: 1.0000\n",
      "Epoch 52/10000\n",
      "3146207/3146207 [==============================] - 741s 236us/sample - loss: nan - profit: nan - absmeanm: nan - meanm: nan - minm: 1.0000 - maxm: 1.0000 - val_loss: nan - val_profit: nan - val_absmeanm: nan - val_meanm: nan - val_minm: 1.0000 - val_maxm: 1.0000\n",
      "Epoch 53/10000\n",
      "2887680/3146207 [==========================>...] - ETA: 59s - loss: -0.3840 - profit: 0.0085 - absmeanm: 1.0000 - meanm: 1.0000 - minm: 1.0000 - maxm: 1.0000"
     ]
    },
    {
     "ename": "KeyboardInterrupt",
     "evalue": "",
     "output_type": "error",
     "traceback": [
      "\u001b[0;31m---------------------------------------------------------------------------\u001b[0m",
      "\u001b[0;31mKeyboardInterrupt\u001b[0m                         Traceback (most recent call last)",
      "\u001b[0;32m<ipython-input-109-757802d32ccb>\u001b[0m in \u001b[0;36m<module>\u001b[0;34m()\u001b[0m\n\u001b[1;32m     18\u001b[0m \u001b[0;31m#     use_multiprocessing=True,\u001b[0m\u001b[0;34m\u001b[0m\u001b[0;34m\u001b[0m\u001b[0;34m\u001b[0m\u001b[0m\n\u001b[1;32m     19\u001b[0m \u001b[0;31m#     workers=0,\u001b[0m\u001b[0;34m\u001b[0m\u001b[0;34m\u001b[0m\u001b[0;34m\u001b[0m\u001b[0m\n\u001b[0;32m---> 20\u001b[0;31m     \u001b[0mverbose\u001b[0m\u001b[0;34m=\u001b[0m\u001b[0;36m1\u001b[0m\u001b[0;34m,\u001b[0m\u001b[0;34m\u001b[0m\u001b[0;34m\u001b[0m\u001b[0m\n\u001b[0m\u001b[1;32m     21\u001b[0m \u001b[0;31m#     max_queue_size=100,\u001b[0m\u001b[0;34m\u001b[0m\u001b[0;34m\u001b[0m\u001b[0;34m\u001b[0m\u001b[0m\n\u001b[1;32m     22\u001b[0m \u001b[0;31m#     validation_freq=1000,\u001b[0m\u001b[0;34m\u001b[0m\u001b[0;34m\u001b[0m\u001b[0;34m\u001b[0m\u001b[0m\n",
      "\u001b[0;32m/home/ubuntu/anaconda3/envs/python3/lib/python3.6/site-packages/tensorflow_core/python/keras/engine/training.py\u001b[0m in \u001b[0;36mfit\u001b[0;34m(self, x, y, batch_size, epochs, verbose, callbacks, validation_split, validation_data, shuffle, class_weight, sample_weight, initial_epoch, steps_per_epoch, validation_steps, validation_freq, max_queue_size, workers, use_multiprocessing, **kwargs)\u001b[0m\n\u001b[1;32m    725\u001b[0m         \u001b[0mmax_queue_size\u001b[0m\u001b[0;34m=\u001b[0m\u001b[0mmax_queue_size\u001b[0m\u001b[0;34m,\u001b[0m\u001b[0;34m\u001b[0m\u001b[0;34m\u001b[0m\u001b[0m\n\u001b[1;32m    726\u001b[0m         \u001b[0mworkers\u001b[0m\u001b[0;34m=\u001b[0m\u001b[0mworkers\u001b[0m\u001b[0;34m,\u001b[0m\u001b[0;34m\u001b[0m\u001b[0;34m\u001b[0m\u001b[0m\n\u001b[0;32m--> 727\u001b[0;31m         use_multiprocessing=use_multiprocessing)\n\u001b[0m\u001b[1;32m    728\u001b[0m \u001b[0;34m\u001b[0m\u001b[0m\n\u001b[1;32m    729\u001b[0m   def evaluate(self,\n",
      "\u001b[0;32m/home/ubuntu/anaconda3/envs/python3/lib/python3.6/site-packages/tensorflow_core/python/keras/engine/training_arrays.py\u001b[0m in \u001b[0;36mfit\u001b[0;34m(self, model, x, y, batch_size, epochs, verbose, callbacks, validation_split, validation_data, shuffle, class_weight, sample_weight, initial_epoch, steps_per_epoch, validation_steps, validation_freq, **kwargs)\u001b[0m\n\u001b[1;32m    673\u001b[0m         \u001b[0mvalidation_steps\u001b[0m\u001b[0;34m=\u001b[0m\u001b[0mvalidation_steps\u001b[0m\u001b[0;34m,\u001b[0m\u001b[0;34m\u001b[0m\u001b[0;34m\u001b[0m\u001b[0m\n\u001b[1;32m    674\u001b[0m         \u001b[0mvalidation_freq\u001b[0m\u001b[0;34m=\u001b[0m\u001b[0mvalidation_freq\u001b[0m\u001b[0;34m,\u001b[0m\u001b[0;34m\u001b[0m\u001b[0;34m\u001b[0m\u001b[0m\n\u001b[0;32m--> 675\u001b[0;31m         steps_name='steps_per_epoch')\n\u001b[0m\u001b[1;32m    676\u001b[0m \u001b[0;34m\u001b[0m\u001b[0m\n\u001b[1;32m    677\u001b[0m   def evaluate(self,\n",
      "\u001b[0;32m/home/ubuntu/anaconda3/envs/python3/lib/python3.6/site-packages/tensorflow_core/python/keras/engine/training_arrays.py\u001b[0m in \u001b[0;36mmodel_iteration\u001b[0;34m(model, inputs, targets, sample_weights, batch_size, epochs, verbose, callbacks, val_inputs, val_targets, val_sample_weights, shuffle, initial_epoch, steps_per_epoch, validation_steps, validation_freq, mode, validation_in_fit, prepared_feed_values_from_dataset, steps_name, **kwargs)\u001b[0m\n\u001b[1;32m    392\u001b[0m \u001b[0;34m\u001b[0m\u001b[0m\n\u001b[1;32m    393\u001b[0m         \u001b[0;31m# Get outputs.\u001b[0m\u001b[0;34m\u001b[0m\u001b[0;34m\u001b[0m\u001b[0;34m\u001b[0m\u001b[0m\n\u001b[0;32m--> 394\u001b[0;31m         \u001b[0mbatch_outs\u001b[0m \u001b[0;34m=\u001b[0m \u001b[0mf\u001b[0m\u001b[0;34m(\u001b[0m\u001b[0mins_batch\u001b[0m\u001b[0;34m)\u001b[0m\u001b[0;34m\u001b[0m\u001b[0;34m\u001b[0m\u001b[0m\n\u001b[0m\u001b[1;32m    395\u001b[0m         \u001b[0;32mif\u001b[0m \u001b[0;32mnot\u001b[0m \u001b[0misinstance\u001b[0m\u001b[0;34m(\u001b[0m\u001b[0mbatch_outs\u001b[0m\u001b[0;34m,\u001b[0m \u001b[0mlist\u001b[0m\u001b[0;34m)\u001b[0m\u001b[0;34m:\u001b[0m\u001b[0;34m\u001b[0m\u001b[0;34m\u001b[0m\u001b[0m\n\u001b[1;32m    396\u001b[0m           \u001b[0mbatch_outs\u001b[0m \u001b[0;34m=\u001b[0m \u001b[0;34m[\u001b[0m\u001b[0mbatch_outs\u001b[0m\u001b[0;34m]\u001b[0m\u001b[0;34m\u001b[0m\u001b[0;34m\u001b[0m\u001b[0m\n",
      "\u001b[0;32m/home/ubuntu/anaconda3/envs/python3/lib/python3.6/site-packages/tensorflow_core/python/keras/backend.py\u001b[0m in \u001b[0;36m__call__\u001b[0;34m(self, inputs)\u001b[0m\n\u001b[1;32m   3474\u001b[0m \u001b[0;34m\u001b[0m\u001b[0m\n\u001b[1;32m   3475\u001b[0m     fetched = self._callable_fn(*array_vals,\n\u001b[0;32m-> 3476\u001b[0;31m                                 run_metadata=self.run_metadata)\n\u001b[0m\u001b[1;32m   3477\u001b[0m     \u001b[0mself\u001b[0m\u001b[0;34m.\u001b[0m\u001b[0m_call_fetch_callbacks\u001b[0m\u001b[0;34m(\u001b[0m\u001b[0mfetched\u001b[0m\u001b[0;34m[\u001b[0m\u001b[0;34m-\u001b[0m\u001b[0mlen\u001b[0m\u001b[0;34m(\u001b[0m\u001b[0mself\u001b[0m\u001b[0;34m.\u001b[0m\u001b[0m_fetches\u001b[0m\u001b[0;34m)\u001b[0m\u001b[0;34m:\u001b[0m\u001b[0;34m]\u001b[0m\u001b[0;34m)\u001b[0m\u001b[0;34m\u001b[0m\u001b[0;34m\u001b[0m\u001b[0m\n\u001b[1;32m   3478\u001b[0m     output_structure = nest.pack_sequence_as(\n",
      "\u001b[0;32m/home/ubuntu/anaconda3/envs/python3/lib/python3.6/site-packages/tensorflow_core/python/client/session.py\u001b[0m in \u001b[0;36m__call__\u001b[0;34m(self, *args, **kwargs)\u001b[0m\n\u001b[1;32m   1470\u001b[0m         ret = tf_session.TF_SessionRunCallable(self._session._session,\n\u001b[1;32m   1471\u001b[0m                                                \u001b[0mself\u001b[0m\u001b[0;34m.\u001b[0m\u001b[0m_handle\u001b[0m\u001b[0;34m,\u001b[0m \u001b[0margs\u001b[0m\u001b[0;34m,\u001b[0m\u001b[0;34m\u001b[0m\u001b[0;34m\u001b[0m\u001b[0m\n\u001b[0;32m-> 1472\u001b[0;31m                                                run_metadata_ptr)\n\u001b[0m\u001b[1;32m   1473\u001b[0m         \u001b[0;32mif\u001b[0m \u001b[0mrun_metadata\u001b[0m\u001b[0;34m:\u001b[0m\u001b[0;34m\u001b[0m\u001b[0;34m\u001b[0m\u001b[0m\n\u001b[1;32m   1474\u001b[0m           \u001b[0mproto_data\u001b[0m \u001b[0;34m=\u001b[0m \u001b[0mtf_session\u001b[0m\u001b[0;34m.\u001b[0m\u001b[0mTF_GetBuffer\u001b[0m\u001b[0;34m(\u001b[0m\u001b[0mrun_metadata_ptr\u001b[0m\u001b[0;34m)\u001b[0m\u001b[0;34m\u001b[0m\u001b[0;34m\u001b[0m\u001b[0m\n",
      "\u001b[0;31mKeyboardInterrupt\u001b[0m: "
     ]
    }
   ],
   "source": [
    "batch_size=2**10\n",
    "\n",
    "buffer = 0\n",
    "buffer_test = 0\n",
    "leftover = X[:-buffer].shape[0] % batch_size\n",
    "leftover_test = X_test[:-buffer_test].shape[0] % batch_size\n",
    "\n",
    "history = model.fit(\n",
    "    X[:-1-leftover-buffer], \n",
    "    y_true[:-1-leftover-buffer], \n",
    "    validation_data=(X_test[:-1-leftover_test-buffer_test], y_true_pred[:-1-leftover_test-buffer_test]),\n",
    "#     validation_steps=32*5//batch_size,\n",
    "#     validation_data=(tf.convert_to_tensor(inputs_test[:32*5]), tf.convert_to_tensor([[1, i] for i in range(32*5)])),\n",
    "    epochs=10000, \n",
    "    shuffle=False,\n",
    "    batch_size=batch_size,\n",
    "#     callbacks=[callback],\n",
    "#     use_multiprocessing=True, \n",
    "#     workers=0,\n",
    "    verbose=1, \n",
    "#     max_queue_size=100,\n",
    "#     validation_freq=1000,\n",
    "#     initial_epoch=model.history.epoch[-1],\n",
    "#     initial_epoch=15\n",
    ")"
   ]
  },
  {
   "cell_type": "markdown",
   "id": "ecological-illustration",
   "metadata": {
    "scrolled": true
   },
   "source": [
    "# model.evaluate(X_test, y_true_pred)"
   ]
  },
  {
   "cell_type": "code",
   "execution_count": null,
   "id": "explicit-fence",
   "metadata": {},
   "outputs": [],
   "source": []
  },
  {
   "cell_type": "code",
   "execution_count": null,
   "id": "demographic-emergency",
   "metadata": {},
   "outputs": [],
   "source": []
  },
  {
   "cell_type": "code",
   "execution_count": null,
   "id": "common-twist",
   "metadata": {},
   "outputs": [],
   "source": []
  },
  {
   "cell_type": "code",
   "execution_count": null,
   "id": "digital-yellow",
   "metadata": {},
   "outputs": [],
   "source": [
    "class MyCustomCallback(tf.keras.callbacks.Callback):\n",
    "    def __init__(self, X, y, validation_data):\n",
    "        # Should be the label encoding of your classes\n",
    "        self.test_data, self.y_true = validation_data\n",
    "        \n",
    "    def on_train_batch_end(self, batch, logs=None):\n",
    "        if batch != 0 and batch % 300 == 0:\n",
    "            print()\n",
    "            val_loss = self.model.evaluate(self.test_data, self.y_true)\n",
    "            print('validation loss: {}'.format(val_loss))"
   ]
  },
  {
   "cell_type": "code",
   "execution_count": 88,
   "id": "known-prague",
   "metadata": {},
   "outputs": [
    {
     "name": "stdout",
     "output_type": "stream",
     "text": [
      "WARNING:tensorflow:From /home/ubuntu/anaconda3/envs/python3/lib/python3.6/site-packages/tensorflow_core/python/ops/resource_variable_ops.py:1630: calling BaseResourceVariable.__init__ (from tensorflow.python.ops.resource_variable_ops) with constraint is deprecated and will be removed in a future version.\n",
      "Instructions for updating:\n",
      "If using Keras pass *_constraint arguments to layers.\n"
     ]
    }
   ],
   "source": [
    "def get_model():\n",
    "    model = models.Sequential()\n",
    "    # model.add(LSTM(64, input_shape = img.shape, return_sequences=True, dropout=0.2))\n",
    "    model.add(CuDNNLSTM(64, kernel_regularizer='l2', input_shape=img.shape))\n",
    "    # model.add(LSTM(32, dropout=0.2))\n",
    "    model.add(Dense(1, activation = \"sigmoid\"))\n",
    "    return model\n",
    "\n",
    "model = get_model()"
   ]
  },
  {
   "cell_type": "code",
   "execution_count": 89,
   "id": "77b2e14c",
   "metadata": {},
   "outputs": [],
   "source": [
    "model = get_model()"
   ]
  },
  {
   "cell_type": "code",
   "execution_count": 90,
   "id": "77d24985",
   "metadata": {
    "scrolled": true
   },
   "outputs": [
    {
     "name": "stdout",
     "output_type": "stream",
     "text": [
      "WARNING:tensorflow:From <ipython-input-87-646089be221f>:18: where (from tensorflow.python.ops.array_ops) is deprecated and will be removed in a future version.\n",
      "Instructions for updating:\n",
      "Use tf.where in 2.0, which has the same broadcast rule as np.where\n"
     ]
    }
   ],
   "source": [
    "model.compile(\n",
    "    optimizer=optimizers.Adam(learning_rate=0.001, clipnorm=1),\n",
    "    loss=custom_loss_wrapper(margin_size),\n",
    "    metrics=[custom_metric_wrapper(margin_size), absmeanm, meanm, minm, maxm],\n",
    "    run_eagerly=False\n",
    ")"
   ]
  },
  {
   "cell_type": "code",
   "execution_count": 91,
   "id": "c3f26f0f",
   "metadata": {
    "scrolled": true
   },
   "outputs": [
    {
     "name": "stdout",
     "output_type": "stream",
     "text": [
      "Train on 3146207 samples, validate on 213457 samples\n",
      "Epoch 1/10000\n",
      "3146207/3146207 [==============================] - 180s 57us/sample - loss: -0.7801 - profit: 0.0013 - absmeanm: 0.0543 - meanm: 0.0543 - minm: 0.0077 - maxm: 0.4157 - val_loss: -0.9108 - val_profit: 2.0568e-04 - val_absmeanm: 0.0030 - val_meanm: 0.0030 - val_minm: 5.7424e-04 - val_maxm: 0.0807\n",
      "Epoch 2/10000\n",
      "3146207/3146207 [==============================] - 166s 53us/sample - loss: -1.0474 - profit: 0.0016 - absmeanm: 0.0409 - meanm: 0.0409 - minm: 0.0015 - maxm: 0.4774 - val_loss: -1.0695 - val_profit: 0.0022 - val_absmeanm: 0.0281 - val_meanm: 0.0281 - val_minm: 4.3936e-04 - val_maxm: 0.5770\n",
      "Epoch 3/10000\n",
      "3146207/3146207 [==============================] - 183s 58us/sample - loss: -1.1697 - profit: 0.0016 - absmeanm: 0.0231 - meanm: 0.0231 - minm: 1.8685e-04 - maxm: 0.4718 - val_loss: -0.6870 - val_profit: 0.0014 - val_absmeanm: 0.0274 - val_meanm: 0.0274 - val_minm: 7.9635e-05 - val_maxm: 0.7422\n",
      "Epoch 4/10000\n",
      "3146207/3146207 [==============================] - 165s 53us/sample - loss: -1.2237 - profit: 0.0019 - absmeanm: 0.0308 - meanm: 0.0308 - minm: 4.9984e-05 - maxm: 0.5635 - val_loss: -0.7156 - val_profit: 0.0011 - val_absmeanm: 0.0359 - val_meanm: 0.0359 - val_minm: 1.1267e-05 - val_maxm: 0.6140\n",
      "Epoch 5/10000\n",
      "3146207/3146207 [==============================] - 171s 54us/sample - loss: -1.3298 - profit: 0.0022 - absmeanm: 0.0307 - meanm: 0.0307 - minm: 1.1213e-05 - maxm: 0.5669 - val_loss: -0.9051 - val_profit: 9.5696e-04 - val_absmeanm: 0.0202 - val_meanm: 0.0202 - val_minm: 6.7206e-06 - val_maxm: 0.5062\n",
      "Epoch 6/10000\n",
      "3146207/3146207 [==============================] - 166s 53us/sample - loss: -1.3693 - profit: 0.0024 - absmeanm: 0.0350 - meanm: 0.0350 - minm: 7.3879e-06 - maxm: 0.5885 - val_loss: -0.8489 - val_profit: 0.0013 - val_absmeanm: 0.0277 - val_meanm: 0.0277 - val_minm: 2.2677e-06 - val_maxm: 0.5592\n",
      "Epoch 7/10000\n",
      "3146207/3146207 [==============================] - 171s 54us/sample - loss: -1.4300 - profit: 0.0025 - absmeanm: 0.0366 - meanm: 0.0366 - minm: 2.3857e-06 - maxm: 0.5920 - val_loss: -0.9002 - val_profit: 0.0024 - val_absmeanm: 0.0525 - val_meanm: 0.0525 - val_minm: 1.3470e-06 - val_maxm: 0.7884\n",
      "Epoch 8/10000\n",
      "3146207/3146207 [==============================] - 165s 52us/sample - loss: -1.5111 - profit: 0.0030 - absmeanm: 0.0434 - meanm: 0.0434 - minm: 2.8903e-06 - maxm: 0.6426 - val_loss: -1.0187 - val_profit: 0.0012 - val_absmeanm: 0.0199 - val_meanm: 0.0199 - val_minm: 1.2034e-06 - val_maxm: 0.4653\n",
      "Epoch 9/10000\n",
      "3146207/3146207 [==============================] - 184s 59us/sample - loss: -1.5795 - profit: 0.0024 - absmeanm: 0.0335 - meanm: 0.0335 - minm: 1.0030e-06 - maxm: 0.4984 - val_loss: -1.1091 - val_profit: 8.3156e-04 - val_absmeanm: 0.0158 - val_meanm: 0.0158 - val_minm: 3.9442e-07 - val_maxm: 0.4272\n",
      "Epoch 10/10000\n",
      "3146207/3146207 [==============================] - 165s 52us/sample - loss: -1.7070 - profit: 0.0023 - absmeanm: 0.0292 - meanm: 0.0292 - minm: 3.6046e-07 - maxm: 0.5094 - val_loss: -0.9574 - val_profit: 0.0011 - val_absmeanm: 0.0211 - val_meanm: 0.0211 - val_minm: 2.3671e-07 - val_maxm: 0.5667\n",
      "Epoch 11/10000\n",
      "3146207/3146207 [==============================] - 183s 58us/sample - loss: -1.6967 - profit: 0.0027 - absmeanm: 0.0356 - meanm: 0.0356 - minm: 2.4168e-07 - maxm: 0.5902 - val_loss: -0.7685 - val_profit: 9.0800e-04 - val_absmeanm: 0.0296 - val_meanm: 0.0296 - val_minm: 1.5999e-07 - val_maxm: 0.6097\n",
      "Epoch 12/10000\n",
      "3146207/3146207 [==============================] - 166s 53us/sample - loss: -1.8502 - profit: 0.0029 - absmeanm: 0.0340 - meanm: 0.0340 - minm: 1.7938e-07 - maxm: 0.6321 - val_loss: -0.6868 - val_profit: 0.0010 - val_absmeanm: 0.0461 - val_meanm: 0.0461 - val_minm: 1.6598e-07 - val_maxm: 0.7299\n",
      "Epoch 13/10000\n",
      "3146207/3146207 [==============================] - 166s 53us/sample - loss: -1.9257 - profit: 0.0029 - absmeanm: 0.0329 - meanm: 0.0329 - minm: 1.1320e-07 - maxm: 0.6289 - val_loss: -0.7050 - val_profit: 0.0011 - val_absmeanm: 0.0435 - val_meanm: 0.0435 - val_minm: 7.5718e-08 - val_maxm: 0.6703\n",
      "Epoch 14/10000\n",
      "3146207/3146207 [==============================] - 163s 52us/sample - loss: -2.0171 - profit: 0.0030 - absmeanm: 0.0304 - meanm: 0.0304 - minm: 5.9207e-08 - maxm: 0.6033 - val_loss: -0.4636 - val_profit: 5.8240e-04 - val_absmeanm: 0.0340 - val_meanm: 0.0340 - val_minm: 6.1886e-08 - val_maxm: 0.6007\n",
      "Epoch 15/10000\n",
      "3146207/3146207 [==============================] - 182s 58us/sample - loss: -2.0369 - profit: 0.0028 - absmeanm: 0.0301 - meanm: 0.0301 - minm: 5.6230e-08 - maxm: 0.5875 - val_loss: -0.9430 - val_profit: 0.0013 - val_absmeanm: 0.0304 - val_meanm: 0.0304 - val_minm: 2.1817e-08 - val_maxm: 0.6558\n",
      "Epoch 16/10000\n",
      "3146207/3146207 [==============================] - 165s 53us/sample - loss: -2.1721 - profit: 0.0027 - absmeanm: 0.0278 - meanm: 0.0278 - minm: 3.1538e-08 - maxm: 0.6002 - val_loss: -0.8970 - val_profit: 0.0012 - val_absmeanm: 0.0305 - val_meanm: 0.0305 - val_minm: 2.7378e-08 - val_maxm: 0.6739\n",
      "Epoch 17/10000\n",
      "3146207/3146207 [==============================] - 171s 54us/sample - loss: -2.2320 - profit: 0.0026 - absmeanm: 0.0263 - meanm: 0.0263 - minm: 2.4080e-08 - maxm: 0.5834 - val_loss: -0.8961 - val_profit: 0.0014 - val_absmeanm: 0.0377 - val_meanm: 0.0377 - val_minm: 5.1477e-08 - val_maxm: 0.6588\n",
      "Epoch 18/10000\n",
      "3146207/3146207 [==============================] - 166s 53us/sample - loss: -2.2941 - profit: 0.0026 - absmeanm: 0.0259 - meanm: 0.0259 - minm: 1.7903e-08 - maxm: 0.5873 - val_loss: -0.6216 - val_profit: 7.7369e-04 - val_absmeanm: 0.0307 - val_meanm: 0.0307 - val_minm: 2.4241e-09 - val_maxm: 0.6762\n",
      "Epoch 19/10000\n",
      "3146207/3146207 [==============================] - 168s 53us/sample - loss: -2.3325 - profit: 0.0028 - absmeanm: 0.0285 - meanm: 0.0285 - minm: 6.2165e-09 - maxm: 0.6170 - val_loss: -0.7204 - val_profit: 9.6455e-04 - val_absmeanm: 0.0349 - val_meanm: 0.0349 - val_minm: 2.8519e-10 - val_maxm: 0.6701\n",
      "Epoch 20/10000\n",
      "3146207/3146207 [==============================] - 165s 53us/sample - loss: -2.3692 - profit: 0.0031 - absmeanm: 0.0303 - meanm: 0.0303 - minm: 2.2403e-09 - maxm: 0.6371 - val_loss: -0.8286 - val_profit: 0.0012 - val_absmeanm: 0.0414 - val_meanm: 0.0414 - val_minm: 1.2834e-09 - val_maxm: 0.6905\n",
      "Epoch 21/10000\n",
      "3146207/3146207 [==============================] - 184s 58us/sample - loss: -2.4006 - profit: 0.0029 - absmeanm: 0.0283 - meanm: 0.0283 - minm: 3.1907e-09 - maxm: 0.6236 - val_loss: -0.5340 - val_profit: 0.0010 - val_absmeanm: 0.0499 - val_meanm: 0.0499 - val_minm: 7.1297e-10 - val_maxm: 0.7216\n",
      "Epoch 22/10000\n",
      "3146207/3146207 [==============================] - 168s 53us/sample - loss: -2.4545 - profit: 0.0032 - absmeanm: 0.0309 - meanm: 0.0309 - minm: 1.8814e-09 - maxm: 0.6560 - val_loss: -0.6000 - val_profit: 0.0011 - val_absmeanm: 0.0483 - val_meanm: 0.0483 - val_minm: 0.0000e+00 - val_maxm: 0.7702\n",
      "Epoch 23/10000\n",
      "3146207/3146207 [==============================] - 182s 58us/sample - loss: -2.5044 - profit: 0.0034 - absmeanm: 0.0313 - meanm: 0.0313 - minm: 1.7457e-09 - maxm: 0.6732 - val_loss: -0.6819 - val_profit: 8.7527e-04 - val_absmeanm: 0.0323 - val_meanm: 0.0323 - val_minm: 0.0000e+00 - val_maxm: 0.6580\n",
      "Epoch 24/10000\n",
      "3146207/3146207 [==============================] - 163s 52us/sample - loss: -2.5258 - profit: 0.0035 - absmeanm: 0.0321 - meanm: 0.0321 - minm: 6.3038e-10 - maxm: 0.6873 - val_loss: -0.2659 - val_profit: 5.7235e-04 - val_absmeanm: 0.0362 - val_meanm: 0.0362 - val_minm: 0.0000e+00 - val_maxm: 0.7656\n",
      "Epoch 25/10000\n",
      "3146207/3146207 [==============================] - 182s 58us/sample - loss: -2.5624 - profit: 0.0041 - absmeanm: 0.0359 - meanm: 0.0359 - minm: 8.1464e-10 - maxm: 0.7396 - val_loss: -0.4532 - val_profit: 0.0010 - val_absmeanm: 0.0566 - val_meanm: 0.0566 - val_minm: 0.0000e+00 - val_maxm: 0.7954\n",
      "Epoch 26/10000\n",
      "3146207/3146207 [==============================] - 163s 52us/sample - loss: -2.5614 - profit: 0.0040 - absmeanm: 0.0348 - meanm: 0.0348 - minm: 3.5883e-10 - maxm: 0.7188 - val_loss: -0.7265 - val_profit: 0.0014 - val_absmeanm: 0.0441 - val_meanm: 0.0441 - val_minm: 0.0000e+00 - val_maxm: 0.7676\n",
      "Epoch 27/10000\n",
      "3146207/3146207 [==============================] - 182s 58us/sample - loss: -2.5657 - profit: 0.0043 - absmeanm: 0.0378 - meanm: 0.0378 - minm: 3.6853e-10 - maxm: 0.7432 - val_loss: -0.5183 - val_profit: 0.0015 - val_absmeanm: 0.0679 - val_meanm: 0.0679 - val_minm: 0.0000e+00 - val_maxm: 0.8510\n",
      "Epoch 28/10000\n",
      "3146207/3146207 [==============================] - 166s 53us/sample - loss: -2.5873 - profit: 0.0041 - absmeanm: 0.0351 - meanm: 0.0351 - minm: 1.6487e-10 - maxm: 0.7155 - val_loss: -0.3683 - val_profit: 6.0508e-04 - val_absmeanm: 0.0325 - val_meanm: 0.0325 - val_minm: 0.0000e+00 - val_maxm: 0.7087\n",
      "Epoch 29/10000\n",
      "3146207/3146207 [==============================] - 169s 54us/sample - loss: -2.6118 - profit: 0.0043 - absmeanm: 0.0377 - meanm: 0.0377 - minm: 2.6185e-10 - maxm: 0.7485 - val_loss: -0.8242 - val_profit: 0.0022 - val_absmeanm: 0.0635 - val_meanm: 0.0635 - val_minm: 0.0000e+00 - val_maxm: 0.8469\n",
      "Epoch 30/10000\n",
      "3146207/3146207 [==============================] - 165s 52us/sample - loss: -2.6316 - profit: 0.0047 - absmeanm: 0.0406 - meanm: 0.0406 - minm: 1.9396e-10 - maxm: 0.7702 - val_loss: -0.7497 - val_profit: 0.0014 - val_absmeanm: 0.0499 - val_meanm: 0.0499 - val_minm: 0.0000e+00 - val_maxm: 0.7745\n",
      "Epoch 31/10000\n",
      "3146207/3146207 [==============================] - 179s 57us/sample - loss: -2.6535 - profit: 0.0046 - absmeanm: 0.0395 - meanm: 0.0395 - minm: 1.6487e-10 - maxm: 0.7478 - val_loss: -0.7225 - val_profit: 0.0014 - val_absmeanm: 0.0468 - val_meanm: 0.0468 - val_minm: 0.0000e+00 - val_maxm: 0.7808\n",
      "Epoch 32/10000\n",
      "3146207/3146207 [==============================] - 168s 53us/sample - loss: -2.6538 - profit: 0.0046 - absmeanm: 0.0385 - meanm: 0.0385 - minm: 1.3577e-10 - maxm: 0.7466 - val_loss: -0.5300 - val_profit: 0.0011 - val_absmeanm: 0.0562 - val_meanm: 0.0562 - val_minm: 0.0000e+00 - val_maxm: 0.7796\n",
      "Epoch 33/10000\n",
      "3146207/3146207 [==============================] - 166s 53us/sample - loss: -2.6818 - profit: 0.0047 - absmeanm: 0.0391 - meanm: 0.0391 - minm: 6.7887e-11 - maxm: 0.7513 - val_loss: -0.4994 - val_profit: 0.0012 - val_absmeanm: 0.0554 - val_meanm: 0.0554 - val_minm: 0.0000e+00 - val_maxm: 0.8251\n",
      "Epoch 34/10000\n",
      "3146207/3146207 [==============================] - 168s 53us/sample - loss: -2.6966 - profit: 0.0052 - absmeanm: 0.0429 - meanm: 0.0429 - minm: 8.7283e-11 - maxm: 0.7873 - val_loss: -0.6107 - val_profit: 0.0013 - val_absmeanm: 0.0550 - val_meanm: 0.0550 - val_minm: 0.0000e+00 - val_maxm: 0.7878\n",
      "Epoch 35/10000\n",
      "3146207/3146207 [==============================] - 164s 52us/sample - loss: -2.7003 - profit: 0.0048 - absmeanm: 0.0398 - meanm: 0.0398 - minm: 5.8189e-11 - maxm: 0.7655 - val_loss: -0.7473 - val_profit: 0.0018 - val_absmeanm: 0.0646 - val_meanm: 0.0646 - val_minm: 0.0000e+00 - val_maxm: 0.8138\n",
      "Epoch 36/10000\n",
      "3146207/3146207 [==============================] - 182s 58us/sample - loss: -2.7331 - profit: 0.0050 - absmeanm: 0.0419 - meanm: 0.0419 - minm: 2.9094e-11 - maxm: 0.7723 - val_loss: -0.7865 - val_profit: 0.0020 - val_absmeanm: 0.0698 - val_meanm: 0.0698 - val_minm: 0.0000e+00 - val_maxm: 0.8481\n",
      "Epoch 37/10000\n",
      "3146207/3146207 [==============================] - 165s 52us/sample - loss: -2.7163 - profit: 0.0052 - absmeanm: 0.0428 - meanm: 0.0428 - minm: 9.6981e-11 - maxm: 0.7944 - val_loss: -0.5296 - val_profit: 9.9130e-04 - val_absmeanm: 0.0472 - val_meanm: 0.0472 - val_minm: 0.0000e+00 - val_maxm: 0.8374\n",
      "Epoch 38/10000\n",
      "3146207/3146207 [==============================] - 183s 58us/sample - loss: -2.7202 - profit: 0.0053 - absmeanm: 0.0437 - meanm: 0.0437 - minm: 1.9396e-11 - maxm: 0.7953 - val_loss: -0.3878 - val_profit: 6.0639e-04 - val_absmeanm: 0.0488 - val_meanm: 0.0488 - val_minm: 0.0000e+00 - val_maxm: 0.7992\n",
      "Epoch 39/10000\n",
      "3146207/3146207 [==============================] - 165s 53us/sample - loss: -2.7100 - profit: 0.0053 - absmeanm: 0.0441 - meanm: 0.0441 - minm: 3.8792e-11 - maxm: 0.7947 - val_loss: -0.5753 - val_profit: 0.0014 - val_absmeanm: 0.0651 - val_meanm: 0.0651 - val_minm: 0.0000e+00 - val_maxm: 0.8306\n",
      "Epoch 40/10000\n",
      "3146207/3146207 [==============================] - 167s 53us/sample - loss: -2.7409 - profit: 0.0056 - absmeanm: 0.0458 - meanm: 0.0458 - minm: 9.6981e-12 - maxm: 0.8030 - val_loss: -1.0521 - val_profit: 0.0031 - val_absmeanm: 0.0722 - val_meanm: 0.0722 - val_minm: 0.0000e+00 - val_maxm: 0.8579\n",
      "Epoch 41/10000\n",
      "3146207/3146207 [==============================] - 159s 50us/sample - loss: -2.7827 - profit: 0.0059 - absmeanm: 0.0471 - meanm: 0.0471 - minm: 2.9094e-11 - maxm: 0.8169 - val_loss: -0.3172 - val_profit: 8.1162e-04 - val_absmeanm: 0.0619 - val_meanm: 0.0619 - val_minm: 0.0000e+00 - val_maxm: 0.8384\n",
      "Epoch 42/10000\n",
      "3146207/3146207 [==============================] - 168s 53us/sample - loss: -2.7940 - profit: 0.0059 - absmeanm: 0.0462 - meanm: 0.0462 - minm: 5.8189e-11 - maxm: 0.8062 - val_loss: -0.6542 - val_profit: 0.0016 - val_absmeanm: 0.0659 - val_meanm: 0.0659 - val_minm: 0.0000e+00 - val_maxm: 0.8776\n",
      "Epoch 43/10000\n",
      "3146207/3146207 [==============================] - 164s 52us/sample - loss: -2.8042 - profit: 0.0061 - absmeanm: 0.0484 - meanm: 0.0484 - minm: 5.8189e-11 - maxm: 0.8291 - val_loss: -0.5598 - val_profit: 0.0014 - val_absmeanm: 0.0551 - val_meanm: 0.0551 - val_minm: 0.0000e+00 - val_maxm: 0.8639\n",
      "Epoch 44/10000\n",
      "3146207/3146207 [==============================] - 182s 58us/sample - loss: -2.8194 - profit: 0.0065 - absmeanm: 0.0504 - meanm: 0.0504 - minm: 8.7283e-11 - maxm: 0.8423 - val_loss: -0.6317 - val_profit: 0.0019 - val_absmeanm: 0.0781 - val_meanm: 0.0781 - val_minm: 0.0000e+00 - val_maxm: 0.8774\n",
      "Epoch 45/10000\n",
      "3146207/3146207 [==============================] - 168s 53us/sample - loss: -2.8243 - profit: 0.0065 - absmeanm: 0.0500 - meanm: 0.0500 - minm: 3.8792e-11 - maxm: 0.8386 - val_loss: -0.7599 - val_profit: 0.0020 - val_absmeanm: 0.0629 - val_meanm: 0.0629 - val_minm: 0.0000e+00 - val_maxm: 0.8657\n",
      "Epoch 46/10000\n",
      "3146207/3146207 [==============================] - 169s 54us/sample - loss: -2.8184 - profit: 0.0065 - absmeanm: 0.0509 - meanm: 0.0509 - minm: 4.8491e-11 - maxm: 0.8376 - val_loss: -0.7500 - val_profit: 0.0019 - val_absmeanm: 0.0671 - val_meanm: 0.0671 - val_minm: 0.0000e+00 - val_maxm: 0.8588\n",
      "Epoch 47/10000\n",
      "3146207/3146207 [==============================] - 165s 52us/sample - loss: -2.8212 - profit: 0.0066 - absmeanm: 0.0516 - meanm: 0.0516 - minm: 9.6981e-12 - maxm: 0.8433 - val_loss: -0.6107 - val_profit: 0.0018 - val_absmeanm: 0.0814 - val_meanm: 0.0814 - val_minm: 0.0000e+00 - val_maxm: 0.8833\n",
      "Epoch 48/10000\n",
      "3146207/3146207 [==============================] - 184s 59us/sample - loss: -2.8578 - profit: 0.0070 - absmeanm: 0.0524 - meanm: 0.0524 - minm: 0.0000e+00 - maxm: 0.8522 - val_loss: -0.8192 - val_profit: 0.0024 - val_absmeanm: 0.0906 - val_meanm: 0.0906 - val_minm: 0.0000e+00 - val_maxm: 0.9111\n",
      "Epoch 49/10000\n",
      "3146207/3146207 [==============================] - 168s 53us/sample - loss: -2.8589 - profit: 0.0072 - absmeanm: 0.0545 - meanm: 0.0545 - minm: 0.0000e+00 - maxm: 0.8585 - val_loss: -0.4292 - val_profit: 0.0014 - val_absmeanm: 0.0907 - val_meanm: 0.0907 - val_minm: 0.0000e+00 - val_maxm: 0.8866\n",
      "Epoch 50/10000\n",
      "3146207/3146207 [==============================] - 171s 54us/sample - loss: -2.8630 - profit: 0.0069 - absmeanm: 0.0524 - meanm: 0.0524 - minm: 3.8792e-11 - maxm: 0.8544 - val_loss: -0.5329 - val_profit: 0.0018 - val_absmeanm: 0.0766 - val_meanm: 0.0766 - val_minm: 0.0000e+00 - val_maxm: 0.9022\n",
      "Epoch 51/10000\n",
      "3146207/3146207 [==============================] - 166s 53us/sample - loss: -2.8688 - profit: 0.0073 - absmeanm: 0.0543 - meanm: 0.0543 - minm: 0.0000e+00 - maxm: 0.8643 - val_loss: -0.4475 - val_profit: 0.0014 - val_absmeanm: 0.0973 - val_meanm: 0.0973 - val_minm: 0.0000e+00 - val_maxm: 0.9134\n",
      "Epoch 52/10000\n",
      "3146207/3146207 [==============================] - 171s 54us/sample - loss: -2.8762 - profit: 0.0072 - absmeanm: 0.0539 - meanm: 0.0539 - minm: 4.8491e-11 - maxm: 0.8606 - val_loss: -0.4286 - val_profit: 0.0010 - val_absmeanm: 0.0771 - val_meanm: 0.0771 - val_minm: 0.0000e+00 - val_maxm: 0.9153\n",
      "Epoch 53/10000\n"
     ]
    },
    {
     "name": "stdout",
     "output_type": "stream",
     "text": [
      "3146207/3146207 [==============================] - 168s 53us/sample - loss: -2.8720 - profit: 0.0070 - absmeanm: 0.0532 - meanm: 0.0532 - minm: 9.6981e-12 - maxm: 0.8580 - val_loss: -0.6913 - val_profit: 0.0018 - val_absmeanm: 0.0617 - val_meanm: 0.0617 - val_minm: 0.0000e+00 - val_maxm: 0.8502\n",
      "Epoch 54/10000\n",
      "3146207/3146207 [==============================] - 168s 53us/sample - loss: -2.8841 - profit: 0.0073 - absmeanm: 0.0544 - meanm: 0.0544 - minm: 3.8792e-11 - maxm: 0.8632 - val_loss: -0.4043 - val_profit: 0.0014 - val_absmeanm: 0.0739 - val_meanm: 0.0739 - val_minm: 0.0000e+00 - val_maxm: 0.9010\n",
      "Epoch 55/10000\n",
      "3146207/3146207 [==============================] - 167s 53us/sample - loss: -2.8950 - profit: 0.0075 - absmeanm: 0.0563 - meanm: 0.0563 - minm: 9.6981e-12 - maxm: 0.8706 - val_loss: -0.7712 - val_profit: 0.0023 - val_absmeanm: 0.0845 - val_meanm: 0.0845 - val_minm: 0.0000e+00 - val_maxm: 0.9311\n",
      "Epoch 56/10000\n",
      "3146207/3146207 [==============================] - 169s 54us/sample - loss: -2.9122 - profit: 0.0076 - absmeanm: 0.0561 - meanm: 0.0561 - minm: 9.6981e-12 - maxm: 0.8741 - val_loss: -0.4778 - val_profit: 0.0016 - val_absmeanm: 0.0717 - val_meanm: 0.0717 - val_minm: 0.0000e+00 - val_maxm: 0.9179\n",
      "Epoch 57/10000\n",
      "3146207/3146207 [==============================] - 164s 52us/sample - loss: -2.9083 - profit: 0.0078 - absmeanm: 0.0582 - meanm: 0.0582 - minm: 9.6981e-12 - maxm: 0.8838 - val_loss: -0.7179 - val_profit: 0.0020 - val_absmeanm: 0.0756 - val_meanm: 0.0756 - val_minm: 0.0000e+00 - val_maxm: 0.9071\n",
      "Epoch 58/10000\n",
      "3146207/3146207 [==============================] - 183s 58us/sample - loss: -2.8804 - profit: 0.0073 - absmeanm: 0.0553 - meanm: 0.0553 - minm: 0.0000e+00 - maxm: 0.8639 - val_loss: -0.6523 - val_profit: 0.0024 - val_absmeanm: 0.0874 - val_meanm: 0.0874 - val_minm: 0.0000e+00 - val_maxm: 0.9067\n",
      "Epoch 59/10000\n",
      "3146207/3146207 [==============================] - 166s 53us/sample - loss: -2.9153 - profit: 0.0075 - absmeanm: 0.0557 - meanm: 0.0557 - minm: 4.8491e-11 - maxm: 0.8644 - val_loss: -0.5125 - val_profit: 0.0015 - val_absmeanm: 0.0817 - val_meanm: 0.0817 - val_minm: 0.0000e+00 - val_maxm: 0.9029\n",
      "Epoch 60/10000\n",
      "3146207/3146207 [==============================] - 168s 53us/sample - loss: -2.9143 - profit: 0.0078 - absmeanm: 0.0572 - meanm: 0.0572 - minm: 1.9396e-11 - maxm: 0.8728 - val_loss: -0.7215 - val_profit: 0.0020 - val_absmeanm: 0.0808 - val_meanm: 0.0808 - val_minm: 0.0000e+00 - val_maxm: 0.9360\n",
      "Epoch 61/10000\n",
      "3146207/3146207 [==============================] - 166s 53us/sample - loss: -2.9000 - profit: 0.0077 - absmeanm: 0.0571 - meanm: 0.0571 - minm: 9.6981e-12 - maxm: 0.8689 - val_loss: -0.6402 - val_profit: 0.0021 - val_absmeanm: 0.0808 - val_meanm: 0.0808 - val_minm: 0.0000e+00 - val_maxm: 0.9138\n",
      "Epoch 62/10000\n",
      "3146207/3146207 [==============================] - 169s 54us/sample - loss: -2.9107 - profit: 0.0076 - absmeanm: 0.0571 - meanm: 0.0571 - minm: 0.0000e+00 - maxm: 0.8665 - val_loss: -0.5155 - val_profit: 0.0012 - val_absmeanm: 0.0698 - val_meanm: 0.0698 - val_minm: 0.0000e+00 - val_maxm: 0.8746\n",
      "Epoch 63/10000\n",
      "3146207/3146207 [==============================] - 166s 53us/sample - loss: -2.9179 - profit: 0.0074 - absmeanm: 0.0553 - meanm: 0.0553 - minm: 1.9396e-11 - maxm: 0.8612 - val_loss: -0.6883 - val_profit: 0.0020 - val_absmeanm: 0.0832 - val_meanm: 0.0832 - val_minm: 0.0000e+00 - val_maxm: 0.8945\n",
      "Epoch 64/10000\n",
      "3146207/3146207 [==============================] - 183s 58us/sample - loss: -2.9146 - profit: 0.0075 - absmeanm: 0.0557 - meanm: 0.0557 - minm: 2.9094e-11 - maxm: 0.8634 - val_loss: -0.3951 - val_profit: 0.0010 - val_absmeanm: 0.0624 - val_meanm: 0.0624 - val_minm: 0.0000e+00 - val_maxm: 0.8851\n",
      "Epoch 65/10000\n",
      "3146207/3146207 [==============================] - 166s 53us/sample - loss: -2.9361 - profit: 0.0078 - absmeanm: 0.0570 - meanm: 0.0570 - minm: 0.0000e+00 - maxm: 0.8652 - val_loss: -0.5855 - val_profit: 0.0023 - val_absmeanm: 0.1081 - val_meanm: 0.1081 - val_minm: 0.0000e+00 - val_maxm: 0.9294\n",
      "Epoch 66/10000\n",
      "3146207/3146207 [==============================] - 167s 53us/sample - loss: -2.9352 - profit: 0.0080 - absmeanm: 0.0576 - meanm: 0.0576 - minm: 3.8792e-11 - maxm: 0.8713 - val_loss: -0.9622 - val_profit: 0.0029 - val_absmeanm: 0.0797 - val_meanm: 0.0797 - val_minm: 0.0000e+00 - val_maxm: 0.9130\n",
      "Epoch 67/10000\n",
      "3146207/3146207 [==============================] - 166s 53us/sample - loss: -2.9158 - profit: 0.0077 - absmeanm: 0.0577 - meanm: 0.0577 - minm: 2.9094e-11 - maxm: 0.8731 - val_loss: -0.6550 - val_profit: 0.0021 - val_absmeanm: 0.0858 - val_meanm: 0.0858 - val_minm: 0.0000e+00 - val_maxm: 0.9075\n",
      "Epoch 68/10000\n",
      "3146207/3146207 [==============================] - 185s 59us/sample - loss: -2.9436 - profit: 0.0079 - absmeanm: 0.0578 - meanm: 0.0578 - minm: 9.6981e-12 - maxm: 0.8696 - val_loss: -0.7314 - val_profit: 0.0024 - val_absmeanm: 0.0881 - val_meanm: 0.0881 - val_minm: 0.0000e+00 - val_maxm: 0.9277\n",
      "Epoch 69/10000\n",
      "3146207/3146207 [==============================] - 165s 53us/sample - loss: -2.9481 - profit: 0.0078 - absmeanm: 0.0576 - meanm: 0.0576 - minm: 9.6981e-12 - maxm: 0.8685 - val_loss: -0.5481 - val_profit: 0.0019 - val_absmeanm: 0.0907 - val_meanm: 0.0907 - val_minm: 0.0000e+00 - val_maxm: 0.9102\n",
      "Epoch 70/10000\n",
      "3146207/3146207 [==============================] - 180s 57us/sample - loss: -2.9706 - profit: 0.0084 - absmeanm: 0.0600 - meanm: 0.0600 - minm: 1.9396e-11 - maxm: 0.8899 - val_loss: -0.2262 - val_profit: 9.3400e-04 - val_absmeanm: 0.0853 - val_meanm: 0.0853 - val_minm: 0.0000e+00 - val_maxm: 0.9259\n",
      "Epoch 71/10000\n",
      "3146207/3146207 [==============================] - 167s 53us/sample - loss: -2.9578 - profit: 0.0083 - absmeanm: 0.0578 - meanm: 0.0578 - minm: 0.0000e+00 - maxm: 0.8727 - val_loss: -0.8917 - val_profit: 0.0026 - val_absmeanm: 0.0781 - val_meanm: 0.0781 - val_minm: 0.0000e+00 - val_maxm: 0.9345\n",
      "Epoch 72/10000\n",
      "3146207/3146207 [==============================] - 167s 53us/sample - loss: -2.9508 - profit: 0.0081 - absmeanm: 0.0588 - meanm: 0.0588 - minm: 1.9396e-11 - maxm: 0.8786 - val_loss: -0.3179 - val_profit: 0.0012 - val_absmeanm: 0.0809 - val_meanm: 0.0809 - val_minm: 0.0000e+00 - val_maxm: 0.9128\n",
      "Epoch 73/10000\n",
      "3146207/3146207 [==============================] - 166s 53us/sample - loss: -2.9667 - profit: 0.0084 - absmeanm: 0.0598 - meanm: 0.0598 - minm: 9.6981e-12 - maxm: 0.8829 - val_loss: -0.3035 - val_profit: 8.7919e-04 - val_absmeanm: 0.0649 - val_meanm: 0.0649 - val_minm: 0.0000e+00 - val_maxm: 0.8798\n",
      "Epoch 74/10000\n",
      "3146207/3146207 [==============================] - 163s 52us/sample - loss: -2.9749 - profit: 0.0084 - absmeanm: 0.0600 - meanm: 0.0600 - minm: 2.9094e-11 - maxm: 0.8842 - val_loss: -0.5357 - val_profit: 0.0018 - val_absmeanm: 0.0948 - val_meanm: 0.0948 - val_minm: 0.0000e+00 - val_maxm: 0.9145\n",
      "Epoch 75/10000\n",
      "3146207/3146207 [==============================] - 168s 53us/sample - loss: -2.9500 - profit: 0.0081 - absmeanm: 0.0571 - meanm: 0.0571 - minm: 3.8792e-11 - maxm: 0.8745 - val_loss: -0.5851 - val_profit: 0.0018 - val_absmeanm: 0.0770 - val_meanm: 0.0770 - val_minm: 0.0000e+00 - val_maxm: 0.9139\n",
      "Epoch 76/10000\n",
      "3146207/3146207 [==============================] - 163s 52us/sample - loss: -2.9606 - profit: 0.0080 - absmeanm: 0.0583 - meanm: 0.0583 - minm: 9.6981e-12 - maxm: 0.8752 - val_loss: -0.1383 - val_profit: 7.9939e-04 - val_absmeanm: 0.0789 - val_meanm: 0.0789 - val_minm: 0.0000e+00 - val_maxm: 0.9360\n",
      "Epoch 77/10000\n",
      "3146207/3146207 [==============================] - 183s 58us/sample - loss: -2.9712 - profit: 0.0085 - absmeanm: 0.0609 - meanm: 0.0609 - minm: 0.0000e+00 - maxm: 0.8958 - val_loss: -0.6816 - val_profit: 0.0018 - val_absmeanm: 0.0784 - val_meanm: 0.0784 - val_minm: 0.0000e+00 - val_maxm: 0.9310\n",
      "Epoch 78/10000\n",
      "3146207/3146207 [==============================] - 167s 53us/sample - loss: -2.9732 - profit: 0.0086 - absmeanm: 0.0617 - meanm: 0.0617 - minm: 3.8792e-11 - maxm: 0.8981 - val_loss: -0.6088 - val_profit: 0.0018 - val_absmeanm: 0.0789 - val_meanm: 0.0789 - val_minm: 0.0000e+00 - val_maxm: 0.9261\n",
      "Epoch 79/10000\n",
      "3146207/3146207 [==============================] - 168s 53us/sample - loss: -2.9739 - profit: 0.0085 - absmeanm: 0.0612 - meanm: 0.0612 - minm: 5.8189e-11 - maxm: 0.8897 - val_loss: -0.6339 - val_profit: 0.0020 - val_absmeanm: 0.0825 - val_meanm: 0.0825 - val_minm: 0.0000e+00 - val_maxm: 0.9097\n",
      "Epoch 80/10000\n",
      "3146207/3146207 [==============================] - 164s 52us/sample - loss: -2.9864 - profit: 0.0088 - absmeanm: 0.0633 - meanm: 0.0633 - minm: 5.8189e-11 - maxm: 0.8974 - val_loss: -0.5333 - val_profit: 0.0017 - val_absmeanm: 0.0782 - val_meanm: 0.0782 - val_minm: 0.0000e+00 - val_maxm: 0.9255\n",
      "Epoch 81/10000\n",
      "3146207/3146207 [==============================] - 182s 58us/sample - loss: -2.9621 - profit: 0.0086 - absmeanm: 0.0620 - meanm: 0.0620 - minm: 2.9094e-11 - maxm: 0.8950 - val_loss: -0.7215 - val_profit: 0.0018 - val_absmeanm: 0.0697 - val_meanm: 0.0697 - val_minm: 0.0000e+00 - val_maxm: 0.8981\n",
      "Epoch 82/10000\n",
      "3146207/3146207 [==============================] - 165s 52us/sample - loss: -2.9440 - profit: 0.0082 - absmeanm: 0.0610 - meanm: 0.0610 - minm: 5.8189e-11 - maxm: 0.8948 - val_loss: -0.6044 - val_profit: 0.0018 - val_absmeanm: 0.0768 - val_meanm: 0.0768 - val_minm: 0.0000e+00 - val_maxm: 0.9003\n",
      "Epoch 83/10000\n",
      "3146207/3146207 [==============================] - 169s 54us/sample - loss: -2.9578 - profit: 0.0080 - absmeanm: 0.0592 - meanm: 0.0592 - minm: 6.7887e-11 - maxm: 0.8828 - val_loss: -0.5721 - val_profit: 0.0016 - val_absmeanm: 0.0754 - val_meanm: 0.0754 - val_minm: 0.0000e+00 - val_maxm: 0.9004\n",
      "Epoch 84/10000\n",
      "3146207/3146207 [==============================] - 170s 54us/sample - loss: -2.9490 - profit: 0.0082 - absmeanm: 0.0611 - meanm: 0.0611 - minm: 9.6981e-12 - maxm: 0.8898 - val_loss: -0.7469 - val_profit: 0.0023 - val_absmeanm: 0.0792 - val_meanm: 0.0792 - val_minm: 0.0000e+00 - val_maxm: 0.9264\n",
      "Epoch 85/10000\n",
      "3146207/3146207 [==============================] - 169s 54us/sample - loss: -2.9519 - profit: 0.0081 - absmeanm: 0.0602 - meanm: 0.0602 - minm: 4.8491e-11 - maxm: 0.8878 - val_loss: -0.7327 - val_profit: 0.0017 - val_absmeanm: 0.0680 - val_meanm: 0.0680 - val_minm: 0.0000e+00 - val_maxm: 0.8916\n",
      "Epoch 86/10000\n",
      "3146207/3146207 [==============================] - 166s 53us/sample - loss: -2.9808 - profit: 0.0086 - absmeanm: 0.0617 - meanm: 0.0617 - minm: 9.6981e-11 - maxm: 0.8937 - val_loss: -0.6279 - val_profit: 0.0022 - val_absmeanm: 0.0927 - val_meanm: 0.0927 - val_minm: 0.0000e+00 - val_maxm: 0.9446\n",
      "Epoch 87/10000\n",
      "3146207/3146207 [==============================] - 167s 53us/sample - loss: -2.9558 - profit: 0.0085 - absmeanm: 0.0626 - meanm: 0.0626 - minm: 2.0366e-10 - maxm: 0.9019 - val_loss: -0.6077 - val_profit: 0.0019 - val_absmeanm: 0.0694 - val_meanm: 0.0694 - val_minm: 0.0000e+00 - val_maxm: 0.9081\n",
      "Epoch 88/10000\n",
      "3146207/3146207 [==============================] - 164s 52us/sample - loss: -2.9906 - profit: 0.0087 - absmeanm: 0.0622 - meanm: 0.0622 - minm: 1.0668e-10 - maxm: 0.9040 - val_loss: -1.0352 - val_profit: 0.0029 - val_absmeanm: 0.0713 - val_meanm: 0.0713 - val_minm: 0.0000e+00 - val_maxm: 0.9108\n",
      "Epoch 89/10000\n",
      "3146207/3146207 [==============================] - 165s 52us/sample - loss: -2.9903 - profit: 0.0086 - absmeanm: 0.0623 - meanm: 0.0623 - minm: 4.8491e-11 - maxm: 0.9015 - val_loss: -0.8510 - val_profit: 0.0026 - val_absmeanm: 0.0696 - val_meanm: 0.0696 - val_minm: 0.0000e+00 - val_maxm: 0.9104\n",
      "Epoch 90/10000\n",
      "3146207/3146207 [==============================] - 180s 57us/sample - loss: -3.0044 - profit: 0.0089 - absmeanm: 0.0626 - meanm: 0.0626 - minm: 6.7887e-11 - maxm: 0.9014 - val_loss: -0.7735 - val_profit: 0.0027 - val_absmeanm: 0.0838 - val_meanm: 0.0838 - val_minm: 0.0000e+00 - val_maxm: 0.9314\n",
      "Epoch 91/10000\n",
      "3146207/3146207 [==============================] - 167s 53us/sample - loss: -2.9900 - profit: 0.0089 - absmeanm: 0.0637 - meanm: 0.0637 - minm: 5.8189e-11 - maxm: 0.9093 - val_loss: -0.6198 - val_profit: 0.0023 - val_absmeanm: 0.0712 - val_meanm: 0.0712 - val_minm: 0.0000e+00 - val_maxm: 0.9338\n",
      "Epoch 92/10000\n",
      "3146207/3146207 [==============================] - 170s 54us/sample - loss: -3.0002 - profit: 0.0088 - absmeanm: 0.0627 - meanm: 0.0627 - minm: 1.6487e-10 - maxm: 0.8975 - val_loss: -0.5060 - val_profit: 0.0016 - val_absmeanm: 0.0810 - val_meanm: 0.0810 - val_minm: 0.0000e+00 - val_maxm: 0.9326\n",
      "Epoch 93/10000\n",
      "3146207/3146207 [==============================] - 166s 53us/sample - loss: -2.9872 - profit: 0.0085 - absmeanm: 0.0620 - meanm: 0.0620 - minm: 1.4547e-10 - maxm: 0.8888 - val_loss: -0.1824 - val_profit: 0.0011 - val_absmeanm: 0.0880 - val_meanm: 0.0880 - val_minm: 0.0000e+00 - val_maxm: 0.9337\n",
      "Epoch 94/10000\n",
      "3146207/3146207 [==============================] - 168s 53us/sample - loss: -3.0032 - profit: 0.0087 - absmeanm: 0.0630 - meanm: 0.0630 - minm: 2.3275e-10 - maxm: 0.8995 - val_loss: -0.6886 - val_profit: 0.0023 - val_absmeanm: 0.0859 - val_meanm: 0.0859 - val_minm: 0.0000e+00 - val_maxm: 0.9361\n",
      "Epoch 95/10000\n",
      "3146207/3146207 [==============================] - 165s 52us/sample - loss: -3.0100 - profit: 0.0090 - absmeanm: 0.0642 - meanm: 0.0642 - minm: 1.6487e-10 - maxm: 0.9063 - val_loss: -0.5891 - val_profit: 0.0020 - val_absmeanm: 0.0809 - val_meanm: 0.0809 - val_minm: 0.0000e+00 - val_maxm: 0.9311\n",
      "Epoch 96/10000\n",
      "3146207/3146207 [==============================] - 169s 54us/sample - loss: -3.0194 - profit: 0.0089 - absmeanm: 0.0640 - meanm: 0.0640 - minm: 1.1638e-10 - maxm: 0.9009 - val_loss: -0.5604 - val_profit: 0.0017 - val_absmeanm: 0.0783 - val_meanm: 0.0783 - val_minm: 0.0000e+00 - val_maxm: 0.9231\n",
      "Epoch 97/10000\n",
      "3146207/3146207 [==============================] - 166s 53us/sample - loss: -3.0073 - profit: 0.0089 - absmeanm: 0.0641 - meanm: 0.0641 - minm: 2.0366e-10 - maxm: 0.8952 - val_loss: -0.5363 - val_profit: 0.0015 - val_absmeanm: 0.0592 - val_meanm: 0.0592 - val_minm: 0.0000e+00 - val_maxm: 0.8876\n",
      "Epoch 98/10000\n",
      "3146207/3146207 [==============================] - 168s 53us/sample - loss: -3.0138 - profit: 0.0092 - absmeanm: 0.0652 - meanm: 0.0652 - minm: 1.8426e-10 - maxm: 0.9039 - val_loss: -0.6917 - val_profit: 0.0028 - val_absmeanm: 0.1062 - val_meanm: 0.1062 - val_minm: 0.0000e+00 - val_maxm: 0.9321\n",
      "Epoch 99/10000\n",
      "3146207/3146207 [==============================] - 164s 52us/sample - loss: -2.9853 - profit: 0.0086 - absmeanm: 0.0626 - meanm: 0.0626 - minm: 7.7585e-11 - maxm: 0.8972 - val_loss: -0.4137 - val_profit: 0.0016 - val_absmeanm: 0.1058 - val_meanm: 0.1058 - val_minm: 0.0000e+00 - val_maxm: 0.9431\n",
      "Epoch 100/10000\n",
      "2070528/3146207 [==================>...........] - ETA: 56s - loss: -2.9847 - profit: 0.0087 - absmeanm: 0.0623 - meanm: 0.0623 - minm: 1.1791e-10 - maxm: 0.8972"
     ]
    },
    {
     "ename": "KeyboardInterrupt",
     "evalue": "",
     "output_type": "error",
     "traceback": [
      "\u001b[0;31m---------------------------------------------------------------------------\u001b[0m",
      "\u001b[0;31mKeyboardInterrupt\u001b[0m                         Traceback (most recent call last)",
      "\u001b[0;32m<ipython-input-91-5a0ff80547d6>\u001b[0m in \u001b[0;36m<module>\u001b[0;34m()\u001b[0m\n\u001b[1;32m     19\u001b[0m \u001b[0;31m#     use_multiprocessing=True,\u001b[0m\u001b[0;34m\u001b[0m\u001b[0;34m\u001b[0m\u001b[0;34m\u001b[0m\u001b[0m\n\u001b[1;32m     20\u001b[0m \u001b[0;31m#     workers=0,\u001b[0m\u001b[0;34m\u001b[0m\u001b[0;34m\u001b[0m\u001b[0;34m\u001b[0m\u001b[0m\n\u001b[0;32m---> 21\u001b[0;31m     \u001b[0mverbose\u001b[0m\u001b[0;34m=\u001b[0m\u001b[0;36m1\u001b[0m\u001b[0;34m,\u001b[0m\u001b[0;34m\u001b[0m\u001b[0;34m\u001b[0m\u001b[0m\n\u001b[0m\u001b[1;32m     22\u001b[0m \u001b[0;31m#     max_queue_size=100,\u001b[0m\u001b[0;34m\u001b[0m\u001b[0;34m\u001b[0m\u001b[0;34m\u001b[0m\u001b[0m\n\u001b[1;32m     23\u001b[0m \u001b[0;31m#     validation_freq=1000,\u001b[0m\u001b[0;34m\u001b[0m\u001b[0;34m\u001b[0m\u001b[0;34m\u001b[0m\u001b[0m\n",
      "\u001b[0;32m/home/ubuntu/anaconda3/envs/python3/lib/python3.6/site-packages/tensorflow_core/python/keras/engine/training.py\u001b[0m in \u001b[0;36mfit\u001b[0;34m(self, x, y, batch_size, epochs, verbose, callbacks, validation_split, validation_data, shuffle, class_weight, sample_weight, initial_epoch, steps_per_epoch, validation_steps, validation_freq, max_queue_size, workers, use_multiprocessing, **kwargs)\u001b[0m\n\u001b[1;32m    725\u001b[0m         \u001b[0mmax_queue_size\u001b[0m\u001b[0;34m=\u001b[0m\u001b[0mmax_queue_size\u001b[0m\u001b[0;34m,\u001b[0m\u001b[0;34m\u001b[0m\u001b[0;34m\u001b[0m\u001b[0m\n\u001b[1;32m    726\u001b[0m         \u001b[0mworkers\u001b[0m\u001b[0;34m=\u001b[0m\u001b[0mworkers\u001b[0m\u001b[0;34m,\u001b[0m\u001b[0;34m\u001b[0m\u001b[0;34m\u001b[0m\u001b[0m\n\u001b[0;32m--> 727\u001b[0;31m         use_multiprocessing=use_multiprocessing)\n\u001b[0m\u001b[1;32m    728\u001b[0m \u001b[0;34m\u001b[0m\u001b[0m\n\u001b[1;32m    729\u001b[0m   def evaluate(self,\n",
      "\u001b[0;32m/home/ubuntu/anaconda3/envs/python3/lib/python3.6/site-packages/tensorflow_core/python/keras/engine/training_arrays.py\u001b[0m in \u001b[0;36mfit\u001b[0;34m(self, model, x, y, batch_size, epochs, verbose, callbacks, validation_split, validation_data, shuffle, class_weight, sample_weight, initial_epoch, steps_per_epoch, validation_steps, validation_freq, **kwargs)\u001b[0m\n\u001b[1;32m    673\u001b[0m         \u001b[0mvalidation_steps\u001b[0m\u001b[0;34m=\u001b[0m\u001b[0mvalidation_steps\u001b[0m\u001b[0;34m,\u001b[0m\u001b[0;34m\u001b[0m\u001b[0;34m\u001b[0m\u001b[0m\n\u001b[1;32m    674\u001b[0m         \u001b[0mvalidation_freq\u001b[0m\u001b[0;34m=\u001b[0m\u001b[0mvalidation_freq\u001b[0m\u001b[0;34m,\u001b[0m\u001b[0;34m\u001b[0m\u001b[0;34m\u001b[0m\u001b[0m\n\u001b[0;32m--> 675\u001b[0;31m         steps_name='steps_per_epoch')\n\u001b[0m\u001b[1;32m    676\u001b[0m \u001b[0;34m\u001b[0m\u001b[0m\n\u001b[1;32m    677\u001b[0m   def evaluate(self,\n",
      "\u001b[0;32m/home/ubuntu/anaconda3/envs/python3/lib/python3.6/site-packages/tensorflow_core/python/keras/engine/training_arrays.py\u001b[0m in \u001b[0;36mmodel_iteration\u001b[0;34m(model, inputs, targets, sample_weights, batch_size, epochs, verbose, callbacks, val_inputs, val_targets, val_sample_weights, shuffle, initial_epoch, steps_per_epoch, validation_steps, validation_freq, mode, validation_in_fit, prepared_feed_values_from_dataset, steps_name, **kwargs)\u001b[0m\n\u001b[1;32m    392\u001b[0m \u001b[0;34m\u001b[0m\u001b[0m\n\u001b[1;32m    393\u001b[0m         \u001b[0;31m# Get outputs.\u001b[0m\u001b[0;34m\u001b[0m\u001b[0;34m\u001b[0m\u001b[0;34m\u001b[0m\u001b[0m\n\u001b[0;32m--> 394\u001b[0;31m         \u001b[0mbatch_outs\u001b[0m \u001b[0;34m=\u001b[0m \u001b[0mf\u001b[0m\u001b[0;34m(\u001b[0m\u001b[0mins_batch\u001b[0m\u001b[0;34m)\u001b[0m\u001b[0;34m\u001b[0m\u001b[0;34m\u001b[0m\u001b[0m\n\u001b[0m\u001b[1;32m    395\u001b[0m         \u001b[0;32mif\u001b[0m \u001b[0;32mnot\u001b[0m \u001b[0misinstance\u001b[0m\u001b[0;34m(\u001b[0m\u001b[0mbatch_outs\u001b[0m\u001b[0;34m,\u001b[0m \u001b[0mlist\u001b[0m\u001b[0;34m)\u001b[0m\u001b[0;34m:\u001b[0m\u001b[0;34m\u001b[0m\u001b[0;34m\u001b[0m\u001b[0m\n\u001b[1;32m    396\u001b[0m           \u001b[0mbatch_outs\u001b[0m \u001b[0;34m=\u001b[0m \u001b[0;34m[\u001b[0m\u001b[0mbatch_outs\u001b[0m\u001b[0;34m]\u001b[0m\u001b[0;34m\u001b[0m\u001b[0;34m\u001b[0m\u001b[0m\n",
      "\u001b[0;32m/home/ubuntu/anaconda3/envs/python3/lib/python3.6/site-packages/tensorflow_core/python/keras/backend.py\u001b[0m in \u001b[0;36m__call__\u001b[0;34m(self, inputs)\u001b[0m\n\u001b[1;32m   3474\u001b[0m \u001b[0;34m\u001b[0m\u001b[0m\n\u001b[1;32m   3475\u001b[0m     fetched = self._callable_fn(*array_vals,\n\u001b[0;32m-> 3476\u001b[0;31m                                 run_metadata=self.run_metadata)\n\u001b[0m\u001b[1;32m   3477\u001b[0m     \u001b[0mself\u001b[0m\u001b[0;34m.\u001b[0m\u001b[0m_call_fetch_callbacks\u001b[0m\u001b[0;34m(\u001b[0m\u001b[0mfetched\u001b[0m\u001b[0;34m[\u001b[0m\u001b[0;34m-\u001b[0m\u001b[0mlen\u001b[0m\u001b[0;34m(\u001b[0m\u001b[0mself\u001b[0m\u001b[0;34m.\u001b[0m\u001b[0m_fetches\u001b[0m\u001b[0;34m)\u001b[0m\u001b[0;34m:\u001b[0m\u001b[0;34m]\u001b[0m\u001b[0;34m)\u001b[0m\u001b[0;34m\u001b[0m\u001b[0;34m\u001b[0m\u001b[0m\n\u001b[1;32m   3478\u001b[0m     output_structure = nest.pack_sequence_as(\n",
      "\u001b[0;32m/home/ubuntu/anaconda3/envs/python3/lib/python3.6/site-packages/tensorflow_core/python/client/session.py\u001b[0m in \u001b[0;36m__call__\u001b[0;34m(self, *args, **kwargs)\u001b[0m\n\u001b[1;32m   1470\u001b[0m         ret = tf_session.TF_SessionRunCallable(self._session._session,\n\u001b[1;32m   1471\u001b[0m                                                \u001b[0mself\u001b[0m\u001b[0;34m.\u001b[0m\u001b[0m_handle\u001b[0m\u001b[0;34m,\u001b[0m \u001b[0margs\u001b[0m\u001b[0;34m,\u001b[0m\u001b[0;34m\u001b[0m\u001b[0;34m\u001b[0m\u001b[0m\n\u001b[0;32m-> 1472\u001b[0;31m                                                run_metadata_ptr)\n\u001b[0m\u001b[1;32m   1473\u001b[0m         \u001b[0;32mif\u001b[0m \u001b[0mrun_metadata\u001b[0m\u001b[0;34m:\u001b[0m\u001b[0;34m\u001b[0m\u001b[0;34m\u001b[0m\u001b[0m\n\u001b[1;32m   1474\u001b[0m           \u001b[0mproto_data\u001b[0m \u001b[0;34m=\u001b[0m \u001b[0mtf_session\u001b[0m\u001b[0;34m.\u001b[0m\u001b[0mTF_GetBuffer\u001b[0m\u001b[0;34m(\u001b[0m\u001b[0mrun_metadata_ptr\u001b[0m\u001b[0;34m)\u001b[0m\u001b[0;34m\u001b[0m\u001b[0;34m\u001b[0m\u001b[0m\n",
      "\u001b[0;31mKeyboardInterrupt\u001b[0m: "
     ]
    }
   ],
   "source": [
    "# callback = MyCustomCallback(inputs_train[:-time_limit], y_true, validation_data=(inputs_test[:-time_limit], y_true_pred))\n",
    "batch_size=2**10\n",
    "\n",
    "buffer = 0\n",
    "buffer_test = 0\n",
    "leftover = inputs_train[:-buffer].shape[0] % batch_size\n",
    "leftover_test = inputs_test[:-buffer_test].shape[0] % batch_size\n",
    "\n",
    "history = model.fit(\n",
    "    inputs_train[:-1-leftover-buffer], \n",
    "    y_true[:-1-leftover-buffer], \n",
    "    validation_data=(inputs_test[:-1-leftover_test-buffer_test], y_true_pred[:-1-leftover_test-buffer_test]),\n",
    "#     validation_steps=32*5//batch_size,\n",
    "#     validation_data=(tf.convert_to_tensor(inputs_test[:32*5]), tf.convert_to_tensor([[1, i] for i in range(32*5)])),\n",
    "    epochs=10000, \n",
    "    shuffle=False,\n",
    "    batch_size=batch_size,\n",
    "#     callbacks=[callback],\n",
    "#     use_multiprocessing=True, \n",
    "#     workers=0,\n",
    "    verbose=1, \n",
    "#     max_queue_size=100,\n",
    "#     validation_freq=1000,\n",
    "#     initial_epoch=model.history.epoch[-1],\n",
    "#     initial_epoch=1\n",
    ")"
   ]
  },
  {
   "cell_type": "code",
   "execution_count": 159,
   "id": "outdoor-salmon",
   "metadata": {},
   "outputs": [
    {
     "name": "stdout",
     "output_type": "stream",
     "text": [
      "213457/213457 [==============================] - 54s 253us/sample - loss: -1.2151 - profit: -0.4275 - absmeanm: 0.0214 - meanm: 0.0214 - minm: 1.7001e-05 - maxm: 0.1504\n"
     ]
    },
    {
     "data": {
      "text/plain": [
       "[-1.215122196168675,\n",
       " -0.42751688,\n",
       " 0.021431627,\n",
       " 0.021431627,\n",
       " 1.7001401e-05,\n",
       " 0.15043464]"
      ]
     },
     "execution_count": 159,
     "metadata": {},
     "output_type": "execute_result"
    }
   ],
   "source": [
    "model.evaluate(inputs_test[:-1-leftover_test-buffer_test], y_true_pred[:-1-leftover_test-buffer_test])"
   ]
  },
  {
   "cell_type": "code",
   "execution_count": 144,
   "id": "c86fa0d2",
   "metadata": {},
   "outputs": [],
   "source": [
    "model.save('temp1')"
   ]
  },
  {
   "cell_type": "code",
   "execution_count": null,
   "id": "direct-phoenix",
   "metadata": {
    "scrolled": true
   },
   "outputs": [],
   "source": [
    "model.load_weights('temp2')"
   ]
  },
  {
   "cell_type": "code",
   "execution_count": null,
   "id": "c90d4896",
   "metadata": {},
   "outputs": [],
   "source": [
    "import json\n",
    "weights_list = model.get_weights()\n",
    "json.dump([w.tolist() for w in weights_list], open('profit_model_fast_QC_hourly_weights.json', 'w'))"
   ]
  },
  {
   "cell_type": "code",
   "execution_count": 285,
   "id": "electric-water",
   "metadata": {},
   "outputs": [
    {
     "data": {
      "text/plain": [
       "0.99835014"
      ]
     },
     "execution_count": 285,
     "metadata": {},
     "output_type": "execute_result"
    }
   ],
   "source": [
    "model.predict(X[-4000:]).min()"
   ]
  },
  {
   "cell_type": "code",
   "execution_count": 224,
   "id": "biblical-selection",
   "metadata": {},
   "outputs": [
    {
     "data": {
      "text/plain": [
       "0.0"
      ]
     },
     "execution_count": 224,
     "metadata": {},
     "output_type": "execute_result"
    }
   ],
   "source": [
    "X_test.min()"
   ]
  },
  {
   "cell_type": "code",
   "execution_count": 145,
   "id": "natural-subcommittee",
   "metadata": {},
   "outputs": [],
   "source": [
    "y_pred = model.predict((inputs_test*2-1))"
   ]
  },
  {
   "cell_type": "code",
   "execution_count": 148,
   "id": "fuzzy-blink",
   "metadata": {},
   "outputs": [],
   "source": [
    "margin = y_pred[:,:1] \n",
    "direction = np.sign(margin)\n",
    "\n",
    "close1 = y_true_pred[:,:1]\n",
    "close2 = y_true_pred[:,1:2]\n",
    "diff = close2 - close1\n",
    "spread = y_true_pred[:,2:3]\n",
    "\n",
    "profit = 100 * (margin * margin_size * (diff - (spread*direction))/close1)\n",
    "x = np.mean(profit)"
   ]
  },
  {
   "cell_type": "code",
   "execution_count": 153,
   "id": "corporate-bidding",
   "metadata": {},
   "outputs": [
    {
     "data": {
      "text/plain": [
       "array([-0.00345569,  0.00336057,  0.00595526, ...,  0.00164481,\n",
       "       -0.00483072, -0.00110413])"
      ]
     },
     "execution_count": 153,
     "metadata": {},
     "output_type": "execute_result"
    }
   ],
   "source": [
    "profit.flatten()"
   ]
  },
  {
   "cell_type": "code",
   "execution_count": 161,
   "id": "second-flooring",
   "metadata": {
    "scrolled": true
   },
   "outputs": [
    {
     "data": {
      "text/plain": [
       "<matplotlib.collections.PathCollection at 0x7f78b239b908>"
      ]
     },
     "execution_count": 161,
     "metadata": {},
     "output_type": "execute_result"
    },
    {
     "data": {
      "image/png": "[encoded data removed]",
      "text/plain": [
       "<Figure size 432x288 with 1 Axes>"
      ]
     },
     "metadata": {
      "needs_background": "light"
     },
     "output_type": "display_data"
    }
   ],
   "source": [
    "plt.scatter(list(range(len(profit))), profit.flatten(), alpha=0.5)"
   ]
  },
  {
   "cell_type": "code",
   "execution_count": 146,
   "id": "instrumental-detroit",
   "metadata": {},
   "outputs": [
    {
     "data": {
      "text/plain": [
       "(0.028728923, -0.027993169, -0.92990303, 0.056388892)"
      ]
     },
     "execution_count": 146,
     "metadata": {},
     "output_type": "execute_result"
    }
   ],
   "source": [
    "abs(y_pred).mean(), y_pred.mean(), y_pred.min(), y_pred.max()"
   ]
  },
  {
   "cell_type": "code",
   "execution_count": 236,
   "id": "acting-perry",
   "metadata": {},
   "outputs": [],
   "source": [
    "y_pred2 = model.predict(X[:-1-leftover-buffer])"
   ]
  },
  {
   "cell_type": "code",
   "execution_count": 238,
   "id": "eligible-hindu",
   "metadata": {},
   "outputs": [
    {
     "data": {
      "text/plain": [
       "(0.09669923, -0.09057495, 0.31497744, 0.09925839)"
      ]
     },
     "execution_count": 238,
     "metadata": {},
     "output_type": "execute_result"
    }
   ],
   "source": [
    "abs(y_pred2).mean(), y_pred2.mean(), y_pred2.min(), y_pred2.max()"
   ]
  },
  {
   "cell_type": "code",
   "execution_count": 234,
   "id": "descending-ideal",
   "metadata": {},
   "outputs": [
    {
     "name": "stderr",
     "output_type": "stream",
     "text": [
      "/home/ubuntu/anaconda3/envs/python3/lib/python3.6/site-packages/ipykernel_launcher.py:1: RuntimeWarning: Mean of empty slice.\n",
      "  \"\"\"Entry point for launching an IPython kernel.\n",
      "/home/ubuntu/anaconda3/envs/python3/lib/python3.6/site-packages/numpy/core/_methods.py:170: RuntimeWarning: invalid value encountered in true_divide\n",
      "  ret = ret.dtype.type(ret / rcount)\n"
     ]
    },
    {
     "ename": "ValueError",
     "evalue": "zero-size array to reduction operation minimum which has no identity",
     "output_type": "error",
     "traceback": [
      "\u001b[0;31m---------------------------------------------------------------------------\u001b[0m",
      "\u001b[0;31mValueError\u001b[0m                                Traceback (most recent call last)",
      "\u001b[0;32m<ipython-input-234-74b279863352>\u001b[0m in \u001b[0;36m<module>\u001b[0;34m()\u001b[0m\n\u001b[0;32m----> 1\u001b[0;31m \u001b[0my_pred2\u001b[0m\u001b[0;34m[\u001b[0m\u001b[0mbuffer\u001b[0m\u001b[0;34m:\u001b[0m\u001b[0;34m-\u001b[0m\u001b[0mleftover\u001b[0m\u001b[0;34m]\u001b[0m\u001b[0;34m.\u001b[0m\u001b[0mmean\u001b[0m\u001b[0;34m(\u001b[0m\u001b[0;34m)\u001b[0m\u001b[0;34m,\u001b[0m \u001b[0my_pred2\u001b[0m\u001b[0;34m[\u001b[0m\u001b[0mbuffer\u001b[0m\u001b[0;34m:\u001b[0m\u001b[0;34m-\u001b[0m\u001b[0mleftover\u001b[0m\u001b[0;34m]\u001b[0m\u001b[0;34m.\u001b[0m\u001b[0mmin\u001b[0m\u001b[0;34m(\u001b[0m\u001b[0;34m)\u001b[0m\u001b[0;34m,\u001b[0m \u001b[0my_pred2\u001b[0m\u001b[0;34m[\u001b[0m\u001b[0mbuffer\u001b[0m\u001b[0;34m:\u001b[0m\u001b[0;34m-\u001b[0m\u001b[0mleftover\u001b[0m\u001b[0;34m]\u001b[0m\u001b[0;34m.\u001b[0m\u001b[0mmax\u001b[0m\u001b[0;34m(\u001b[0m\u001b[0;34m)\u001b[0m\u001b[0;34m,\u001b[0m \u001b[0mabs\u001b[0m\u001b[0;34m(\u001b[0m\u001b[0my_pred2\u001b[0m\u001b[0;34m[\u001b[0m\u001b[0mbuffer\u001b[0m\u001b[0;34m:\u001b[0m\u001b[0;34m-\u001b[0m\u001b[0mleftover\u001b[0m\u001b[0;34m]\u001b[0m\u001b[0;34m)\u001b[0m\u001b[0;34m.\u001b[0m\u001b[0mmean\u001b[0m\u001b[0;34m(\u001b[0m\u001b[0;34m)\u001b[0m\u001b[0;34m\u001b[0m\u001b[0;34m\u001b[0m\u001b[0m\n\u001b[0m",
      "\u001b[0;32m/home/ubuntu/anaconda3/envs/python3/lib/python3.6/site-packages/numpy/core/_methods.py\u001b[0m in \u001b[0;36m_amin\u001b[0;34m(a, axis, out, keepdims, initial, where)\u001b[0m\n\u001b[1;32m     41\u001b[0m def _amin(a, axis=None, out=None, keepdims=False,\n\u001b[1;32m     42\u001b[0m           initial=_NoValue, where=True):\n\u001b[0;32m---> 43\u001b[0;31m     \u001b[0;32mreturn\u001b[0m \u001b[0mumr_minimum\u001b[0m\u001b[0;34m(\u001b[0m\u001b[0ma\u001b[0m\u001b[0;34m,\u001b[0m \u001b[0maxis\u001b[0m\u001b[0;34m,\u001b[0m \u001b[0;32mNone\u001b[0m\u001b[0;34m,\u001b[0m \u001b[0mout\u001b[0m\u001b[0;34m,\u001b[0m \u001b[0mkeepdims\u001b[0m\u001b[0;34m,\u001b[0m \u001b[0minitial\u001b[0m\u001b[0;34m,\u001b[0m \u001b[0mwhere\u001b[0m\u001b[0;34m)\u001b[0m\u001b[0;34m\u001b[0m\u001b[0;34m\u001b[0m\u001b[0m\n\u001b[0m\u001b[1;32m     44\u001b[0m \u001b[0;34m\u001b[0m\u001b[0m\n\u001b[1;32m     45\u001b[0m def _sum(a, axis=None, dtype=None, out=None, keepdims=False,\n",
      "\u001b[0;31mValueError\u001b[0m: zero-size array to reduction operation minimum which has no identity"
     ]
    }
   ],
   "source": [
    "y_pred2[buffer:-leftover].mean(), y_pred2[buffer:-leftover].min(), y_pred2[buffer:-leftover].max(), abs(y_pred2[buffer:-leftover]).mean()"
   ]
  },
  {
   "cell_type": "code",
   "execution_count": 235,
   "id": "defensive-enlargement",
   "metadata": {},
   "outputs": [
    {
     "data": {
      "text/plain": [
       "(0.10084756, -0.08812471, 0.30822742, 0.10344847)"
      ]
     },
     "execution_count": 235,
     "metadata": {},
     "output_type": "execute_result"
    }
   ],
   "source": [
    "y_pred2[:buffer].mean(), y_pred2[:buffer].min(), y_pred2[:buffer].max(), abs(y_pred2[:buffer]).mean()"
   ]
  },
  {
   "cell_type": "code",
   "execution_count": null,
   "id": "helpful-commission",
   "metadata": {},
   "outputs": [],
   "source": [
    "idxs = list(range(0, batch_size, 60))\n",
    "margin = y_pred[:,:1][idxs]\n",
    "direction = np.sign(margin)\n",
    "\n",
    "close1 = y_true_pred[:,:1][idxs]\n",
    "close2 = y_true_pred[:,1:2][idxs]\n",
    "diff = close2 - close1\n",
    "spread = y_true_pred[:,2:3][idxs]\n",
    "\n",
    "x = np.mean(100 * (margin * margin_size * (diff - (spread*direction))/close1))"
   ]
  },
  {
   "cell_type": "code",
   "execution_count": null,
   "id": "substantial-reference",
   "metadata": {},
   "outputs": [],
   "source": [
    "x"
   ]
  },
  {
   "cell_type": "code",
   "execution_count": null,
   "id": "animated-failing",
   "metadata": {},
   "outputs": [],
   "source": [
    "margin.shape, close1.shape, close2.shape, diff.shape, spread.shape"
   ]
  },
  {
   "cell_type": "code",
   "execution_count": null,
   "id": "37b8d23b",
   "metadata": {},
   "outputs": [],
   "source": [
    "inputs_train[:1]"
   ]
  },
  {
   "cell_type": "code",
   "execution_count": null,
   "id": "7ac07403",
   "metadata": {
    "scrolled": true
   },
   "outputs": [],
   "source": [
    "model.predict(inputs_train[:1])"
   ]
  },
  {
   "cell_type": "code",
   "execution_count": null,
   "id": "injured-beverage",
   "metadata": {},
   "outputs": [],
   "source": [
    "import numpy as np\n",
    "def normalize(data, window, step):\n",
    "    frame = '_1min'\n",
    "    values = [c for c in data.columns if frame in c]\n",
    "    ohlc = data.iloc[step - window + 1:step + 1][values].copy()\n",
    "\n",
    "    min_low = ohlc[values].min().min()\n",
    "    for c in ohlc.columns:\n",
    "        ohlc[c] -= min_low\n",
    "\n",
    "    max_high = ohlc[values].max().max()\n",
    "    for c in ohlc.columns:\n",
    "        ohlc[c] /= max_high\n",
    "\n",
    "    return ohlc.values"
   ]
  },
  {
   "cell_type": "code",
   "execution_count": null,
   "id": "likely-spotlight",
   "metadata": {},
   "outputs": [],
   "source": [
    "model.predict(inputs_train[-1:])"
   ]
  },
  {
   "cell_type": "code",
   "execution_count": null,
   "id": "invalid-combination",
   "metadata": {},
   "outputs": [],
   "source": [
    "np.save('preds.json', y_preds['test'])"
   ]
  },
  {
   "cell_type": "code",
   "execution_count": null,
   "id": "bb215f02",
   "metadata": {},
   "outputs": [],
   "source": [
    "(((y_preds['test'][:,1] + 1) / 2)).mean(), (((y_preds['test'][:,2] + 1) / 2)).mean()"
   ]
  },
  {
   "cell_type": "code",
   "execution_count": null,
   "id": "antique-scene",
   "metadata": {},
   "outputs": [],
   "source": [
    "abs(train['close_1min'].values[:-60] - train['close_1min'].values[60:]).mean()"
   ]
  },
  {
   "cell_type": "code",
   "execution_count": null,
   "id": "06cb421e",
   "metadata": {},
   "outputs": [],
   "source": [
    "y_preds = {'train': model.predict(inputs_train[:-buffer_train]), 'test': model.predict(inputs_test[:-buffer_test])}"
   ]
  },
  {
   "cell_type": "code",
   "execution_count": null,
   "id": "bb2d5582",
   "metadata": {},
   "outputs": [],
   "source": [
    "profits = {'train': get_profit(df[0], y_preds['train'], 0), 'test': get_profit(df[1], y_preds['test'], 0)}"
   ]
  },
  {
   "cell_type": "code",
   "execution_count": null,
   "id": "following-desperate",
   "metadata": {},
   "outputs": [],
   "source": [
    "time_limit = 120\n",
    "def get_profit(data, y_preds, times_spread=0):\n",
    "    preds = y_preds[:,0].flatten()[:-time_limit]\n",
    "    direction = np.sign(preds)\n",
    "    b = data.shape[0] - preds.shape[0]\n",
    "    close1 = data['close_1min'].values[:-b]\n",
    "    close2 = data['close_1min'].values[time_limit:-b+time_limit]\n",
    "    diff = close2 - close1\n",
    "    spread = data['spread'].values[:-b]\n",
    "    profit = 100 * (margin_size*direction * (diff - (spread*direction))) /  close1\n",
    "#     profit = [p for p, pred, s, c in zip(profit, preds, spread, close1) if abs(pred) > 100*margin_size*times_spread*s/c]\n",
    "    return profit"
   ]
  },
  {
   "cell_type": "code",
   "execution_count": null,
   "id": "regulation-clearing",
   "metadata": {},
   "outputs": [],
   "source": [
    "def get_profit(data, y_preds, margin_lower_limit=0):\n",
    "    idx = 0\n",
    "    profits = 0\n",
    "    margin = 0\n",
    "    account_value = [1]\n",
    "    old_date = data['date'].iloc[idx]\n",
    "    increase = 1\n",
    "    start_profit = profits\n",
    "    while idx < len(y_preds) - 2:\n",
    "        pred = y_preds[idx][0]\n",
    "        date = data['date'].iloc[idx]\n",
    "        direction = np.sign(margin)\n",
    "        close =  data.iloc[idx]['close_1min']\n",
    "        spread = data.iloc[idx]['spread']\n",
    "        if date != old_date:\n",
    "            profits += (margin * (close - (spread*direction)))\n",
    "            margin = 0\n",
    "            \n",
    "        if abs(pred + margin) < margin_size*account_value[-1]:\n",
    "            profits += (pred * (close - (spread*direction)))\n",
    "            margin += pred\n",
    "            \n",
    "        account_value.append(1 + (margin * (close - (spread*direction))) - profits)\n",
    "        idx += 1\n",
    "        \n",
    "    idx = -1\n",
    "    direction = np.sign(margin)\n",
    "    close =  data.iloc[idx]['close_1min']\n",
    "    spread = data.iloc[idx]['spread']\n",
    "    profits += (margin * (close - (spread*direction)))\n",
    "    margin = 0\n",
    "    return profits, margin, account_value"
   ]
  },
  {
   "cell_type": "code",
   "execution_count": null,
   "id": "frank-andrews",
   "metadata": {},
   "outputs": [],
   "source": [
    "p, m, v = get_profit(df[1], y_preds['test'], 0)"
   ]
  },
  {
   "cell_type": "code",
   "execution_count": null,
   "id": "flush-breath",
   "metadata": {},
   "outputs": [],
   "source": [
    "plt.plot(v)"
   ]
  },
  {
   "cell_type": "code",
   "execution_count": null,
   "id": "parallel-cologne",
   "metadata": {
    "scrolled": true
   },
   "outputs": [],
   "source": [
    "profits_fixed = {'train': get_profit(df[0], y_preds['train'], 0), 'test': get_profit(df[1], y_preds['test'], 0)}"
   ]
  },
  {
   "cell_type": "code",
   "execution_count": null,
   "id": "536ff360",
   "metadata": {},
   "outputs": [],
   "source": [
    "temp = {'train': train.iloc[:len(profits_fixed['train'])].copy(), 'test': test.iloc[:len(profits_fixed['test'])].copy()}\n",
    "temp['train']['profit'] = profits_fixed['train']\n",
    "temp['test']['profit'] = profits_fixed['test']"
   ]
  },
  {
   "cell_type": "code",
   "execution_count": null,
   "id": "consolidated-database",
   "metadata": {},
   "outputs": [],
   "source": [
    "temp['train']['profit'].hist()"
   ]
  },
  {
   "cell_type": "code",
   "execution_count": null,
   "id": "accurate-basic",
   "metadata": {},
   "outputs": [],
   "source": [
    "temp['test']['profit'].hist()"
   ]
  },
  {
   "cell_type": "code",
   "execution_count": null,
   "id": "19e7241a",
   "metadata": {},
   "outputs": [],
   "source": [
    "temp['train']['profit'].plot()"
   ]
  },
  {
   "cell_type": "code",
   "execution_count": null,
   "id": "4e03b4bb",
   "metadata": {},
   "outputs": [],
   "source": [
    "temp['test']['profit'].plot()"
   ]
  },
  {
   "cell_type": "code",
   "execution_count": null,
   "id": "90a5da88",
   "metadata": {},
   "outputs": [],
   "source": [
    "temp['train']['profit'].cumsum().plot()"
   ]
  },
  {
   "cell_type": "code",
   "execution_count": null,
   "id": "345e7c54",
   "metadata": {},
   "outputs": [],
   "source": [
    "temp['test']['profit'].cumsum().plot()"
   ]
  },
  {
   "cell_type": "code",
   "execution_count": null,
   "id": "d81161e2",
   "metadata": {},
   "outputs": [],
   "source": [
    "sum(temp['train']['profit'])"
   ]
  },
  {
   "cell_type": "code",
   "execution_count": null,
   "id": "4af3cae6",
   "metadata": {},
   "outputs": [],
   "source": [
    "sum(temp['test']['profit'])"
   ]
  },
  {
   "cell_type": "code",
   "execution_count": null,
   "id": "ebfe8f1f",
   "metadata": {},
   "outputs": [],
   "source": [
    "(252 ** 0.5) * np.mean(temp['train']['profit']) / np.std(temp['train']['profit'])"
   ]
  },
  {
   "cell_type": "code",
   "execution_count": null,
   "id": "af953a97",
   "metadata": {},
   "outputs": [],
   "source": [
    "(252 ** 0.5) * np.mean(temp['test']['profit']) / np.std(temp['test']['profit'])"
   ]
  },
  {
   "cell_type": "code",
   "execution_count": null,
   "id": "e05e48b6",
   "metadata": {},
   "outputs": [],
   "source": []
  },
  {
   "cell_type": "code",
   "execution_count": null,
   "id": "extra-mauritius",
   "metadata": {},
   "outputs": [],
   "source": []
  },
  {
   "cell_type": "code",
   "execution_count": null,
   "id": "african-brave",
   "metadata": {},
   "outputs": [],
   "source": []
  },
  {
   "cell_type": "code",
   "execution_count": null,
   "id": "homeless-heritage",
   "metadata": {},
   "outputs": [],
   "source": []
  },
  {
   "cell_type": "code",
   "execution_count": null,
   "id": "level-examination",
   "metadata": {},
   "outputs": [],
   "source": []
  },
  {
   "cell_type": "code",
   "execution_count": null,
   "id": "animated-diameter",
   "metadata": {},
   "outputs": [],
   "source": []
  },
  {
   "cell_type": "code",
   "execution_count": null,
   "id": "liberal-framing",
   "metadata": {},
   "outputs": [],
   "source": []
  },
  {
   "cell_type": "code",
   "execution_count": null,
   "id": "controlling-cartoon",
   "metadata": {},
   "outputs": [],
   "source": []
  },
  {
   "cell_type": "code",
   "execution_count": null,
   "id": "chief-diary",
   "metadata": {},
   "outputs": [],
   "source": []
  },
  {
   "cell_type": "code",
   "execution_count": null,
   "id": "quick-least",
   "metadata": {},
   "outputs": [],
   "source": []
  },
  {
   "cell_type": "code",
   "execution_count": null,
   "id": "cardiac-population",
   "metadata": {},
   "outputs": [],
   "source": []
  },
  {
   "cell_type": "code",
   "execution_count": null,
   "id": "limited-ordinary",
   "metadata": {},
   "outputs": [],
   "source": []
  },
  {
   "cell_type": "code",
   "execution_count": null,
   "id": "extended-think",
   "metadata": {},
   "outputs": [],
   "source": []
  },
  {
   "cell_type": "code",
   "execution_count": null,
   "id": "changing-framework",
   "metadata": {},
   "outputs": [],
   "source": []
  },
  {
   "cell_type": "code",
   "execution_count": null,
   "id": "alternate-declaration",
   "metadata": {},
   "outputs": [],
   "source": []
  },
  {
   "cell_type": "code",
   "execution_count": null,
   "id": "actual-somalia",
   "metadata": {},
   "outputs": [],
   "source": []
  },
  {
   "cell_type": "code",
   "execution_count": null,
   "id": "european-organizer",
   "metadata": {},
   "outputs": [],
   "source": []
  },
  {
   "cell_type": "code",
   "execution_count": null,
   "id": "legal-alloy",
   "metadata": {},
   "outputs": [],
   "source": []
  },
  {
   "cell_type": "code",
   "execution_count": null,
   "id": "canadian-bracelet",
   "metadata": {},
   "outputs": [],
   "source": []
  },
  {
   "cell_type": "code",
   "execution_count": null,
   "id": "concerned-writing",
   "metadata": {},
   "outputs": [],
   "source": []
  },
  {
   "cell_type": "code",
   "execution_count": null,
   "id": "approved-apollo",
   "metadata": {},
   "outputs": [],
   "source": []
  },
  {
   "cell_type": "code",
   "execution_count": null,
   "id": "decimal-indicator",
   "metadata": {},
   "outputs": [],
   "source": []
  },
  {
   "cell_type": "code",
   "execution_count": null,
   "id": "governing-london",
   "metadata": {},
   "outputs": [],
   "source": []
  },
  {
   "cell_type": "code",
   "execution_count": null,
   "id": "stupid-removal",
   "metadata": {},
   "outputs": [],
   "source": []
  },
  {
   "cell_type": "code",
   "execution_count": null,
   "id": "nonprofit-young",
   "metadata": {},
   "outputs": [],
   "source": []
  },
  {
   "cell_type": "code",
   "execution_count": null,
   "id": "assured-arkansas",
   "metadata": {},
   "outputs": [],
   "source": []
  },
  {
   "cell_type": "code",
   "execution_count": null,
   "id": "vulnerable-freeze",
   "metadata": {},
   "outputs": [],
   "source": []
  },
  {
   "cell_type": "code",
   "execution_count": null,
   "id": "supposed-october",
   "metadata": {},
   "outputs": [],
   "source": []
  },
  {
   "cell_type": "code",
   "execution_count": null,
   "id": "boring-porter",
   "metadata": {},
   "outputs": [],
   "source": []
  },
  {
   "cell_type": "code",
   "execution_count": null,
   "id": "patent-buying",
   "metadata": {},
   "outputs": [],
   "source": []
  },
  {
   "cell_type": "code",
   "execution_count": null,
   "id": "reported-medline",
   "metadata": {},
   "outputs": [],
   "source": []
  },
  {
   "cell_type": "code",
   "execution_count": null,
   "id": "mounted-despite",
   "metadata": {},
   "outputs": [],
   "source": []
  },
  {
   "cell_type": "code",
   "execution_count": null,
   "id": "mineral-variety",
   "metadata": {},
   "outputs": [],
   "source": []
  },
  {
   "cell_type": "code",
   "execution_count": null,
   "id": "deadly-economics",
   "metadata": {},
   "outputs": [],
   "source": []
  },
  {
   "cell_type": "code",
   "execution_count": null,
   "id": "controversial-location",
   "metadata": {},
   "outputs": [],
   "source": []
  }
 ],
 "metadata": {
  "kernelspec": {
   "display_name": "Python 3",
   "language": "python",
   "name": "python3"
  },
  "language_info": {
   "codemirror_mode": {
    "name": "ipython",
    "version": 3
   },
   "file_extension": ".py",
   "mimetype": "text/x-python",
   "name": "python",
   "nbconvert_exporter": "python",
   "pygments_lexer": "ipython3",
   "version": "3.6.8"
  }
 },
 "nbformat": 4,
 "nbformat_minor": 5
}
