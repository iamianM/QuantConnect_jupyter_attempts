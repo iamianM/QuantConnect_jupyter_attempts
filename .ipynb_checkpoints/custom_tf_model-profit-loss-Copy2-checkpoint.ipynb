{
 "cells": [
  {
   "cell_type": "code",
   "execution_count": 1,
   "id": "lesbian-constitutional",
   "metadata": {},
   "outputs": [],
   "source": [
    "import os\n",
    "os.environ[\"CUDA_VISIBLE_DEVICES\"] = \"-1\""
   ]
  },
  {
   "cell_type": "code",
   "execution_count": 2,
   "id": "41f459b3",
   "metadata": {},
   "outputs": [],
   "source": [
    "import tensorflow as tf\n",
    "\n",
    "from tensorflow.keras import datasets, models, optimizers\n",
    "from tensorflow.keras.layers import TimeDistributed, Conv2D, Flatten, Dense, LSTM, ConvLSTM2D, MaxPool2D, Dropout, Conv1D\n",
    "import matplotlib.pyplot as plt\n",
    "\n",
    "import numpy as np \n",
    "import pandas as pd"
   ]
  },
  {
   "cell_type": "code",
   "execution_count": 3,
   "id": "offensive-merchant",
   "metadata": {},
   "outputs": [
    {
     "data": {
      "text/plain": [
       "True"
      ]
     },
     "execution_count": 3,
     "metadata": {},
     "output_type": "execute_result"
    }
   ],
   "source": [
    "tf.test.is_built_with_cuda()"
   ]
  },
  {
   "cell_type": "code",
   "execution_count": 4,
   "id": "dae60f38",
   "metadata": {},
   "outputs": [],
   "source": [
    "tf.compat.v1.enable_eager_execution()"
   ]
  },
  {
   "cell_type": "code",
   "execution_count": 5,
   "id": "86f4cad1",
   "metadata": {},
   "outputs": [],
   "source": [
    "inputs_train = np.load(\"inputs_train.npy\")\n",
    "inputs_test = np.load(\"inputs_test.npy\")"
   ]
  },
  {
   "cell_type": "code",
   "execution_count": 6,
   "id": "external-aviation",
   "metadata": {},
   "outputs": [],
   "source": [
    "inputs_train = np.transpose(inputs_train, (0, 2,3,1))\n",
    "inputs_test = np.transpose(inputs_test, (0, 2,3,1))"
   ]
  },
  {
   "cell_type": "code",
   "execution_count": 7,
   "id": "royal-royalty",
   "metadata": {},
   "outputs": [],
   "source": [
    "inputs_train = inputs_train.reshape(inputs_train.shape[:2] + (inputs_train.shape[2]*inputs_train.shape[3],))\n",
    "inputs_test = inputs_test.reshape(inputs_test.shape[:2] + (inputs_test.shape[2]*inputs_test.shape[3],))"
   ]
  },
  {
   "cell_type": "code",
   "execution_count": 8,
   "id": "c6052538",
   "metadata": {},
   "outputs": [],
   "source": [
    "train = pd.read_csv('train_timeframes.csv').iloc[59:]\n",
    "test = pd.read_csv('test_timeframes.csv').iloc[59:]"
   ]
  },
  {
   "cell_type": "code",
   "execution_count": 9,
   "id": "assured-mambo",
   "metadata": {},
   "outputs": [],
   "source": [
    "df = [train, test]"
   ]
  },
  {
   "cell_type": "code",
   "execution_count": 10,
   "id": "9326d1b3",
   "metadata": {},
   "outputs": [],
   "source": [
    "img = inputs_train[0,:,:]"
   ]
  },
  {
   "cell_type": "code",
   "execution_count": 11,
   "id": "22b9f610",
   "metadata": {},
   "outputs": [
    {
     "data": {
      "text/plain": [
       "((73695, 60, 20), (73695, 23))"
      ]
     },
     "execution_count": 11,
     "metadata": {},
     "output_type": "execute_result"
    }
   ],
   "source": [
    "inputs_train.shape, train.shape"
   ]
  },
  {
   "cell_type": "code",
   "execution_count": 12,
   "id": "amateur-collins",
   "metadata": {},
   "outputs": [
    {
     "data": {
      "text/plain": [
       "((24365, 60, 20), (24365, 23))"
      ]
     },
     "execution_count": 12,
     "metadata": {},
     "output_type": "execute_result"
    }
   ],
   "source": [
    "inputs_test.shape, test.shape"
   ]
  },
  {
   "cell_type": "code",
   "execution_count": 13,
   "id": "6e56c8b4",
   "metadata": {},
   "outputs": [],
   "source": [
    "idx = 0\n",
    "batch_size = 32\n",
    "stop_limit = 0.004\n",
    "price_limit = 0.004\n",
    "margin_size = 50\n",
    "time_limit = 60"
   ]
  },
  {
   "cell_type": "code",
   "execution_count": 22,
   "id": "hungry-intent",
   "metadata": {},
   "outputs": [],
   "source": [
    "model = models.Sequential()\n",
    "# model.add(LSTM(64, input_shape = img.shape, return_sequences=True, dropout=0.2))\n",
    "model.add(LSTM(32, input_shape = img.shape, dropout=0.5))\n",
    "# model.add(LSTM(32, dropout=0.2))\n",
    "model.add(Dense(3, activation = \"sigmoid\"))"
   ]
  },
  {
   "cell_type": "code",
   "execution_count": 15,
   "id": "protective-medium",
   "metadata": {},
   "outputs": [],
   "source": [
    "# model = models.Sequential()\n",
    "\n",
    "# model.add(Conv2D(32, (5, 1),padding ='Same', activation='relu', input_shape = img.shape))\n",
    "# model.add(Conv2D(32, (5, 1),padding = 'Same', activation ='relu'))\n",
    "# model.add(MaxPool2D((2, 1)))\n",
    "# model.add(Dropout(0.25))\n",
    "\n",
    "# model.add(Conv2D(64,(3, 1),padding = 'Same', activation ='relu'))\n",
    "# model.add(Conv2D(64, (3, 1),padding = 'Same', activation ='relu'))\n",
    "# model.add(MaxPool2D(pool_size=(2, 1), strides=(2, 1)))\n",
    "# model.add(Dropout(0.25))\n",
    "\n",
    "# model.add(Flatten())\n",
    "# model.add(Dense(256, activation = \"relu\"))\n",
    "# model.add(Dropout(0.5))\n",
    "# model.add(Dense(3, activation = \"sigmoid\"))"
   ]
  },
  {
   "cell_type": "code",
   "execution_count": 15,
   "id": "broken-engineer",
   "metadata": {},
   "outputs": [],
   "source": [
    "# model = tf.keras.models.load_model('profit_model/', compile=False)"
   ]
  },
  {
   "cell_type": "code",
   "execution_count": 16,
   "id": "convertible-gossip",
   "metadata": {},
   "outputs": [
    {
     "name": "stdout",
     "output_type": "stream",
     "text": [
      "Model: \"sequential\"\n",
      "_________________________________________________________________\n",
      "Layer (type)                 Output Shape              Param #   \n",
      "=================================================================\n",
      "lstm (LSTM)                  (None, 32)                6784      \n",
      "_________________________________________________________________\n",
      "dense (Dense)                (None, 3)                 99        \n",
      "=================================================================\n",
      "Total params: 6,883\n",
      "Trainable params: 6,883\n",
      "Non-trainable params: 0\n",
      "_________________________________________________________________\n"
     ]
    }
   ],
   "source": [
    "model.summary()"
   ]
  },
  {
   "cell_type": "code",
   "execution_count": 17,
   "id": "da4a290c",
   "metadata": {},
   "outputs": [],
   "source": [
    "def custom_loss_wrapper(idx, stop_limit, price_limit, margin_size, time_limit):    \n",
    "    def custom_loss(y_true, y_pred):\n",
    "#         print()\n",
    "        margin = ((y_pred[:,:1] - 0.5) * 2)\n",
    "        margin *= margin_size\n",
    "        direction = tf.sign(margin)\n",
    "        stop_loss = y_pred[:,1:2] * direction * -1 * stop_limit\n",
    "        price_target = y_pred[:,2:3] * direction * 1 * price_limit\n",
    "        \n",
    "        idx = y_true[0][1].numpy()\n",
    "        df_name = y_true[0][0].numpy()\n",
    "        batch_size = y_pred.shape[0]\n",
    "        closes = []\n",
    "        spread = []\n",
    "        i = tf.constant(0)\n",
    "        while_condition = lambda i: tf.less(i, tf.constant(batch_size))\n",
    "        def body(i):\n",
    "            closes.append(df[df_name].iloc[int(idx+i.numpy()):int(idx+i.numpy()+time_limit)]['close_1min'].tolist())\n",
    "            spread.append(df[df_name].iloc[int(idx+i.numpy()):int(idx+i.numpy()+time_limit)]['spread'].tolist())\n",
    "            return [tf.add(i, 1)]\n",
    "        r = tf.while_loop(while_condition, body, [i], parallel_iterations=batch_size, swap_memory=True)\n",
    "        closes = tf.convert_to_tensor(closes)\n",
    "        spread = tf.convert_to_tensor(spread)\n",
    "        close1 = closes[:,:1]\n",
    "        close2 = tf.zeros_like(closes[:,:1])\n",
    "        lower_bound = tf.minimum(stop_loss, price_target)\n",
    "        upper_bound = tf.maximum(stop_loss, price_target)\n",
    "        i = tf.constant(0)\n",
    "        def while_condition(i, close2): \n",
    "            return tf.less(i, tf.constant(closes.shape[1]))\n",
    "        def body(i, close2):\n",
    "            diff = (closes[:,i:i+1] - closes[:,:1]) * direction\n",
    "            cond = tf.logical_or(tf.less(diff, lower_bound), tf.greater(diff, upper_bound))\n",
    "            close2 = tf.where(tf.logical_and(tf.equal(close2, 0), cond), closes[:,i:i+1], close2)\n",
    "            return [tf.add(i, 1), close2]\n",
    "        r = tf.while_loop(while_condition, body, [i, close2], parallel_iterations=closes.shape[1], swap_memory=True)\n",
    "            \n",
    "        close2 = tf.where(tf.equal(close2, 0), closes[:,-1:], close2)\n",
    "\n",
    "        diff = close2 - close1\n",
    "        profit = 100 * (margin * (diff - (spread*direction))) /  close1\n",
    "        return -profit\n",
    "    return custom_loss"
   ]
  },
  {
   "cell_type": "code",
   "execution_count": 18,
   "id": "supreme-turkey",
   "metadata": {},
   "outputs": [],
   "source": [
    "def get_profit(data, y_preds, margin_lower_limit=0):\n",
    "    idx = 0\n",
    "    profits = []\n",
    "    while idx < len(y_preds) - 1:\n",
    "        margin = ((y_preds[idx][0] - 0.5) * 2)\n",
    "        margin *= margin_size\n",
    "        if abs(margin) < margin_lower_limit:\n",
    "            idx += 1\n",
    "        else:\n",
    "            direction = np.sign(margin)\n",
    "            stop_loss = y_preds[idx][1] * direction * -1 * stop_limit\n",
    "            price_target = y_preds[idx][2] * direction * 1 * price_limit\n",
    "\n",
    "            start_idx = idx\n",
    "            close1 =  data.iloc[idx]['close_1min']\n",
    "            spread = data.iloc[idx]['spread']\n",
    "            idx += 1\n",
    "            new_i = idx\n",
    "            while new_i < len(data) - 1 and new_i - start_idx < time_limit:\n",
    "                close2 = data.iloc[new_i]['close_1min']\n",
    "                diff = (close2 - close1) \n",
    "                if min(stop_loss, price_limit) < diff * direction < max(stop_loss, price_limit):\n",
    "                    break\n",
    "                new_i += 1\n",
    "            profit = 100 * (margin * (diff - (spread*direction))) /  close1\n",
    "#             print(profit)\n",
    "            profits.append(profit)\n",
    "#             break\n",
    "    return profits\n",
    "\n",
    "# data = df[]"
   ]
  },
  {
   "cell_type": "code",
   "execution_count": 19,
   "id": "stone-washer",
   "metadata": {},
   "outputs": [],
   "source": [
    "from keras.callbacks import Callback\n",
    "\n",
    "class IntervalEvaluation(Callback):\n",
    "    def __init__(self, validation_data=(), interval=10):\n",
    "        super(Callback, self).__init__()\n",
    "\n",
    "        self.interval = interval\n",
    "        self.X_val, self.y_val = validation_data\n",
    "\n",
    "    def on_epoch_end(self, epoch, logs={}):\n",
    "        if epoch % self.interval == 0:\n",
    "            y_pred = self.model.predict(self.X_val, verbose=0)\n",
    "#             score = np.mean(custom_metric_wrapper(idx, stop_limit, price_limit, margin_size, time_limit)(tf.convert_to_tensor(self.y_val), tf.convert_to_tensor(y_pred)))\n",
    "            profits = get_profit(df[1], y_pred)\n",
    "            profits_0 = get_profit(df[1], y_pred, 0)\n",
    "            print(np.min(y_pred, axis=0))\n",
    "            print(np.mean(y_pred, axis=0))\n",
    "            print(np.max(y_pred, axis=0))\n",
    "            print(\"interval evaluation - epoch: {:d} - score: {:.6f} -- score_0: {:.6f}\".format(epoch, profits, profits_0))\n",
    "           \n",
    "buffer = (batch_size+time_limit) + 1000\n",
    "ival = IntervalEvaluation(validation_data=(inputs_test[:-buffer], np.array([[1, i] for i in range(len(test)-buffer)])), interval=3)"
   ]
  },
  {
   "cell_type": "code",
   "execution_count": 23,
   "id": "instant-forestry",
   "metadata": {},
   "outputs": [],
   "source": [
    "model.compile(\n",
    "    optimizer=optimizers.Adam(learning_rate=0.001),\n",
    "    loss=custom_loss_wrapper(idx, stop_limit, price_limit, margin_size, time_limit),\n",
    "#     metrics=[custom_metric_wrapper(idx, stop_limit, price_limit, margin_size, time_limit)],\n",
    "    run_eagerly=True\n",
    ")"
   ]
  },
  {
   "cell_type": "code",
   "execution_count": null,
   "id": "452981fb",
   "metadata": {
    "scrolled": true
   },
   "outputs": [
    {
     "name": "stdout",
     "output_type": "stream",
     "text": [
      "Epoch 1/1000\n",
      "2269/2269 [==============================] - 352s 155ms/step - loss: 0.1146\n",
      "Epoch 2/1000\n",
      "2269/2269 [==============================] - 343s 151ms/step - loss: 0.0845\n",
      "Epoch 3/1000\n",
      "2269/2269 [==============================] - 447s 197ms/step - loss: 0.0801 - val_loss: 0.0418\n",
      "Epoch 4/1000\n",
      "2269/2269 [==============================] - 342s 151ms/step - loss: 0.0094\n",
      "Epoch 5/1000\n",
      "2269/2269 [==============================] - 322s 142ms/step - loss: 0.0614\n",
      "Epoch 6/1000\n",
      "2269/2269 [==============================] - 393s 173ms/step - loss: 0.0246 - val_loss: 0.0642\n",
      "Epoch 7/1000\n",
      "2269/2269 [==============================] - 322s 142ms/step - loss: 0.0073\n",
      "Epoch 8/1000\n",
      "2269/2269 [==============================] - 324s 143ms/step - loss: 0.0205\n",
      "Epoch 9/1000\n",
      "2269/2269 [==============================] - 399s 176ms/step - loss: 0.0108 - val_loss: 0.0025\n",
      "Epoch 10/1000\n",
      "2269/2269 [==============================] - 327s 144ms/step - loss: 0.0051\n",
      "Epoch 11/1000\n",
      "2269/2269 [==============================] - 326s 144ms/step - loss: 0.0084\n",
      "Epoch 12/1000\n",
      "2269/2269 [==============================] - 394s 174ms/step - loss: 0.0024 - val_loss: 0.0295\n",
      "Epoch 13/1000\n",
      "2269/2269 [==============================] - 327s 144ms/step - loss: 0.0137\n",
      "Epoch 14/1000\n",
      "2269/2269 [==============================] - 327s 144ms/step - loss: 0.0027\n",
      "Epoch 15/1000\n",
      "2269/2269 [==============================] - 398s 176ms/step - loss: 0.0024 - val_loss: 0.0063\n",
      "Epoch 16/1000\n",
      "2269/2269 [==============================] - 335s 148ms/step - loss: 0.0030\n",
      "Epoch 17/1000\n",
      "2269/2269 [==============================] - 359s 158ms/step - loss: 0.0033\n",
      "Epoch 18/1000\n",
      "2269/2269 [==============================] - 422s 186ms/step - loss: 0.0022 - val_loss: 0.0023\n",
      "Epoch 19/1000\n",
      "2269/2269 [==============================] - 335s 148ms/step - loss: 0.0023\n",
      "Epoch 20/1000\n",
      "2269/2269 [==============================] - 330s 145ms/step - loss: 0.0021\n",
      "Epoch 21/1000\n",
      "2269/2269 [==============================] - 405s 179ms/step - loss: 0.0022 - val_loss: 1.7406e-05\n",
      "Epoch 22/1000\n",
      "2269/2269 [==============================] - 333s 147ms/step - loss: 0.0014\n",
      "Epoch 23/1000\n",
      "2269/2269 [==============================] - 345s 152ms/step - loss: 0.0091\n",
      "Epoch 24/1000\n",
      "2269/2269 [==============================] - 427s 188ms/step - loss: 0.0030 - val_loss: 1.2695e-04\n",
      "Epoch 25/1000\n",
      "2269/2269 [==============================] - 347s 153ms/step - loss: 0.0011\n",
      "Epoch 26/1000\n",
      "2269/2269 [==============================] - 351s 155ms/step - loss: 0.0030\n",
      "Epoch 27/1000\n",
      "2269/2269 [==============================] - 422s 186ms/step - loss: 0.0033 - val_loss: 1.3658e-04\n",
      "Epoch 28/1000\n",
      "2269/2269 [==============================] - 347s 153ms/step - loss: 0.0028\n",
      "Epoch 29/1000\n",
      "2269/2269 [==============================] - 350s 154ms/step - loss: 0.0018\n",
      "Epoch 30/1000\n",
      "2269/2269 [==============================] - 440s 194ms/step - loss: 0.0029 - val_loss: 0.0208\n",
      "Epoch 31/1000\n",
      "2269/2269 [==============================] - 363s 160ms/step - loss: 0.0139\n",
      "Epoch 32/1000\n",
      "2269/2269 [==============================] - 362s 160ms/step - loss: 0.0038\n",
      "Epoch 33/1000\n",
      "2269/2269 [==============================] - 442s 195ms/step - loss: 0.0017 - val_loss: 0.0022\n",
      "Epoch 34/1000\n",
      "2269/2269 [==============================] - 359s 158ms/step - loss: 0.0025\n",
      "Epoch 35/1000\n",
      "2269/2269 [==============================] - 372s 164ms/step - loss: 0.0063\n",
      "Epoch 36/1000\n",
      "2269/2269 [==============================] - 435s 192ms/step - loss: 4.8841e-04 - val_loss: 0.0216\n",
      "Epoch 37/1000\n",
      "2269/2269 [==============================] - 382s 168ms/step - loss: 0.0071\n",
      "Epoch 38/1000\n",
      "2269/2269 [==============================] - 371s 164ms/step - loss: 0.0024\n",
      "Epoch 39/1000\n",
      "2269/2269 [==============================] - 422s 186ms/step - loss: 0.0024 - val_loss: 0.0021\n",
      "Epoch 40/1000\n",
      "2269/2269 [==============================] - 360s 159ms/step - loss: 0.0026\n",
      "Epoch 41/1000\n",
      "2269/2269 [==============================] - 378s 167ms/step - loss: 0.0023\n",
      "Epoch 42/1000\n",
      "2269/2269 [==============================] - 451s 199ms/step - loss: 0.0024 - val_loss: 0.0012\n",
      "Epoch 43/1000\n",
      "2269/2269 [==============================] - 371s 164ms/step - loss: 0.0025\n",
      "Epoch 44/1000\n",
      "2269/2269 [==============================] - 393s 173ms/step - loss: 0.0028\n",
      "Epoch 45/1000\n",
      "2269/2269 [==============================] - 433s 191ms/step - loss: 0.0020 - val_loss: 0.0090\n",
      "Epoch 46/1000\n",
      "2269/2269 [==============================] - 353s 155ms/step - loss: 0.0037\n",
      "Epoch 47/1000\n",
      "2269/2269 [==============================] - 362s 160ms/step - loss: 0.0073\n",
      "Epoch 48/1000\n",
      "2269/2269 [==============================] - 414s 182ms/step - loss: 0.0065 - val_loss: 7.8203e-04\n",
      "Epoch 49/1000\n",
      "2269/2269 [==============================] - 344s 152ms/step - loss: 0.0040\n",
      "Epoch 50/1000\n",
      "2269/2269 [==============================] - 345s 152ms/step - loss: 0.0015\n",
      "Epoch 51/1000\n",
      "2269/2269 [==============================] - 416s 183ms/step - loss: 8.9068e-04 - val_loss: 0.0036\n",
      "Epoch 52/1000\n",
      "2269/2269 [==============================] - 344s 152ms/step - loss: 0.0036\n",
      "Epoch 53/1000\n",
      "2269/2269 [==============================] - 346s 153ms/step - loss: 0.0033\n",
      "Epoch 54/1000\n",
      "2269/2269 [==============================] - 417s 184ms/step - loss: 0.0027 - val_loss: 0.0030\n",
      "Epoch 55/1000\n",
      "1935/2269 [========================>.....] - ETA: 51s - loss: 0.0031"
     ]
    }
   ],
   "source": [
    "history = model.fit(inputs_train[:-buffer], np.array([[0, i] for i in range(len(train)-buffer)]), \n",
    "                    validation_data=(inputs_test[:-buffer], np.array([[1, i] for i in range(len(test)-buffer)])),\n",
    "                    epochs=1000, shuffle=True,\n",
    "                    batch_size=batch_size,\n",
    "#                     callbacks=[ival],\n",
    "                   use_multiprocessing=True, verbose=1, \n",
    "                    validation_freq=3,\n",
    "                    workers=32,\n",
    "                   initial_epoch=0,\n",
    "                   )"
   ]
  },
  {
   "cell_type": "code",
   "execution_count": 52,
   "id": "focused-recall",
   "metadata": {},
   "outputs": [
    {
     "name": "stderr",
     "output_type": "stream",
     "text": [
      "WARNING:absl:Found untraced functions such as lstm_cell_layer_call_fn, lstm_cell_layer_call_and_return_conditional_losses, lstm_cell_layer_call_fn, lstm_cell_layer_call_and_return_conditional_losses, lstm_cell_layer_call_and_return_conditional_losses while saving (showing 5 of 5). These functions will not be directly callable after loading.\n",
      "WARNING:absl:Found untraced functions such as lstm_cell_layer_call_fn, lstm_cell_layer_call_and_return_conditional_losses, lstm_cell_layer_call_fn, lstm_cell_layer_call_and_return_conditional_losses, lstm_cell_layer_call_and_return_conditional_losses while saving (showing 5 of 5). These functions will not be directly callable after loading.\n"
     ]
    },
    {
     "name": "stdout",
     "output_type": "stream",
     "text": [
      "INFO:tensorflow:Assets written to: profit_model\\assets\n"
     ]
    },
    {
     "name": "stderr",
     "output_type": "stream",
     "text": [
      "INFO:tensorflow:Assets written to: profit_model\\assets\n"
     ]
    }
   ],
   "source": [
    "model.save('profit_model')"
   ]
  },
  {
   "cell_type": "code",
   "execution_count": 21,
   "id": "classified-mineral",
   "metadata": {},
   "outputs": [],
   "source": [
    "y_preds = {'train': model.predict(inputs_train[:-buffer]), 'test': model.predict(inputs_test[:-buffer])}"
   ]
  },
  {
   "cell_type": "code",
   "execution_count": 24,
   "id": "aggregate-small",
   "metadata": {},
   "outputs": [],
   "source": [
    "profits = {'train': get_profit(df[0], y_preds['train'], 0), 'test': get_profit(df[1], y_preds['test'], 0)}"
   ]
  },
  {
   "cell_type": "code",
   "execution_count": 25,
   "id": "reasonable-tablet",
   "metadata": {},
   "outputs": [],
   "source": [
    "temp = {'train': train.iloc[:-buffer-1].copy(), 'test': test.iloc[:-buffer-1].copy()}\n",
    "temp['train']['profit'] = profits['train']\n",
    "temp['test']['profit'] = profits['test']"
   ]
  },
  {
   "cell_type": "code",
   "execution_count": 26,
   "id": "standard-marijuana",
   "metadata": {},
   "outputs": [
    {
     "data": {
      "text/plain": [
       "<AxesSubplot:>"
      ]
     },
     "execution_count": 26,
     "metadata": {},
     "output_type": "execute_result"
    },
    {
     "data": {
      "image/png": "[encoded data removed]",
      "text/plain": [
       "<Figure size 432x288 with 1 Axes>"
      ]
     },
     "metadata": {
      "needs_background": "light"
     },
     "output_type": "display_data"
    }
   ],
   "source": [
    "temp['train']['profit'].plot()"
   ]
  },
  {
   "cell_type": "code",
   "execution_count": 27,
   "id": "considerable-certificate",
   "metadata": {},
   "outputs": [
    {
     "data": {
      "text/plain": [
       "<AxesSubplot:>"
      ]
     },
     "execution_count": 27,
     "metadata": {},
     "output_type": "execute_result"
    },
    {
     "data": {
      "image/png": "[encoded data removed]",
      "text/plain": [
       "<Figure size 432x288 with 1 Axes>"
      ]
     },
     "metadata": {
      "needs_background": "light"
     },
     "output_type": "display_data"
    }
   ],
   "source": [
    "temp['test']['profit'].plot()"
   ]
  },
  {
   "cell_type": "code",
   "execution_count": 28,
   "id": "younger-invitation",
   "metadata": {},
   "outputs": [
    {
     "data": {
      "text/plain": [
       "<AxesSubplot:>"
      ]
     },
     "execution_count": 28,
     "metadata": {},
     "output_type": "execute_result"
    },
    {
     "data": {
      "image/png": "[encoded data removed]",
      "text/plain": [
       "<Figure size 432x288 with 1 Axes>"
      ]
     },
     "metadata": {
      "needs_background": "light"
     },
     "output_type": "display_data"
    }
   ],
   "source": [
    "temp['train']['profit'].cumsum().plot()"
   ]
  },
  {
   "cell_type": "code",
   "execution_count": 29,
   "id": "ignored-frederick",
   "metadata": {},
   "outputs": [
    {
     "data": {
      "text/plain": [
       "<AxesSubplot:>"
      ]
     },
     "execution_count": 29,
     "metadata": {},
     "output_type": "execute_result"
    },
    {
     "data": {
      "image/png": "[encoded data removed]",
      "text/plain": [
       "<Figure size 432x288 with 1 Axes>"
      ]
     },
     "metadata": {
      "needs_background": "light"
     },
     "output_type": "display_data"
    }
   ],
   "source": [
    "temp['test']['profit'].cumsum().plot()"
   ]
  },
  {
   "cell_type": "code",
   "execution_count": 30,
   "id": "cloudy-pizza",
   "metadata": {},
   "outputs": [
    {
     "data": {
      "text/plain": [
       "71683.21018249515"
      ]
     },
     "execution_count": 30,
     "metadata": {},
     "output_type": "execute_result"
    }
   ],
   "source": [
    "sum(profits['train'])"
   ]
  },
  {
   "cell_type": "code",
   "execution_count": 31,
   "id": "color-buyer",
   "metadata": {},
   "outputs": [
    {
     "data": {
      "text/plain": [
       "-6236.254349987728"
      ]
     },
     "execution_count": 31,
     "metadata": {},
     "output_type": "execute_result"
    }
   ],
   "source": [
    "sum(profits['test'])"
   ]
  },
  {
   "cell_type": "code",
   "execution_count": 32,
   "id": "assumed-friend",
   "metadata": {},
   "outputs": [
    {
     "data": {
      "text/plain": [
       "1.836031539659188"
      ]
     },
     "execution_count": 32,
     "metadata": {},
     "output_type": "execute_result"
    }
   ],
   "source": [
    "(252 ** 0.5) * np.mean(profits['train']) / np.std(profits['train'])"
   ]
  },
  {
   "cell_type": "code",
   "execution_count": 33,
   "id": "announced-shock",
   "metadata": {},
   "outputs": [
    {
     "data": {
      "text/plain": [
       "-0.8594396218016983"
      ]
     },
     "execution_count": 33,
     "metadata": {},
     "output_type": "execute_result"
    }
   ],
   "source": [
    "(252 ** 0.5) * np.mean(profits['test']) / np.std(profits['test'])"
   ]
  },
  {
   "cell_type": "code",
   "execution_count": null,
   "id": "cardiovascular-flour",
   "metadata": {},
   "outputs": [],
   "source": []
  }
 ],
 "metadata": {
  "kernelspec": {
   "display_name": "Python 3",
   "language": "python",
   "name": "python3"
  },
  "language_info": {
   "codemirror_mode": {
    "name": "ipython",
    "version": 3
   },
   "file_extension": ".py",
   "mimetype": "text/x-python",
   "name": "python",
   "nbconvert_exporter": "python",
   "pygments_lexer": "ipython3",
   "version": "3.7.4"
  }
 },
 "nbformat": 4,
 "nbformat_minor": 5
}
