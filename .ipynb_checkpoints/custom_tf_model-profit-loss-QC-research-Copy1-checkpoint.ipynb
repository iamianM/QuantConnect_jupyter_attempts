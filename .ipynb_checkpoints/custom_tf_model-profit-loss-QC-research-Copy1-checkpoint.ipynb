{
 "cells": [
  {
   "cell_type": "code",
   "execution_count": 1,
   "id": "bc3aafa9",
   "metadata": {},
   "outputs": [],
   "source": [
    "# import os\n",
    "# os.environ[\"CUDA_VISIBLE_DEVICES\"] = \"-1\""
   ]
  },
  {
   "cell_type": "code",
   "execution_count": 1,
   "id": "deed5985",
   "metadata": {},
   "outputs": [
    {
     "name": "stdout",
     "output_type": "stream",
     "text": [
      "1 Physical GPUs, 1 Logical GPUs\n"
     ]
    }
   ],
   "source": [
    "import tensorflow as tf\n",
    "gpus = tf.config.experimental.list_physical_devices('GPU')\n",
    "if gpus:\n",
    "  # Restrict TensorFlow to only allocate 4GB of memory on the first GPU\n",
    "  try:\n",
    "    tf.config.experimental.set_virtual_device_configuration(\n",
    "        gpus[0],\n",
    "        [tf.config.experimental.VirtualDeviceConfiguration(memory_limit=4096)])\n",
    "    logical_gpus = tf.config.experimental.list_logical_devices('GPU')\n",
    "    print(len(gpus), \"Physical GPUs,\", len(logical_gpus), \"Logical GPUs\")\n",
    "  except RuntimeError as e:\n",
    "    # Virtual devices must be set before GPUs have been initialized\n",
    "    print(e)"
   ]
  },
  {
   "cell_type": "code",
   "execution_count": 2,
   "id": "bc2ba2c0",
   "metadata": {},
   "outputs": [
    {
     "data": {
      "text/plain": [
       "[PhysicalDevice(name='/physical_device:GPU:0', device_type='GPU')]"
      ]
     },
     "execution_count": 2,
     "metadata": {},
     "output_type": "execute_result"
    }
   ],
   "source": [
    "gpus"
   ]
  },
  {
   "cell_type": "code",
   "execution_count": 1,
   "id": "106afdb9",
   "metadata": {},
   "outputs": [],
   "source": [
    "import tensorflow as tf\n",
    "\n",
    "from tensorflow.keras import datasets, models, optimizers\n",
    "from tensorflow.keras.layers import TimeDistributed, Conv2D, Flatten, Dense, LSTM, ConvLSTM2D, MaxPool2D, Dropout, Conv1D\n",
    "import matplotlib.pyplot as plt\n",
    "\n",
    "import numpy as np \n",
    "import pandas as pd"
   ]
  },
  {
   "cell_type": "code",
   "execution_count": 2,
   "id": "db33269f",
   "metadata": {},
   "outputs": [
    {
     "data": {
      "text/plain": [
       "'1.15.2'"
      ]
     },
     "execution_count": 2,
     "metadata": {},
     "output_type": "execute_result"
    }
   ],
   "source": [
    "tf.__version__"
   ]
  },
  {
   "cell_type": "code",
   "execution_count": 3,
   "metadata": {},
   "outputs": [
    {
     "data": {
      "text/plain": [
       "True"
      ]
     },
     "execution_count": 3,
     "metadata": {},
     "output_type": "execute_result"
    }
   ],
   "source": [
    " tf.test.is_gpu_available()"
   ]
  },
  {
   "cell_type": "code",
   "execution_count": 4,
   "id": "c6b3f7ee",
   "metadata": {},
   "outputs": [
    {
     "data": {
      "text/plain": [
       "True"
      ]
     },
     "execution_count": 4,
     "metadata": {},
     "output_type": "execute_result"
    }
   ],
   "source": [
    "tf.test.is_built_with_cuda()"
   ]
  },
  {
   "cell_type": "code",
   "execution_count": 5,
   "id": "63b8bb8f",
   "metadata": {},
   "outputs": [],
   "source": [
    "# tf.compat.v1.enable_eager_execution()"
   ]
  },
  {
   "cell_type": "code",
   "execution_count": 6,
   "id": "ce9c9cef",
   "metadata": {},
   "outputs": [],
   "source": [
    "inputs_train = np.load(\"inputs_train_180.npy\")\n",
    "inputs_test = np.load(\"inputs_test_180.npy\")"
   ]
  },
  {
   "cell_type": "code",
   "execution_count": 7,
   "metadata": {},
   "outputs": [],
   "source": [
    "import numpy as np\n",
    "def normalize(data, window, step):\n",
    "    frame = '_1min'\n",
    "    values = [c for c in data.columns if frame in c]\n",
    "    ohlc = data.iloc[step - window + 1:step + 1][values].copy()\n",
    "\n",
    "    min_low = ohlc[values].min().min()\n",
    "    for c in ohlc.columns:\n",
    "        ohlc[c] -= min_low\n",
    "\n",
    "    max_high = ohlc[values].max().max()\n",
    "    for c in ohlc.columns:\n",
    "        ohlc[c] /= max_high\n",
    "\n",
    "    return ohlc.values"
   ]
  },
  {
   "cell_type": "code",
   "execution_count": 8,
   "metadata": {},
   "outputs": [],
   "source": [
    "train = pd.read_csv('train_timeframes.csv')\n",
    "test = pd.read_csv('test_timeframes.csv')"
   ]
  },
  {
   "cell_type": "code",
   "execution_count": 9,
   "id": "8a1a7683",
   "metadata": {},
   "outputs": [],
   "source": [
    "window_size = 180"
   ]
  },
  {
   "cell_type": "code",
   "execution_count": 12,
   "metadata": {
    "scrolled": true
   },
   "outputs": [
    {
     "ename": "KeyboardInterrupt",
     "evalue": "",
     "output_type": "error",
     "traceback": [
      "\u001b[1;31m---------------------------------------------------------------------------\u001b[0m",
      "\u001b[1;31mKeyboardInterrupt\u001b[0m                         Traceback (most recent call last)",
      "\u001b[1;32m<timed exec>\u001b[0m in \u001b[0;36m<module>\u001b[1;34m\u001b[0m\n",
      "\u001b[1;32m<ipython-input-9-24a0ad3c731c>\u001b[0m in \u001b[0;36mnormalize\u001b[1;34m(data, window, step)\u001b[0m\n\u001b[0;32m     11\u001b[0m     \u001b[0mmax_high\u001b[0m \u001b[1;33m=\u001b[0m \u001b[0mohlc\u001b[0m\u001b[1;33m[\u001b[0m\u001b[0mvalues\u001b[0m\u001b[1;33m]\u001b[0m\u001b[1;33m.\u001b[0m\u001b[0mmax\u001b[0m\u001b[1;33m(\u001b[0m\u001b[1;33m)\u001b[0m\u001b[1;33m.\u001b[0m\u001b[0mmax\u001b[0m\u001b[1;33m(\u001b[0m\u001b[1;33m)\u001b[0m\u001b[1;33m\u001b[0m\u001b[1;33m\u001b[0m\u001b[0m\n\u001b[0;32m     12\u001b[0m     \u001b[1;32mfor\u001b[0m \u001b[0mc\u001b[0m \u001b[1;32min\u001b[0m \u001b[0mohlc\u001b[0m\u001b[1;33m.\u001b[0m\u001b[0mcolumns\u001b[0m\u001b[1;33m:\u001b[0m\u001b[1;33m\u001b[0m\u001b[1;33m\u001b[0m\u001b[0m\n\u001b[1;32m---> 13\u001b[1;33m         \u001b[0mohlc\u001b[0m\u001b[1;33m[\u001b[0m\u001b[0mc\u001b[0m\u001b[1;33m]\u001b[0m \u001b[1;33m/=\u001b[0m \u001b[0mmax_high\u001b[0m\u001b[1;33m\u001b[0m\u001b[1;33m\u001b[0m\u001b[0m\n\u001b[0m\u001b[0;32m     14\u001b[0m \u001b[1;33m\u001b[0m\u001b[0m\n\u001b[0;32m     15\u001b[0m     \u001b[1;32mreturn\u001b[0m \u001b[0mohlc\u001b[0m\u001b[1;33m.\u001b[0m\u001b[0mvalues\u001b[0m\u001b[1;33m\u001b[0m\u001b[1;33m\u001b[0m\u001b[0m\n",
      "\u001b[1;32m~\\AppData\\Roaming\\Python\\Python36\\site-packages\\pandas\\core\\frame.py\u001b[0m in \u001b[0;36m__setitem__\u001b[1;34m(self, key, value)\u001b[0m\n\u001b[0;32m   3485\u001b[0m         \u001b[1;32melse\u001b[0m\u001b[1;33m:\u001b[0m\u001b[1;33m\u001b[0m\u001b[1;33m\u001b[0m\u001b[0m\n\u001b[0;32m   3486\u001b[0m             \u001b[1;31m# set column\u001b[0m\u001b[1;33m\u001b[0m\u001b[1;33m\u001b[0m\u001b[1;33m\u001b[0m\u001b[0m\n\u001b[1;32m-> 3487\u001b[1;33m             \u001b[0mself\u001b[0m\u001b[1;33m.\u001b[0m\u001b[0m_set_item\u001b[0m\u001b[1;33m(\u001b[0m\u001b[0mkey\u001b[0m\u001b[1;33m,\u001b[0m \u001b[0mvalue\u001b[0m\u001b[1;33m)\u001b[0m\u001b[1;33m\u001b[0m\u001b[1;33m\u001b[0m\u001b[0m\n\u001b[0m\u001b[0;32m   3488\u001b[0m \u001b[1;33m\u001b[0m\u001b[0m\n\u001b[0;32m   3489\u001b[0m     \u001b[1;32mdef\u001b[0m \u001b[0m_setitem_slice\u001b[0m\u001b[1;33m(\u001b[0m\u001b[0mself\u001b[0m\u001b[1;33m,\u001b[0m \u001b[0mkey\u001b[0m\u001b[1;33m,\u001b[0m \u001b[0mvalue\u001b[0m\u001b[1;33m)\u001b[0m\u001b[1;33m:\u001b[0m\u001b[1;33m\u001b[0m\u001b[1;33m\u001b[0m\u001b[0m\n",
      "\u001b[1;32m~\\AppData\\Roaming\\Python\\Python36\\site-packages\\pandas\\core\\frame.py\u001b[0m in \u001b[0;36m_set_item\u001b[1;34m(self, key, value)\u001b[0m\n\u001b[0;32m   3563\u001b[0m         \u001b[0mself\u001b[0m\u001b[1;33m.\u001b[0m\u001b[0m_ensure_valid_index\u001b[0m\u001b[1;33m(\u001b[0m\u001b[0mvalue\u001b[0m\u001b[1;33m)\u001b[0m\u001b[1;33m\u001b[0m\u001b[1;33m\u001b[0m\u001b[0m\n\u001b[0;32m   3564\u001b[0m         \u001b[0mvalue\u001b[0m \u001b[1;33m=\u001b[0m \u001b[0mself\u001b[0m\u001b[1;33m.\u001b[0m\u001b[0m_sanitize_column\u001b[0m\u001b[1;33m(\u001b[0m\u001b[0mkey\u001b[0m\u001b[1;33m,\u001b[0m \u001b[0mvalue\u001b[0m\u001b[1;33m)\u001b[0m\u001b[1;33m\u001b[0m\u001b[1;33m\u001b[0m\u001b[0m\n\u001b[1;32m-> 3565\u001b[1;33m         \u001b[0mNDFrame\u001b[0m\u001b[1;33m.\u001b[0m\u001b[0m_set_item\u001b[0m\u001b[1;33m(\u001b[0m\u001b[0mself\u001b[0m\u001b[1;33m,\u001b[0m \u001b[0mkey\u001b[0m\u001b[1;33m,\u001b[0m \u001b[0mvalue\u001b[0m\u001b[1;33m)\u001b[0m\u001b[1;33m\u001b[0m\u001b[1;33m\u001b[0m\u001b[0m\n\u001b[0m\u001b[0;32m   3566\u001b[0m \u001b[1;33m\u001b[0m\u001b[0m\n\u001b[0;32m   3567\u001b[0m         \u001b[1;31m# check if we are modifying a copy\u001b[0m\u001b[1;33m\u001b[0m\u001b[1;33m\u001b[0m\u001b[1;33m\u001b[0m\u001b[0m\n",
      "\u001b[1;32m~\\AppData\\Roaming\\Python\\Python36\\site-packages\\pandas\\core\\generic.py\u001b[0m in \u001b[0;36m_set_item\u001b[1;34m(self, key, value)\u001b[0m\n\u001b[0;32m   3379\u001b[0m \u001b[1;33m\u001b[0m\u001b[0m\n\u001b[0;32m   3380\u001b[0m     \u001b[1;32mdef\u001b[0m \u001b[0m_set_item\u001b[0m\u001b[1;33m(\u001b[0m\u001b[0mself\u001b[0m\u001b[1;33m,\u001b[0m \u001b[0mkey\u001b[0m\u001b[1;33m,\u001b[0m \u001b[0mvalue\u001b[0m\u001b[1;33m)\u001b[0m\u001b[1;33m:\u001b[0m\u001b[1;33m\u001b[0m\u001b[1;33m\u001b[0m\u001b[0m\n\u001b[1;32m-> 3381\u001b[1;33m         \u001b[0mself\u001b[0m\u001b[1;33m.\u001b[0m\u001b[0m_data\u001b[0m\u001b[1;33m.\u001b[0m\u001b[0mset\u001b[0m\u001b[1;33m(\u001b[0m\u001b[0mkey\u001b[0m\u001b[1;33m,\u001b[0m \u001b[0mvalue\u001b[0m\u001b[1;33m)\u001b[0m\u001b[1;33m\u001b[0m\u001b[1;33m\u001b[0m\u001b[0m\n\u001b[0m\u001b[0;32m   3382\u001b[0m         \u001b[0mself\u001b[0m\u001b[1;33m.\u001b[0m\u001b[0m_clear_item_cache\u001b[0m\u001b[1;33m(\u001b[0m\u001b[1;33m)\u001b[0m\u001b[1;33m\u001b[0m\u001b[1;33m\u001b[0m\u001b[0m\n\u001b[0;32m   3383\u001b[0m \u001b[1;33m\u001b[0m\u001b[0m\n",
      "\u001b[1;32m~\\AppData\\Roaming\\Python\\Python36\\site-packages\\pandas\\core\\internals\\managers.py\u001b[0m in \u001b[0;36mset\u001b[1;34m(self, item, value)\u001b[0m\n\u001b[0;32m   1077\u001b[0m \u001b[1;33m\u001b[0m\u001b[0m\n\u001b[0;32m   1078\u001b[0m         \u001b[0mblknos\u001b[0m \u001b[1;33m=\u001b[0m \u001b[0mself\u001b[0m\u001b[1;33m.\u001b[0m\u001b[0m_blknos\u001b[0m\u001b[1;33m[\u001b[0m\u001b[0mloc\u001b[0m\u001b[1;33m]\u001b[0m\u001b[1;33m\u001b[0m\u001b[1;33m\u001b[0m\u001b[0m\n\u001b[1;32m-> 1079\u001b[1;33m         \u001b[0mblklocs\u001b[0m \u001b[1;33m=\u001b[0m \u001b[0mself\u001b[0m\u001b[1;33m.\u001b[0m\u001b[0m_blklocs\u001b[0m\u001b[1;33m[\u001b[0m\u001b[0mloc\u001b[0m\u001b[1;33m]\u001b[0m\u001b[1;33m.\u001b[0m\u001b[0mcopy\u001b[0m\u001b[1;33m(\u001b[0m\u001b[1;33m)\u001b[0m\u001b[1;33m\u001b[0m\u001b[1;33m\u001b[0m\u001b[0m\n\u001b[0m\u001b[0;32m   1080\u001b[0m \u001b[1;33m\u001b[0m\u001b[0m\n\u001b[0;32m   1081\u001b[0m         \u001b[0munfit_mgr_locs\u001b[0m \u001b[1;33m=\u001b[0m \u001b[1;33m[\u001b[0m\u001b[1;33m]\u001b[0m\u001b[1;33m\u001b[0m\u001b[1;33m\u001b[0m\u001b[0m\n",
      "\u001b[1;31mKeyboardInterrupt\u001b[0m: "
     ]
    }
   ],
   "source": [
    "%%time\n",
    "inputs_train = []\n",
    "for i in range(window_size-1, len(train)):\n",
    "    if i % 1000 == 0:\n",
    "        print(i)\n",
    "    inputs_train.append(normalize(train, window_size , i))\n",
    "inputs_train = np.array(inputs_train)"
   ]
  },
  {
   "cell_type": "code",
   "execution_count": 374,
   "metadata": {},
   "outputs": [
    {
     "name": "stdout",
     "output_type": "stream",
     "text": [
      "1000\n",
      "2000\n",
      "3000\n",
      "4000\n",
      "5000\n",
      "6000\n",
      "7000\n",
      "8000\n",
      "9000\n",
      "10000\n",
      "11000\n",
      "12000\n",
      "13000\n",
      "14000\n",
      "15000\n",
      "16000\n",
      "17000\n",
      "18000\n",
      "19000\n",
      "20000\n",
      "21000\n",
      "22000\n",
      "23000\n",
      "24000\n",
      "Wall time: 2min 5s\n"
     ]
    }
   ],
   "source": [
    "%%time\n",
    "inputs_test = []\n",
    "for i in range(window_size-1, len(test)):\n",
    "    if i % 1000 == 0:\n",
    "        print(i)\n",
    "    inputs_test.append(normalize(test, window_size , i))\n",
    "inputs_test = np.array(inputs_test)"
   ]
  },
  {
   "cell_type": "code",
   "execution_count": 10,
   "id": "d3fb9ce9",
   "metadata": {},
   "outputs": [],
   "source": [
    "train = pd.read_csv('train_timeframes.csv').iloc[window_size-1:]\n",
    "test = pd.read_csv('test_timeframes.csv').iloc[window_size-1:]"
   ]
  },
  {
   "cell_type": "code",
   "execution_count": 11,
   "id": "40941180",
   "metadata": {},
   "outputs": [],
   "source": [
    "df = [train, test]"
   ]
  },
  {
   "cell_type": "code",
   "execution_count": 12,
   "id": "7c382044",
   "metadata": {},
   "outputs": [],
   "source": [
    "img = inputs_train[0,:,:]"
   ]
  },
  {
   "cell_type": "code",
   "execution_count": 13,
   "id": "187a2689",
   "metadata": {},
   "outputs": [
    {
     "data": {
      "text/plain": [
       "(180, 4)"
      ]
     },
     "execution_count": 13,
     "metadata": {},
     "output_type": "execute_result"
    }
   ],
   "source": [
    "img.shape"
   ]
  },
  {
   "cell_type": "code",
   "execution_count": 14,
   "id": "60e413db",
   "metadata": {},
   "outputs": [
    {
     "data": {
      "text/plain": [
       "((73575, 180, 4), (73575, 23))"
      ]
     },
     "execution_count": 14,
     "metadata": {},
     "output_type": "execute_result"
    }
   ],
   "source": [
    "inputs_train.shape, train.shape"
   ]
  },
  {
   "cell_type": "code",
   "execution_count": 15,
   "id": "3bd587f0",
   "metadata": {},
   "outputs": [
    {
     "data": {
      "text/plain": [
       "((24245, 180, 4), (24245, 23))"
      ]
     },
     "execution_count": 15,
     "metadata": {},
     "output_type": "execute_result"
    }
   ],
   "source": [
    "inputs_test.shape, test.shape"
   ]
  },
  {
   "cell_type": "code",
   "execution_count": 18,
   "metadata": {},
   "outputs": [],
   "source": [
    "np.save(\"inputs_train_180.npy\", inputs_train)\n",
    "np.save(\"inputs_test_180.npy\", inputs_test)"
   ]
  },
  {
   "cell_type": "code",
   "execution_count": 16,
   "id": "b19933fc",
   "metadata": {},
   "outputs": [],
   "source": [
    "idx = 0\n",
    "batch_size = 32\n",
    "stop_limit = 0.0100\n",
    "price_limit = 0.0500\n",
    "margin_size = 50\n",
    "time_limit = 60"
   ]
  },
  {
   "cell_type": "code",
   "execution_count": 17,
   "id": "7f532f19",
   "metadata": {},
   "outputs": [],
   "source": [
    "def get_model():\n",
    "    model = models.Sequential()\n",
    "    # model.add(LSTM(64, input_shape = img.shape, return_sequences=True, dropout=0.2))\n",
    "    model.add(LSTM(32, dropout=0.5))\n",
    "    # model.add(LSTM(32, dropout=0.2))\n",
    "    model.add(Dense(3, activation = \"tanh\"))\n",
    "    return model\n",
    "\n",
    "model = get_model()"
   ]
  },
  {
   "cell_type": "code",
   "execution_count": 39,
   "id": "dd7dc6b3",
   "metadata": {},
   "outputs": [],
   "source": [
    "# model = tf.keras.models.load_model('profit_model/', compile=False)"
   ]
  },
  {
   "cell_type": "code",
   "execution_count": 40,
   "id": "ea3afae0",
   "metadata": {},
   "outputs": [
    {
     "ename": "ValueError",
     "evalue": "This model has not yet been built. Build the model first by calling `build()` or calling `fit()` with some data, or specify an `input_shape` argument in the first layer(s) for automatic build.",
     "output_type": "error",
     "traceback": [
      "\u001b[1;31m---------------------------------------------------------------------------\u001b[0m",
      "\u001b[1;31mValueError\u001b[0m                                Traceback (most recent call last)",
      "\u001b[1;32m<ipython-input-40-5f15418b3570>\u001b[0m in \u001b[0;36m<module>\u001b[1;34m\u001b[0m\n\u001b[1;32m----> 1\u001b[1;33m \u001b[0mmodel\u001b[0m\u001b[1;33m.\u001b[0m\u001b[0msummary\u001b[0m\u001b[1;33m(\u001b[0m\u001b[1;33m)\u001b[0m\u001b[1;33m\u001b[0m\u001b[1;33m\u001b[0m\u001b[0m\n\u001b[0m",
      "\u001b[1;32mc:\\program files\\python36\\lib\\site-packages\\tensorflow_core\\python\\keras\\engine\\network.py\u001b[0m in \u001b[0;36msummary\u001b[1;34m(self, line_length, positions, print_fn)\u001b[0m\n\u001b[0;32m   1451\u001b[0m     \"\"\"\n\u001b[0;32m   1452\u001b[0m     \u001b[1;32mif\u001b[0m \u001b[1;32mnot\u001b[0m \u001b[0mself\u001b[0m\u001b[1;33m.\u001b[0m\u001b[0mbuilt\u001b[0m\u001b[1;33m:\u001b[0m\u001b[1;33m\u001b[0m\u001b[1;33m\u001b[0m\u001b[0m\n\u001b[1;32m-> 1453\u001b[1;33m       raise ValueError('This model has not yet been built. '\n\u001b[0m\u001b[0;32m   1454\u001b[0m                        \u001b[1;34m'Build the model first by calling `build()` or calling '\u001b[0m\u001b[1;33m\u001b[0m\u001b[1;33m\u001b[0m\u001b[0m\n\u001b[0;32m   1455\u001b[0m                        \u001b[1;34m'`fit()` with some data, or specify '\u001b[0m\u001b[1;33m\u001b[0m\u001b[1;33m\u001b[0m\u001b[0m\n",
      "\u001b[1;31mValueError\u001b[0m: This model has not yet been built. Build the model first by calling `build()` or calling `fit()` with some data, or specify an `input_shape` argument in the first layer(s) for automatic build."
     ]
    }
   ],
   "source": [
    "model.summary()"
   ]
  },
  {
   "cell_type": "code",
   "execution_count": 18,
   "id": "52c84508",
   "metadata": {},
   "outputs": [],
   "source": [
    "buffer_train = time_limit\n",
    "buffer_test = time_limit"
   ]
  },
  {
   "cell_type": "code",
   "execution_count": 19,
   "metadata": {},
   "outputs": [
    {
     "data": {
      "text/plain": [
       "(60, 60)"
      ]
     },
     "execution_count": 19,
     "metadata": {},
     "output_type": "execute_result"
    }
   ],
   "source": [
    "buffer_train, buffer_test"
   ]
  },
  {
   "cell_type": "code",
   "execution_count": 20,
   "id": "db8f4f8a",
   "metadata": {
    "scrolled": true
   },
   "outputs": [],
   "source": [
    "all_closes_train = tf.convert_to_tensor([df[0].iloc[i:i+1+time_limit]['close_1min'].tolist() for i in range(len(df[0])-buffer_train)])\n",
    "all_closes_test = tf.convert_to_tensor([df[1].iloc[i:i+1+time_limit]['close_1min'].tolist() for i in range(len(df[1])-buffer_test)])"
   ]
  },
  {
   "cell_type": "code",
   "execution_count": 21,
   "id": "375efe42",
   "metadata": {},
   "outputs": [],
   "source": [
    "all_spread_train = tf.convert_to_tensor([df[0].iloc[i:i+1]['spread'].tolist() for i in range(len(df[0])-buffer_train)])\n",
    "all_spread_test = tf.convert_to_tensor([df[1].iloc[i:i+1]['spread'].tolist() for i in range(len(df[1])-buffer_test)])"
   ]
  },
  {
   "cell_type": "code",
   "execution_count": 147,
   "id": "f99ff0ab",
   "metadata": {},
   "outputs": [],
   "source": [
    "np.save(open('all_closes_train', 'wb'), all_closes_train.numpy())\n",
    "np.save(open('all_closes_test', 'wb'), all_closes_test.numpy())\n",
    "np.save(open('all_spread_train', 'wb'), all_spread_train.numpy())\n",
    "np.save(open('all_spread_test', 'wb'), all_spread_test.numpy())"
   ]
  },
  {
   "cell_type": "code",
   "execution_count": 25,
   "id": "5ab1e4fe",
   "metadata": {},
   "outputs": [],
   "source": [
    "all_closes_train = tf.convert_to_tensor(np.load('all_closes_train.npy'))\n",
    "all_closes_test = tf.convert_to_tensor(np.load('all_closes_test.npy'))\n",
    "all_spread_train = tf.convert_to_tensor(np.load('all_spread_train.npy'))\n",
    "all_spread_test = tf.convert_to_tensor(np.load('all_spread_test.npy'))"
   ]
  },
  {
   "cell_type": "code",
   "execution_count": 22,
   "id": "c4a35a5b",
   "metadata": {},
   "outputs": [
    {
     "data": {
      "text/plain": [
       "(TensorShape([Dimension(73515), Dimension(61)]),\n",
       " TensorShape([Dimension(73515), Dimension(1)]))"
      ]
     },
     "execution_count": 22,
     "metadata": {},
     "output_type": "execute_result"
    }
   ],
   "source": [
    "all_closes_train.shape, all_spread_train.shape"
   ]
  },
  {
   "cell_type": "code",
   "execution_count": 23,
   "id": "58d2407b",
   "metadata": {},
   "outputs": [],
   "source": [
    "def custom_loss_wrapper(idx, stop_limit, price_limit, margin_size):  \n",
    "    def custom_loss(y_true, y_pred):\n",
    "        #margin = ((y_pred[:,:1] - 0.5) * 2)\n",
    "        #margin *= margin_size\n",
    "        margin = y_pred[:,:1] #* direction * -1 * stop_limit\n",
    "        direction = tf.sign(margin)\n",
    "        stop_loss = ((y_pred[:,1:2] + 1) / 2) * direction * -1 * stop_limit\n",
    "        price_target = ((y_pred[:,2:3] + 1) / 2) * direction * 1 * price_limit\n",
    "        \n",
    "        idxs = y_true[:,1]\n",
    "        closes = tf.gather(all_closes_train, tf.cast(idxs, dtype='int32'))\n",
    "        spread = tf.gather(all_spread_train, tf.cast(idxs, dtype='int32'))\n",
    "        close1 = closes[:,:1]\n",
    "        close2 = tf.zeros_like(closes[:,:1])\n",
    "        lower_bound = tf.minimum(stop_loss, price_target)\n",
    "        upper_bound = tf.maximum(stop_loss, price_target)\n",
    "        i = tf.constant(0)\n",
    "        @tf.function\n",
    "        def while_condition(i, close2): \n",
    "            return tf.less(i, tf.constant(closes.shape[1], dtype='int32'))\n",
    "        @tf.function\n",
    "        def body(i, close2):\n",
    "            s = tf.slice(closes, [0, i], [-1, 1])\n",
    "            diff = (s  - close1) * direction\n",
    "            cond = tf.logical_or(tf.less(diff, lower_bound), tf.greater(diff, upper_bound))\n",
    "            close2 = tf.where(tf.logical_and(tf.equal(close2, 0), cond), s, close2)\n",
    "            return [tf.add(i, 1), close2]\n",
    "        r = tf.while_loop(while_condition, body, [i, close2])#, parallel_iterations=closes.shape[1].value, swap_memory=True)#, shape_invariants=[0, close2])\n",
    "            \n",
    "        close2 = tf.where(tf.equal(close2, 0), closes[:,-1:], close2)\n",
    "\n",
    "        diff = close2 - close1\n",
    "        profit = -100 * (margin * margin_size * (diff - (spread*direction))) /  close1\n",
    "        return profit\n",
    "#         return tf.where(tf.less(tf.abs(profit), 1), tf.sign(profit)*tf.sqrt(tf.abs(profit)), profit)\n",
    "    return custom_loss"
   ]
  },
  {
   "cell_type": "code",
   "execution_count": 24,
   "id": "6db6a03b",
   "metadata": {},
   "outputs": [],
   "source": [
    "def get_profit(data, y_preds, margin_lower_limit=0):\n",
    "    idx = 0\n",
    "    profits = []\n",
    "    while idx < len(y_preds) - 1:\n",
    "        margin = y_preds[idx][0]\n",
    "#         margin *= margin_size\n",
    "        if abs(margin) < margin_lower_limit:\n",
    "            idx += 1\n",
    "        else:\n",
    "            direction = np.sign(margin)\n",
    "            stop_loss = ((y_preds[idx,1] + 1) / 2) * direction * -1 * stop_limit\n",
    "            price_target = ((y_preds[idx,2] + 1) / 2) * direction * 1 * price_limit\n",
    "\n",
    "            start_idx = idx\n",
    "            close1 =  data.iloc[idx]['close_1min']\n",
    "            spread = data.iloc[idx]['spread']\n",
    "            idx += 1\n",
    "            new_i = idx\n",
    "            while new_i < len(data) - 1 and new_i - start_idx < time_limit:\n",
    "                close2 = data.iloc[new_i]['close_1min']\n",
    "                diff = (close2 - close1) \n",
    "                if min(stop_loss, price_limit) > diff * direction > max(stop_loss, price_limit):\n",
    "                    print('here', min(stop_loss, price_limit), diff * direction, max(stop_loss, price_limit))\n",
    "                    break\n",
    "                new_i += 1\n",
    "            profit = 100 * (margin * (diff - (spread*direction))) /  close1\n",
    "            print(round(profit, 5), round(margin, 5), round(diff, 5), round(spread, 5), round(diff - spread*direction, 5), direction, round(close1, 5), round(close2, 5), round(stop_loss, 5), round(price_target, 5), new_i-idx)\n",
    "#             print(profit)\n",
    "            profits.append(profit)\n",
    "#             break\n",
    "    return profits\n",
    "\n",
    "# data = df[]"
   ]
  },
  {
   "cell_type": "code",
   "execution_count": 37,
   "metadata": {
    "scrolled": true
   },
   "outputs": [
    {
     "name": "stdout",
     "output_type": "stream",
     "text": [
      "-3e-05 0.01619 0.00012 0.00014 -2e-05 1.0 1.13622 1.13634 -0.00523 0.02529 9999\n",
      "0.00035 0.0138 0.00042 0.00013 0.00029 1.0 1.13597 1.13639 -0.00521 0.02525 9999\n",
      "-0.00011 0.00912 0.0 0.00014 -0.00014 1.0 1.13628 1.13628 -0.0052 0.02523 9999\n",
      "-9e-05 0.00359 -0.00015 0.00014 -0.00029 1.0 1.13641 1.13626 -0.00519 0.02519 9999\n",
      "3e-05 -0.0012 -0.00037 0.00013 -0.00024 -1.0 1.1366 1.13623 0.0052 -0.02521 9999\n",
      "0.00018 -0.00426 -0.00061 0.00012 -0.00049 -1.0 1.13649 1.13588 0.00521 -0.02524 9999\n",
      "0.00037 -0.00503 -0.00095 0.00012 -0.00083 -1.0 1.13667 1.13572 0.00522 -0.02527 9999\n",
      "0.00064 -0.00571 -0.00141 0.00014 -0.00127 -1.0 1.13678 1.13537 0.00524 -0.02531 9999\n",
      "0.00045 -0.00478 -0.00119 0.00012 -0.00107 -1.0 1.13678 1.13559 0.00526 -0.02534 9999\n",
      "0.00021 -0.00232 -0.00118 0.00013 -0.00105 -1.0 1.1367 1.13552 0.00527 -0.02535 9999\n",
      "-8e-05 0.00085 -0.00098 0.00014 -0.00112 1.0 1.13651 1.13553 -0.00527 0.02536 9999\n",
      "-0.00047 0.00357 -0.00138 0.00013 -0.00151 1.0 1.13686 1.13548 -0.00528 0.0254 9999\n",
      "-0.00063 0.00465 -0.0014 0.00013 -0.00153 1.0 1.13682 1.13542 -0.00529 0.02542 9999\n",
      "-0.00084 0.00649 -0.00135 0.00012 -0.00147 1.0 1.13676 1.13541 -0.0053 0.02545 9999\n",
      "-0.00142 0.00895 -0.00169 0.00012 -0.00181 1.0 1.13689 1.1352 -0.00532 0.02548 9999\n",
      "-0.00165 0.01303 -0.00131 0.00013 -0.00144 1.0 1.13649 1.13518 -0.00533 0.02552 9999\n",
      "-0.00271 0.0175 -0.00164 0.00012 -0.00176 1.0 1.13653 1.13489 -0.00531 0.02548 9999\n",
      "-0.00244 0.01913 -0.00132 0.00013 -0.00145 1.0 1.13641 1.13509 -0.0053 0.02545 9999\n",
      "-0.00252 0.01977 -0.00133 0.00012 -0.00145 1.0 1.13646 1.13513 -0.00529 0.0254 9999\n",
      "-0.00255 0.02178 -0.0012 0.00013 -0.00133 1.0 1.13639 1.13519 -0.00529 0.0254 9999\n",
      "-0.0021 0.01975 -0.00108 0.00013 -0.00121 1.0 1.13619 1.13511 -0.00527 0.02538 9999\n",
      "-0.00239 0.03669 -0.00061 0.00013 -0.00074 1.0 1.13562 1.13501 -0.00532 0.02555 9999\n",
      "-0.00337 0.04117 -0.0008 0.00013 -0.00093 1.0 1.13581 1.13501 -0.0053 0.02549 9999\n",
      "-0.00332 0.03622 -0.00091 0.00013 -0.00104 1.0 1.13572 1.13481 -0.00526 0.02539 9999\n",
      "-0.00246 0.05166 -0.00041 0.00013 -0.00054 1.0 1.13538 1.13497 -0.00532 0.02556 9999\n",
      "-0.00369 0.04462 -0.00082 0.00012 -0.00094 1.0 1.13554 1.13472 -0.00527 0.02541 9999\n",
      "-0.00253 0.03642 -0.00066 0.00013 -0.00079 1.0 1.13566 1.135 -0.00525 0.02539 9999\n",
      "-0.00172 0.02717 -0.0006 0.00012 -0.00072 1.0 1.13552 1.13492 -0.00523 0.02535 9999\n",
      "-0.002 0.01873 -0.00108 0.00013 -0.00121 1.0 1.13587 1.13479 -0.00522 0.02533 9999\n",
      "-0.00132 0.012 -0.00113 0.00012 -0.00125 1.0 1.13582 1.13469 -0.00522 0.02532 9999\n",
      "-0.00079 0.00739 -0.00109 0.00013 -0.00122 1.0 1.1359 1.13481 -0.00522 0.02533 9999\n"
     ]
    },
    {
     "ename": "KeyboardInterrupt",
     "evalue": "",
     "output_type": "error",
     "traceback": [
      "\u001b[1;31m---------------------------------------------------------------------------\u001b[0m",
      "\u001b[1;31mKeyboardInterrupt\u001b[0m                         Traceback (most recent call last)",
      "\u001b[1;32m<ipython-input-37-7e791dca84de>\u001b[0m in \u001b[0;36m<module>\u001b[1;34m\u001b[0m\n\u001b[1;32m----> 1\u001b[1;33m \u001b[0mget_profit\u001b[0m\u001b[1;33m(\u001b[0m\u001b[0mdf\u001b[0m\u001b[1;33m[\u001b[0m\u001b[1;36m0\u001b[0m\u001b[1;33m]\u001b[0m\u001b[1;33m,\u001b[0m \u001b[0my_preds\u001b[0m\u001b[1;33m[\u001b[0m\u001b[1;34m'train'\u001b[0m\u001b[1;33m]\u001b[0m\u001b[1;33m,\u001b[0m \u001b[1;36m0\u001b[0m\u001b[1;33m)\u001b[0m\u001b[1;33m\u001b[0m\u001b[1;33m\u001b[0m\u001b[0m\n\u001b[0m",
      "\u001b[1;32m<ipython-input-36-4838c54f16f4>\u001b[0m in \u001b[0;36mget_profit\u001b[1;34m(data, y_preds, margin_lower_limit)\u001b[0m\n\u001b[0;32m     18\u001b[0m             \u001b[0mnew_i\u001b[0m \u001b[1;33m=\u001b[0m \u001b[0midx\u001b[0m\u001b[1;33m\u001b[0m\u001b[1;33m\u001b[0m\u001b[0m\n\u001b[0;32m     19\u001b[0m             \u001b[1;32mwhile\u001b[0m \u001b[0mnew_i\u001b[0m \u001b[1;33m<\u001b[0m \u001b[0mlen\u001b[0m\u001b[1;33m(\u001b[0m\u001b[0mdata\u001b[0m\u001b[1;33m)\u001b[0m \u001b[1;33m-\u001b[0m \u001b[1;36m1\u001b[0m \u001b[1;32mand\u001b[0m \u001b[0mnew_i\u001b[0m \u001b[1;33m-\u001b[0m \u001b[0mstart_idx\u001b[0m \u001b[1;33m<\u001b[0m \u001b[1;36m10000\u001b[0m\u001b[1;33m:\u001b[0m\u001b[1;33m\u001b[0m\u001b[1;33m\u001b[0m\u001b[0m\n\u001b[1;32m---> 20\u001b[1;33m                 \u001b[0mclose2\u001b[0m \u001b[1;33m=\u001b[0m \u001b[0mdata\u001b[0m\u001b[1;33m.\u001b[0m\u001b[0miloc\u001b[0m\u001b[1;33m[\u001b[0m\u001b[0mnew_i\u001b[0m\u001b[1;33m]\u001b[0m\u001b[1;33m[\u001b[0m\u001b[1;34m'close_1min'\u001b[0m\u001b[1;33m]\u001b[0m\u001b[1;33m\u001b[0m\u001b[1;33m\u001b[0m\u001b[0m\n\u001b[0m\u001b[0;32m     21\u001b[0m                 \u001b[0mdiff\u001b[0m \u001b[1;33m=\u001b[0m \u001b[1;33m(\u001b[0m\u001b[0mclose2\u001b[0m \u001b[1;33m-\u001b[0m \u001b[0mclose1\u001b[0m\u001b[1;33m)\u001b[0m\u001b[1;33m\u001b[0m\u001b[1;33m\u001b[0m\u001b[0m\n\u001b[0;32m     22\u001b[0m                 \u001b[1;32mif\u001b[0m \u001b[0mmin\u001b[0m\u001b[1;33m(\u001b[0m\u001b[0mstop_loss\u001b[0m\u001b[1;33m,\u001b[0m \u001b[0mprice_limit\u001b[0m\u001b[1;33m)\u001b[0m \u001b[1;33m>\u001b[0m \u001b[0mdiff\u001b[0m \u001b[1;33m*\u001b[0m \u001b[0mdirection\u001b[0m \u001b[1;33m>\u001b[0m \u001b[0mmax\u001b[0m\u001b[1;33m(\u001b[0m\u001b[0mstop_loss\u001b[0m\u001b[1;33m,\u001b[0m \u001b[0mprice_limit\u001b[0m\u001b[1;33m)\u001b[0m\u001b[1;33m:\u001b[0m\u001b[1;33m\u001b[0m\u001b[1;33m\u001b[0m\u001b[0m\n",
      "\u001b[1;32m~\\AppData\\Roaming\\Python\\Python36\\site-packages\\pandas\\core\\indexing.py\u001b[0m in \u001b[0;36m__getitem__\u001b[1;34m(self, key)\u001b[0m\n\u001b[0;32m   1422\u001b[0m \u001b[1;33m\u001b[0m\u001b[0m\n\u001b[0;32m   1423\u001b[0m             \u001b[0mmaybe_callable\u001b[0m \u001b[1;33m=\u001b[0m \u001b[0mcom\u001b[0m\u001b[1;33m.\u001b[0m\u001b[0mapply_if_callable\u001b[0m\u001b[1;33m(\u001b[0m\u001b[0mkey\u001b[0m\u001b[1;33m,\u001b[0m \u001b[0mself\u001b[0m\u001b[1;33m.\u001b[0m\u001b[0mobj\u001b[0m\u001b[1;33m)\u001b[0m\u001b[1;33m\u001b[0m\u001b[1;33m\u001b[0m\u001b[0m\n\u001b[1;32m-> 1424\u001b[1;33m             \u001b[1;32mreturn\u001b[0m \u001b[0mself\u001b[0m\u001b[1;33m.\u001b[0m\u001b[0m_getitem_axis\u001b[0m\u001b[1;33m(\u001b[0m\u001b[0mmaybe_callable\u001b[0m\u001b[1;33m,\u001b[0m \u001b[0maxis\u001b[0m\u001b[1;33m=\u001b[0m\u001b[0maxis\u001b[0m\u001b[1;33m)\u001b[0m\u001b[1;33m\u001b[0m\u001b[1;33m\u001b[0m\u001b[0m\n\u001b[0m\u001b[0;32m   1425\u001b[0m \u001b[1;33m\u001b[0m\u001b[0m\n\u001b[0;32m   1426\u001b[0m     \u001b[1;32mdef\u001b[0m \u001b[0m_is_scalar_access\u001b[0m\u001b[1;33m(\u001b[0m\u001b[0mself\u001b[0m\u001b[1;33m,\u001b[0m \u001b[0mkey\u001b[0m\u001b[1;33m:\u001b[0m \u001b[0mTuple\u001b[0m\u001b[1;33m)\u001b[0m\u001b[1;33m:\u001b[0m\u001b[1;33m\u001b[0m\u001b[1;33m\u001b[0m\u001b[0m\n",
      "\u001b[1;32m~\\AppData\\Roaming\\Python\\Python36\\site-packages\\pandas\\core\\indexing.py\u001b[0m in \u001b[0;36m_getitem_axis\u001b[1;34m(self, key, axis)\u001b[0m\n\u001b[0;32m   2157\u001b[0m             \u001b[0mself\u001b[0m\u001b[1;33m.\u001b[0m\u001b[0m_validate_integer\u001b[0m\u001b[1;33m(\u001b[0m\u001b[0mkey\u001b[0m\u001b[1;33m,\u001b[0m \u001b[0maxis\u001b[0m\u001b[1;33m)\u001b[0m\u001b[1;33m\u001b[0m\u001b[1;33m\u001b[0m\u001b[0m\n\u001b[0;32m   2158\u001b[0m \u001b[1;33m\u001b[0m\u001b[0m\n\u001b[1;32m-> 2159\u001b[1;33m             \u001b[1;32mreturn\u001b[0m \u001b[0mself\u001b[0m\u001b[1;33m.\u001b[0m\u001b[0m_get_loc\u001b[0m\u001b[1;33m(\u001b[0m\u001b[0mkey\u001b[0m\u001b[1;33m,\u001b[0m \u001b[0maxis\u001b[0m\u001b[1;33m=\u001b[0m\u001b[0maxis\u001b[0m\u001b[1;33m)\u001b[0m\u001b[1;33m\u001b[0m\u001b[1;33m\u001b[0m\u001b[0m\n\u001b[0m\u001b[0;32m   2160\u001b[0m \u001b[1;33m\u001b[0m\u001b[0m\n\u001b[0;32m   2161\u001b[0m     \u001b[1;31m# raise_missing is included for compat with the parent class signature\u001b[0m\u001b[1;33m\u001b[0m\u001b[1;33m\u001b[0m\u001b[1;33m\u001b[0m\u001b[0m\n",
      "\u001b[1;32m~\\AppData\\Roaming\\Python\\Python36\\site-packages\\pandas\\core\\indexing.py\u001b[0m in \u001b[0;36m_get_loc\u001b[1;34m(self, key, axis)\u001b[0m\n\u001b[0;32m    161\u001b[0m \u001b[1;33m\u001b[0m\u001b[0m\n\u001b[0;32m    162\u001b[0m     \u001b[1;32mdef\u001b[0m \u001b[0m_get_loc\u001b[0m\u001b[1;33m(\u001b[0m\u001b[0mself\u001b[0m\u001b[1;33m,\u001b[0m \u001b[0mkey\u001b[0m\u001b[1;33m:\u001b[0m \u001b[0mint\u001b[0m\u001b[1;33m,\u001b[0m \u001b[0maxis\u001b[0m\u001b[1;33m:\u001b[0m \u001b[0mint\u001b[0m\u001b[1;33m)\u001b[0m\u001b[1;33m:\u001b[0m\u001b[1;33m\u001b[0m\u001b[1;33m\u001b[0m\u001b[0m\n\u001b[1;32m--> 163\u001b[1;33m         \u001b[1;32mreturn\u001b[0m \u001b[0mself\u001b[0m\u001b[1;33m.\u001b[0m\u001b[0mobj\u001b[0m\u001b[1;33m.\u001b[0m\u001b[0m_ixs\u001b[0m\u001b[1;33m(\u001b[0m\u001b[0mkey\u001b[0m\u001b[1;33m,\u001b[0m \u001b[0maxis\u001b[0m\u001b[1;33m=\u001b[0m\u001b[0maxis\u001b[0m\u001b[1;33m)\u001b[0m\u001b[1;33m\u001b[0m\u001b[1;33m\u001b[0m\u001b[0m\n\u001b[0m\u001b[0;32m    164\u001b[0m \u001b[1;33m\u001b[0m\u001b[0m\n\u001b[0;32m    165\u001b[0m     \u001b[1;32mdef\u001b[0m \u001b[0m_slice\u001b[0m\u001b[1;33m(\u001b[0m\u001b[0mself\u001b[0m\u001b[1;33m,\u001b[0m \u001b[0mobj\u001b[0m\u001b[1;33m,\u001b[0m \u001b[0maxis\u001b[0m\u001b[1;33m:\u001b[0m \u001b[0mint\u001b[0m\u001b[1;33m,\u001b[0m \u001b[0mkind\u001b[0m\u001b[1;33m=\u001b[0m\u001b[1;32mNone\u001b[0m\u001b[1;33m)\u001b[0m\u001b[1;33m:\u001b[0m\u001b[1;33m\u001b[0m\u001b[1;33m\u001b[0m\u001b[0m\n",
      "\u001b[1;32m~\\AppData\\Roaming\\Python\\Python36\\site-packages\\pandas\\core\\frame.py\u001b[0m in \u001b[0;36m_ixs\u001b[1;34m(self, i, axis)\u001b[0m\n\u001b[0;32m   2938\u001b[0m                 \u001b[0mindex\u001b[0m\u001b[1;33m=\u001b[0m\u001b[0mself\u001b[0m\u001b[1;33m.\u001b[0m\u001b[0mcolumns\u001b[0m\u001b[1;33m,\u001b[0m\u001b[1;33m\u001b[0m\u001b[1;33m\u001b[0m\u001b[0m\n\u001b[0;32m   2939\u001b[0m                 \u001b[0mname\u001b[0m\u001b[1;33m=\u001b[0m\u001b[0mself\u001b[0m\u001b[1;33m.\u001b[0m\u001b[0mindex\u001b[0m\u001b[1;33m[\u001b[0m\u001b[0mi\u001b[0m\u001b[1;33m]\u001b[0m\u001b[1;33m,\u001b[0m\u001b[1;33m\u001b[0m\u001b[1;33m\u001b[0m\u001b[0m\n\u001b[1;32m-> 2940\u001b[1;33m                 \u001b[0mdtype\u001b[0m\u001b[1;33m=\u001b[0m\u001b[0mnew_values\u001b[0m\u001b[1;33m.\u001b[0m\u001b[0mdtype\u001b[0m\u001b[1;33m,\u001b[0m\u001b[1;33m\u001b[0m\u001b[1;33m\u001b[0m\u001b[0m\n\u001b[0m\u001b[0;32m   2941\u001b[0m             )\n\u001b[0;32m   2942\u001b[0m             \u001b[0mresult\u001b[0m\u001b[1;33m.\u001b[0m\u001b[0m_set_is_copy\u001b[0m\u001b[1;33m(\u001b[0m\u001b[0mself\u001b[0m\u001b[1;33m,\u001b[0m \u001b[0mcopy\u001b[0m\u001b[1;33m=\u001b[0m\u001b[0mcopy\u001b[0m\u001b[1;33m)\u001b[0m\u001b[1;33m\u001b[0m\u001b[1;33m\u001b[0m\u001b[0m\n",
      "\u001b[1;32m~\\AppData\\Roaming\\Python\\Python36\\site-packages\\pandas\\core\\series.py\u001b[0m in \u001b[0;36m__init__\u001b[1;34m(self, data, index, dtype, name, copy, fastpath)\u001b[0m\n\u001b[0;32m    314\u001b[0m                 \u001b[0mdata\u001b[0m \u001b[1;33m=\u001b[0m \u001b[0msanitize_array\u001b[0m\u001b[1;33m(\u001b[0m\u001b[0mdata\u001b[0m\u001b[1;33m,\u001b[0m \u001b[0mindex\u001b[0m\u001b[1;33m,\u001b[0m \u001b[0mdtype\u001b[0m\u001b[1;33m,\u001b[0m \u001b[0mcopy\u001b[0m\u001b[1;33m,\u001b[0m \u001b[0mraise_cast_failure\u001b[0m\u001b[1;33m=\u001b[0m\u001b[1;32mTrue\u001b[0m\u001b[1;33m)\u001b[0m\u001b[1;33m\u001b[0m\u001b[1;33m\u001b[0m\u001b[0m\n\u001b[0;32m    315\u001b[0m \u001b[1;33m\u001b[0m\u001b[0m\n\u001b[1;32m--> 316\u001b[1;33m                 \u001b[0mdata\u001b[0m \u001b[1;33m=\u001b[0m \u001b[0mSingleBlockManager\u001b[0m\u001b[1;33m(\u001b[0m\u001b[0mdata\u001b[0m\u001b[1;33m,\u001b[0m \u001b[0mindex\u001b[0m\u001b[1;33m,\u001b[0m \u001b[0mfastpath\u001b[0m\u001b[1;33m=\u001b[0m\u001b[1;32mTrue\u001b[0m\u001b[1;33m)\u001b[0m\u001b[1;33m\u001b[0m\u001b[1;33m\u001b[0m\u001b[0m\n\u001b[0m\u001b[0;32m    317\u001b[0m \u001b[1;33m\u001b[0m\u001b[0m\n\u001b[0;32m    318\u001b[0m         \u001b[0mgeneric\u001b[0m\u001b[1;33m.\u001b[0m\u001b[0mNDFrame\u001b[0m\u001b[1;33m.\u001b[0m\u001b[0m__init__\u001b[0m\u001b[1;33m(\u001b[0m\u001b[0mself\u001b[0m\u001b[1;33m,\u001b[0m \u001b[0mdata\u001b[0m\u001b[1;33m,\u001b[0m \u001b[0mfastpath\u001b[0m\u001b[1;33m=\u001b[0m\u001b[1;32mTrue\u001b[0m\u001b[1;33m)\u001b[0m\u001b[1;33m\u001b[0m\u001b[1;33m\u001b[0m\u001b[0m\n",
      "\u001b[1;32m~\\AppData\\Roaming\\Python\\Python36\\site-packages\\pandas\\core\\internals\\managers.py\u001b[0m in \u001b[0;36m__init__\u001b[1;34m(self, block, axis, do_integrity_check, fastpath)\u001b[0m\n\u001b[0;32m   1514\u001b[0m \u001b[1;33m\u001b[0m\u001b[0m\n\u001b[0;32m   1515\u001b[0m         \u001b[1;32mif\u001b[0m \u001b[1;32mnot\u001b[0m \u001b[0misinstance\u001b[0m\u001b[1;33m(\u001b[0m\u001b[0mblock\u001b[0m\u001b[1;33m,\u001b[0m \u001b[0mBlock\u001b[0m\u001b[1;33m)\u001b[0m\u001b[1;33m:\u001b[0m\u001b[1;33m\u001b[0m\u001b[1;33m\u001b[0m\u001b[0m\n\u001b[1;32m-> 1516\u001b[1;33m             \u001b[0mblock\u001b[0m \u001b[1;33m=\u001b[0m \u001b[0mmake_block\u001b[0m\u001b[1;33m(\u001b[0m\u001b[0mblock\u001b[0m\u001b[1;33m,\u001b[0m \u001b[0mplacement\u001b[0m\u001b[1;33m=\u001b[0m\u001b[0mslice\u001b[0m\u001b[1;33m(\u001b[0m\u001b[1;36m0\u001b[0m\u001b[1;33m,\u001b[0m \u001b[0mlen\u001b[0m\u001b[1;33m(\u001b[0m\u001b[0maxis\u001b[0m\u001b[1;33m)\u001b[0m\u001b[1;33m)\u001b[0m\u001b[1;33m,\u001b[0m \u001b[0mndim\u001b[0m\u001b[1;33m=\u001b[0m\u001b[1;36m1\u001b[0m\u001b[1;33m)\u001b[0m\u001b[1;33m\u001b[0m\u001b[1;33m\u001b[0m\u001b[0m\n\u001b[0m\u001b[0;32m   1517\u001b[0m \u001b[1;33m\u001b[0m\u001b[0m\n\u001b[0;32m   1518\u001b[0m         \u001b[0mself\u001b[0m\u001b[1;33m.\u001b[0m\u001b[0mblocks\u001b[0m \u001b[1;33m=\u001b[0m \u001b[0mtuple\u001b[0m\u001b[1;33m(\u001b[0m\u001b[1;33m[\u001b[0m\u001b[0mblock\u001b[0m\u001b[1;33m]\u001b[0m\u001b[1;33m)\u001b[0m\u001b[1;33m\u001b[0m\u001b[1;33m\u001b[0m\u001b[0m\n",
      "\u001b[1;32m~\\AppData\\Roaming\\Python\\Python36\\site-packages\\pandas\\core\\internals\\blocks.py\u001b[0m in \u001b[0;36mmake_block\u001b[1;34m(values, placement, klass, ndim, dtype, fastpath)\u001b[0m\n\u001b[0;32m   3275\u001b[0m     \u001b[1;32mif\u001b[0m \u001b[0mklass\u001b[0m \u001b[1;32mis\u001b[0m \u001b[1;32mNone\u001b[0m\u001b[1;33m:\u001b[0m\u001b[1;33m\u001b[0m\u001b[1;33m\u001b[0m\u001b[0m\n\u001b[0;32m   3276\u001b[0m         \u001b[0mdtype\u001b[0m \u001b[1;33m=\u001b[0m \u001b[0mdtype\u001b[0m \u001b[1;32mor\u001b[0m \u001b[0mvalues\u001b[0m\u001b[1;33m.\u001b[0m\u001b[0mdtype\u001b[0m\u001b[1;33m\u001b[0m\u001b[1;33m\u001b[0m\u001b[0m\n\u001b[1;32m-> 3277\u001b[1;33m         \u001b[0mklass\u001b[0m \u001b[1;33m=\u001b[0m \u001b[0mget_block_type\u001b[0m\u001b[1;33m(\u001b[0m\u001b[0mvalues\u001b[0m\u001b[1;33m,\u001b[0m \u001b[0mdtype\u001b[0m\u001b[1;33m)\u001b[0m\u001b[1;33m\u001b[0m\u001b[1;33m\u001b[0m\u001b[0m\n\u001b[0m\u001b[0;32m   3278\u001b[0m \u001b[1;33m\u001b[0m\u001b[0m\n\u001b[0;32m   3279\u001b[0m     \u001b[1;32melif\u001b[0m \u001b[0mklass\u001b[0m \u001b[1;32mis\u001b[0m \u001b[0mDatetimeTZBlock\u001b[0m \u001b[1;32mand\u001b[0m \u001b[1;32mnot\u001b[0m \u001b[0mis_datetime64tz_dtype\u001b[0m\u001b[1;33m(\u001b[0m\u001b[0mvalues\u001b[0m\u001b[1;33m)\u001b[0m\u001b[1;33m:\u001b[0m\u001b[1;33m\u001b[0m\u001b[1;33m\u001b[0m\u001b[0m\n",
      "\u001b[1;32m~\\AppData\\Roaming\\Python\\Python36\\site-packages\\pandas\\core\\internals\\blocks.py\u001b[0m in \u001b[0;36mget_block_type\u001b[1;34m(values, dtype)\u001b[0m\n\u001b[0;32m   3236\u001b[0m     \u001b[1;32melif\u001b[0m \u001b[0mis_datetime64tz_dtype\u001b[0m\u001b[1;33m(\u001b[0m\u001b[0mvalues\u001b[0m\u001b[1;33m)\u001b[0m\u001b[1;33m:\u001b[0m\u001b[1;33m\u001b[0m\u001b[1;33m\u001b[0m\u001b[0m\n\u001b[0;32m   3237\u001b[0m         \u001b[0mcls\u001b[0m \u001b[1;33m=\u001b[0m \u001b[0mDatetimeTZBlock\u001b[0m\u001b[1;33m\u001b[0m\u001b[1;33m\u001b[0m\u001b[0m\n\u001b[1;32m-> 3238\u001b[1;33m     \u001b[1;32melif\u001b[0m \u001b[0mis_interval_dtype\u001b[0m\u001b[1;33m(\u001b[0m\u001b[0mdtype\u001b[0m\u001b[1;33m)\u001b[0m \u001b[1;32mor\u001b[0m \u001b[0mis_period_dtype\u001b[0m\u001b[1;33m(\u001b[0m\u001b[0mdtype\u001b[0m\u001b[1;33m)\u001b[0m\u001b[1;33m:\u001b[0m\u001b[1;33m\u001b[0m\u001b[1;33m\u001b[0m\u001b[0m\n\u001b[0m\u001b[0;32m   3239\u001b[0m         \u001b[0mcls\u001b[0m \u001b[1;33m=\u001b[0m \u001b[0mObjectValuesExtensionBlock\u001b[0m\u001b[1;33m\u001b[0m\u001b[1;33m\u001b[0m\u001b[0m\n\u001b[0;32m   3240\u001b[0m     \u001b[1;32melif\u001b[0m \u001b[0mis_extension_array_dtype\u001b[0m\u001b[1;33m(\u001b[0m\u001b[0mvalues\u001b[0m\u001b[1;33m)\u001b[0m\u001b[1;33m:\u001b[0m\u001b[1;33m\u001b[0m\u001b[1;33m\u001b[0m\u001b[0m\n",
      "\u001b[1;32m~\\AppData\\Roaming\\Python\\Python36\\site-packages\\pandas\\core\\dtypes\\common.py\u001b[0m in \u001b[0;36mis_period_dtype\u001b[1;34m(arr_or_dtype)\u001b[0m\n\u001b[0;32m    637\u001b[0m     \u001b[1;32mif\u001b[0m \u001b[0marr_or_dtype\u001b[0m \u001b[1;32mis\u001b[0m \u001b[1;32mNone\u001b[0m\u001b[1;33m:\u001b[0m\u001b[1;33m\u001b[0m\u001b[1;33m\u001b[0m\u001b[0m\n\u001b[0;32m    638\u001b[0m         \u001b[1;32mreturn\u001b[0m \u001b[1;32mFalse\u001b[0m\u001b[1;33m\u001b[0m\u001b[1;33m\u001b[0m\u001b[0m\n\u001b[1;32m--> 639\u001b[1;33m     \u001b[1;32mreturn\u001b[0m \u001b[0mPeriodDtype\u001b[0m\u001b[1;33m.\u001b[0m\u001b[0mis_dtype\u001b[0m\u001b[1;33m(\u001b[0m\u001b[0marr_or_dtype\u001b[0m\u001b[1;33m)\u001b[0m\u001b[1;33m\u001b[0m\u001b[1;33m\u001b[0m\u001b[0m\n\u001b[0m\u001b[0;32m    640\u001b[0m \u001b[1;33m\u001b[0m\u001b[0m\n\u001b[0;32m    641\u001b[0m \u001b[1;33m\u001b[0m\u001b[0m\n",
      "\u001b[1;32m~\\AppData\\Roaming\\Python\\Python36\\site-packages\\pandas\\core\\dtypes\\dtypes.py\u001b[0m in \u001b[0;36mis_dtype\u001b[1;34m(cls, dtype)\u001b[0m\n\u001b[0;32m    930\u001b[0m             \u001b[1;32melse\u001b[0m\u001b[1;33m:\u001b[0m\u001b[1;33m\u001b[0m\u001b[1;33m\u001b[0m\u001b[0m\n\u001b[0;32m    931\u001b[0m                 \u001b[1;32mreturn\u001b[0m \u001b[1;32mFalse\u001b[0m\u001b[1;33m\u001b[0m\u001b[1;33m\u001b[0m\u001b[0m\n\u001b[1;32m--> 932\u001b[1;33m         \u001b[1;32mreturn\u001b[0m \u001b[0msuper\u001b[0m\u001b[1;33m(\u001b[0m\u001b[1;33m)\u001b[0m\u001b[1;33m.\u001b[0m\u001b[0mis_dtype\u001b[0m\u001b[1;33m(\u001b[0m\u001b[0mdtype\u001b[0m\u001b[1;33m)\u001b[0m\u001b[1;33m\u001b[0m\u001b[1;33m\u001b[0m\u001b[0m\n\u001b[0m\u001b[0;32m    933\u001b[0m \u001b[1;33m\u001b[0m\u001b[0m\n\u001b[0;32m    934\u001b[0m     \u001b[1;33m@\u001b[0m\u001b[0mclassmethod\u001b[0m\u001b[1;33m\u001b[0m\u001b[1;33m\u001b[0m\u001b[0m\n",
      "\u001b[1;32m~\\AppData\\Roaming\\Python\\Python36\\site-packages\\pandas\\core\\dtypes\\base.py\u001b[0m in \u001b[0;36mis_dtype\u001b[1;34m(cls, dtype)\u001b[0m\n\u001b[0;32m    254\u001b[0m         \u001b[0mdtype\u001b[0m \u001b[1;33m=\u001b[0m \u001b[0mgetattr\u001b[0m\u001b[1;33m(\u001b[0m\u001b[0mdtype\u001b[0m\u001b[1;33m,\u001b[0m \u001b[1;34m\"dtype\"\u001b[0m\u001b[1;33m,\u001b[0m \u001b[0mdtype\u001b[0m\u001b[1;33m)\u001b[0m\u001b[1;33m\u001b[0m\u001b[1;33m\u001b[0m\u001b[0m\n\u001b[0;32m    255\u001b[0m \u001b[1;33m\u001b[0m\u001b[0m\n\u001b[1;32m--> 256\u001b[1;33m         \u001b[1;32mif\u001b[0m \u001b[0misinstance\u001b[0m\u001b[1;33m(\u001b[0m\u001b[0mdtype\u001b[0m\u001b[1;33m,\u001b[0m \u001b[1;33m(\u001b[0m\u001b[0mABCSeries\u001b[0m\u001b[1;33m,\u001b[0m \u001b[0mABCIndexClass\u001b[0m\u001b[1;33m,\u001b[0m \u001b[0mABCDataFrame\u001b[0m\u001b[1;33m,\u001b[0m \u001b[0mnp\u001b[0m\u001b[1;33m.\u001b[0m\u001b[0mdtype\u001b[0m\u001b[1;33m)\u001b[0m\u001b[1;33m)\u001b[0m\u001b[1;33m:\u001b[0m\u001b[1;33m\u001b[0m\u001b[1;33m\u001b[0m\u001b[0m\n\u001b[0m\u001b[0;32m    257\u001b[0m             \u001b[1;31m# https://github.com/pandas-dev/pandas/issues/22960\u001b[0m\u001b[1;33m\u001b[0m\u001b[1;33m\u001b[0m\u001b[1;33m\u001b[0m\u001b[0m\n\u001b[0;32m    258\u001b[0m             \u001b[1;31m# avoid passing data to `construct_from_string`. This could\u001b[0m\u001b[1;33m\u001b[0m\u001b[1;33m\u001b[0m\u001b[1;33m\u001b[0m\u001b[0m\n",
      "\u001b[1;32m~\\AppData\\Roaming\\Python\\Python36\\site-packages\\pandas\\core\\dtypes\\generic.py\u001b[0m in \u001b[0;36m_check\u001b[1;34m(cls, inst)\u001b[0m\n\u001b[0;32m      7\u001b[0m     \u001b[1;33m@\u001b[0m\u001b[0mclassmethod\u001b[0m\u001b[1;33m\u001b[0m\u001b[1;33m\u001b[0m\u001b[0m\n\u001b[0;32m      8\u001b[0m     \u001b[1;32mdef\u001b[0m \u001b[0m_check\u001b[0m\u001b[1;33m(\u001b[0m\u001b[0mcls\u001b[0m\u001b[1;33m,\u001b[0m \u001b[0minst\u001b[0m\u001b[1;33m)\u001b[0m\u001b[1;33m:\u001b[0m\u001b[1;33m\u001b[0m\u001b[1;33m\u001b[0m\u001b[0m\n\u001b[1;32m----> 9\u001b[1;33m         \u001b[1;32mreturn\u001b[0m \u001b[0mgetattr\u001b[0m\u001b[1;33m(\u001b[0m\u001b[0minst\u001b[0m\u001b[1;33m,\u001b[0m \u001b[0mattr\u001b[0m\u001b[1;33m,\u001b[0m \u001b[1;34m\"_typ\"\u001b[0m\u001b[1;33m)\u001b[0m \u001b[1;32min\u001b[0m \u001b[0mcomp\u001b[0m\u001b[1;33m\u001b[0m\u001b[1;33m\u001b[0m\u001b[0m\n\u001b[0m\u001b[0;32m     10\u001b[0m \u001b[1;33m\u001b[0m\u001b[0m\n\u001b[0;32m     11\u001b[0m     \u001b[0mdct\u001b[0m \u001b[1;33m=\u001b[0m \u001b[0mdict\u001b[0m\u001b[1;33m(\u001b[0m\u001b[0m__instancecheck__\u001b[0m\u001b[1;33m=\u001b[0m\u001b[0m_check\u001b[0m\u001b[1;33m,\u001b[0m \u001b[0m__subclasscheck__\u001b[0m\u001b[1;33m=\u001b[0m\u001b[0m_check\u001b[0m\u001b[1;33m)\u001b[0m\u001b[1;33m\u001b[0m\u001b[1;33m\u001b[0m\u001b[0m\n",
      "\u001b[1;31mKeyboardInterrupt\u001b[0m: "
     ]
    }
   ],
   "source": [
    "get_profit(df[0], y_preds['train'], 0)"
   ]
  },
  {
   "cell_type": "code",
   "execution_count": 25,
   "id": "4fa08fb0",
   "metadata": {},
   "outputs": [],
   "source": [
    "# from keras.callbacks import Callback\n",
    "\n",
    "# class IntervalEvaluation(Callback):\n",
    "#     def __init__(self, validation_data=(), interval=10):\n",
    "#         super(Callback, self).__init__()\n",
    "\n",
    "#         self.interval = interval\n",
    "#         self.X_val, self.y_val = validation_data\n",
    "\n",
    "#     def on_epoch_end(self, epoch, logs={}):\n",
    "#         if epoch % self.interval == 0:\n",
    "#             y_pred = self.model.predict(self.X_val, verbose=0)\n",
    "# #             score = np.mean(custom_metric_wrapper(idx, stop_limit, price_limit, margin_size, time_limit)(tf.convert_to_tensor(self.y_val), tf.convert_to_tensor(y_pred)))\n",
    "# #             profits = get_profit(df[1], y_pred)\n",
    "# #             profits_0 = get_profit(df[1], y_pred, 0)\n",
    "#             print(np.min(y_pred, axis=0))\n",
    "#             print(np.mean(y_pred, axis=0))\n",
    "#             print(np.max(y_pred, axis=0))\n",
    "# #             print(\"interval evaluation - epoch: {:d} - score: {:.6f} -- score_0: {:.6f}\".format(epoch, profits, profits_0))\n",
    "           \n",
    "# buffer = (batch_size+time_limit) + 1000\n",
    "# ival = IntervalEvaluation(validation_data=(inputs_test[:-buffer], np.array([[1, i] for i in range(len(test)-buffer)])), interval=10)"
   ]
  },
  {
   "cell_type": "code",
   "execution_count": 25,
   "id": "77b2e14c",
   "metadata": {},
   "outputs": [],
   "source": [
    "model = get_model()"
   ]
  },
  {
   "cell_type": "code",
   "execution_count": 26,
   "id": "77d24985",
   "metadata": {
    "scrolled": true
   },
   "outputs": [],
   "source": [
    "model.compile(\n",
    "    optimizer=optimizers.Adam(learning_rate=0.0001, epsilon=1.0),\n",
    "    loss=custom_loss_wrapper(idx, stop_limit, price_limit, margin_size),\n",
    "#     metrics=[custom_metric_wrapper(idx, stop_limit, price_limit, margin_size, time_limit)],\n",
    "    run_eagerly=False\n",
    ")"
   ]
  },
  {
   "cell_type": "code",
   "execution_count": null,
   "id": "c3f26f0f",
   "metadata": {
    "scrolled": true
   },
   "outputs": [
    {
     "name": "stdout",
     "output_type": "stream",
     "text": [
      "Train on 73515 samples\n",
      "Epoch 175/10000\n",
      "73515/73515 [==============================] - 581s 8ms/sample - loss: -0.0057\n",
      "Epoch 176/10000\n",
      "73515/73515 [==============================] - 538s 7ms/sample - loss: -0.0043\n",
      "Epoch 177/10000\n",
      "73515/73515 [==============================] - 536s 7ms/sample - loss: -0.0040\n",
      "Epoch 178/10000\n",
      "73515/73515 [==============================] - 525s 7ms/sample - loss: -0.0103\n",
      "Epoch 179/10000\n",
      "73515/73515 [==============================] - 453s 6ms/sample - loss: -0.0062\n",
      "Epoch 180/10000\n",
      "39616/73515 [===============>..............] - ETA: 3:54 - loss: -0.0050"
     ]
    }
   ],
   "source": [
    "history = model.fit(\n",
    "    inputs_train[:-buffer_train], \n",
    "    np.array([[0, i] for i in range(len(inputs_train)-buffer_train)]), \n",
    "#     steps_per_epoch=(len(inputs_train)-buffer_train)//batch_size,\n",
    "#     validation_steps=32*5//batch_size,\n",
    "#     validation_data=(tf.convert_to_tensor(inputs_test[:32*5]), tf.convert_to_tensor([[1, i] for i in range(32*5)])),\n",
    "    epochs=10000, \n",
    "    shuffle=True,\n",
    "    batch_size=batch_size,\n",
    "#     callbacks=[ival],\n",
    "#     use_multiprocessing=True, \n",
    "#     workers=0,\n",
    "    verbose=1, \n",
    "#     max_queue_size=100,\n",
    "#     validation_freq=1000,\n",
    "#     initial_epoch=model.history.epoch[-1],\n",
    "    initial_epoch=174\n",
    ")"
   ]
  },
  {
   "cell_type": "code",
   "execution_count": 447,
   "id": "c86fa0d2",
   "metadata": {},
   "outputs": [],
   "source": [
    "model.save('profit_model_fast_QC')"
   ]
  },
  {
   "cell_type": "code",
   "execution_count": 28,
   "metadata": {
    "scrolled": true
   },
   "outputs": [],
   "source": [
    "model.load_weights('profit_model_fast_QC')"
   ]
  },
  {
   "cell_type": "code",
   "execution_count": 95,
   "id": "c90d4896",
   "metadata": {},
   "outputs": [],
   "source": [
    "import json\n",
    "weights_list = model.get_weights()\n",
    "json.dump([w.tolist() for w in weights_list], open('profit_model_fast_QC_weights.json', 'w'))"
   ]
  },
  {
   "cell_type": "code",
   "execution_count": 92,
   "id": "37b8d23b",
   "metadata": {},
   "outputs": [
    {
     "data": {
      "text/plain": [
       "array([[[0.97965571, 0.98591549, 0.89514867, 0.91236307],\n",
       "        [0.91236307, 0.98122066, 0.91236307, 0.98122066],\n",
       "        [0.97965571, 0.99843505, 0.96400626, 0.99530516],\n",
       "        [0.99374022, 1.        , 0.94992175, 0.9514867 ],\n",
       "        [0.95305164, 0.96713615, 0.94835681, 0.96557121],\n",
       "        [0.96557121, 0.97809077, 0.9514867 , 0.96713615],\n",
       "        [0.96557121, 0.97026604, 0.93114241, 0.9342723 ],\n",
       "        [0.9342723 , 0.94992175, 0.91079812, 0.92018779],\n",
       "        [0.91862285, 0.93114241, 0.87636933, 0.9029734 ],\n",
       "        [0.90453834, 0.91236307, 0.85446009, 0.90766823],\n",
       "        [0.90923318, 0.94209703, 0.90923318, 0.93270736],\n",
       "        [0.93114241, 0.9342723 , 0.89671362, 0.91392801],\n",
       "        [0.91236307, 0.91392801, 0.85758998, 0.87636933],\n",
       "        [0.87480438, 0.90923318, 0.87480438, 0.88888889],\n",
       "        [0.88732394, 0.88888889, 0.8513302 , 0.86697966],\n",
       "        [0.86541471, 0.87793427, 0.81846635, 0.86541471],\n",
       "        [0.86541471, 0.91549296, 0.86541471, 0.90923318],\n",
       "        [0.91236307, 0.94209703, 0.90923318, 0.93896714],\n",
       "        [0.94053208, 0.95305164, 0.91549296, 0.94835681],\n",
       "        [0.94992175, 0.95931142, 0.94053208, 0.9514867 ],\n",
       "        [0.95305164, 0.96557121, 0.86697966, 0.87480438],\n",
       "        [0.87636933, 0.92018779, 0.84976526, 0.90610329],\n",
       "        [0.90766823, 0.90766823, 0.87010955, 0.89671362],\n",
       "        [0.89671362, 0.89984351, 0.87323944, 0.88732394],\n",
       "        [0.88888889, 0.90140845, 0.81533646, 0.82942097],\n",
       "        [0.82785603, 0.84037559, 0.77934272, 0.78716745],\n",
       "        [0.78873239, 0.79655712, 0.71048513, 0.72300469],\n",
       "        [0.72456964, 0.72769953, 0.63380282, 0.6400626 ],\n",
       "        [0.63849765, 0.66666667, 0.61189358, 0.64788732],\n",
       "        [0.64632238, 0.66040689, 0.59780908, 0.61815336],\n",
       "        [0.61658842, 0.63849765, 0.56651017, 0.58372457],\n",
       "        [0.58215962, 0.63536776, 0.56494523, 0.62597809],\n",
       "        [0.62754304, 0.66666667, 0.61971831, 0.66040689],\n",
       "        [0.65884194, 0.69640063, 0.6400626 , 0.67762128],\n",
       "        [0.67918623, 0.70109546, 0.66510172, 0.68388106],\n",
       "        [0.68544601, 0.69327074, 0.6713615 , 0.68544601],\n",
       "        [0.68701095, 0.6885759 , 0.62128326, 0.6400626 ],\n",
       "        [0.63849765, 0.6541471 , 0.60406886, 0.63536776],\n",
       "        [0.63849765, 0.66353678, 0.63536776, 0.65571205],\n",
       "        [0.65101721, 0.66040689, 0.61971831, 0.66040689],\n",
       "        [0.65884194, 0.66040689, 0.63693271, 0.64162754],\n",
       "        [0.6400626 , 0.65571205, 0.5399061 , 0.56964006],\n",
       "        [0.57120501, 0.60093897, 0.57120501, 0.58372457],\n",
       "        [0.58528951, 0.60250391, 0.5743349 , 0.60093897],\n",
       "        [0.59937402, 0.66510172, 0.59780908, 0.61345853],\n",
       "        [0.61189358, 0.62754304, 0.57746479, 0.58059468],\n",
       "        [0.57902973, 0.61345853, 0.56494523, 0.56651017],\n",
       "        [0.56807512, 0.5915493 , 0.56181534, 0.58841941],\n",
       "        [0.58528951, 0.6228482 , 0.56025039, 0.6228482 ],\n",
       "        [0.62128326, 0.62128326, 0.46165884, 0.46478873],\n",
       "        [0.46165884, 0.54616588, 0.45852895, 0.5399061 ],\n",
       "        [0.53521127, 0.54929577, 0.52425665, 0.54460094],\n",
       "        [0.54616588, 0.57120501, 0.51956182, 0.5258216 ],\n",
       "        [0.52425665, 0.52738654, 0.39123631, 0.44600939],\n",
       "        [0.4428795 , 0.47887324, 0.41471049, 0.47104851],\n",
       "        [0.47261346, 0.48982786, 0.43505477, 0.47104851],\n",
       "        [0.46791862, 0.48200313, 0.45696401, 0.46322379],\n",
       "        [0.46165884, 0.48043818, 0.43661972, 0.46165884],\n",
       "        [0.46478873, 0.48513302, 0.41940532, 0.48200313],\n",
       "        [0.48356808, 0.49608764, 0.45696401, 0.46948357],\n",
       "        [0.46791862, 0.48826291, 0.45070423, 0.47574335],\n",
       "        [0.4741784 , 0.50704225, 0.4600939 , 0.47887324],\n",
       "        [0.47730829, 0.50234742, 0.42097027, 0.49921753],\n",
       "        [0.50078247, 0.5258216 , 0.48982786, 0.52425665],\n",
       "        [0.52112676, 0.52425665, 0.49295775, 0.49765258],\n",
       "        [0.49921753, 0.49921753, 0.43505477, 0.45539906],\n",
       "        [0.45539906, 0.4913928 , 0.45539906, 0.48826291],\n",
       "        [0.48669797, 0.49295775, 0.43192488, 0.43192488],\n",
       "        [0.43505477, 0.4913928 , 0.4256651 , 0.47104851],\n",
       "        [0.46948357, 0.49295775, 0.43035994, 0.49295775],\n",
       "        [0.49295775, 0.51486698, 0.48669797, 0.51173709],\n",
       "        [0.51017214, 0.51643192, 0.46948357, 0.46948357],\n",
       "        [0.47574335, 0.51799687, 0.47574335, 0.48669797],\n",
       "        [0.48826291, 0.49921753, 0.4741784 , 0.48043818],\n",
       "        [0.48043818, 0.50391236, 0.47887324, 0.49921753],\n",
       "        [0.50078247, 0.50078247, 0.44444444, 0.46478873],\n",
       "        [0.46322379, 0.4741784 , 0.40532081, 0.42253521],\n",
       "        [0.42253521, 0.43192488, 0.40688576, 0.41940532],\n",
       "        [0.42097027, 0.45383412, 0.42097027, 0.43974961],\n",
       "        [0.44131455, 0.4600939 , 0.43035994, 0.43818466],\n",
       "        [0.43505477, 0.45226917, 0.33489828, 0.35524257],\n",
       "        [0.35524257, 0.46635368, 0.34115806, 0.46635368],\n",
       "        [0.46635368, 0.48982786, 0.44131455, 0.45696401],\n",
       "        [0.45696401, 0.4913928 , 0.45226917, 0.48826291],\n",
       "        [0.48669797, 0.48669797, 0.42410016, 0.44131455],\n",
       "        [0.43974961, 0.45696401, 0.41314554, 0.41471049],\n",
       "        [0.41627543, 0.41627543, 0.36463224, 0.37871674],\n",
       "        [0.38028169, 0.44600939, 0.36619718, 0.41471049],\n",
       "        [0.41627543, 0.4428795 , 0.38184664, 0.39593114],\n",
       "        [0.3943662 , 0.4256651 , 0.38028169, 0.4084507 ],\n",
       "        [0.41001565, 0.42253521, 0.37871674, 0.38810642],\n",
       "        [0.38654147, 0.4256651 , 0.38654147, 0.40375587],\n",
       "        [0.40532081, 0.43661972, 0.39123631, 0.4256651 ],\n",
       "        [0.42879499, 0.43192488, 0.37558685, 0.41158059],\n",
       "        [0.41001565, 0.44444444, 0.39280125, 0.43818466],\n",
       "        [0.43661972, 0.45852895, 0.4256651 , 0.44444444],\n",
       "        [0.4428795 , 0.44757433, 0.4084507 , 0.42723005],\n",
       "        [0.4256651 , 0.45226917, 0.42097027, 0.43348983],\n",
       "        [0.43505477, 0.43818466, 0.39593114, 0.39906103],\n",
       "        [0.39749609, 0.41158059, 0.39749609, 0.39749609],\n",
       "        [0.39906103, 0.4084507 , 0.37402191, 0.40062598],\n",
       "        [0.39906103, 0.42097027, 0.39593114, 0.40532081],\n",
       "        [0.4084507 , 0.41158059, 0.37558685, 0.41001565],\n",
       "        [0.4084507 , 0.41158059, 0.38654147, 0.38967136],\n",
       "        [0.38810642, 0.40062598, 0.38184664, 0.38967136],\n",
       "        [0.38810642, 0.39749609, 0.36932707, 0.39593114],\n",
       "        [0.3943662 , 0.39749609, 0.34898279, 0.34898279],\n",
       "        [0.35054773, 0.38184664, 0.28951487, 0.38028169],\n",
       "        [0.38028169, 0.43035994, 0.36776213, 0.41784038],\n",
       "        [0.41471049, 0.49452269, 0.40532081, 0.4741784 ],\n",
       "        [0.47261346, 0.47574335, 0.3943662 , 0.40375587],\n",
       "        [0.40532081, 0.41940532, 0.35680751, 0.37245696],\n",
       "        [0.37089202, 0.43035994, 0.36776213, 0.39749609],\n",
       "        [0.39906103, 0.39906103, 0.36463224, 0.36619718],\n",
       "        [0.36463224, 0.36776213, 0.33176839, 0.36776213],\n",
       "        [0.36619718, 0.39280125, 0.35837246, 0.38810642],\n",
       "        [0.38654147, 0.41314554, 0.37089202, 0.40062598],\n",
       "        [0.40062598, 0.42097027, 0.35680751, 0.38654147],\n",
       "        [0.38810642, 0.38810642, 0.28951487, 0.29264476],\n",
       "        [0.29577465, 0.3286385 , 0.24726135, 0.28794992],\n",
       "        [0.29107981, 0.30829421, 0.25821596, 0.30359937],\n",
       "        [0.30203443, 0.3114241 , 0.24413146, 0.26447574],\n",
       "        [0.26447574, 0.34115806, 0.2629108 , 0.31298905],\n",
       "        [0.30985915, 0.33489828, 0.30359937, 0.33333333],\n",
       "        [0.33489828, 0.37558685, 0.3286385 , 0.36306729],\n",
       "        [0.36463224, 0.38654147, 0.3458529 , 0.3458529 ],\n",
       "        [0.34741784, 0.38497653, 0.31924883, 0.37402191],\n",
       "        [0.37558685, 0.41158059, 0.37089202, 0.39123631],\n",
       "        [0.39123631, 0.41001565, 0.38028169, 0.39123631],\n",
       "        [0.39280125, 0.39749609, 0.36463224, 0.37871674],\n",
       "        [0.3771518 , 0.38497653, 0.33020344, 0.34898279],\n",
       "        [0.3458529 , 0.40688576, 0.34428795, 0.40375587],\n",
       "        [0.40219092, 0.41314554, 0.38967136, 0.39749609],\n",
       "        [0.39906103, 0.4256651 , 0.38184664, 0.38810642],\n",
       "        [0.38810642, 0.42723005, 0.38497653, 0.4084507 ],\n",
       "        [0.41158059, 0.41471049, 0.342723  , 0.3458529 ],\n",
       "        [0.34741784, 0.35680751, 0.30672926, 0.35211268],\n",
       "        [0.35211268, 0.36150235, 0.33333333, 0.33333333],\n",
       "        [0.33176839, 0.3458529 , 0.30985915, 0.34115806],\n",
       "        [0.33959311, 0.34115806, 0.30203443, 0.33020344],\n",
       "        [0.33333333, 0.34428795, 0.28794992, 0.29890454],\n",
       "        [0.29733959, 0.30203443, 0.20187793, 0.20970266],\n",
       "        [0.21283255, 0.25821596, 0.21126761, 0.23943662],\n",
       "        [0.23943662, 0.25665102, 0.20657277, 0.22535211],\n",
       "        [0.22378717, 0.23161189, 0.15336463, 0.17214397],\n",
       "        [0.17057903, 0.1971831 , 0.16431925, 0.1971831 ],\n",
       "        [0.20031299, 0.23943662, 0.16118936, 0.21596244],\n",
       "        [0.21752739, 0.23630673, 0.17370892, 0.19405321],\n",
       "        [0.1971831 , 0.25665102, 0.19248826, 0.24882629],\n",
       "        [0.24726135, 0.25195618, 0.20031299, 0.24100156],\n",
       "        [0.23943662, 0.25665102, 0.18779343, 0.25352113],\n",
       "        [0.25508607, 0.28638498, 0.18622848, 0.20187793],\n",
       "        [0.20031299, 0.21596244, 0.17683881, 0.20657277],\n",
       "        [0.20344288, 0.20970266, 0.16431925, 0.20970266],\n",
       "        [0.21126761, 0.23474178, 0.18935837, 0.1971831 ],\n",
       "        [0.19874804, 0.20813772, 0.16744914, 0.17057903],\n",
       "        [0.17214397, 0.18779343, 0.15023474, 0.16118936],\n",
       "        [0.15962441, 0.16588419, 0.1314554 , 0.13615023],\n",
       "        [0.13458529, 0.17057903, 0.        , 0.0312989 ],\n",
       "        [0.03286385, 0.08137715, 0.02503912, 0.05477308],\n",
       "        [0.05633803, 0.09076682, 0.05477308, 0.08607199],\n",
       "        [0.08450704, 0.114241  , 0.05164319, 0.09859155],\n",
       "        [0.10015649, 0.114241  , 0.0829421 , 0.09389671],\n",
       "        [0.09546166, 0.15179969, 0.09546166, 0.14397496],\n",
       "        [0.14397496, 0.17214397, 0.13302034, 0.14397496],\n",
       "        [0.14553991, 0.20813772, 0.14397496, 0.20031299],\n",
       "        [0.20187793, 0.20657277, 0.17057903, 0.17527387],\n",
       "        [0.17370892, 0.18935837, 0.12519562, 0.1314554 ],\n",
       "        [0.1314554 , 0.20031299, 0.1314554 , 0.18153365],\n",
       "        [0.18309859, 0.19874804, 0.16588419, 0.18935837],\n",
       "        [0.19092332, 0.22065728, 0.15179969, 0.15179969],\n",
       "        [0.1486698 , 0.19248826, 0.12519562, 0.18466354],\n",
       "        [0.17840376, 0.20500782, 0.14241002, 0.20031299],\n",
       "        [0.20031299, 0.20031299, 0.13458529, 0.15649452],\n",
       "        [0.15962441, 0.17840376, 0.15179969, 0.17214397],\n",
       "        [0.17057903, 0.17527387, 0.13771518, 0.1627543 ],\n",
       "        [0.16431925, 0.21126761, 0.16431925, 0.20813772],\n",
       "        [0.20657277, 0.21283255, 0.14710485, 0.15962441],\n",
       "        [0.15805947, 0.23943662, 0.15649452, 0.23787167],\n",
       "        [0.23474178, 0.24100156, 0.15492958, 0.18466354]]])"
      ]
     },
     "execution_count": 92,
     "metadata": {},
     "output_type": "execute_result"
    }
   ],
   "source": [
    "inputs_train[:1]"
   ]
  },
  {
   "cell_type": "code",
   "execution_count": 93,
   "id": "7ac07403",
   "metadata": {
    "scrolled": true
   },
   "outputs": [
    {
     "data": {
      "text/plain": [
       "array([[-0.9991012 , -0.11320163,  0.57906145]], dtype=float32)"
      ]
     },
     "execution_count": 93,
     "metadata": {},
     "output_type": "execute_result"
    }
   ],
   "source": [
    "model.predict(inputs_train[:1])"
   ]
  },
  {
   "cell_type": "code",
   "execution_count": 346,
   "metadata": {},
   "outputs": [],
   "source": [
    "import numpy as np\n",
    "def normalize(data, window, step):\n",
    "    frame = '_1min'\n",
    "    values = [c for c in data.columns if frame in c]\n",
    "    ohlc = data.iloc[step - window + 1:step + 1][values].copy()\n",
    "\n",
    "    min_low = ohlc[values].min().min()\n",
    "    for c in ohlc.columns:\n",
    "        ohlc[c] -= min_low\n",
    "\n",
    "    max_high = ohlc[values].max().max()\n",
    "    for c in ohlc.columns:\n",
    "        ohlc[c] /= max_high\n",
    "\n",
    "    return ohlc.values"
   ]
  },
  {
   "cell_type": "code",
   "execution_count": 350,
   "metadata": {},
   "outputs": [
    {
     "data": {
      "text/plain": [
       "array([[7.670842e-01, 3.024242e-01, 6.787478e-04]], dtype=float32)"
      ]
     },
     "execution_count": 350,
     "metadata": {},
     "output_type": "execute_result"
    }
   ],
   "source": [
    "model.predict(inputs_train[-1:])"
   ]
  },
  {
   "cell_type": "code",
   "execution_count": 356,
   "metadata": {},
   "outputs": [],
   "source": [
    "np.save('preds.json', y_preds['test'])"
   ]
  },
  {
   "cell_type": "code",
   "execution_count": 105,
   "id": "bb215f02",
   "metadata": {},
   "outputs": [
    {
     "data": {
      "text/plain": [
       "(0.5317056, 0.59686315)"
      ]
     },
     "execution_count": 105,
     "metadata": {},
     "output_type": "execute_result"
    }
   ],
   "source": [
    "(((y_preds['test'][:,1] + 1) / 2)).mean(), (((y_preds['test'][:,2] + 1) / 2)).mean()"
   ]
  },
  {
   "cell_type": "code",
   "execution_count": 390,
   "metadata": {},
   "outputs": [
    {
     "data": {
      "text/plain": [
       "0.0015750954227028498"
      ]
     },
     "execution_count": 390,
     "metadata": {},
     "output_type": "execute_result"
    }
   ],
   "source": [
    "abs(train['close_1min'].values[:-60] - train['close_1min'].values[60:]).mean()"
   ]
  },
  {
   "cell_type": "code",
   "execution_count": 32,
   "id": "06cb421e",
   "metadata": {},
   "outputs": [],
   "source": [
    "y_preds = {'train': model.predict(inputs_train[:-buffer_train]), 'test': model.predict(inputs_test[:-buffer_test])}"
   ]
  },
  {
   "cell_type": "code",
   "execution_count": 415,
   "id": "bb2d5582",
   "metadata": {},
   "outputs": [],
   "source": [
    "profits = {'train': get_profit(df[0], y_preds['train'], 0), 'test': get_profit(df[1], y_preds['test'], 0)}"
   ]
  },
  {
   "cell_type": "code",
   "execution_count": 44,
   "metadata": {},
   "outputs": [],
   "source": [
    "time_limit = 120\n",
    "def get_profit(data, y_preds, times_spread=0):\n",
    "    preds = y_preds[:,0].flatten()[:-time_limit]\n",
    "    direction = np.sign(preds)\n",
    "    b = data.shape[0] - preds.shape[0]\n",
    "    close1 = data['close_1min'].values[:-b]\n",
    "    close2 = data['close_1min'].values[time_limit:-b+time_limit]\n",
    "    diff = close2 - close1\n",
    "    spread = data['spread'].values[:-b]\n",
    "    profit = 100 * (margin_size*direction * (diff - (spread*direction))) /  close1\n",
    "#     profit = [p for p, pred, s, c in zip(profit, preds, spread, close1) if abs(pred) > 100*margin_size*times_spread*s/c]\n",
    "    return profit"
   ]
  },
  {
   "cell_type": "code",
   "execution_count": 38,
   "metadata": {},
   "outputs": [],
   "source": [
    "def get_profit(data, y_preds, margin_lower_limit=0):\n",
    "    idx = 0\n",
    "    profits = 0\n",
    "    margin = 0\n",
    "    account_value = [1]\n",
    "    old_date = data['date'].iloc[idx]\n",
    "    increase = 1\n",
    "    start_profit = profits\n",
    "    while idx < len(y_preds) - 2:\n",
    "        pred = y_preds[idx][0]\n",
    "        date = data['date'].iloc[idx]\n",
    "        direction = np.sign(margin)\n",
    "        close =  data.iloc[idx]['close_1min']\n",
    "        spread = data.iloc[idx]['spread']\n",
    "        if date != old_date:\n",
    "            profits += (margin * (close - (spread*direction)))\n",
    "            margin = 0\n",
    "            \n",
    "        if abs(pred + margin) < margin_size*account_value[-1]:\n",
    "            profits += (pred * (close - (spread*direction)))\n",
    "            margin += pred\n",
    "            \n",
    "        account_value.append(1 + (margin * (close - (spread*direction))) - profits)\n",
    "        idx += 1\n",
    "        \n",
    "    idx = -1\n",
    "    direction = np.sign(margin)\n",
    "    close =  data.iloc[idx]['close_1min']\n",
    "    spread = data.iloc[idx]['spread']\n",
    "    profits += (margin * (close - (spread*direction)))\n",
    "    margin = 0\n",
    "    return profits, margin, account_value"
   ]
  },
  {
   "cell_type": "code",
   "execution_count": 41,
   "metadata": {},
   "outputs": [],
   "source": [
    "p, m, v = get_profit(df[1], y_preds['test'], 0)"
   ]
  },
  {
   "cell_type": "code",
   "execution_count": 42,
   "metadata": {},
   "outputs": [
    {
     "data": {
      "text/plain": [
       "[<matplotlib.lines.Line2D at 0x24557d8ec50>]"
      ]
     },
     "execution_count": 42,
     "metadata": {},
     "output_type": "execute_result"
    },
    {
     "data": {
      "image/png": "[encoded data removed]",
      "text/plain": [
       "<Figure size 432x288 with 1 Axes>"
      ]
     },
     "metadata": {
      "needs_background": "light"
     },
     "output_type": "display_data"
    }
   ],
   "source": [
    "plt.plot(v)"
   ]
  },
  {
   "cell_type": "code",
   "execution_count": 45,
   "metadata": {
    "scrolled": true
   },
   "outputs": [],
   "source": [
    "profits_fixed = {'train': get_profit(df[0], y_preds['train'], 0), 'test': get_profit(df[1], y_preds['test'], 0)}"
   ]
  },
  {
   "cell_type": "code",
   "execution_count": 46,
   "id": "536ff360",
   "metadata": {},
   "outputs": [],
   "source": [
    "temp = {'train': train.iloc[:len(profits_fixed['train'])].copy(), 'test': test.iloc[:len(profits_fixed['test'])].copy()}\n",
    "temp['train']['profit'] = profits_fixed['train']\n",
    "temp['test']['profit'] = profits_fixed['test']"
   ]
  },
  {
   "cell_type": "code",
   "execution_count": 47,
   "metadata": {},
   "outputs": [
    {
     "data": {
      "text/plain": [
       "<matplotlib.axes._subplots.AxesSubplot at 0x24557bdd128>"
      ]
     },
     "execution_count": 47,
     "metadata": {},
     "output_type": "execute_result"
    },
    {
     "data": {
      "image/png": "[encoded data removed]",
      "text/plain": [
       "<Figure size 432x288 with 1 Axes>"
      ]
     },
     "metadata": {
      "needs_background": "light"
     },
     "output_type": "display_data"
    }
   ],
   "source": [
    "temp['train']['profit'].hist()"
   ]
  },
  {
   "cell_type": "code",
   "execution_count": 48,
   "metadata": {},
   "outputs": [
    {
     "data": {
      "text/plain": [
       "<matplotlib.axes._subplots.AxesSubplot at 0x2455804ce80>"
      ]
     },
     "execution_count": 48,
     "metadata": {},
     "output_type": "execute_result"
    },
    {
     "data": {
      "image/png": "[encoded data removed]",
      "text/plain": [
       "<Figure size 432x288 with 1 Axes>"
      ]
     },
     "metadata": {
      "needs_background": "light"
     },
     "output_type": "display_data"
    }
   ],
   "source": [
    "temp['test']['profit'].hist()"
   ]
  },
  {
   "cell_type": "code",
   "execution_count": 49,
   "id": "19e7241a",
   "metadata": {},
   "outputs": [
    {
     "data": {
      "text/plain": [
       "<matplotlib.axes._subplots.AxesSubplot at 0x245586b51d0>"
      ]
     },
     "execution_count": 49,
     "metadata": {},
     "output_type": "execute_result"
    },
    {
     "data": {
      "image/png": "[encoded data removed]",
      "text/plain": [
       "<Figure size 432x288 with 1 Axes>"
      ]
     },
     "metadata": {
      "needs_background": "light"
     },
     "output_type": "display_data"
    }
   ],
   "source": [
    "temp['train']['profit'].plot()"
   ]
  },
  {
   "cell_type": "code",
   "execution_count": 50,
   "id": "4e03b4bb",
   "metadata": {},
   "outputs": [
    {
     "data": {
      "text/plain": [
       "<matplotlib.axes._subplots.AxesSubplot at 0x245586f6080>"
      ]
     },
     "execution_count": 50,
     "metadata": {},
     "output_type": "execute_result"
    },
    {
     "data": {
      "image/png": "[encoded data removed]",
      "text/plain": [
       "<Figure size 432x288 with 1 Axes>"
      ]
     },
     "metadata": {
      "needs_background": "light"
     },
     "output_type": "display_data"
    }
   ],
   "source": [
    "temp['test']['profit'].plot()"
   ]
  },
  {
   "cell_type": "code",
   "execution_count": 51,
   "id": "90a5da88",
   "metadata": {},
   "outputs": [
    {
     "data": {
      "text/plain": [
       "<matplotlib.axes._subplots.AxesSubplot at 0x245587abcf8>"
      ]
     },
     "execution_count": 51,
     "metadata": {},
     "output_type": "execute_result"
    },
    {
     "data": {
      "image/png": "[encoded data removed]",
      "text/plain": [
       "<Figure size 432x288 with 1 Axes>"
      ]
     },
     "metadata": {
      "needs_background": "light"
     },
     "output_type": "display_data"
    }
   ],
   "source": [
    "temp['train']['profit'].cumsum().plot()"
   ]
  },
  {
   "cell_type": "code",
   "execution_count": 52,
   "id": "345e7c54",
   "metadata": {},
   "outputs": [
    {
     "data": {
      "text/plain": [
       "<matplotlib.axes._subplots.AxesSubplot at 0x24557b04908>"
      ]
     },
     "execution_count": 52,
     "metadata": {},
     "output_type": "execute_result"
    },
    {
     "data": {
      "image/png": "[encoded data removed]",
      "text/plain": [
       "<Figure size 432x288 with 1 Axes>"
      ]
     },
     "metadata": {
      "needs_background": "light"
     },
     "output_type": "display_data"
    }
   ],
   "source": [
    "temp['test']['profit'].cumsum().plot()"
   ]
  },
  {
   "cell_type": "code",
   "execution_count": 53,
   "id": "d81161e2",
   "metadata": {},
   "outputs": [
    {
     "data": {
      "text/plain": [
       "-877.1575781495643"
      ]
     },
     "execution_count": 53,
     "metadata": {},
     "output_type": "execute_result"
    }
   ],
   "source": [
    "sum(temp['train']['profit'])"
   ]
  },
  {
   "cell_type": "code",
   "execution_count": 54,
   "id": "4af3cae6",
   "metadata": {},
   "outputs": [
    {
     "data": {
      "text/plain": [
       "-23461.383361202457"
      ]
     },
     "execution_count": 54,
     "metadata": {},
     "output_type": "execute_result"
    }
   ],
   "source": [
    "sum(temp['test']['profit'])"
   ]
  },
  {
   "cell_type": "code",
   "execution_count": 55,
   "id": "ebfe8f1f",
   "metadata": {},
   "outputs": [
    {
     "data": {
      "text/plain": [
       "-0.010243052908135533"
      ]
     },
     "execution_count": 55,
     "metadata": {},
     "output_type": "execute_result"
    }
   ],
   "source": [
    "(252 ** 0.5) * np.mean(temp['train']['profit']) / np.std(temp['train']['profit'])"
   ]
  },
  {
   "cell_type": "code",
   "execution_count": 56,
   "id": "af953a97",
   "metadata": {},
   "outputs": [
    {
     "data": {
      "text/plain": [
       "-1.3102568050744339"
      ]
     },
     "execution_count": 56,
     "metadata": {},
     "output_type": "execute_result"
    }
   ],
   "source": [
    "(252 ** 0.5) * np.mean(temp['test']['profit']) / np.std(temp['test']['profit'])"
   ]
  },
  {
   "cell_type": "code",
   "execution_count": null,
   "id": "e05e48b6",
   "metadata": {},
   "outputs": [],
   "source": []
  }
 ],
 "metadata": {
  "kernelspec": {
   "display_name": "Python 3",
   "language": "python",
   "name": "python3"
  },
  "language_info": {
   "codemirror_mode": {
    "name": "ipython",
    "version": 3
   },
   "file_extension": ".py",
   "mimetype": "text/x-python",
   "name": "python",
   "nbconvert_exporter": "python",
   "pygments_lexer": "ipython3",
   "version": "3.6.8"
  }
 },
 "nbformat": 4,
 "nbformat_minor": 5
}
