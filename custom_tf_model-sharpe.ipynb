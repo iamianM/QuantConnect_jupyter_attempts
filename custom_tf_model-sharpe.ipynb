{
 "cells": [
  {
   "cell_type": "code",
   "execution_count": 1,
   "id": "lesbian-constitutional",
   "metadata": {},
   "outputs": [],
   "source": [
    "import os\n",
    "os.environ[\"CUDA_VISIBLE_DEVICES\"] = \"-1\""
   ]
  },
  {
   "cell_type": "code",
   "execution_count": 2,
   "id": "41f459b3",
   "metadata": {},
   "outputs": [],
   "source": [
    "import tensorflow as tf\n",
    "\n",
    "from tensorflow.keras import datasets, models, optimizers\n",
    "from tensorflow.keras.layers import TimeDistributed, Conv2D, Flatten, Dense, LSTM, ConvLSTM2D, MaxPool2D, Dropout, Conv1D\n",
    "import matplotlib.pyplot as plt\n",
    "\n",
    "import numpy as np \n",
    "import pandas as pd"
   ]
  },
  {
   "cell_type": "code",
   "execution_count": 3,
   "id": "offensive-merchant",
   "metadata": {},
   "outputs": [
    {
     "data": {
      "text/plain": [
       "True"
      ]
     },
     "execution_count": 3,
     "metadata": {},
     "output_type": "execute_result"
    }
   ],
   "source": [
    "tf.test.is_built_with_cuda()"
   ]
  },
  {
   "cell_type": "code",
   "execution_count": 4,
   "id": "dae60f38",
   "metadata": {},
   "outputs": [],
   "source": [
    "tf.compat.v1.enable_eager_execution()"
   ]
  },
  {
   "cell_type": "code",
   "execution_count": 5,
   "id": "86f4cad1",
   "metadata": {},
   "outputs": [],
   "source": [
    "inputs_train = np.load(\"inputs_train.npy\")\n",
    "inputs_test = np.load(\"inputs_test.npy\")"
   ]
  },
  {
   "cell_type": "code",
   "execution_count": 6,
   "id": "external-aviation",
   "metadata": {},
   "outputs": [],
   "source": [
    "inputs_train = np.transpose(inputs_train, (0, 2,3,1))\n",
    "inputs_test = np.transpose(inputs_test, (0, 2,3,1))"
   ]
  },
  {
   "cell_type": "code",
   "execution_count": 7,
   "id": "royal-royalty",
   "metadata": {},
   "outputs": [],
   "source": [
    "inputs_train = inputs_train.reshape(inputs_train.shape[:2] + (inputs_train.shape[2]*inputs_train.shape[3],))\n",
    "inputs_test = inputs_test.reshape(inputs_test.shape[:2] + (inputs_test.shape[2]*inputs_test.shape[3],))"
   ]
  },
  {
   "cell_type": "code",
   "execution_count": 8,
   "id": "c6052538",
   "metadata": {},
   "outputs": [],
   "source": [
    "train = pd.read_csv('train_timeframes.csv').iloc[59:]\n",
    "test = pd.read_csv('test_timeframes.csv').iloc[59:]"
   ]
  },
  {
   "cell_type": "code",
   "execution_count": 9,
   "id": "assured-mambo",
   "metadata": {},
   "outputs": [],
   "source": [
    "df = [train, test]"
   ]
  },
  {
   "cell_type": "code",
   "execution_count": 10,
   "id": "9326d1b3",
   "metadata": {},
   "outputs": [],
   "source": [
    "img = inputs_train[0,:,:]"
   ]
  },
  {
   "cell_type": "code",
   "execution_count": 11,
   "id": "22b9f610",
   "metadata": {},
   "outputs": [
    {
     "data": {
      "text/plain": [
       "((73695, 60, 20), (73695, 23))"
      ]
     },
     "execution_count": 11,
     "metadata": {},
     "output_type": "execute_result"
    }
   ],
   "source": [
    "inputs_train.shape, train.shape"
   ]
  },
  {
   "cell_type": "code",
   "execution_count": 12,
   "id": "amateur-collins",
   "metadata": {},
   "outputs": [
    {
     "data": {
      "text/plain": [
       "((24365, 60, 20), (24365, 23))"
      ]
     },
     "execution_count": 12,
     "metadata": {},
     "output_type": "execute_result"
    }
   ],
   "source": [
    "inputs_test.shape, test.shape"
   ]
  },
  {
   "cell_type": "code",
   "execution_count": 13,
   "id": "6e56c8b4",
   "metadata": {},
   "outputs": [],
   "source": [
    "idx = 0\n",
    "batch_size = 32\n",
    "stop_limit = 0.004\n",
    "price_limit = 0.004\n",
    "margin_size = 50\n",
    "time_limit = 60"
   ]
  },
  {
   "cell_type": "code",
   "execution_count": 14,
   "id": "hungry-intent",
   "metadata": {},
   "outputs": [],
   "source": [
    "model = models.Sequential()\n",
    "# model.add(LSTM(64, input_shape = img.shape, return_sequences=True, dropout=0.2))\n",
    "model.add(LSTM(32, input_shape = img.shape, dropout=0.2))\n",
    "# model.add(LSTM(32, dropout=0.2))\n",
    "model.add(Dense(3, activation = \"sigmoid\"))"
   ]
  },
  {
   "cell_type": "code",
   "execution_count": 22,
   "id": "useful-carter",
   "metadata": {},
   "outputs": [],
   "source": [
    "model = tf.keras.models.load_model('sharpe_model/', compile=False)"
   ]
  },
  {
   "cell_type": "code",
   "execution_count": 15,
   "id": "protective-medium",
   "metadata": {},
   "outputs": [],
   "source": [
    "# model = models.Sequential()\n",
    "\n",
    "# model.add(Conv2D(32, (5, 1),padding ='Same', activation='relu', input_shape = img.shape))\n",
    "# model.add(Conv2D(32, (5, 1),padding = 'Same', activation ='relu'))\n",
    "# model.add(MaxPool2D((2, 1)))\n",
    "# model.add(Dropout(0.25))\n",
    "\n",
    "# model.add(Conv2D(64,(3, 1),padding = 'Same', activation ='relu'))\n",
    "# model.add(Conv2D(64, (3, 1),padding = 'Same', activation ='relu'))\n",
    "# model.add(MaxPool2D(pool_size=(2, 1), strides=(2, 1)))\n",
    "# model.add(Dropout(0.25))\n",
    "\n",
    "# model.add(Flatten())\n",
    "# model.add(Dense(256, activation = \"relu\"))\n",
    "# model.add(Dropout(0.5))\n",
    "# model.add(Dense(3, activation = \"sigmoid\"))"
   ]
  },
  {
   "cell_type": "code",
   "execution_count": 23,
   "id": "convertible-gossip",
   "metadata": {},
   "outputs": [
    {
     "name": "stdout",
     "output_type": "stream",
     "text": [
      "Model: \"sequential\"\n",
      "_________________________________________________________________\n",
      "Layer (type)                 Output Shape              Param #   \n",
      "=================================================================\n",
      "lstm (LSTM)                  (None, 32)                6784      \n",
      "_________________________________________________________________\n",
      "dense (Dense)                (None, 3)                 99        \n",
      "=================================================================\n",
      "Total params: 6,883\n",
      "Trainable params: 6,883\n",
      "Non-trainable params: 0\n",
      "_________________________________________________________________\n"
     ]
    }
   ],
   "source": [
    "model.summary()"
   ]
  },
  {
   "cell_type": "code",
   "execution_count": 24,
   "id": "da4a290c",
   "metadata": {},
   "outputs": [],
   "source": [
    "def custom_loss_wrapper(idx, stop_limit, price_limit, margin_size, time_limit):    \n",
    "    def custom_loss(y_true, y_pred):\n",
    "#         print()\n",
    "        margin = ((y_pred[:,:1] - 0.5) * 2)\n",
    "        margin *= margin_size\n",
    "        direction = tf.sign(margin)\n",
    "        stop_loss = y_pred[:,1:2] * direction * -1 * stop_limit\n",
    "        price_target = y_pred[:,2:3] * direction * 1 * price_limit\n",
    "        \n",
    "        idx = y_true[0][1].numpy()\n",
    "        df_name = y_true[0][0].numpy()\n",
    "        batch_size = y_pred.shape[0]\n",
    "        closes = []\n",
    "        spread = []\n",
    "        i = tf.constant(0)\n",
    "        while_condition = lambda i: tf.less(i, tf.constant(batch_size))\n",
    "        def body(i):\n",
    "            closes.append(df[df_name].iloc[int(idx+i.numpy()):int(idx+i.numpy()+time_limit)]['close_1min'].tolist())\n",
    "            spread.append(df[df_name].iloc[int(idx+i.numpy()):int(idx+i.numpy()+time_limit)]['spread'].tolist())\n",
    "            return [tf.add(i, 1)]\n",
    "        r = tf.while_loop(while_condition, body, [i], parallel_iterations=batch_size, swap_memory=True)\n",
    "        closes = tf.convert_to_tensor(closes)\n",
    "        spread = tf.convert_to_tensor(spread)\n",
    "        close1 = closes[:,:1]\n",
    "        close2 = tf.zeros_like(closes[:,:1])\n",
    "        lower_bound = tf.minimum(stop_loss, price_target)\n",
    "        upper_bound = tf.maximum(stop_loss, price_target)\n",
    "        i = tf.constant(0)\n",
    "        def while_condition(i, close2): \n",
    "            return tf.less(i, tf.constant(closes.shape[1]))\n",
    "        def body(i, close2):\n",
    "            diff = (closes[:,i:i+1] - closes[:,:1]) * direction\n",
    "            cond = tf.logical_or(tf.less(diff, lower_bound), tf.greater(diff, upper_bound))\n",
    "            close2 = tf.where(tf.logical_and(tf.equal(close2, 0), cond), closes[:,i:i+1], close2)\n",
    "            return [tf.add(i, 1), close2]\n",
    "        r = tf.while_loop(while_condition, body, [i, close2], parallel_iterations=closes.shape[1], swap_memory=True)\n",
    "            \n",
    "        close2 = tf.where(tf.equal(close2, 0), closes[:,-1:], close2)\n",
    "\n",
    "        diff = close2 - close1\n",
    "        profit = 100 * (margin * (diff - (spread*direction))) /  close1\n",
    "        sharpe = (252 ** 0.5) * tf.reduce_mean(profit) / tf.math.reduce_std(profit)\n",
    "        return -sharpe\n",
    "    return custom_loss"
   ]
  },
  {
   "cell_type": "code",
   "execution_count": 33,
   "id": "supreme-turkey",
   "metadata": {},
   "outputs": [],
   "source": [
    "def get_profit(data, y_preds, margin_lower_limit=0):\n",
    "    idx = 0\n",
    "    profits = []\n",
    "    while idx < len(y_preds) - 1:\n",
    "        margin = ((y_preds[idx][0] - 0.5) * 2)\n",
    "        margin *= margin_size\n",
    "        if abs(margin) < margin_lower_limit:\n",
    "            idx += 1\n",
    "        else:\n",
    "            direction = np.sign(margin)\n",
    "            stop_loss = y_preds[idx][1] * direction * -1 * stop_limit\n",
    "            price_target = y_preds[idx][2] * direction * 1 * price_limit\n",
    "\n",
    "            start_idx = idx\n",
    "            close1 =  data.iloc[idx]['close_1min']\n",
    "            spread = data.iloc[idx]['spread']\n",
    "            idx += 1\n",
    "            new_i = idx\n",
    "            while new_i < len(data) - 1 and new_i - start_idx < time_limit:\n",
    "                close2 = data.iloc[new_i]['close_1min']\n",
    "                diff = (close2 - close1) \n",
    "                if min(stop_loss, price_limit) < diff * direction < max(stop_loss, price_limit):\n",
    "                    break\n",
    "                new_i += 1\n",
    "            profit = 100 * (margin * (diff - (spread*direction))) /  close1\n",
    "#             print(profit)\n",
    "            profits.append(profit)\n",
    "#             break\n",
    "    return profits\n",
    "\n",
    "# data = df[]"
   ]
  },
  {
   "cell_type": "code",
   "execution_count": 26,
   "id": "stone-washer",
   "metadata": {},
   "outputs": [],
   "source": [
    "from keras.callbacks import Callback\n",
    "\n",
    "class IntervalEvaluation(Callback):\n",
    "    def __init__(self, validation_data=(), interval=10):\n",
    "        super(Callback, self).__init__()\n",
    "\n",
    "        self.interval = interval\n",
    "        self.X_val, self.y_val = validation_data\n",
    "\n",
    "    def on_epoch_end(self, epoch, logs={}):\n",
    "        if epoch % self.interval == 0:\n",
    "            y_pred = self.model.predict(self.X_val, verbose=0)\n",
    "#             score = np.mean(custom_metric_wrapper(idx, stop_limit, price_limit, margin_size, time_limit)(tf.convert_to_tensor(self.y_val), tf.convert_to_tensor(y_pred)))\n",
    "            profits = get_profit(df[1], y_pred)\n",
    "            profits_0 = get_profit(df[1], y_pred, 0)\n",
    "            print(np.min(y_pred, axis=0))\n",
    "            print(np.mean(y_pred, axis=0))\n",
    "            print(np.max(y_pred, axis=0))\n",
    "            print(\"interval evaluation - epoch: {:d} - score: {:.6f} -- score_0: {:.6f}\".format(epoch, profits, profits_0))\n",
    "           \n",
    "buffer = (batch_size+time_limit) + 1000\n",
    "ival = IntervalEvaluation(validation_data=(inputs_test[:-buffer], np.array([[1, i] for i in range(len(test)-buffer)])), interval=3)"
   ]
  },
  {
   "cell_type": "code",
   "execution_count": 27,
   "id": "instant-forestry",
   "metadata": {},
   "outputs": [],
   "source": [
    "model.compile(\n",
    "    optimizer=optimizers.Adam(learning_rate=0.001),\n",
    "    loss=custom_loss_wrapper(idx, stop_limit, price_limit, margin_size, time_limit),\n",
    "#     metrics=[custom_metric_wrapper(idx, stop_limit, price_limit, margin_size, time_limit)],\n",
    "    run_eagerly=True\n",
    ")"
   ]
  },
  {
   "cell_type": "code",
   "execution_count": null,
   "id": "452981fb",
   "metadata": {
    "scrolled": true
   },
   "outputs": [
    {
     "name": "stdout",
     "output_type": "stream",
     "text": [
      "Epoch 346/1000\n",
      "2269/2269 [==============================] - 321s 141ms/step - loss: -11.3559\n",
      "Epoch 347/1000\n",
      "2269/2269 [==============================] - 325s 143ms/step - loss: -10.0828\n",
      "Epoch 348/1000\n",
      "2269/2269 [==============================] - 315s 139ms/step - loss: -11.1063\n",
      "Epoch 349/1000\n",
      "2269/2269 [==============================] - 320s 141ms/step - loss: -10.7475\n",
      "Epoch 350/1000\n",
      "2269/2269 [==============================] - 399s 176ms/step - loss: -11.5613 - val_loss: 0.5231\n",
      "Epoch 351/1000\n",
      "2269/2269 [==============================] - 333s 147ms/step - loss: -12.0804\n",
      "Epoch 352/1000\n",
      "2269/2269 [==============================] - 320s 141ms/step - loss: -12.0588\n",
      "Epoch 353/1000\n",
      "2269/2269 [==============================] - 327s 144ms/step - loss: -10.7540\n",
      "Epoch 354/1000\n",
      "2269/2269 [==============================] - 335s 148ms/step - loss: -10.6614\n",
      "Epoch 355/1000\n",
      "2269/2269 [==============================] - 344s 152ms/step - loss: -11.0852\n",
      "Epoch 356/1000\n",
      "2269/2269 [==============================] - 340s 150ms/step - loss: -9.4345\n",
      "Epoch 357/1000\n",
      "2269/2269 [==============================] - 336s 148ms/step - loss: -9.0885\n",
      "Epoch 358/1000\n",
      "2269/2269 [==============================] - 340s 150ms/step - loss: -12.1654\n",
      "Epoch 359/1000\n",
      "2269/2269 [==============================] - 341s 150ms/step - loss: -11.3099\n",
      "Epoch 360/1000\n",
      "2269/2269 [==============================] - 412s 181ms/step - loss: -12.1593 - val_loss: 1.9300\n",
      "Epoch 361/1000\n",
      "2269/2269 [==============================] - 327s 144ms/step - loss: -13.1006\n",
      "Epoch 362/1000\n",
      "2269/2269 [==============================] - 344s 152ms/step - loss: -10.2289\n",
      "Epoch 363/1000\n",
      "2269/2269 [==============================] - 338s 149ms/step - loss: -11.5715\n",
      "Epoch 364/1000\n",
      "2269/2269 [==============================] - 375s 165ms/step - loss: -10.7587s - l\n",
      "Epoch 365/1000\n",
      "2269/2269 [==============================] - 351s 155ms/step - loss: -11.1840\n",
      "Epoch 366/1000\n",
      "2269/2269 [==============================] - 386s 170ms/step - loss: -12.2259\n",
      "Epoch 367/1000\n",
      "2269/2269 [==============================] - 349s 154ms/step - loss: -11.0670\n",
      "Epoch 368/1000\n",
      "2269/2269 [==============================] - 335s 148ms/step - loss: -12.2054\n",
      "Epoch 369/1000\n",
      "2269/2269 [==============================] - 335s 148ms/step - loss: -12.7538\n",
      "Epoch 370/1000\n",
      "2269/2269 [==============================] - 407s 179ms/step - loss: -12.2000 - val_loss: 1.5698\n",
      "Epoch 371/1000\n",
      "2269/2269 [==============================] - 338s 149ms/step - loss: -11.2414\n",
      "Epoch 372/1000\n",
      "2269/2269 [==============================] - 338s 149ms/step - loss: -11.8212\n",
      "Epoch 373/1000\n",
      "2269/2269 [==============================] - 340s 150ms/step - loss: -11.8621\n",
      "Epoch 374/1000\n",
      "2269/2269 [==============================] - 337s 149ms/step - loss: -11.4377\n",
      "Epoch 375/1000\n",
      "2269/2269 [==============================] - 337s 148ms/step - loss: -11.1730\n",
      "Epoch 376/1000\n",
      "2269/2269 [==============================] - 342s 151ms/step - loss: -11.5928\n",
      "Epoch 377/1000\n",
      "2269/2269 [==============================] - 337s 149ms/step - loss: -12.9189\n",
      "Epoch 378/1000\n",
      "2269/2269 [==============================] - 341s 150ms/step - loss: -9.5985\n",
      "Epoch 379/1000\n",
      "2269/2269 [==============================] - 352s 155ms/step - loss: -11.3938\n",
      "Epoch 380/1000\n",
      "2269/2269 [==============================] - 450s 198ms/step - loss: -12.9666 - val_loss: 1.5914\n",
      "Epoch 381/1000\n",
      "2269/2269 [==============================] - 360s 159ms/step - loss: -11.5906\n",
      "Epoch 382/1000\n",
      "2269/2269 [==============================] - 345s 152ms/step - loss: -12.7285\n",
      "Epoch 383/1000\n",
      "2269/2269 [==============================] - 341s 150ms/step - loss: -12.2723\n",
      "Epoch 384/1000\n",
      "2269/2269 [==============================] - 348s 153ms/step - loss: -12.3885\n",
      "Epoch 385/1000\n",
      "2269/2269 [==============================] - 344s 152ms/step - loss: -12.6789\n",
      "Epoch 386/1000\n",
      "2269/2269 [==============================] - 358s 158ms/step - loss: -10.1084\n",
      "Epoch 387/1000\n",
      "2269/2269 [==============================] - 367s 162ms/step - loss: -10.5712\n",
      "Epoch 388/1000\n",
      "2269/2269 [==============================] - 361s 159ms/step - loss: -9.4412\n",
      "Epoch 389/1000\n",
      "2269/2269 [==============================] - 366s 161ms/step - loss: -12.3010\n",
      "Epoch 390/1000\n",
      "2269/2269 [==============================] - 439s 193ms/step - loss: -9.3113 - val_loss: 1.1457\n",
      "Epoch 391/1000\n",
      "2269/2269 [==============================] - 365s 161ms/step - loss: -10.2048\n",
      "Epoch 392/1000\n",
      "2269/2269 [==============================] - 366s 162ms/step - loss: -10.4075\n",
      "Epoch 393/1000\n",
      "2269/2269 [==============================] - 383s 169ms/step - loss: -12.1439\n",
      "Epoch 394/1000\n",
      "2269/2269 [==============================] - 377s 166ms/step - loss: -11.0818\n",
      "Epoch 395/1000\n",
      "2269/2269 [==============================] - 379s 167ms/step - loss: -10.8541\n",
      "Epoch 396/1000\n",
      "2269/2269 [==============================] - 382s 168ms/step - loss: -11.5839\n",
      "Epoch 397/1000\n",
      "2269/2269 [==============================] - 375s 165ms/step - loss: -11.1085\n",
      "Epoch 398/1000\n",
      "2269/2269 [==============================] - 389s 171ms/step - loss: -12.9459\n",
      "Epoch 399/1000\n",
      "2269/2269 [==============================] - 375s 165ms/step - loss: -12.1323\n",
      "Epoch 400/1000\n",
      "2269/2269 [==============================] - 475s 210ms/step - loss: -12.8692 - val_loss: 1.1504\n",
      "Epoch 401/1000\n",
      "2269/2269 [==============================] - 382s 168ms/step - loss: -10.2495\n",
      "Epoch 402/1000\n",
      "2269/2269 [==============================] - 363s 160ms/step - loss: -12.5385\n",
      "Epoch 403/1000\n",
      "2269/2269 [==============================] - 376s 166ms/step - loss: -12.7475\n",
      "Epoch 404/1000\n",
      "2269/2269 [==============================] - 397s 175ms/step - loss: -11.2139\n",
      "Epoch 405/1000\n",
      "2269/2269 [==============================] - 392s 173ms/step - loss: -11.9095\n",
      "Epoch 406/1000\n",
      "2269/2269 [==============================] - 388s 171ms/step - loss: -12.0020\n",
      "Epoch 407/1000\n",
      "2269/2269 [==============================] - 411s 181ms/step - loss: -13.6208\n",
      "Epoch 408/1000\n",
      "2269/2269 [==============================] - 377s 166ms/step - loss: -12.4035\n",
      "Epoch 409/1000\n",
      "2269/2269 [==============================] - 371s 163ms/step - loss: -12.3196\n",
      "Epoch 410/1000\n",
      "2269/2269 [==============================] - 452s 199ms/step - loss: -12.9745 - val_loss: 2.1226\n",
      "Epoch 411/1000\n",
      "2269/2269 [==============================] - 360s 159ms/step - loss: -12.3205\n",
      "Epoch 412/1000\n",
      "2269/2269 [==============================] - 360s 159ms/step - loss: -13.1925\n",
      "Epoch 413/1000\n",
      "2269/2269 [==============================] - 362s 160ms/step - loss: -10.9647\n",
      "Epoch 414/1000\n",
      "2269/2269 [==============================] - 363s 160ms/step - loss: -12.1003\n",
      "Epoch 415/1000\n",
      "2269/2269 [==============================] - 362s 160ms/step - loss: -11.7377\n",
      "Epoch 416/1000\n",
      "2269/2269 [==============================] - 365s 161ms/step - loss: -12.6931\n",
      "Epoch 417/1000\n",
      "2269/2269 [==============================] - 365s 161ms/step - loss: -12.1421\n",
      "Epoch 418/1000\n",
      "2269/2269 [==============================] - 371s 164ms/step - loss: -11.2896\n",
      "Epoch 419/1000\n",
      "2269/2269 [==============================] - 378s 166ms/step - loss: -12.6740\n",
      "Epoch 420/1000\n",
      "2269/2269 [==============================] - 454s 200ms/step - loss: -11.5857 - val_loss: 0.7123\n",
      "Epoch 421/1000\n",
      "2269/2269 [==============================] - 382s 168ms/step - loss: -13.1668\n",
      "Epoch 422/1000\n",
      "2269/2269 [==============================] - 383s 169ms/step - loss: -10.7212\n",
      "Epoch 423/1000\n",
      "2269/2269 [==============================] - 386s 170ms/step - loss: -12.6358\n",
      "Epoch 424/1000\n",
      "2269/2269 [==============================] - 405s 179ms/step - loss: -12.6835\n",
      "Epoch 425/1000\n",
      "2269/2269 [==============================] - 524s 231ms/step - loss: -12.2148\n",
      "Epoch 426/1000\n",
      "2269/2269 [==============================] - 476s 210ms/step - loss: -11.9663\n",
      "Epoch 427/1000\n",
      "2269/2269 [==============================] - 541s 238ms/step - loss: -13.4358\n",
      "Epoch 428/1000\n",
      "2269/2269 [==============================] - 558s 246ms/step - loss: -10.5779\n",
      "Epoch 429/1000\n",
      "2269/2269 [==============================] - 612s 270ms/step - loss: -11.7980\n",
      "Epoch 430/1000\n",
      "2269/2269 [==============================] - 713s 314ms/step - loss: -12.5752 - val_loss: 1.8762\n",
      "Epoch 431/1000\n",
      "2269/2269 [==============================] - 551s 243ms/step - loss: -13.0104\n",
      "Epoch 432/1000\n",
      "2269/2269 [==============================] - 595s 262ms/step - loss: -13.0454\n",
      "Epoch 433/1000\n",
      "2269/2269 [==============================] - 472s 208ms/step - loss: -13.8270\n",
      "Epoch 434/1000\n",
      "2269/2269 [==============================] - 484s 213ms/step - loss: -9.0328\n",
      "Epoch 435/1000\n",
      "2269/2269 [==============================] - 777s 343ms/step - loss: -12.4484\n",
      "Epoch 436/1000\n",
      "2269/2269 [==============================] - 1238s 546ms/step - loss: -11.1240\n",
      "Epoch 437/1000\n",
      "2269/2269 [==============================] - 1048s 462ms/step - loss: -10.9305\n",
      "Epoch 438/1000\n",
      "2269/2269 [==============================] - 1447s 638ms/step - loss: -12.6832\n",
      "Epoch 439/1000\n",
      "2269/2269 [==============================] - 1380s 608ms/step - loss: -13.3696\n",
      "Epoch 440/1000\n",
      "2269/2269 [==============================] - 1639s 722ms/step - loss: -11.2067 - val_loss: 0.0313\n",
      "Epoch 441/1000\n",
      "2269/2269 [==============================] - 1385s 610ms/step - loss: -12.5946\n",
      "Epoch 442/1000\n",
      "2269/2269 [==============================] - 1388s 612ms/step - loss: -12.2892\n",
      "Epoch 443/1000\n",
      "2269/2269 [==============================] - 1403s 618ms/step - loss: -13.3053\n",
      "Epoch 444/1000\n",
      "2269/2269 [==============================] - 1388s 612ms/step - loss: -12.5324\n",
      "Epoch 445/1000\n",
      "2269/2269 [==============================] - 1402s 618ms/step - loss: -13.2979\n",
      "Epoch 446/1000\n",
      "2269/2269 [==============================] - 1421s 626ms/step - loss: -12.7517\n",
      "Epoch 447/1000\n",
      "2269/2269 [==============================] - 1420s 626ms/step - loss: -11.1813\n",
      "Epoch 448/1000\n",
      "2269/2269 [==============================] - 1422s 627ms/step - loss: -13.2302\n",
      "Epoch 449/1000\n",
      "2269/2269 [==============================] - 1430s 630ms/step - loss: -10.4547\n",
      "Epoch 450/1000\n",
      "2269/2269 [==============================] - 1695s 747ms/step - loss: -14.5297 - val_loss: 1.3546\n",
      "Epoch 451/1000\n",
      "2269/2269 [==============================] - 1437s 634ms/step - loss: -12.8109\n",
      "Epoch 452/1000\n",
      "2269/2269 [==============================] - 1450s 639ms/step - loss: -13.4952\n",
      "Epoch 453/1000\n",
      "2269/2269 [==============================] - 1461s 644ms/step - loss: -13.0292\n",
      "Epoch 454/1000\n",
      "2269/2269 [==============================] - 1493s 658ms/step - loss: -13.4663\n",
      "Epoch 455/1000\n",
      "2269/2269 [==============================] - 1473s 649ms/step - loss: -12.9531\n",
      "Epoch 456/1000\n",
      "2269/2269 [==============================] - 1468s 647ms/step - loss: -11.7015\n",
      "Epoch 457/1000\n",
      "2269/2269 [==============================] - 1416s 624ms/step - loss: -13.0276\n",
      "Epoch 458/1000\n",
      "2269/2269 [==============================] - 1371s 604ms/step - loss: -13.5668\n",
      "Epoch 459/1000\n",
      "2269/2269 [==============================] - 1371s 604ms/step - loss: -12.7695\n",
      "Epoch 460/1000\n",
      "2269/2269 [==============================] - 1606s 708ms/step - loss: -13.1764 - val_loss: 2.1193\n",
      "Epoch 461/1000\n",
      "2269/2269 [==============================] - 1365s 602ms/step - loss: -12.3699\n",
      "Epoch 462/1000\n",
      "2269/2269 [==============================] - 1372s 604ms/step - loss: -13.1288\n",
      "Epoch 463/1000\n",
      "2269/2269 [==============================] - 1381s 609ms/step - loss: -13.6781\n",
      "Epoch 464/1000\n",
      "2269/2269 [==============================] - 1382s 609ms/step - loss: -13.3576\n",
      "Epoch 465/1000\n",
      "2269/2269 [==============================] - 1396s 615ms/step - loss: -12.1382\n",
      "Epoch 466/1000\n",
      "2269/2269 [==============================] - 1395s 615ms/step - loss: -12.8884\n",
      "Epoch 467/1000\n",
      "2269/2269 [==============================] - 1398s 616ms/step - loss: -13.4796\n",
      "Epoch 468/1000\n",
      "2269/2269 [==============================] - 1397s 615ms/step - loss: -14.2785\n",
      "Epoch 469/1000\n",
      "2269/2269 [==============================] - 1509s 665ms/step - loss: -13.6277\n",
      "Epoch 470/1000\n",
      "2269/2269 [==============================] - 1366s 602ms/step - loss: -14.3412 - val_loss: 0.8093\n",
      "Epoch 471/1000\n",
      "2269/2269 [==============================] - 623s 274ms/step - loss: -11.8605\n",
      "Epoch 472/1000\n",
      "2269/2269 [==============================] - 655s 289ms/step - loss: -12.4997\n",
      "Epoch 473/1000\n",
      "2269/2269 [==============================] - 866s 382ms/step - loss: -12.1645\n",
      "Epoch 474/1000\n",
      "2269/2269 [==============================] - 1161s 512ms/step - loss: -13.6673\n",
      "Epoch 475/1000\n",
      "2269/2269 [==============================] - 1089s 480ms/step - loss: -11.5406\n",
      "Epoch 476/1000\n",
      "2269/2269 [==============================] - 1133s 499ms/step - loss: -13.3401\n",
      "Epoch 477/1000\n",
      "2269/2269 [==============================] - 1157s 510ms/step - loss: -13.3873\n",
      "Epoch 478/1000\n",
      "2269/2269 [==============================] - 1089s 480ms/step - loss: -12.1063\n",
      "Epoch 479/1000\n",
      "2269/2269 [==============================] - 885s 390ms/step - loss: -10.5962\n",
      "Epoch 480/1000\n",
      "2269/2269 [==============================] - 1143s 504ms/step - loss: -14.5607 - val_loss: 0.2655\n",
      "Epoch 481/1000\n",
      "2269/2269 [==============================] - 867s 382ms/step - loss: -13.4715\n",
      "Epoch 482/1000\n",
      "2269/2269 [==============================] - 875s 386ms/step - loss: -14.6140\n",
      "Epoch 483/1000\n",
      "2269/2269 [==============================] - 868s 383ms/step - loss: -14.1431\n",
      "Epoch 484/1000\n",
      "2269/2269 [==============================] - 869s 383ms/step - loss: -11.7297\n",
      "Epoch 485/1000\n",
      "2269/2269 [==============================] - 893s 394ms/step - loss: -13.2904\n",
      "Epoch 486/1000\n",
      "2269/2269 [==============================] - 876s 386ms/step - loss: -13.3166\n",
      "Epoch 487/1000\n",
      "2269/2269 [==============================] - 872s 384ms/step - loss: -12.7380\n",
      "Epoch 488/1000\n",
      "2269/2269 [==============================] - 878s 387ms/step - loss: -14.3030\n",
      "Epoch 489/1000\n",
      "2269/2269 [==============================] - 885s 390ms/step - loss: -13.3667\n",
      "Epoch 490/1000\n",
      "2269/2269 [==============================] - 1241s 547ms/step - loss: -11.6927 - val_loss: 2.1066\n",
      "Epoch 491/1000\n",
      "2269/2269 [==============================] - 863s 380ms/step - loss: -13.8577\n",
      "Epoch 492/1000\n",
      "2269/2269 [==============================] - 854s 376ms/step - loss: -12.4845\n",
      "Epoch 493/1000\n",
      "2269/2269 [==============================] - 854s 376ms/step - loss: -12.0233\n",
      "Epoch 494/1000\n",
      "2269/2269 [==============================] - 872s 384ms/step - loss: -13.0037\n",
      "Epoch 495/1000\n",
      "2269/2269 [==============================] - 857s 378ms/step - loss: -12.2904\n",
      "Epoch 496/1000\n",
      "2269/2269 [==============================] - 885s 390ms/step - loss: -11.8537\n",
      "Epoch 497/1000\n",
      "2269/2269 [==============================] - 913s 402ms/step - loss: -11.1666\n",
      "Epoch 498/1000\n",
      "2269/2269 [==============================] - 861s 379ms/step - loss: -11.7743\n",
      "Epoch 499/1000\n",
      "2269/2269 [==============================] - 1938s 854ms/step - loss: -12.2174\n",
      "Epoch 500/1000\n",
      "2269/2269 [==============================] - 2663s 1s/step - loss: -14.2526 - val_loss: 2.2371\n",
      "Epoch 501/1000\n",
      "2269/2269 [==============================] - 1971s 868ms/step - loss: -11.1917\n",
      "Epoch 502/1000\n",
      "2269/2269 [==============================] - 1985s 875ms/step - loss: -12.5084\n",
      "Epoch 503/1000\n",
      "2269/2269 [==============================] - 1947s 858ms/step - loss: -13.4236\n",
      "Epoch 504/1000\n",
      "2269/2269 [==============================] - 1983s 874ms/step - loss: -11.6832\n",
      "Epoch 505/1000\n",
      "2269/2269 [==============================] - 1967s 867ms/step - loss: -10.8544\n",
      "Epoch 506/1000\n",
      "2269/2269 [==============================] - 1980s 873ms/step - loss: -10.9563\n",
      "Epoch 507/1000\n",
      "2269/2269 [==============================] - 2050s 903ms/step - loss: -12.7017\n",
      "Epoch 508/1000\n",
      "2269/2269 [==============================] - 2072s 913ms/step - loss: -11.4146\n",
      "Epoch 509/1000\n",
      "2269/2269 [==============================] - 2084s 918ms/step - loss: -12.7303\n",
      "Epoch 510/1000\n",
      "2269/2269 [==============================] - 1353s 596ms/step - loss: -12.0496 - val_loss: 2.1164\n",
      "Epoch 511/1000\n",
      "2269/2269 [==============================] - 1972s 869ms/step - loss: -12.4388\n",
      "Epoch 512/1000\n",
      "2269/2269 [==============================] - 1185s 522ms/step - loss: -12.5906\n",
      "Epoch 513/1000\n",
      "2269/2269 [==============================] - 1103s 486ms/step - loss: -13.3478\n",
      "Epoch 514/1000\n",
      "2269/2269 [==============================] - 1111s 490ms/step - loss: -11.5001\n",
      "Epoch 515/1000\n",
      "2269/2269 [==============================] - 1121s 494ms/step - loss: -12.3929\n",
      "Epoch 516/1000\n",
      "2269/2269 [==============================] - 1123s 495ms/step - loss: -13.3166\n",
      "Epoch 517/1000\n",
      "2269/2269 [==============================] - 1129s 498ms/step - loss: -12.7217\n",
      "Epoch 518/1000\n"
     ]
    },
    {
     "name": "stdout",
     "output_type": "stream",
     "text": [
      "2269/2269 [==============================] - 1129s 498ms/step - loss: -12.9039\n",
      "Epoch 519/1000\n",
      "2269/2269 [==============================] - 1132s 499ms/step - loss: -11.4298\n",
      "Epoch 520/1000\n",
      "2269/2269 [==============================] - 1328s 585ms/step - loss: -13.9421 - val_loss: 2.4291\n",
      "Epoch 521/1000\n",
      "2269/2269 [==============================] - 1143s 504ms/step - loss: -14.0489\n",
      "Epoch 522/1000\n",
      "2269/2269 [==============================] - 1156s 510ms/step - loss: -14.2832\n",
      "Epoch 523/1000\n",
      "2269/2269 [==============================] - 1165s 514ms/step - loss: -14.2383\n",
      "Epoch 524/1000\n",
      "2269/2269 [==============================] - 1178s 519ms/step - loss: -12.6856\n",
      "Epoch 525/1000\n",
      "2269/2269 [==============================] - 1203s 530ms/step - loss: -14.9050\n",
      "Epoch 526/1000\n",
      "2269/2269 [==============================] - 1205s 531ms/step - loss: -13.7438\n",
      "Epoch 527/1000\n",
      "2269/2269 [==============================] - 1218s 537ms/step - loss: -9.6828\n",
      "Epoch 528/1000\n",
      "2269/2269 [==============================] - 1213s 535ms/step - loss: -12.3746\n",
      "Epoch 529/1000\n",
      "2269/2269 [==============================] - 1194s 526ms/step - loss: -12.0261\n",
      "Epoch 530/1000\n",
      "2269/2269 [==============================] - 1400s 617ms/step - loss: -12.7569 - val_loss: 1.1506\n",
      "Epoch 531/1000\n",
      "2269/2269 [==============================] - 1283s 566ms/step - loss: -14.8740\n",
      "Epoch 532/1000\n",
      "2269/2269 [==============================] - 1269s 559ms/step - loss: -12.4580\n",
      "Epoch 533/1000\n",
      "2269/2269 [==============================] - 1261s 556ms/step - loss: -14.0224\n",
      "Epoch 534/1000\n",
      "2269/2269 [==============================] - 1263s 556ms/step - loss: -14.1716\n",
      "Epoch 535/1000\n",
      "2269/2269 [==============================] - 1266s 558ms/step - loss: -13.7075\n",
      "Epoch 536/1000\n",
      "2269/2269 [==============================] - 1271s 560ms/step - loss: -14.6789\n",
      "Epoch 537/1000\n",
      "2269/2269 [==============================] - 1257s 554ms/step - loss: -14.1934\n",
      "Epoch 538/1000\n",
      "2269/2269 [==============================] - 1271s 560ms/step - loss: -14.0910\n",
      "Epoch 539/1000\n",
      "2269/2269 [==============================] - 1263s 557ms/step - loss: -13.7166\n",
      "Epoch 540/1000\n",
      "2269/2269 [==============================] - 1589s 700ms/step - loss: -14.8598 - val_loss: 1.1893\n",
      "Epoch 541/1000\n",
      "2269/2269 [==============================] - 1293s 570ms/step - loss: -12.9313\n",
      "Epoch 542/1000\n",
      "2269/2269 [==============================] - 1294s 570ms/step - loss: -11.6598\n",
      "Epoch 543/1000\n",
      "2269/2269 [==============================] - 1197s 527ms/step - loss: -13.3835\n",
      "Epoch 544/1000\n",
      "2269/2269 [==============================] - 777s 343ms/step - loss: -13.9624\n",
      "Epoch 545/1000\n",
      "2269/2269 [==============================] - 1363s 601ms/step - loss: -13.2828\n",
      "Epoch 546/1000\n",
      "2269/2269 [==============================] - 2121s 935ms/step - loss: -13.9981\n",
      "Epoch 547/1000\n",
      "2269/2269 [==============================] - 1480s 652ms/step - loss: -13.0693\n",
      "Epoch 548/1000\n",
      "  11/2269 [..............................] - ETA: 10:41 - loss: -21.1087"
     ]
    }
   ],
   "source": [
    "history = model.fit(inputs_train[:-buffer], np.array([[0, i] for i in range(len(train)-buffer)]), \n",
    "                    validation_data=(inputs_test[:-buffer], np.array([[1, i] for i in range(len(test)-buffer)])),\n",
    "                    epochs=1000, shuffle=False,\n",
    "                    batch_size=batch_size,\n",
    "#                     callbacks=[ival],\n",
    "                   use_multiprocessing=True, verbose=1, \n",
    "                    validation_freq=10,\n",
    "                    workers=32,\n",
    "                   initial_epoch=345,\n",
    "                   )"
   ]
  },
  {
   "cell_type": "code",
   "execution_count": 56,
   "id": "square-updating",
   "metadata": {},
   "outputs": [
    {
     "name": "stderr",
     "output_type": "stream",
     "text": [
      "WARNING:absl:Found untraced functions such as lstm_cell_layer_call_fn, lstm_cell_layer_call_and_return_conditional_losses, lstm_cell_layer_call_fn, lstm_cell_layer_call_and_return_conditional_losses, lstm_cell_layer_call_and_return_conditional_losses while saving (showing 5 of 5). These functions will not be directly callable after loading.\n",
      "WARNING:absl:Found untraced functions such as lstm_cell_layer_call_fn, lstm_cell_layer_call_and_return_conditional_losses, lstm_cell_layer_call_fn, lstm_cell_layer_call_and_return_conditional_losses, lstm_cell_layer_call_and_return_conditional_losses while saving (showing 5 of 5). These functions will not be directly callable after loading.\n"
     ]
    },
    {
     "name": "stdout",
     "output_type": "stream",
     "text": [
      "INFO:tensorflow:Assets written to: sharpe_model\\assets\n"
     ]
    },
    {
     "name": "stderr",
     "output_type": "stream",
     "text": [
      "INFO:tensorflow:Assets written to: sharpe_model\\assets\n"
     ]
    }
   ],
   "source": [
    "model.save('sharpe_model')"
   ]
  },
  {
   "cell_type": "code",
   "execution_count": 28,
   "id": "classified-mineral",
   "metadata": {},
   "outputs": [],
   "source": [
    "y_preds = {'train': model.predict(inputs_train[:-buffer]), 'test': model.predict(inputs_test[:-buffer])}"
   ]
  },
  {
   "cell_type": "code",
   "execution_count": 34,
   "id": "given-collar",
   "metadata": {},
   "outputs": [],
   "source": [
    "profits = {'train': get_profit(df[0], y_preds['train'], 0), 'test': get_profit(df[1], y_preds['test'], 0)}"
   ]
  },
  {
   "cell_type": "code",
   "execution_count": 39,
   "id": "demonstrated-investing",
   "metadata": {},
   "outputs": [],
   "source": [
    "temp = {'train': train.iloc[:-buffer-1].copy(), 'test': test.iloc[:-buffer-1].copy()}\n",
    "temp['train']['profit'] = profits['train']\n",
    "temp['test']['profit'] = profits['test']"
   ]
  },
  {
   "cell_type": "code",
   "execution_count": 40,
   "id": "corrected-detector",
   "metadata": {},
   "outputs": [
    {
     "data": {
      "text/plain": [
       "<AxesSubplot:>"
      ]
     },
     "execution_count": 40,
     "metadata": {},
     "output_type": "execute_result"
    },
    {
     "data": {
      "image/png": "[encoded data removed]",
      "text/plain": [
       "<Figure size 432x288 with 1 Axes>"
      ]
     },
     "metadata": {
      "needs_background": "light"
     },
     "output_type": "display_data"
    }
   ],
   "source": [
    "temp['train']['profit'].plot()"
   ]
  },
  {
   "cell_type": "code",
   "execution_count": 49,
   "id": "thick-immune",
   "metadata": {},
   "outputs": [
    {
     "data": {
      "text/plain": [
       "<AxesSubplot:>"
      ]
     },
     "execution_count": 49,
     "metadata": {},
     "output_type": "execute_result"
    },
    {
     "data": {
      "image/png": "[encoded data removed]",
      "text/plain": [
       "<Figure size 432x288 with 1 Axes>"
      ]
     },
     "metadata": {
      "needs_background": "light"
     },
     "output_type": "display_data"
    }
   ],
   "source": [
    "temp['test']['profit'].plot()"
   ]
  },
  {
   "cell_type": "code",
   "execution_count": 41,
   "id": "careful-willow",
   "metadata": {},
   "outputs": [
    {
     "data": {
      "text/plain": [
       "<AxesSubplot:>"
      ]
     },
     "execution_count": 41,
     "metadata": {},
     "output_type": "execute_result"
    },
    {
     "data": {
      "image/png": "[encoded data removed]",
      "text/plain": [
       "<Figure size 432x288 with 1 Axes>"
      ]
     },
     "metadata": {
      "needs_background": "light"
     },
     "output_type": "display_data"
    }
   ],
   "source": [
    "temp['train']['profit'].cumsum().plot()"
   ]
  },
  {
   "cell_type": "code",
   "execution_count": 50,
   "id": "extra-tobacco",
   "metadata": {},
   "outputs": [
    {
     "data": {
      "text/plain": [
       "<AxesSubplot:>"
      ]
     },
     "execution_count": 50,
     "metadata": {},
     "output_type": "execute_result"
    },
    {
     "data": {
      "image/png": "[encoded data removed]",
      "text/plain": [
       "<Figure size 432x288 with 1 Axes>"
      ]
     },
     "metadata": {
      "needs_background": "light"
     },
     "output_type": "display_data"
    }
   ],
   "source": [
    "temp['test']['profit'].cumsum().plot()"
   ]
  },
  {
   "cell_type": "code",
   "execution_count": 42,
   "id": "technological-patrol",
   "metadata": {},
   "outputs": [
    {
     "data": {
      "text/plain": [
       "-997.9355622927155"
      ]
     },
     "execution_count": 42,
     "metadata": {},
     "output_type": "execute_result"
    }
   ],
   "source": [
    "sum(profits['train'])"
   ]
  },
  {
   "cell_type": "code",
   "execution_count": 51,
   "id": "dominant-significance",
   "metadata": {},
   "outputs": [
    {
     "data": {
      "text/plain": [
       "-840.6174946462096"
      ]
     },
     "execution_count": 51,
     "metadata": {},
     "output_type": "execute_result"
    }
   ],
   "source": [
    "sum(profits['test'])"
   ]
  },
  {
   "cell_type": "code",
   "execution_count": 44,
   "id": "younger-invitation",
   "metadata": {},
   "outputs": [
    {
     "data": {
      "text/plain": [
       "-0.02514046842778499"
      ]
     },
     "execution_count": 44,
     "metadata": {},
     "output_type": "execute_result"
    }
   ],
   "source": [
    "(252 ** 0.5) * np.mean(profits['train']) / np.std(profits['train'])"
   ]
  },
  {
   "cell_type": "code",
   "execution_count": 52,
   "id": "accepting-differential",
   "metadata": {},
   "outputs": [
    {
     "data": {
      "text/plain": [
       "-0.10683909062753291"
      ]
     },
     "execution_count": 52,
     "metadata": {},
     "output_type": "execute_result"
    }
   ],
   "source": [
    "(252 ** 0.5) * np.mean(profits['test']) / np.std(profits['test'])"
   ]
  },
  {
   "cell_type": "code",
   "execution_count": null,
   "id": "handed-forum",
   "metadata": {},
   "outputs": [],
   "source": []
  }
 ],
 "metadata": {
  "kernelspec": {
   "display_name": "Python 3",
   "language": "python",
   "name": "python3"
  },
  "language_info": {
   "codemirror_mode": {
    "name": "ipython",
    "version": 3
   },
   "file_extension": ".py",
   "mimetype": "text/x-python",
   "name": "python",
   "nbconvert_exporter": "python",
   "pygments_lexer": "ipython3",
   "version": "3.6.8"
  }
 },
 "nbformat": 4,
 "nbformat_minor": 5
}
