{
 "cells": [
  {
   "cell_type": "code",
   "execution_count": 1,
   "id": "bc3aafa9",
   "metadata": {},
   "outputs": [],
   "source": [
    "# import os\n",
    "# os.environ[\"CUDA_VISIBLE_DEVICES\"] = \"-1\""
   ]
  },
  {
   "cell_type": "code",
   "execution_count": 1,
   "id": "deed5985",
   "metadata": {},
   "outputs": [
    {
     "name": "stdout",
     "output_type": "stream",
     "text": [
      "1 Physical GPUs, 1 Logical GPUs\n"
     ]
    }
   ],
   "source": [
    "import tensorflow as tf\n",
    "gpus = tf.config.experimental.list_physical_devices('GPU')\n",
    "if gpus:\n",
    "  # Restrict TensorFlow to only allocate 4GB of memory on the first GPU\n",
    "  try:\n",
    "    tf.config.experimental.set_virtual_device_configuration(\n",
    "        gpus[0],\n",
    "        [tf.config.experimental.VirtualDeviceConfiguration(memory_limit=4096)])\n",
    "    logical_gpus = tf.config.experimental.list_logical_devices('GPU')\n",
    "    print(len(gpus), \"Physical GPUs,\", len(logical_gpus), \"Logical GPUs\")\n",
    "  except RuntimeError as e:\n",
    "    # Virtual devices must be set before GPUs have been initialized\n",
    "    print(e)"
   ]
  },
  {
   "cell_type": "code",
   "execution_count": 1,
   "metadata": {},
   "outputs": [],
   "source": [
    "import os\n",
    "os.environ['TF_FORCE_GPU_ALLOW_GROWTH'] = 'true'"
   ]
  },
  {
   "cell_type": "code",
   "execution_count": 2,
   "metadata": {},
   "outputs": [],
   "source": [
    "import tensorflow as tf\n",
    "\n",
    "config = tf.ConfigProto()\n",
    "config.gpu_options.allow_growth = True\n",
    "tf.keras.backend.set_session(tf.Session(config=config))"
   ]
  },
  {
   "cell_type": "code",
   "execution_count": 2,
   "id": "bc2ba2c0",
   "metadata": {},
   "outputs": [
    {
     "data": {
      "text/plain": [
       "[PhysicalDevice(name='/physical_device:GPU:0', device_type='GPU')]"
      ]
     },
     "execution_count": 2,
     "metadata": {},
     "output_type": "execute_result"
    }
   ],
   "source": [
    "gpus"
   ]
  },
  {
   "cell_type": "code",
   "execution_count": 1,
   "id": "106afdb9",
   "metadata": {},
   "outputs": [],
   "source": [
    "import tensorflow as tf\n",
    "\n",
    "from tensorflow.keras import datasets, models, optimizers\n",
    "from tensorflow.keras.layers import TimeDistributed, Conv2D, Flatten, Dense, LSTM, ConvLSTM2D, MaxPool2D, Dropout, Conv1D, Activation, MaxPooling1D\n",
    "import matplotlib.pyplot as plt\n",
    "\n",
    "import numpy as np \n",
    "import pandas as pd"
   ]
  },
  {
   "cell_type": "code",
   "execution_count": 2,
   "id": "db33269f",
   "metadata": {},
   "outputs": [
    {
     "data": {
      "text/plain": [
       "'1.15.2'"
      ]
     },
     "execution_count": 2,
     "metadata": {},
     "output_type": "execute_result"
    }
   ],
   "source": [
    "tf.__version__"
   ]
  },
  {
   "cell_type": "code",
   "execution_count": 3,
   "metadata": {},
   "outputs": [
    {
     "data": {
      "text/plain": [
       "True"
      ]
     },
     "execution_count": 3,
     "metadata": {},
     "output_type": "execute_result"
    }
   ],
   "source": [
    " tf.test.is_gpu_available()"
   ]
  },
  {
   "cell_type": "code",
   "execution_count": 4,
   "id": "c6b3f7ee",
   "metadata": {},
   "outputs": [
    {
     "data": {
      "text/plain": [
       "True"
      ]
     },
     "execution_count": 4,
     "metadata": {},
     "output_type": "execute_result"
    }
   ],
   "source": [
    "tf.test.is_built_with_cuda()"
   ]
  },
  {
   "cell_type": "code",
   "execution_count": 5,
   "id": "8a1a7683",
   "metadata": {},
   "outputs": [],
   "source": [
    "window_size = 12*60"
   ]
  },
  {
   "cell_type": "code",
   "execution_count": 6,
   "id": "d3fb9ce9",
   "metadata": {},
   "outputs": [],
   "source": [
    "train = pd.read_csv('train_timeframes3.csv').iloc[window_size-1:]\n",
    "test = pd.read_csv('test_timeframes3.csv').iloc[window_size-1:]"
   ]
  },
  {
   "cell_type": "code",
   "execution_count": 7,
   "metadata": {},
   "outputs": [],
   "source": [
    "train = train.reset_index(drop=True)\n",
    "test = test.reset_index(drop=True)"
   ]
  },
  {
   "cell_type": "code",
   "execution_count": 8,
   "metadata": {},
   "outputs": [],
   "source": [
    "train = train[train['time'].str[3:5] == '00']\n",
    "test = test[test['time'].str[3:5] == '00']"
   ]
  },
  {
   "cell_type": "code",
   "execution_count": 8,
   "metadata": {},
   "outputs": [],
   "source": [
    "inputs_train = []\n",
    "for idx in train.index:\n",
    "    inputs_train.append(np.load('inputs_train/' + str(idx) + '.npy'))\n",
    "inputs_train = np.array(inputs_train)"
   ]
  },
  {
   "cell_type": "code",
   "execution_count": 9,
   "metadata": {},
   "outputs": [],
   "source": [
    "inputs_test = []\n",
    "for idx in test.index:\n",
    "    inputs_test.append(np.load('inputs_test/' + str(idx) + '.npy'))\n",
    "inputs_test = np.array(inputs_test)"
   ]
  },
  {
   "cell_type": "code",
   "execution_count": 8,
   "metadata": {},
   "outputs": [],
   "source": [
    "inputs_train = np.load(f\"inputs_train_{window_size}.npy\")\n",
    "inputs_test = np.load(f\"inputs_test_{window_size}.npy\")"
   ]
  },
  {
   "cell_type": "code",
   "execution_count": 33,
   "metadata": {},
   "outputs": [],
   "source": [
    "np.save(f\"inputs_train_{window_size}.npy\", inputs_train)\n",
    "np.save(f\"inputs_test_{window_size}.npy\", inputs_test)"
   ]
  },
  {
   "cell_type": "code",
   "execution_count": 9,
   "id": "40941180",
   "metadata": {},
   "outputs": [],
   "source": [
    "df = [train, test]"
   ]
  },
  {
   "cell_type": "code",
   "execution_count": 10,
   "id": "7c382044",
   "metadata": {},
   "outputs": [],
   "source": [
    "img = inputs_train[0,:,:]"
   ]
  },
  {
   "cell_type": "code",
   "execution_count": 11,
   "id": "187a2689",
   "metadata": {},
   "outputs": [
    {
     "data": {
      "text/plain": [
       "(720, 5)"
      ]
     },
     "execution_count": 11,
     "metadata": {},
     "output_type": "execute_result"
    }
   ],
   "source": [
    "img.shape"
   ]
  },
  {
   "cell_type": "code",
   "execution_count": 12,
   "id": "60e413db",
   "metadata": {},
   "outputs": [
    {
     "data": {
      "text/plain": [
       "((939421, 720, 5), (939421, 9))"
      ]
     },
     "execution_count": 12,
     "metadata": {},
     "output_type": "execute_result"
    }
   ],
   "source": [
    "inputs_train.shape, train.shape"
   ]
  },
  {
   "cell_type": "code",
   "execution_count": 13,
   "id": "3bd587f0",
   "metadata": {},
   "outputs": [
    {
     "data": {
      "text/plain": [
       "((71367, 720, 5), (71367, 9))"
      ]
     },
     "execution_count": 13,
     "metadata": {},
     "output_type": "execute_result"
    }
   ],
   "source": [
    "inputs_test.shape, test.shape"
   ]
  },
  {
   "cell_type": "code",
   "execution_count": 14,
   "id": "b19933fc",
   "metadata": {},
   "outputs": [],
   "source": [
    "margin_size = 50\n",
    "time_limit = 60"
   ]
  },
  {
   "cell_type": "code",
   "execution_count": 15,
   "id": "7f532f19",
   "metadata": {},
   "outputs": [
    {
     "name": "stdout",
     "output_type": "stream",
     "text": [
      "WARNING:tensorflow:From c:\\program files\\python36\\lib\\site-packages\\tensorflow_core\\python\\ops\\resource_variable_ops.py:1630: calling BaseResourceVariable.__init__ (from tensorflow.python.ops.resource_variable_ops) with constraint is deprecated and will be removed in a future version.\n",
      "Instructions for updating:\n",
      "If using Keras pass *_constraint arguments to layers.\n"
     ]
    }
   ],
   "source": [
    "def get_model():\n",
    "    model = models.Sequential()\n",
    "    # model.add(LSTM(64, input_shape = img.shape, return_sequences=True, dropout=0.2))\n",
    "    model.add(LSTM(32, dropout=0.5, input_shape=img.shape))\n",
    "    # model.add(LSTM(32, dropout=0.2))\n",
    "    model.add(Dense(1, activation = \"tanh\"))\n",
    "    return model\n",
    "\n",
    "model = get_model()"
   ]
  },
  {
   "cell_type": "code",
   "execution_count": 88,
   "metadata": {
    "scrolled": true
   },
   "outputs": [],
   "source": [
    "n_features = 5\n",
    "n_seq = 12\n",
    "n_steps = 60\n",
    "batch_size=512\n",
    "X = inputs_train.reshape((inputs_train.shape[0], n_seq, n_steps, n_features, 1))\n",
    "def get_model():\n",
    "    model = models.Sequential()\n",
    "    model.add(ConvLSTM2D(filters=32, kernel_size=(5,1), activation='relu', input_shape=(n_seq, n_steps, n_features, 1), dropout=0.5))\n",
    "    model.add(Flatten())\n",
    "    model.add(Dense(1, activation=\"tanh\"))\n",
    "#     model = models.Sequential()\n",
    "#     model.add(TimeDistributed(Conv1D(filters=64, kernel_size=1, activation='relu'), input_shape=(None, n_steps, n_features)))\n",
    "#     model.add(TimeDistributed(MaxPooling1D(pool_size=2)))\n",
    "#     model.add(TimeDistributed(Flatten()))\n",
    "#     model.add(LSTM(50, activation='relu'))\n",
    "#     model.add(Dense(1))\n",
    "    return model\n",
    "    \n",
    "model = get_model()\n",
    "model.compile(\n",
    "    optimizer=optimizers.Adam(learning_rate=0.0001, clipnorm=1),\n",
    "    loss=custom_loss_wrapper(idx, stop_limit, price_limit, margin_size),\n",
    "    metrics=[meanm, minm, maxm],\n",
    "    run_eagerly=False\n",
    ")"
   ]
  },
  {
   "cell_type": "code",
   "execution_count": null,
   "metadata": {
    "scrolled": true
   },
   "outputs": [
    {
     "name": "stdout",
     "output_type": "stream",
     "text": [
      "Train on 939008 samples, validate on 71307 samples\n",
      "Epoch 1/10000\n",
      "939008/939008 [==============================] - 1020s 1ms/sample - loss: 0.3690 - meanm: 0.0061 - minm: -0.2475 - maxm: 0.2565 - val_loss: 0.4209 - val_meanm: 0.1607 - val_minm: -0.2756 - val_maxm: 0.6131\n",
      "Epoch 2/10000\n",
      "939008/939008 [==============================] - 937s 998us/sample - loss: 0.3226 - meanm: -0.0014 - minm: -0.2940 - maxm: 0.3145 - val_loss: 0.4167 - val_meanm: 0.2115 - val_minm: -0.3073 - val_maxm: 0.7684\n",
      "Epoch 3/10000\n",
      "939008/939008 [==============================] - 1109s 1ms/sample - loss: 0.3008 - meanm: -0.0074 - minm: -0.3220 - maxm: 0.3572 - val_loss: 0.4101 - val_meanm: 0.1899 - val_minm: -0.3531 - val_maxm: 0.8276\n",
      "Epoch 4/10000\n",
      "939008/939008 [==============================] - 1142s 1ms/sample - loss: 0.2918 - meanm: -0.0090 - minm: -0.3359 - maxm: 0.3857 - val_loss: 0.4078 - val_meanm: 0.1888 - val_minm: -0.3526 - val_maxm: 0.8688\n",
      "Epoch 5/10000\n",
      "939008/939008 [==============================] - 861s 917us/sample - loss: 0.2851 - meanm: -0.0085 - minm: -0.3394 - maxm: 0.4041 - val_loss: 0.4092 - val_meanm: 0.1931 - val_minm: -0.3069 - val_maxm: 0.8895\n",
      "Epoch 6/10000\n",
      "939008/939008 [==============================] - 1028s 1ms/sample - loss: 0.2747 - meanm: -0.0032 - minm: -0.3343 - maxm: 0.4103 - val_loss: 0.4081 - val_meanm: 0.1612 - val_minm: -0.3017 - val_maxm: 0.8833\n",
      "Epoch 7/10000\n",
      "939008/939008 [==============================] - 1012s 1ms/sample - loss: 0.2688 - meanm: 0.0067 - minm: -0.3342 - maxm: 0.4342 - val_loss: 0.4109 - val_meanm: 0.1769 - val_minm: -0.2632 - val_maxm: 0.9060\n",
      "Epoch 8/10000\n",
      "939008/939008 [==============================] - 1124s 1ms/sample - loss: 0.2559 - meanm: 0.0138 - minm: -0.3366 - maxm: 0.4528 - val_loss: 0.4100 - val_meanm: 0.1377 - val_minm: -0.2901 - val_maxm: 0.8989\n",
      "Epoch 9/10000\n",
      "939008/939008 [==============================] - 1050s 1ms/sample - loss: 0.2444 - meanm: 0.0148 - minm: -0.3326 - maxm: 0.4451 - val_loss: 0.4086 - val_meanm: 0.1171 - val_minm: -0.3010 - val_maxm: 0.8771\n",
      "Epoch 10/10000\n",
      "939008/939008 [==============================] - 1102s 1ms/sample - loss: 0.2378 - meanm: 0.0308 - minm: -0.3212 - maxm: 0.4667 - val_loss: 0.4139 - val_meanm: 0.0842 - val_minm: -0.3280 - val_maxm: 0.8581\n",
      "Epoch 11/10000\n",
      "939008/939008 [==============================] - 966s 1ms/sample - loss: 0.2216 - meanm: 0.0327 - minm: -0.3228 - maxm: 0.4700 - val_loss: 0.4138 - val_meanm: 0.0693 - val_minm: -0.3439 - val_maxm: 0.8064\n",
      "Epoch 12/10000\n",
      "939008/939008 [==============================] - 701s 746us/sample - loss: 0.2078 - meanm: 0.0319 - minm: -0.3293 - maxm: 0.4677 - val_loss: 0.4098 - val_meanm: 0.0527 - val_minm: -0.3654 - val_maxm: 0.7341\n",
      "Epoch 13/10000\n",
      "939008/939008 [==============================] - 706s 751us/sample - loss: 0.1999 - meanm: 0.0321 - minm: -0.3268 - maxm: 0.4610 - val_loss: 0.3903 - val_meanm: 0.0687 - val_minm: -0.3250 - val_maxm: 0.7716\n",
      "Epoch 14/10000\n",
      "939008/939008 [==============================] - 707s 753us/sample - loss: 0.1936 - meanm: 0.0299 - minm: -0.3253 - maxm: 0.4539 - val_loss: 0.3912 - val_meanm: 0.0621 - val_minm: -0.3623 - val_maxm: 0.7776\n",
      "Epoch 15/10000\n",
      "939008/939008 [==============================] - 661s 703us/sample - loss: 0.1838 - meanm: 0.0357 - minm: -0.3141 - maxm: 0.4569 - val_loss: 0.4038 - val_meanm: 0.0290 - val_minm: -0.4753 - val_maxm: 0.6622\n",
      "Epoch 16/10000\n",
      "939008/939008 [==============================] - 704s 750us/sample - loss: 0.1684 - meanm: 0.0361 - minm: -0.3095 - maxm: 0.4496 - val_loss: 0.4021 - val_meanm: 0.0321 - val_minm: -0.5670 - val_maxm: 0.7314\n",
      "Epoch 17/10000\n",
      "939008/939008 [==============================] - 773s 823us/sample - loss: 0.1610 - meanm: 0.0360 - minm: -0.3079 - maxm: 0.4428 - val_loss: 0.3967 - val_meanm: 0.0244 - val_minm: -0.7151 - val_maxm: 0.6265\n",
      "Epoch 18/10000\n",
      "939008/939008 [==============================] - 701s 747us/sample - loss: 0.1543 - meanm: 0.0342 - minm: -0.3062 - maxm: 0.4292 - val_loss: 0.3944 - val_meanm: 0.0397 - val_minm: -0.7784 - val_maxm: 0.6457\n",
      "Epoch 19/10000\n",
      "939008/939008 [==============================] - 717s 763us/sample - loss: 0.1529 - meanm: 0.0341 - minm: -0.3083 - maxm: 0.4250 - val_loss: 0.4194 - val_meanm: 0.0650 - val_minm: -0.7855 - val_maxm: 0.6105\n",
      "Epoch 20/10000\n",
      "939008/939008 [==============================] - 684s 729us/sample - loss: 0.1450 - meanm: 0.0295 - minm: -0.3084 - maxm: 0.4153 - val_loss: 0.4315 - val_meanm: 0.0975 - val_minm: -0.8391 - val_maxm: 0.7115\n",
      "Epoch 21/10000\n",
      "939008/939008 [==============================] - 711s 757us/sample - loss: 0.1451 - meanm: 0.0220 - minm: -0.3252 - maxm: 0.4036 - val_loss: 0.4384 - val_meanm: 0.1227 - val_minm: -0.8542 - val_maxm: 0.7582\n",
      "Epoch 22/10000\n",
      "939008/939008 [==============================] - 784s 835us/sample - loss: 0.1431 - meanm: 0.0168 - minm: -0.3392 - maxm: 0.4072 - val_loss: 0.4336 - val_meanm: 0.1191 - val_minm: -0.8808 - val_maxm: 0.7790\n",
      "Epoch 23/10000\n",
      "939008/939008 [==============================] - 728s 776us/sample - loss: 0.1406 - meanm: 0.0130 - minm: -0.3413 - maxm: 0.3968 - val_loss: 0.4350 - val_meanm: 0.1167 - val_minm: -0.8824 - val_maxm: 0.7669\n",
      "Epoch 24/10000\n",
      "939008/939008 [==============================] - 684s 728us/sample - loss: 0.1415 - meanm: 0.0139 - minm: -0.3305 - maxm: 0.3965 - val_loss: 0.4404 - val_meanm: 0.0913 - val_minm: -0.8560 - val_maxm: 0.7125\n",
      "Epoch 25/10000\n",
      "939008/939008 [==============================] - 618s 658us/sample - loss: 0.1414 - meanm: 0.0149 - minm: -0.3195 - maxm: 0.3947 - val_loss: 0.4493 - val_meanm: 0.0672 - val_minm: -0.8608 - val_maxm: 0.5689\n",
      "Epoch 26/10000\n",
      "939008/939008 [==============================] - 626s 667us/sample - loss: 0.1352 - meanm: 0.0094 - minm: -0.3123 - maxm: 0.3688 - val_loss: 0.4230 - val_meanm: 0.0504 - val_minm: -0.8135 - val_maxm: 0.4709\n",
      "Epoch 27/10000\n",
      "939008/939008 [==============================] - 630s 671us/sample - loss: 0.1282 - meanm: 0.0101 - minm: -0.3038 - maxm: 0.3592 - val_loss: 0.4076 - val_meanm: 0.0464 - val_minm: -0.7485 - val_maxm: 0.4582\n",
      "Epoch 28/10000\n",
      "939008/939008 [==============================] - 655s 698us/sample - loss: 0.1242 - meanm: 0.0118 - minm: -0.3022 - maxm: 0.3627 - val_loss: 0.4019 - val_meanm: 0.0525 - val_minm: -0.6896 - val_maxm: 0.4948\n",
      "Epoch 29/10000\n",
      "939008/939008 [==============================] - 669s 712us/sample - loss: 0.1183 - meanm: 0.0107 - minm: -0.3059 - maxm: 0.3604 - val_loss: 0.4255 - val_meanm: 0.0567 - val_minm: -0.6946 - val_maxm: 0.4959\n",
      "Epoch 30/10000\n",
      "939008/939008 [==============================] - 661s 704us/sample - loss: 0.1141 - meanm: 0.0105 - minm: -0.2989 - maxm: 0.3546 - val_loss: 0.4393 - val_meanm: 0.0725 - val_minm: -0.6251 - val_maxm: 0.5499\n",
      "Epoch 31/10000\n",
      "939008/939008 [==============================] - 689s 733us/sample - loss: 0.1058 - meanm: 0.0134 - minm: -0.2950 - maxm: 0.3618 - val_loss: 0.4116 - val_meanm: 0.0728 - val_minm: -0.6563 - val_maxm: 0.6378\n",
      "Epoch 32/10000\n",
      "939008/939008 [==============================] - 750s 799us/sample - loss: 0.0986 - meanm: 0.0129 - minm: -0.2967 - maxm: 0.3646 - val_loss: 0.4360 - val_meanm: 0.0701 - val_minm: -0.6892 - val_maxm: 0.6019\n",
      "Epoch 33/10000\n",
      "939008/939008 [==============================] - 753s 802us/sample - loss: 0.0954 - meanm: 0.0134 - minm: -0.2958 - maxm: 0.3683 - val_loss: 0.4384 - val_meanm: 0.0684 - val_minm: -0.6746 - val_maxm: 0.5771\n",
      "Epoch 34/10000\n",
      "939008/939008 [==============================] - 687s 732us/sample - loss: 0.0954 - meanm: 0.0133 - minm: -0.2948 - maxm: 0.3714 - val_loss: 0.4387 - val_meanm: 0.0686 - val_minm: -0.7126 - val_maxm: 0.5853\n",
      "Epoch 35/10000\n",
      "939008/939008 [==============================] - 659s 702us/sample - loss: 0.0951 - meanm: 0.0151 - minm: -0.2898 - maxm: 0.3803 - val_loss: 0.4375 - val_meanm: 0.0694 - val_minm: -0.6848 - val_maxm: 0.5752\n",
      "Epoch 36/10000\n",
      "939008/939008 [==============================] - 711s 757us/sample - loss: 0.0887 - meanm: 0.0144 - minm: -0.2849 - maxm: 0.3709 - val_loss: 0.4359 - val_meanm: 0.0686 - val_minm: -0.6509 - val_maxm: 0.5723\n",
      "Epoch 37/10000\n",
      "939008/939008 [==============================] - 731s 779us/sample - loss: 0.0880 - meanm: 0.0156 - minm: -0.2872 - maxm: 0.3772 - val_loss: 0.4283 - val_meanm: 0.0808 - val_minm: -0.5652 - val_maxm: 0.6419\n"
     ]
    },
    {
     "name": "stdout",
     "output_type": "stream",
     "text": [
      "Epoch 38/10000\n",
      "939008/939008 [==============================] - 647s 689us/sample - loss: 0.0846 - meanm: 0.0143 - minm: -0.2883 - maxm: 0.3704 - val_loss: 0.4388 - val_meanm: 0.0775 - val_minm: -0.5621 - val_maxm: 0.5993\n",
      "Epoch 39/10000\n",
      "939008/939008 [==============================] - 703s 748us/sample - loss: 0.0816 - meanm: 0.0155 - minm: -0.2875 - maxm: 0.3744 - val_loss: 0.4403 - val_meanm: 0.0854 - val_minm: -0.5121 - val_maxm: 0.6451\n",
      "Epoch 40/10000\n",
      "939008/939008 [==============================] - 737s 784us/sample - loss: 0.0797 - meanm: 0.0156 - minm: -0.2969 - maxm: 0.3791 - val_loss: 0.4374 - val_meanm: 0.0828 - val_minm: -0.4275 - val_maxm: 0.6434\n",
      "Epoch 41/10000\n",
      "939008/939008 [==============================] - 734s 782us/sample - loss: 0.0795 - meanm: 0.0163 - minm: -0.2817 - maxm: 0.3739 - val_loss: 0.4356 - val_meanm: 0.0695 - val_minm: -0.4173 - val_maxm: 0.6119\n",
      "Epoch 42/10000\n",
      "939008/939008 [==============================] - 741s 789us/sample - loss: 0.0815 - meanm: 0.0111 - minm: -0.2832 - maxm: 0.3598 - val_loss: 0.4372 - val_meanm: 0.0623 - val_minm: -0.4102 - val_maxm: 0.5632\n",
      "Epoch 43/10000\n",
      "939008/939008 [==============================] - 696s 741us/sample - loss: 0.0755 - meanm: 0.0101 - minm: -0.2743 - maxm: 0.3539 - val_loss: 0.4236 - val_meanm: 0.0563 - val_minm: -0.4348 - val_maxm: 0.5745\n",
      "Epoch 44/10000\n",
      "939008/939008 [==============================] - 687s 731us/sample - loss: 0.0790 - meanm: 0.0071 - minm: -0.2795 - maxm: 0.3547 - val_loss: 0.3967 - val_meanm: 0.0500 - val_minm: -0.4108 - val_maxm: 0.5818\n",
      "Epoch 45/10000\n",
      "939008/939008 [==============================] - 723s 770us/sample - loss: 0.0764 - meanm: 0.0054 - minm: -0.2832 - maxm: 0.3574 - val_loss: 0.4335 - val_meanm: 0.0414 - val_minm: -0.4890 - val_maxm: 0.4362\n",
      "Epoch 46/10000\n",
      "939008/939008 [==============================] - 717s 764us/sample - loss: 0.0788 - meanm: 0.0063 - minm: -0.2871 - maxm: 0.3658 - val_loss: 0.4253 - val_meanm: 0.0382 - val_minm: -0.5298 - val_maxm: 0.4475\n",
      "Epoch 47/10000\n",
      "939008/939008 [==============================] - 688s 733us/sample - loss: 0.0835 - meanm: 0.0050 - minm: -0.3013 - maxm: 0.3810 - val_loss: 0.4313 - val_meanm: 0.0474 - val_minm: -0.5511 - val_maxm: 0.5006\n",
      "Epoch 48/10000\n",
      "939008/939008 [==============================] - 675s 719us/sample - loss: 0.0910 - meanm: 0.0014 - minm: -0.3130 - maxm: 0.3827 - val_loss: 0.4319 - val_meanm: 0.0594 - val_minm: -0.5539 - val_maxm: 0.4909\n",
      "Epoch 49/10000\n",
      "939008/939008 [==============================] - 727s 775us/sample - loss: 0.0951 - meanm: 7.9965e-04 - minm: -0.3279 - maxm: 0.3866 - val_loss: 0.3637 - val_meanm: 0.0614 - val_minm: -0.5856 - val_maxm: 0.5517\n",
      "Epoch 50/10000\n",
      "939008/939008 [==============================] - 755s 805us/sample - loss: 0.1081 - meanm: 2.9636e-04 - minm: -0.3474 - maxm: 0.4122 - val_loss: 0.3268 - val_meanm: 0.0874 - val_minm: -0.6127 - val_maxm: 0.5879\n",
      "Epoch 51/10000\n",
      "939008/939008 [==============================] - 710s 756us/sample - loss: 0.1117 - meanm: 0.0012 - minm: -0.3586 - maxm: 0.4301 - val_loss: 0.3114 - val_meanm: 0.0799 - val_minm: -0.7217 - val_maxm: 0.6477\n",
      "Epoch 52/10000\n",
      "939008/939008 [==============================] - 644s 686us/sample - loss: 0.1179 - meanm: -0.0022 - minm: -0.3705 - maxm: 0.4415 - val_loss: 0.2947 - val_meanm: 0.0979 - val_minm: -0.7815 - val_maxm: 0.7615\n",
      "Epoch 53/10000\n",
      "939008/939008 [==============================] - 711s 758us/sample - loss: 0.1255 - meanm: -0.0019 - minm: -0.3823 - maxm: 0.4634 - val_loss: 0.3083 - val_meanm: 0.1071 - val_minm: -0.7493 - val_maxm: 0.8067\n",
      "Epoch 54/10000\n",
      "939008/939008 [==============================] - 734s 781us/sample - loss: 0.1352 - meanm: -0.0023 - minm: -0.3891 - maxm: 0.4718 - val_loss: 0.2987 - val_meanm: 0.1196 - val_minm: -0.7227 - val_maxm: 0.8776\n",
      "Epoch 55/10000\n",
      "939008/939008 [==============================] - 713s 759us/sample - loss: 0.1361 - meanm: -0.0050 - minm: -0.3915 - maxm: 0.4678 - val_loss: 0.2979 - val_meanm: 0.1465 - val_minm: -0.6668 - val_maxm: 0.9050\n",
      "Epoch 56/10000\n",
      "939008/939008 [==============================] - 697s 743us/sample - loss: 0.1256 - meanm: -0.0037 - minm: -0.3838 - maxm: 0.4652 - val_loss: 0.2854 - val_meanm: 0.1507 - val_minm: -0.5971 - val_maxm: 0.9042\n",
      "Epoch 57/10000\n",
      "939008/939008 [==============================] - 746s 794us/sample - loss: 0.1230 - meanm: -0.0037 - minm: -0.3784 - maxm: 0.4521 - val_loss: 0.2976 - val_meanm: 0.1357 - val_minm: -0.5704 - val_maxm: 0.8833\n",
      "Epoch 58/10000\n",
      "939008/939008 [==============================] - 723s 770us/sample - loss: 0.1153 - meanm: -0.0023 - minm: -0.3665 - maxm: 0.4394 - val_loss: 0.3114 - val_meanm: 0.1090 - val_minm: -0.5334 - val_maxm: 0.8118\n",
      "Epoch 59/10000\n",
      "939008/939008 [==============================] - 679s 723us/sample - loss: 0.1050 - meanm: 0.0025 - minm: -0.3485 - maxm: 0.4407 - val_loss: 0.2925 - val_meanm: 0.0898 - val_minm: -0.4591 - val_maxm: 0.7359\n",
      "Epoch 60/10000\n",
      "939008/939008 [==============================] - 697s 742us/sample - loss: 0.0985 - meanm: 0.0066 - minm: -0.3279 - maxm: 0.4372 - val_loss: 0.3938 - val_meanm: 0.0495 - val_minm: -0.5544 - val_maxm: 0.5366\n",
      "Epoch 61/10000\n",
      "939008/939008 [==============================] - 732s 779us/sample - loss: 0.1027 - meanm: 0.0057 - minm: -0.3161 - maxm: 0.4259 - val_loss: 0.3719 - val_meanm: 0.0533 - val_minm: -0.4929 - val_maxm: 0.5346\n",
      "Epoch 62/10000\n",
      "939008/939008 [==============================] - 735s 782us/sample - loss: 0.1009 - meanm: 0.0102 - minm: -0.3061 - maxm: 0.4330 - val_loss: 0.4024 - val_meanm: 0.0617 - val_minm: -0.5128 - val_maxm: 0.5148\n",
      "Epoch 63/10000\n",
      "939008/939008 [==============================] - 714s 761us/sample - loss: 0.0976 - meanm: 0.0137 - minm: -0.2993 - maxm: 0.4407 - val_loss: 0.3108 - val_meanm: 0.0625 - val_minm: -0.4782 - val_maxm: 0.8088\n",
      "Epoch 64/10000\n",
      "939008/939008 [==============================] - 714s 761us/sample - loss: 0.0970 - meanm: 0.0130 - minm: -0.2994 - maxm: 0.4385 - val_loss: 0.2928 - val_meanm: 0.0759 - val_minm: -0.4417 - val_maxm: 0.9276\n",
      "Epoch 65/10000\n",
      "939008/939008 [==============================] - 704s 750us/sample - loss: 0.0953 - meanm: 0.0179 - minm: -0.2898 - maxm: 0.4332 - val_loss: 0.2984 - val_meanm: 0.0927 - val_minm: -0.4099 - val_maxm: 0.9316\n",
      "Epoch 66/10000\n",
      "939008/939008 [==============================] - 717s 763us/sample - loss: 0.0906 - meanm: 0.0159 - minm: -0.2918 - maxm: 0.4246 - val_loss: 0.3205 - val_meanm: 0.0936 - val_minm: -0.4588 - val_maxm: 0.9349\n",
      "Epoch 67/10000\n",
      "939008/939008 [==============================] - 691s 736us/sample - loss: 0.0805 - meanm: 0.0154 - minm: -0.3003 - maxm: 0.4259 - val_loss: 0.3242 - val_meanm: 0.1064 - val_minm: -0.4492 - val_maxm: 0.9405\n",
      "Epoch 68/10000\n",
      "939008/939008 [==============================] - 693s 738us/sample - loss: 0.0700 - meanm: 0.0175 - minm: -0.2865 - maxm: 0.4130 - val_loss: 0.2878 - val_meanm: 0.1090 - val_minm: -0.4216 - val_maxm: 0.9540\n",
      "Epoch 69/10000\n",
      "939008/939008 [==============================] - 685s 730us/sample - loss: 0.0717 - meanm: 0.0189 - minm: -0.2934 - maxm: 0.4248 - val_loss: 0.2814 - val_meanm: 0.1014 - val_minm: -0.4093 - val_maxm: 0.9376\n",
      "Epoch 70/10000\n",
      "939008/939008 [==============================] - 716s 762us/sample - loss: 0.0698 - meanm: 0.0217 - minm: -0.2933 - maxm: 0.4407 - val_loss: 0.2921 - val_meanm: 0.0921 - val_minm: -0.4676 - val_maxm: 0.9243\n",
      "Epoch 71/10000\n",
      "939008/939008 [==============================] - 722s 769us/sample - loss: 0.0694 - meanm: 0.0216 - minm: -0.2961 - maxm: 0.4460 - val_loss: 0.2896 - val_meanm: 0.0946 - val_minm: -0.4355 - val_maxm: 0.9265\n",
      "Epoch 72/10000\n",
      "939008/939008 [==============================] - 711s 757us/sample - loss: 0.0626 - meanm: 0.0203 - minm: -0.2943 - maxm: 0.4337 - val_loss: 0.2845 - val_meanm: 0.1030 - val_minm: -0.4351 - val_maxm: 0.9371\n",
      "Epoch 73/10000\n",
      "939008/939008 [==============================] - 672s 716us/sample - loss: 0.0535 - meanm: 0.0230 - minm: -0.2948 - maxm: 0.4413 - val_loss: 0.2819 - val_meanm: 0.1023 - val_minm: -0.4069 - val_maxm: 0.9371\n",
      "Epoch 74/10000\n",
      "939008/939008 [==============================] - 714s 760us/sample - loss: 0.0546 - meanm: 0.0227 - minm: -0.2966 - maxm: 0.4377 - val_loss: 0.2946 - val_meanm: 0.1125 - val_minm: -0.4187 - val_maxm: 0.9325\n"
     ]
    },
    {
     "name": "stdout",
     "output_type": "stream",
     "text": [
      "Epoch 75/10000\n",
      "939008/939008 [==============================] - 745s 794us/sample - loss: 0.0501 - meanm: 0.0228 - minm: -0.2926 - maxm: 0.4295 - val_loss: 0.2861 - val_meanm: 0.0995 - val_minm: -0.4059 - val_maxm: 0.9263\n",
      "Epoch 76/10000\n",
      "939008/939008 [==============================] - 730s 777us/sample - loss: 0.0473 - meanm: 0.0234 - minm: -0.2905 - maxm: 0.4329 - val_loss: 0.2948 - val_meanm: 0.1137 - val_minm: -0.3879 - val_maxm: 0.9345\n",
      "Epoch 77/10000\n",
      "939008/939008 [==============================] - 735s 782us/sample - loss: 0.0456 - meanm: 0.0220 - minm: -0.2968 - maxm: 0.4294 - val_loss: 0.3001 - val_meanm: 0.1158 - val_minm: -0.4003 - val_maxm: 0.9273\n",
      "Epoch 78/10000\n",
      "939008/939008 [==============================] - 764s 813us/sample - loss: 0.0453 - meanm: 0.0218 - minm: -0.2975 - maxm: 0.4305 - val_loss: 0.2939 - val_meanm: 0.1119 - val_minm: -0.4574 - val_maxm: 0.9154\n",
      "Epoch 79/10000\n",
      "939008/939008 [==============================] - 736s 783us/sample - loss: 0.0396 - meanm: 0.0208 - minm: -0.2990 - maxm: 0.4243 - val_loss: 0.2943 - val_meanm: 0.1006 - val_minm: -0.4768 - val_maxm: 0.8877\n",
      "Epoch 80/10000\n",
      "939008/939008 [==============================] - 711s 757us/sample - loss: 0.0377 - meanm: 0.0173 - minm: -0.3056 - maxm: 0.4071 - val_loss: 0.3008 - val_meanm: 0.1200 - val_minm: -0.4342 - val_maxm: 0.9111\n",
      "Epoch 81/10000\n",
      "939008/939008 [==============================] - 647s 689us/sample - loss: 0.0365 - meanm: 0.0209 - minm: -0.3035 - maxm: 0.4202 - val_loss: 0.2942 - val_meanm: 0.1150 - val_minm: -0.4510 - val_maxm: 0.9050\n",
      "Epoch 82/10000\n",
      "939008/939008 [==============================] - 647s 689us/sample - loss: 0.0296 - meanm: 0.0168 - minm: -0.3073 - maxm: 0.3992 - val_loss: 0.2908 - val_meanm: 0.1053 - val_minm: -0.4579 - val_maxm: 0.8820\n",
      "Epoch 83/10000\n",
      "939008/939008 [==============================] - 651s 693us/sample - loss: 0.0325 - meanm: 0.0182 - minm: -0.3114 - maxm: 0.4086 - val_loss: 0.2900 - val_meanm: 0.1065 - val_minm: -0.4957 - val_maxm: 0.8751\n",
      "Epoch 84/10000\n",
      "939008/939008 [==============================] - 662s 705us/sample - loss: 0.0266 - meanm: 0.0192 - minm: -0.3081 - maxm: 0.4117 - val_loss: 0.2890 - val_meanm: 0.1027 - val_minm: -0.4778 - val_maxm: 0.8488\n",
      "Epoch 85/10000\n",
      "939008/939008 [==============================] - 688s 733us/sample - loss: 0.0260 - meanm: 0.0180 - minm: -0.3027 - maxm: 0.4016 - val_loss: 0.2879 - val_meanm: 0.1064 - val_minm: -0.4883 - val_maxm: 0.8633\n",
      "Epoch 86/10000\n",
      "939008/939008 [==============================] - 666s 709us/sample - loss: 0.0257 - meanm: 0.0147 - minm: -0.3105 - maxm: 0.3935 - val_loss: 0.2786 - val_meanm: 0.0938 - val_minm: -0.4616 - val_maxm: 0.8228\n",
      "Epoch 87/10000\n",
      "939008/939008 [==============================] - 655s 697us/sample - loss: 0.0244 - meanm: 0.0146 - minm: -0.3047 - maxm: 0.3860 - val_loss: 0.2777 - val_meanm: 0.0925 - val_minm: -0.4990 - val_maxm: 0.8075\n",
      "Epoch 88/10000\n",
      "939008/939008 [==============================] - 713s 759us/sample - loss: 0.0287 - meanm: 0.0164 - minm: -0.3070 - maxm: 0.3965 - val_loss: 0.2707 - val_meanm: 0.0794 - val_minm: -0.4928 - val_maxm: 0.7656\n",
      "Epoch 89/10000\n",
      "939008/939008 [==============================] - 733s 781us/sample - loss: 0.0208 - meanm: 0.0099 - minm: -0.3082 - maxm: 0.3675 - val_loss: 0.2631 - val_meanm: 0.0793 - val_minm: -0.5181 - val_maxm: 0.7644\n",
      "Epoch 90/10000\n",
      "939008/939008 [==============================] - 679s 723us/sample - loss: 0.0215 - meanm: 0.0121 - minm: -0.3037 - maxm: 0.3733 - val_loss: 0.2529 - val_meanm: 0.0703 - val_minm: -0.4752 - val_maxm: 0.7354\n",
      "Epoch 91/10000\n",
      "939008/939008 [==============================] - 683s 727us/sample - loss: 0.0202 - meanm: 0.0146 - minm: -0.3046 - maxm: 0.3821 - val_loss: 0.2616 - val_meanm: 0.0704 - val_minm: -0.5220 - val_maxm: 0.7155\n",
      "Epoch 92/10000\n",
      "939008/939008 [==============================] - 730s 777us/sample - loss: 0.0141 - meanm: 0.0109 - minm: -0.3015 - maxm: 0.3580 - val_loss: 0.2563 - val_meanm: 0.0625 - val_minm: -0.5317 - val_maxm: 0.6666\n",
      "Epoch 93/10000\n",
      "939008/939008 [==============================] - 717s 764us/sample - loss: 0.0172 - meanm: 0.0115 - minm: -0.2961 - maxm: 0.3559 - val_loss: 0.2541 - val_meanm: 0.0683 - val_minm: -0.5202 - val_maxm: 0.7148\n",
      "Epoch 94/10000\n",
      "939008/939008 [==============================] - 680s 724us/sample - loss: 0.0153 - meanm: 0.0127 - minm: -0.2995 - maxm: 0.3588 - val_loss: 0.2568 - val_meanm: 0.0601 - val_minm: -0.5397 - val_maxm: 0.6458\n",
      "Epoch 95/10000\n",
      "939008/939008 [==============================] - 689s 734us/sample - loss: 0.0129 - meanm: 0.0109 - minm: -0.2947 - maxm: 0.3426 - val_loss: 0.2632 - val_meanm: 0.0666 - val_minm: -0.5302 - val_maxm: 0.6729\n",
      "Epoch 96/10000\n",
      "939008/939008 [==============================] - 734s 782us/sample - loss: 0.0134 - meanm: 0.0110 - minm: -0.2914 - maxm: 0.3453 - val_loss: 0.2479 - val_meanm: 0.0557 - val_minm: -0.5377 - val_maxm: 0.6302\n",
      "Epoch 97/10000\n",
      "939008/939008 [==============================] - 752s 801us/sample - loss: 0.0108 - meanm: 0.0082 - minm: -0.3010 - maxm: 0.3382 - val_loss: 0.2530 - val_meanm: 0.0585 - val_minm: -0.5212 - val_maxm: 0.6347\n",
      "Epoch 98/10000\n",
      "939008/939008 [==============================] - 716s 763us/sample - loss: 0.0093 - meanm: 0.0103 - minm: -0.2968 - maxm: 0.3403 - val_loss: 0.2651 - val_meanm: 0.0604 - val_minm: -0.5385 - val_maxm: 0.6480\n",
      "Epoch 99/10000\n",
      "939008/939008 [==============================] - 708s 754us/sample - loss: 0.0099 - meanm: 0.0109 - minm: -0.2984 - maxm: 0.3437 - val_loss: 0.2669 - val_meanm: 0.0620 - val_minm: -0.5343 - val_maxm: 0.6487\n",
      "Epoch 100/10000\n",
      "939008/939008 [==============================] - 705s 751us/sample - loss: 0.0087 - meanm: 0.0114 - minm: -0.2950 - maxm: 0.3396 - val_loss: 0.2576 - val_meanm: 0.0605 - val_minm: -0.5237 - val_maxm: 0.6678\n",
      "Epoch 101/10000\n",
      "939008/939008 [==============================] - 720s 767us/sample - loss: 0.0079 - meanm: 0.0116 - minm: -0.2941 - maxm: 0.3398 - val_loss: 0.2571 - val_meanm: 0.0614 - val_minm: -0.5143 - val_maxm: 0.6597\n",
      "Epoch 102/10000\n",
      "939008/939008 [==============================] - 708s 754us/sample - loss: 0.0062 - meanm: 0.0134 - minm: -0.2942 - maxm: 0.3463 - val_loss: 0.2504 - val_meanm: 0.0599 - val_minm: -0.4943 - val_maxm: 0.6646\n",
      "Epoch 103/10000\n",
      "939008/939008 [==============================] - 696s 741us/sample - loss: 0.0053 - meanm: 0.0100 - minm: -0.2978 - maxm: 0.3361 - val_loss: 0.2718 - val_meanm: 0.0559 - val_minm: -0.5051 - val_maxm: 0.6178\n",
      "Epoch 104/10000\n",
      "939008/939008 [==============================] - 688s 733us/sample - loss: 0.0025 - meanm: 0.0117 - minm: -0.2900 - maxm: 0.3314 - val_loss: 0.2755 - val_meanm: 0.0559 - val_minm: -0.4786 - val_maxm: 0.6199\n",
      "Epoch 105/10000\n",
      "939008/939008 [==============================] - 725s 772us/sample - loss: 2.9696e-04 - meanm: 0.0109 - minm: -0.2948 - maxm: 0.3351 - val_loss: 0.2861 - val_meanm: 0.0593 - val_minm: -0.4614 - val_maxm: 0.6222\n",
      "Epoch 106/10000\n",
      "939008/939008 [==============================] - 759s 809us/sample - loss: 0.0023 - meanm: 0.0112 - minm: -0.2969 - maxm: 0.3392 - val_loss: 0.2838 - val_meanm: 0.0582 - val_minm: -0.4712 - val_maxm: 0.6116\n",
      "Epoch 107/10000\n",
      "939008/939008 [==============================] - 729s 776us/sample - loss: -0.0036 - meanm: 0.0126 - minm: -0.2871 - maxm: 0.3317 - val_loss: 0.2839 - val_meanm: 0.0531 - val_minm: -0.4740 - val_maxm: 0.5681\n",
      "Epoch 108/10000\n",
      "939008/939008 [==============================] - 628s 669us/sample - loss: -0.0024 - meanm: 0.0111 - minm: -0.2940 - maxm: 0.3310 - val_loss: 0.2924 - val_meanm: 0.0525 - val_minm: -0.4588 - val_maxm: 0.5713\n",
      "Epoch 109/10000\n",
      "939008/939008 [==============================] - 729s 777us/sample - loss: -0.0033 - meanm: 0.0111 - minm: -0.2941 - maxm: 0.3311 - val_loss: 0.2995 - val_meanm: 0.0562 - val_minm: -0.4413 - val_maxm: 0.5807\n",
      "Epoch 110/10000\n",
      "939008/939008 [==============================] - 742s 790us/sample - loss: -0.0036 - meanm: 0.0111 - minm: -0.2984 - maxm: 0.3410 - val_loss: 0.3016 - val_meanm: 0.0557 - val_minm: -0.4525 - val_maxm: 0.5682\n",
      "Epoch 111/10000\n",
      "939008/939008 [==============================] - 695s 740us/sample - loss: -0.0055 - meanm: 0.0102 - minm: -0.2996 - maxm: 0.3359 - val_loss: 0.3043 - val_meanm: 0.0670 - val_minm: -0.4653 - val_maxm: 0.6277\n"
     ]
    },
    {
     "name": "stdout",
     "output_type": "stream",
     "text": [
      "Epoch 112/10000\n",
      "939008/939008 [==============================] - 717s 763us/sample - loss: -0.0064 - meanm: 0.0084 - minm: -0.2863 - maxm: 0.3104 - val_loss: 0.3108 - val_meanm: 0.0555 - val_minm: -0.4303 - val_maxm: 0.5598\n",
      "Epoch 113/10000\n",
      "939008/939008 [==============================] - 733s 780us/sample - loss: -0.0068 - meanm: 0.0114 - minm: -0.2948 - maxm: 0.3357 - val_loss: 0.3068 - val_meanm: 0.0647 - val_minm: -0.4652 - val_maxm: 0.6190\n",
      "Epoch 114/10000\n",
      "939008/939008 [==============================] - 735s 783us/sample - loss: -0.0034 - meanm: 0.0101 - minm: -0.2930 - maxm: 0.3226 - val_loss: 0.3207 - val_meanm: 0.0545 - val_minm: -0.4961 - val_maxm: 0.5119\n",
      "Epoch 115/10000\n",
      "939008/939008 [==============================] - 664s 707us/sample - loss: -0.0047 - meanm: 0.0143 - minm: -0.2985 - maxm: 0.3494 - val_loss: 0.3104 - val_meanm: 0.0601 - val_minm: -0.4472 - val_maxm: 0.5791\n",
      "Epoch 116/10000\n",
      "939008/939008 [==============================] - 728s 775us/sample - loss: -0.0066 - meanm: 0.0093 - minm: -0.2881 - maxm: 0.3188 - val_loss: 0.3049 - val_meanm: 0.0526 - val_minm: -0.4536 - val_maxm: 0.5392\n",
      "Epoch 117/10000\n",
      "939008/939008 [==============================] - 739s 787us/sample - loss: -0.0041 - meanm: 0.0102 - minm: -0.2915 - maxm: 0.3230 - val_loss: 0.3111 - val_meanm: 0.0562 - val_minm: -0.4636 - val_maxm: 0.5524\n",
      "Epoch 118/10000\n",
      "939008/939008 [==============================] - 719s 766us/sample - loss: -0.0082 - meanm: 0.0092 - minm: -0.2873 - maxm: 0.3052 - val_loss: 0.3136 - val_meanm: 0.0453 - val_minm: -0.4411 - val_maxm: 0.4694\n",
      "Epoch 119/10000\n",
      "939008/939008 [==============================] - 728s 775us/sample - loss: -0.0045 - meanm: 0.0115 - minm: -0.2823 - maxm: 0.3121 - val_loss: 0.3011 - val_meanm: 0.0488 - val_minm: -0.4388 - val_maxm: 0.5231\n",
      "Epoch 120/10000\n",
      "939008/939008 [==============================] - 728s 775us/sample - loss: -0.0126 - meanm: 0.0119 - minm: -0.3012 - maxm: 0.3386 - val_loss: 0.3079 - val_meanm: 0.0552 - val_minm: -0.4400 - val_maxm: 0.5716\n",
      "Epoch 121/10000\n",
      "939008/939008 [==============================] - 707s 753us/sample - loss: -0.0081 - meanm: 0.0113 - minm: -0.2894 - maxm: 0.3165 - val_loss: 0.3076 - val_meanm: 0.0463 - val_minm: -0.4814 - val_maxm: 0.4889\n",
      "Epoch 122/10000\n",
      "939008/939008 [==============================] - 726s 773us/sample - loss: -0.0033 - meanm: 0.0109 - minm: -0.2889 - maxm: 0.3153 - val_loss: 0.3033 - val_meanm: 0.0495 - val_minm: -0.4689 - val_maxm: 0.4991\n",
      "Epoch 123/10000\n",
      "939008/939008 [==============================] - 694s 739us/sample - loss: -0.0085 - meanm: 0.0118 - minm: -0.2973 - maxm: 0.3269 - val_loss: 0.3124 - val_meanm: 0.0482 - val_minm: -0.4726 - val_maxm: 0.4801\n",
      "Epoch 124/10000\n",
      "939008/939008 [==============================] - 696s 741us/sample - loss: -0.0078 - meanm: 0.0109 - minm: -0.2955 - maxm: 0.3209 - val_loss: 0.3180 - val_meanm: 0.0551 - val_minm: -0.4545 - val_maxm: 0.4928\n",
      "Epoch 125/10000\n",
      "939008/939008 [==============================] - 681s 725us/sample - loss: -0.0108 - meanm: 0.0104 - minm: -0.2957 - maxm: 0.3149 - val_loss: 0.3178 - val_meanm: 0.0574 - val_minm: -0.4229 - val_maxm: 0.5196\n",
      "Epoch 126/10000\n",
      "939008/939008 [==============================] - 702s 748us/sample - loss: -0.0096 - meanm: 0.0101 - minm: -0.2978 - maxm: 0.3145 - val_loss: 0.3341 - val_meanm: 0.0575 - val_minm: -0.4318 - val_maxm: 0.4779\n",
      "Epoch 127/10000\n",
      "939008/939008 [==============================] - 722s 769us/sample - loss: -0.0112 - meanm: 0.0103 - minm: -0.2926 - maxm: 0.3140 - val_loss: 0.3254 - val_meanm: 0.0515 - val_minm: -0.4319 - val_maxm: 0.4536\n",
      "Epoch 128/10000\n",
      "939008/939008 [==============================] - 722s 769us/sample - loss: -0.0057 - meanm: 0.0121 - minm: -0.2912 - maxm: 0.3193 - val_loss: 0.3305 - val_meanm: 0.0523 - val_minm: -0.4417 - val_maxm: 0.4556\n",
      "Epoch 129/10000\n",
      "939008/939008 [==============================] - 656s 698us/sample - loss: -0.0053 - meanm: 0.0128 - minm: -0.2883 - maxm: 0.3240 - val_loss: 0.3396 - val_meanm: 0.0543 - val_minm: -0.4614 - val_maxm: 0.4324\n",
      "Epoch 130/10000\n",
      "939008/939008 [==============================] - 746s 794us/sample - loss: -0.0071 - meanm: 0.0107 - minm: -0.2906 - maxm: 0.3120 - val_loss: 0.3421 - val_meanm: 0.0593 - val_minm: -0.4277 - val_maxm: 0.4531\n",
      "Epoch 131/10000\n",
      "939008/939008 [==============================] - 750s 799us/sample - loss: -0.0063 - meanm: 0.0089 - minm: -0.2861 - maxm: 0.3047 - val_loss: 0.3504 - val_meanm: 0.0620 - val_minm: -0.4562 - val_maxm: 0.4685\n",
      "Epoch 132/10000\n",
      "939008/939008 [==============================] - 721s 768us/sample - loss: -0.0125 - meanm: 0.0111 - minm: -0.2909 - maxm: 0.3176 - val_loss: 0.3505 - val_meanm: 0.0584 - val_minm: -0.4352 - val_maxm: 0.4655\n",
      "Epoch 133/10000\n",
      "939008/939008 [==============================] - 758s 808us/sample - loss: -0.0062 - meanm: 0.0091 - minm: -0.3003 - maxm: 0.3146 - val_loss: 0.3615 - val_meanm: 0.0615 - val_minm: -0.4439 - val_maxm: 0.4481\n",
      "Epoch 134/10000\n",
      "939008/939008 [==============================] - 743s 791us/sample - loss: -0.0053 - meanm: 0.0081 - minm: -0.3051 - maxm: 0.3132 - val_loss: 0.3582 - val_meanm: 0.0586 - val_minm: -0.4250 - val_maxm: 0.4464\n",
      "Epoch 135/10000\n",
      "939008/939008 [==============================] - 737s 784us/sample - loss: -0.0120 - meanm: 0.0087 - minm: -0.2989 - maxm: 0.3092 - val_loss: 0.3603 - val_meanm: 0.0683 - val_minm: -0.4287 - val_maxm: 0.5010\n",
      "Epoch 136/10000\n",
      "939008/939008 [==============================] - 655s 698us/sample - loss: -0.0096 - meanm: 0.0058 - minm: -0.3028 - maxm: 0.3019 - val_loss: 0.3636 - val_meanm: 0.0590 - val_minm: -0.4203 - val_maxm: 0.4380\n",
      "Epoch 137/10000\n",
      "939008/939008 [==============================] - 652s 695us/sample - loss: -0.0132 - meanm: 0.0077 - minm: -0.3102 - maxm: 0.3164 - val_loss: 0.3676 - val_meanm: 0.0663 - val_minm: -0.4301 - val_maxm: 0.4799\n",
      "Epoch 138/10000\n",
      "939008/939008 [==============================] - 648s 690us/sample - loss: -0.0147 - meanm: 0.0060 - minm: -0.3035 - maxm: 0.3071 - val_loss: 0.3626 - val_meanm: 0.0618 - val_minm: -0.3968 - val_maxm: 0.4695\n",
      "Epoch 139/10000\n",
      "939008/939008 [==============================] - 641s 683us/sample - loss: -0.0146 - meanm: 0.0064 - minm: -0.3148 - maxm: 0.3178 - val_loss: 0.3630 - val_meanm: 0.0669 - val_minm: -0.4292 - val_maxm: 0.4921\n",
      "Epoch 140/10000\n",
      "939008/939008 [==============================] - 658s 701us/sample - loss: -0.0157 - meanm: 0.0054 - minm: -0.3056 - maxm: 0.3027 - val_loss: 0.3640 - val_meanm: 0.0661 - val_minm: -0.4183 - val_maxm: 0.4834\n",
      "Epoch 141/10000\n",
      "939008/939008 [==============================] - 671s 715us/sample - loss: -0.0152 - meanm: 0.0054 - minm: -0.3038 - maxm: 0.3086 - val_loss: 0.3693 - val_meanm: 0.0690 - val_minm: -0.4049 - val_maxm: 0.5146\n",
      "Epoch 142/10000\n",
      "939008/939008 [==============================] - 650s 692us/sample - loss: -0.0128 - meanm: 0.0058 - minm: -0.3248 - maxm: 0.3238 - val_loss: 0.3547 - val_meanm: 0.0676 - val_minm: -0.4340 - val_maxm: 0.5204\n",
      "Epoch 143/10000\n",
      "939008/939008 [==============================] - 677s 721us/sample - loss: -0.0180 - meanm: 0.0070 - minm: -0.3117 - maxm: 0.3126 - val_loss: 0.3625 - val_meanm: 0.0646 - val_minm: -0.4204 - val_maxm: 0.4927\n",
      "Epoch 144/10000\n",
      "939008/939008 [==============================] - 727s 774us/sample - loss: -0.0142 - meanm: 0.0053 - minm: -0.3136 - maxm: 0.3097 - val_loss: 0.3575 - val_meanm: 0.0600 - val_minm: -0.4509 - val_maxm: 0.4524\n",
      "Epoch 145/10000\n",
      "939008/939008 [==============================] - 741s 789us/sample - loss: -0.0128 - meanm: 0.0049 - minm: -0.3180 - maxm: 0.3134 - val_loss: 0.3588 - val_meanm: 0.0658 - val_minm: -0.4161 - val_maxm: 0.4985\n",
      "Epoch 146/10000\n",
      "939008/939008 [==============================] - 686s 730us/sample - loss: -0.0175 - meanm: 0.0062 - minm: -0.3194 - maxm: 0.3180 - val_loss: 0.3537 - val_meanm: 0.0703 - val_minm: -0.4169 - val_maxm: 0.5378\n",
      "Epoch 147/10000\n",
      "939008/939008 [==============================] - 696s 741us/sample - loss: -0.0169 - meanm: 0.0056 - minm: -0.3165 - maxm: 0.3171 - val_loss: 0.3505 - val_meanm: 0.0662 - val_minm: -0.4188 - val_maxm: 0.5328\n",
      "Epoch 148/10000\n"
     ]
    },
    {
     "name": "stdout",
     "output_type": "stream",
     "text": [
      "939008/939008 [==============================] - 720s 767us/sample - loss: -0.0185 - meanm: 0.0055 - minm: -0.3182 - maxm: 0.3141 - val_loss: 0.3576 - val_meanm: 0.0682 - val_minm: -0.4062 - val_maxm: 0.5288\n",
      "Epoch 149/10000\n",
      "939008/939008 [==============================] - 712s 758us/sample - loss: -0.0177 - meanm: 0.0058 - minm: -0.3173 - maxm: 0.3156 - val_loss: 0.3559 - val_meanm: 0.0685 - val_minm: -0.4174 - val_maxm: 0.5248\n",
      "Epoch 150/10000\n",
      "939008/939008 [==============================] - 650s 692us/sample - loss: -0.0212 - meanm: 0.0056 - minm: -0.3238 - maxm: 0.3185 - val_loss: 0.3514 - val_meanm: 0.0645 - val_minm: -0.4287 - val_maxm: 0.5108\n",
      "Epoch 151/10000\n",
      "939008/939008 [==============================] - 682s 727us/sample - loss: -0.0165 - meanm: 0.0060 - minm: -0.3231 - maxm: 0.3205 - val_loss: 0.3556 - val_meanm: 0.0703 - val_minm: -0.4033 - val_maxm: 0.5284\n",
      "Epoch 152/10000\n",
      "939008/939008 [==============================] - 701s 746us/sample - loss: -0.0230 - meanm: 0.0047 - minm: -0.3208 - maxm: 0.3110 - val_loss: 0.3641 - val_meanm: 0.0679 - val_minm: -0.3743 - val_maxm: 0.5031\n",
      "Epoch 153/10000\n",
      "939008/939008 [==============================] - 696s 741us/sample - loss: -0.0226 - meanm: 0.0057 - minm: -0.3268 - maxm: 0.3165 - val_loss: 0.3531 - val_meanm: 0.0703 - val_minm: -0.3936 - val_maxm: 0.5302\n",
      "Epoch 154/10000\n",
      "939008/939008 [==============================] - 717s 764us/sample - loss: -0.0236 - meanm: 0.0063 - minm: -0.3229 - maxm: 0.3139 - val_loss: 0.3505 - val_meanm: 0.0671 - val_minm: -0.3951 - val_maxm: 0.5101\n",
      "Epoch 155/10000\n",
      "939008/939008 [==============================] - 691s 736us/sample - loss: -0.0190 - meanm: 0.0077 - minm: -0.3259 - maxm: 0.3233 - val_loss: 0.3511 - val_meanm: 0.0689 - val_minm: -0.3752 - val_maxm: 0.5254\n",
      "Epoch 156/10000\n",
      "939008/939008 [==============================] - 673s 717us/sample - loss: -0.0209 - meanm: 0.0068 - minm: -0.3324 - maxm: 0.3205 - val_loss: 0.3521 - val_meanm: 0.0723 - val_minm: -0.3889 - val_maxm: 0.5431\n",
      "Epoch 157/10000\n",
      "939008/939008 [==============================] - 713s 760us/sample - loss: -0.0196 - meanm: 0.0069 - minm: -0.3260 - maxm: 0.3171 - val_loss: 0.3596 - val_meanm: 0.0732 - val_minm: -0.3858 - val_maxm: 0.5071\n",
      "Epoch 158/10000\n",
      "939008/939008 [==============================] - 711s 758us/sample - loss: -0.0204 - meanm: 0.0068 - minm: -0.3260 - maxm: 0.3138 - val_loss: 0.3449 - val_meanm: 0.0707 - val_minm: -0.3786 - val_maxm: 0.5492\n",
      "Epoch 159/10000\n",
      "939008/939008 [==============================] - 682s 727us/sample - loss: -0.0213 - meanm: 0.0067 - minm: -0.3317 - maxm: 0.3148 - val_loss: 0.3502 - val_meanm: 0.0714 - val_minm: -0.4066 - val_maxm: 0.5229\n",
      "Epoch 160/10000\n",
      "939008/939008 [==============================] - 659s 701us/sample - loss: -0.0186 - meanm: 0.0069 - minm: -0.3329 - maxm: 0.3190 - val_loss: 0.3534 - val_meanm: 0.0699 - val_minm: -0.3846 - val_maxm: 0.5076\n",
      "Epoch 161/10000\n",
      "939008/939008 [==============================] - 678s 722us/sample - loss: -0.0188 - meanm: 0.0073 - minm: -0.3344 - maxm: 0.3163 - val_loss: 0.3417 - val_meanm: 0.0672 - val_minm: -0.3823 - val_maxm: 0.5216\n",
      "Epoch 162/10000\n",
      "939008/939008 [==============================] - 723s 770us/sample - loss: -0.0184 - meanm: 0.0073 - minm: -0.3316 - maxm: 0.3173 - val_loss: 0.3480 - val_meanm: 0.0671 - val_minm: -0.3691 - val_maxm: 0.5068\n",
      "Epoch 163/10000\n",
      "939008/939008 [==============================] - 706s 752us/sample - loss: -0.0195 - meanm: 0.0101 - minm: -0.3300 - maxm: 0.3208 - val_loss: 0.3457 - val_meanm: 0.0695 - val_minm: -0.3857 - val_maxm: 0.5104\n",
      "Epoch 164/10000\n",
      "939008/939008 [==============================] - 642s 684us/sample - loss: -0.0174 - meanm: 0.0081 - minm: -0.3377 - maxm: 0.3200 - val_loss: 0.3395 - val_meanm: 0.0661 - val_minm: -0.4044 - val_maxm: 0.5173\n",
      "Epoch 165/10000\n",
      "939008/939008 [==============================] - 716s 762us/sample - loss: -0.0235 - meanm: 0.0085 - minm: -0.3352 - maxm: 0.3198 - val_loss: 0.3323 - val_meanm: 0.0654 - val_minm: -0.3899 - val_maxm: 0.5217\n",
      "Epoch 166/10000\n",
      "939008/939008 [==============================] - 751s 800us/sample - loss: -0.0176 - meanm: 0.0088 - minm: -0.3330 - maxm: 0.3183 - val_loss: 0.3387 - val_meanm: 0.0642 - val_minm: -0.3777 - val_maxm: 0.4907\n",
      "Epoch 167/10000\n",
      "939008/939008 [==============================] - 696s 741us/sample - loss: -0.0220 - meanm: 0.0075 - minm: -0.3314 - maxm: 0.3146 - val_loss: 0.3366 - val_meanm: 0.0601 - val_minm: -0.4037 - val_maxm: 0.4728\n",
      "Epoch 168/10000\n",
      "939008/939008 [==============================] - 687s 731us/sample - loss: -0.0223 - meanm: 0.0084 - minm: -0.3425 - maxm: 0.3248 - val_loss: 0.3450 - val_meanm: 0.0658 - val_minm: -0.3923 - val_maxm: 0.5005\n",
      "Epoch 169/10000\n",
      "939008/939008 [==============================] - 752s 801us/sample - loss: -0.0194 - meanm: 0.0106 - minm: -0.3520 - maxm: 0.3321 - val_loss: 0.3320 - val_meanm: 0.0603 - val_minm: -0.3899 - val_maxm: 0.4621\n",
      "Epoch 170/10000\n",
      "939008/939008 [==============================] - 740s 788us/sample - loss: -0.0208 - meanm: 0.0074 - minm: -0.3462 - maxm: 0.3207 - val_loss: 0.3434 - val_meanm: 0.0608 - val_minm: -0.3897 - val_maxm: 0.4794\n",
      "Epoch 171/10000\n",
      "939008/939008 [==============================] - 665s 708us/sample - loss: -0.0189 - meanm: 0.0089 - minm: -0.3423 - maxm: 0.3214 - val_loss: 0.3513 - val_meanm: 0.0613 - val_minm: -0.3781 - val_maxm: 0.4648\n",
      "Epoch 172/10000\n",
      "939008/939008 [==============================] - 693s 738us/sample - loss: -0.0197 - meanm: 0.0087 - minm: -0.3445 - maxm: 0.3227 - val_loss: 0.3473 - val_meanm: 0.0584 - val_minm: -0.3825 - val_maxm: 0.4665\n",
      "Epoch 173/10000\n",
      "939008/939008 [==============================] - 706s 752us/sample - loss: -0.0170 - meanm: 0.0083 - minm: -0.3423 - maxm: 0.3264 - val_loss: 0.3372 - val_meanm: 0.0546 - val_minm: -0.3916 - val_maxm: 0.4547\n",
      "Epoch 174/10000\n",
      "939008/939008 [==============================] - 704s 749us/sample - loss: -0.0212 - meanm: 0.0081 - minm: -0.3491 - maxm: 0.3234 - val_loss: 0.3414 - val_meanm: 0.0538 - val_minm: -0.3997 - val_maxm: 0.4402\n",
      "Epoch 175/10000\n",
      "939008/939008 [==============================] - 689s 733us/sample - loss: -0.0176 - meanm: 0.0087 - minm: -0.3402 - maxm: 0.3217 - val_loss: 0.3532 - val_meanm: 0.0571 - val_minm: -0.3731 - val_maxm: 0.4544\n",
      "Epoch 176/10000\n",
      "939008/939008 [==============================] - 690s 735us/sample - loss: -0.0202 - meanm: 0.0073 - minm: -0.3560 - maxm: 0.3237 - val_loss: 0.3433 - val_meanm: 0.0553 - val_minm: -0.3618 - val_maxm: 0.4462\n",
      "Epoch 177/10000\n",
      "939008/939008 [==============================] - 701s 747us/sample - loss: -0.0173 - meanm: 0.0095 - minm: -0.3511 - maxm: 0.3271 - val_loss: 0.3529 - val_meanm: 0.0547 - val_minm: -0.3513 - val_maxm: 0.4279\n",
      "Epoch 178/10000\n",
      "939008/939008 [==============================] - 727s 775us/sample - loss: -0.0162 - meanm: 0.0078 - minm: -0.3613 - maxm: 0.3322 - val_loss: 0.3470 - val_meanm: 0.0523 - val_minm: -0.3658 - val_maxm: 0.4114\n",
      "Epoch 179/10000\n",
      "388096/939008 [===========>..................] - ETA: 11:52 - loss: -0.0541 - meanm: 0.0092 - minm: -0.3249 - maxm: 0.3090"
     ]
    }
   ],
   "source": [
    "leftover = X[:-time_limit].shape[0] % batch_size\n",
    "buffer = 0\n",
    "\n",
    "history = model.fit(\n",
    "    X[buffer:-time_limit-leftover], \n",
    "    y_true[buffer:-leftover], \n",
    "    validation_data=(inputs_test.reshape((inputs_test.shape[0], n_seq, n_steps, n_features, 1))[:-time_limit], y_true_pred),\n",
    "#     validation_steps=32*5//batch_size,\n",
    "#     validation_data=(tf.convert_to_tensor(inputs_test[:32*5]), tf.convert_to_tensor([[1, i] for i in range(32*5)])),\n",
    "    epochs=10000, \n",
    "    shuffle=False,\n",
    "    batch_size=batch_size,\n",
    "#     callbacks=[callback],\n",
    "#     use_multiprocessing=True, \n",
    "#     workers=0,\n",
    "    verbose=1, \n",
    "#     max_queue_size=100,\n",
    "#     validation_freq=1000,\n",
    "#     initial_epoch=model.history.epoch[-1],\n",
    "#     initial_epoch=1\n",
    ")"
   ]
  },
  {
   "cell_type": "code",
   "execution_count": 78,
   "metadata": {
    "scrolled": true
   },
   "outputs": [
    {
     "data": {
      "text/plain": [
       "3.7853540305776225"
      ]
     },
     "execution_count": 78,
     "metadata": {},
     "output_type": "execute_result"
    }
   ],
   "source": [
    "abs(100*margin_size*(y_true[:,1] - y_true[:,0])/y_true[:,0]).mean()"
   ]
  },
  {
   "cell_type": "code",
   "execution_count": 73,
   "metadata": {
    "scrolled": true
   },
   "outputs": [],
   "source": [
    "preds = model.predict(inputs_test[1000:10000].reshape((inputs_test[1000:10000].shape[0], n_seq, n_steps, n_features, 1)))"
   ]
  },
  {
   "cell_type": "code",
   "execution_count": 74,
   "metadata": {},
   "outputs": [
    {
     "data": {
      "text/plain": [
       "array([1.])"
      ]
     },
     "execution_count": 74,
     "metadata": {},
     "output_type": "execute_result"
    }
   ],
   "source": [
    "sum(preds == 1)/len(preds)"
   ]
  },
  {
   "cell_type": "code",
   "execution_count": 68,
   "metadata": {
    "scrolled": true
   },
   "outputs": [
    {
     "name": "stdout",
     "output_type": "stream",
     "text": [
      "25568/71307 [=========>....................] - ETA: 2:11 - loss: 8.0835 - profit: -0.8611 - meanm: 1.0000 - minm: 1.0000 - maxm: 1.0000"
     ]
    },
    {
     "ename": "KeyboardInterrupt",
     "evalue": "",
     "output_type": "error",
     "traceback": [
      "\u001b[1;31m---------------------------------------------------------------------------\u001b[0m",
      "\u001b[1;31mKeyboardInterrupt\u001b[0m                         Traceback (most recent call last)",
      "\u001b[1;32m<ipython-input-68-6600e068388a>\u001b[0m in \u001b[0;36m<module>\u001b[1;34m\u001b[0m\n\u001b[1;32m----> 1\u001b[1;33m \u001b[0mmodel\u001b[0m\u001b[1;33m.\u001b[0m\u001b[0mevaluate\u001b[0m\u001b[1;33m(\u001b[0m\u001b[0minputs_test\u001b[0m\u001b[1;33m.\u001b[0m\u001b[0mreshape\u001b[0m\u001b[1;33m(\u001b[0m\u001b[1;33m(\u001b[0m\u001b[0minputs_test\u001b[0m\u001b[1;33m.\u001b[0m\u001b[0mshape\u001b[0m\u001b[1;33m[\u001b[0m\u001b[1;36m0\u001b[0m\u001b[1;33m]\u001b[0m\u001b[1;33m,\u001b[0m \u001b[0mn_seq\u001b[0m\u001b[1;33m,\u001b[0m \u001b[0mn_steps\u001b[0m\u001b[1;33m,\u001b[0m \u001b[0mn_features\u001b[0m\u001b[1;33m,\u001b[0m \u001b[1;36m1\u001b[0m\u001b[1;33m)\u001b[0m\u001b[1;33m)\u001b[0m\u001b[1;33m[\u001b[0m\u001b[1;33m:\u001b[0m\u001b[1;33m-\u001b[0m\u001b[0mtime_limit\u001b[0m\u001b[1;33m]\u001b[0m\u001b[1;33m,\u001b[0m \u001b[0my_true_pred\u001b[0m\u001b[1;33m)\u001b[0m\u001b[1;33m\u001b[0m\u001b[1;33m\u001b[0m\u001b[0m\n\u001b[0m",
      "\u001b[1;32mc:\\program files\\python36\\lib\\site-packages\\tensorflow_core\\python\\keras\\engine\\training.py\u001b[0m in \u001b[0;36mevaluate\u001b[1;34m(self, x, y, batch_size, verbose, sample_weight, steps, callbacks, max_queue_size, workers, use_multiprocessing)\u001b[0m\n\u001b[0;32m    830\u001b[0m         \u001b[0mmax_queue_size\u001b[0m\u001b[1;33m=\u001b[0m\u001b[0mmax_queue_size\u001b[0m\u001b[1;33m,\u001b[0m\u001b[1;33m\u001b[0m\u001b[1;33m\u001b[0m\u001b[0m\n\u001b[0;32m    831\u001b[0m         \u001b[0mworkers\u001b[0m\u001b[1;33m=\u001b[0m\u001b[0mworkers\u001b[0m\u001b[1;33m,\u001b[0m\u001b[1;33m\u001b[0m\u001b[1;33m\u001b[0m\u001b[0m\n\u001b[1;32m--> 832\u001b[1;33m         use_multiprocessing=use_multiprocessing)\n\u001b[0m\u001b[0;32m    833\u001b[0m \u001b[1;33m\u001b[0m\u001b[0m\n\u001b[0;32m    834\u001b[0m   def predict(self,\n",
      "\u001b[1;32mc:\\program files\\python36\\lib\\site-packages\\tensorflow_core\\python\\keras\\engine\\training_arrays.py\u001b[0m in \u001b[0;36mevaluate\u001b[1;34m(self, model, x, y, batch_size, verbose, sample_weight, steps, callbacks, **kwargs)\u001b[0m\n\u001b[0;32m    702\u001b[0m         \u001b[0mverbose\u001b[0m\u001b[1;33m=\u001b[0m\u001b[0mverbose\u001b[0m\u001b[1;33m,\u001b[0m\u001b[1;33m\u001b[0m\u001b[1;33m\u001b[0m\u001b[0m\n\u001b[0;32m    703\u001b[0m         \u001b[0msteps\u001b[0m\u001b[1;33m=\u001b[0m\u001b[0msteps\u001b[0m\u001b[1;33m,\u001b[0m\u001b[1;33m\u001b[0m\u001b[1;33m\u001b[0m\u001b[0m\n\u001b[1;32m--> 704\u001b[1;33m         callbacks=callbacks)\n\u001b[0m\u001b[0;32m    705\u001b[0m \u001b[1;33m\u001b[0m\u001b[0m\n\u001b[0;32m    706\u001b[0m   def predict(self,\n",
      "\u001b[1;32mc:\\program files\\python36\\lib\\site-packages\\tensorflow_core\\python\\keras\\engine\\training_arrays.py\u001b[0m in \u001b[0;36mmodel_iteration\u001b[1;34m(model, inputs, targets, sample_weights, batch_size, epochs, verbose, callbacks, val_inputs, val_targets, val_sample_weights, shuffle, initial_epoch, steps_per_epoch, validation_steps, validation_freq, mode, validation_in_fit, prepared_feed_values_from_dataset, steps_name, **kwargs)\u001b[0m\n\u001b[0;32m    392\u001b[0m \u001b[1;33m\u001b[0m\u001b[0m\n\u001b[0;32m    393\u001b[0m         \u001b[1;31m# Get outputs.\u001b[0m\u001b[1;33m\u001b[0m\u001b[1;33m\u001b[0m\u001b[1;33m\u001b[0m\u001b[0m\n\u001b[1;32m--> 394\u001b[1;33m         \u001b[0mbatch_outs\u001b[0m \u001b[1;33m=\u001b[0m \u001b[0mf\u001b[0m\u001b[1;33m(\u001b[0m\u001b[0mins_batch\u001b[0m\u001b[1;33m)\u001b[0m\u001b[1;33m\u001b[0m\u001b[1;33m\u001b[0m\u001b[0m\n\u001b[0m\u001b[0;32m    395\u001b[0m         \u001b[1;32mif\u001b[0m \u001b[1;32mnot\u001b[0m \u001b[0misinstance\u001b[0m\u001b[1;33m(\u001b[0m\u001b[0mbatch_outs\u001b[0m\u001b[1;33m,\u001b[0m \u001b[0mlist\u001b[0m\u001b[1;33m)\u001b[0m\u001b[1;33m:\u001b[0m\u001b[1;33m\u001b[0m\u001b[1;33m\u001b[0m\u001b[0m\n\u001b[0;32m    396\u001b[0m           \u001b[0mbatch_outs\u001b[0m \u001b[1;33m=\u001b[0m \u001b[1;33m[\u001b[0m\u001b[0mbatch_outs\u001b[0m\u001b[1;33m]\u001b[0m\u001b[1;33m\u001b[0m\u001b[1;33m\u001b[0m\u001b[0m\n",
      "\u001b[1;32mc:\\program files\\python36\\lib\\site-packages\\tensorflow_core\\python\\keras\\backend.py\u001b[0m in \u001b[0;36m__call__\u001b[1;34m(self, inputs)\u001b[0m\n\u001b[0;32m   3474\u001b[0m \u001b[1;33m\u001b[0m\u001b[0m\n\u001b[0;32m   3475\u001b[0m     fetched = self._callable_fn(*array_vals,\n\u001b[1;32m-> 3476\u001b[1;33m                                 run_metadata=self.run_metadata)\n\u001b[0m\u001b[0;32m   3477\u001b[0m     \u001b[0mself\u001b[0m\u001b[1;33m.\u001b[0m\u001b[0m_call_fetch_callbacks\u001b[0m\u001b[1;33m(\u001b[0m\u001b[0mfetched\u001b[0m\u001b[1;33m[\u001b[0m\u001b[1;33m-\u001b[0m\u001b[0mlen\u001b[0m\u001b[1;33m(\u001b[0m\u001b[0mself\u001b[0m\u001b[1;33m.\u001b[0m\u001b[0m_fetches\u001b[0m\u001b[1;33m)\u001b[0m\u001b[1;33m:\u001b[0m\u001b[1;33m]\u001b[0m\u001b[1;33m)\u001b[0m\u001b[1;33m\u001b[0m\u001b[1;33m\u001b[0m\u001b[0m\n\u001b[0;32m   3478\u001b[0m     output_structure = nest.pack_sequence_as(\n",
      "\u001b[1;32mc:\\program files\\python36\\lib\\site-packages\\tensorflow_core\\python\\client\\session.py\u001b[0m in \u001b[0;36m__call__\u001b[1;34m(self, *args, **kwargs)\u001b[0m\n\u001b[0;32m   1470\u001b[0m         ret = tf_session.TF_SessionRunCallable(self._session._session,\n\u001b[0;32m   1471\u001b[0m                                                \u001b[0mself\u001b[0m\u001b[1;33m.\u001b[0m\u001b[0m_handle\u001b[0m\u001b[1;33m,\u001b[0m \u001b[0margs\u001b[0m\u001b[1;33m,\u001b[0m\u001b[1;33m\u001b[0m\u001b[1;33m\u001b[0m\u001b[0m\n\u001b[1;32m-> 1472\u001b[1;33m                                                run_metadata_ptr)\n\u001b[0m\u001b[0;32m   1473\u001b[0m         \u001b[1;32mif\u001b[0m \u001b[0mrun_metadata\u001b[0m\u001b[1;33m:\u001b[0m\u001b[1;33m\u001b[0m\u001b[1;33m\u001b[0m\u001b[0m\n\u001b[0;32m   1474\u001b[0m           \u001b[0mproto_data\u001b[0m \u001b[1;33m=\u001b[0m \u001b[0mtf_session\u001b[0m\u001b[1;33m.\u001b[0m\u001b[0mTF_GetBuffer\u001b[0m\u001b[1;33m(\u001b[0m\u001b[0mrun_metadata_ptr\u001b[0m\u001b[1;33m)\u001b[0m\u001b[1;33m\u001b[0m\u001b[1;33m\u001b[0m\u001b[0m\n",
      "\u001b[1;31mKeyboardInterrupt\u001b[0m: "
     ]
    }
   ],
   "source": [
    "model.evaluate(inputs_test.reshape((inputs_test.shape[0], n_seq, n_steps, n_features, 1))[:-time_limit], y_true_pred)"
   ]
  },
  {
   "cell_type": "code",
   "execution_count": 29,
   "metadata": {},
   "outputs": [],
   "source": [
    "def get_model():\n",
    "    model = models.Sequential()\n",
    "    model.add(LSTM(64, dropout=0.5, return_sequences=True))\n",
    "    model.add(LSTM(64, dropout=0.5))\n",
    "    model.add(Dense(32))\n",
    "    model.add(Activation('relu'))\n",
    "    model.add(Dense(1, activation='tanh'))\n",
    "    return model\n",
    "model = get_model()"
   ]
  },
  {
   "cell_type": "code",
   "execution_count": 85,
   "metadata": {},
   "outputs": [],
   "source": [
    "def meanm(y_true, y_pred):\n",
    "    return tf.reduce_mean(y_pred)\n",
    "def minm(y_true, y_pred):\n",
    "    return tf.reduce_min(y_pred)\n",
    "def maxm(y_true, y_pred):\n",
    "    return tf.reduce_max(y_pred)"
   ]
  },
  {
   "cell_type": "code",
   "execution_count": 86,
   "metadata": {},
   "outputs": [],
   "source": [
    "def custom_metric_wrapper(idx, stop_limit, price_limit, margin_size):  \n",
    "    idxs = tf.cast(list(range(0, batch_size, 60)), dtype='int32')\n",
    "    def profit(y_true, y_pred):\n",
    "        margin = y_pred[:,:1] \n",
    "        direction = tf.sign(margin)\n",
    "        \n",
    "        close1 = tf.gather(y_true[:,:1], idxs)\n",
    "        close2 = tf.gather(y_true[:,1:2], idxs)\n",
    "        diff = close2 - close1\n",
    "#         spread = tf.slice(tf.gather(y_true[:,2:3], idxs), [0, margin.get_shape().as_list()[0]], [0, 1])\n",
    "        spread = tf.gather(y_true[:,2:3], idxs)\n",
    "\n",
    "        x = tf.reduce_mean(100 * (margin * margin_size * (diff - (spread*direction))/close1))\n",
    "        return x\n",
    "    return profit"
   ]
  },
  {
   "cell_type": "code",
   "execution_count": 87,
   "id": "58d2407b",
   "metadata": {},
   "outputs": [],
   "source": [
    "def custom_loss_wrapper(idx, stop_limit, price_limit, margin_size):  \n",
    "    def custom_loss(y_true, y_pred):\n",
    "        margin = y_pred[:,:1] \n",
    "        direction = tf.sign(margin)\n",
    "        \n",
    "        close1 = y_true[:,:1]\n",
    "        close2 = y_true[:,1:2]\n",
    "        diff = close2 - close1\n",
    "        spread = y_true[:,2:3]\n",
    "\n",
    "        profit = 100 * (margin * margin_size * (diff - (spread*direction))/close1)\n",
    "        sharpe = ((252*24/batch_size) ** 0.5) * tf.reduce_mean(profit) / tf.math.reduce_std(profit)\n",
    "        x = -sharpe\n",
    "        return x\n",
    "    return custom_loss"
   ]
  },
  {
   "cell_type": "code",
   "execution_count": 19,
   "id": "6db6a03b",
   "metadata": {},
   "outputs": [],
   "source": [
    "def get_profit(data, y_preds, times_spread=0):\n",
    "    preds = y_preds[:,0].flatten()[:-time_limit]\n",
    "    direction = np.sign(preds)\n",
    "    b = data.shape[0] - preds.shape[0]\n",
    "    close1 = data['close_1min'].values[:-b]\n",
    "    close2 = data['close_1min'].values[time_limit:-b+time_limit]\n",
    "    diff = close2 - close1\n",
    "    spread = data['spread'].values[:-b]\n",
    "    profit = 100 * (margin_size*direction * (diff - (spread*direction))) /  close1\n",
    "#     profit = [p for p, pred, s, c in zip(profit, preds, spread, close1) if abs(pred) > 100*margin_size*times_spread*s/c]\n",
    "    return profit"
   ]
  },
  {
   "cell_type": "code",
   "execution_count": 19,
   "metadata": {},
   "outputs": [],
   "source": [
    "y_true = np.array([train['close_1min'].values[:-time_limit], train['close_1min'].values[time_limit:], train['spread'].values[:-time_limit]]).T\n",
    "y_true_pred = np.array([test['close_1min'].values[:-time_limit], test['close_1min'].values[time_limit:], test['spread'].values[:-time_limit]]).T"
   ]
  },
  {
   "cell_type": "code",
   "execution_count": 47,
   "metadata": {},
   "outputs": [],
   "source": [
    "class MyCustomCallback(tf.keras.callbacks.Callback):\n",
    "    def __init__(self, X, y, validation_data):\n",
    "        # Should be the label encoding of your classes\n",
    "        self.test_data, self.y_true = validation_data\n",
    "        \n",
    "    def on_train_batch_end(self, batch, logs=None):\n",
    "        if batch != 0 and batch % 300 == 0:\n",
    "            print()\n",
    "            val_loss = self.model.evaluate(self.test_data, self.y_true)\n",
    "            print('validation loss: {}'.format(val_loss))"
   ]
  },
  {
   "cell_type": "code",
   "execution_count": 20,
   "id": "77b2e14c",
   "metadata": {},
   "outputs": [],
   "source": [
    "model = get_model()"
   ]
  },
  {
   "cell_type": "code",
   "execution_count": 21,
   "id": "77d24985",
   "metadata": {
    "scrolled": true
   },
   "outputs": [],
   "source": [
    "model.compile(\n",
    "    optimizer=optimizers.Adam(learning_rate=0.0001),\n",
    "    loss=custom_loss_wrapper(idx, stop_limit, price_limit, margin_size),\n",
    "    metrics=[custom_metric_wrapper(idx, stop_limit, price_limit, margin_size), meanm, minm, maxm],\n",
    "    run_eagerly=False\n",
    ")"
   ]
  },
  {
   "cell_type": "code",
   "execution_count": 22,
   "id": "c3f26f0f",
   "metadata": {
    "scrolled": true
   },
   "outputs": [
    {
     "name": "stdout",
     "output_type": "stream",
     "text": [
      "WARNING:tensorflow:From c:\\program files\\python36\\lib\\site-packages\\tensorflow_core\\python\\ops\\math_grad.py:1424: where (from tensorflow.python.ops.array_ops) is deprecated and will be removed in a future version.\n",
      "Instructions for updating:\n",
      "Use tf.where in 2.0, which has the same broadcast rule as np.where\n",
      "Train on 939361 samples, validate on 71307 samples\n",
      "Epoch 1/10000\n",
      "  1056/939361 [..............................] - ETA: 5:37:54 - loss: 3.2308 - profit: -0.3296 - meanm: 0.1096 - minm: 0.0035 - maxm: 0.2528"
     ]
    },
    {
     "ename": "KeyboardInterrupt",
     "evalue": "",
     "output_type": "error",
     "traceback": [
      "\u001b[1;31m---------------------------------------------------------------------------\u001b[0m",
      "\u001b[1;31mKeyboardInterrupt\u001b[0m                         Traceback (most recent call last)",
      "\u001b[1;32m<ipython-input-22-f12abf51ac2f>\u001b[0m in \u001b[0;36m<module>\u001b[1;34m\u001b[0m\n\u001b[0;32m     13\u001b[0m \u001b[1;31m#     use_multiprocessing=True,\u001b[0m\u001b[1;33m\u001b[0m\u001b[1;33m\u001b[0m\u001b[1;33m\u001b[0m\u001b[0m\n\u001b[0;32m     14\u001b[0m \u001b[1;31m#     workers=0,\u001b[0m\u001b[1;33m\u001b[0m\u001b[1;33m\u001b[0m\u001b[1;33m\u001b[0m\u001b[0m\n\u001b[1;32m---> 15\u001b[1;33m     \u001b[0mverbose\u001b[0m\u001b[1;33m=\u001b[0m\u001b[1;36m1\u001b[0m\u001b[1;33m,\u001b[0m\u001b[1;33m\u001b[0m\u001b[1;33m\u001b[0m\u001b[0m\n\u001b[0m\u001b[0;32m     16\u001b[0m \u001b[1;31m#     max_queue_size=100,\u001b[0m\u001b[1;33m\u001b[0m\u001b[1;33m\u001b[0m\u001b[1;33m\u001b[0m\u001b[0m\n\u001b[0;32m     17\u001b[0m \u001b[1;31m#     validation_freq=1000,\u001b[0m\u001b[1;33m\u001b[0m\u001b[1;33m\u001b[0m\u001b[1;33m\u001b[0m\u001b[0m\n",
      "\u001b[1;32mc:\\program files\\python36\\lib\\site-packages\\tensorflow_core\\python\\keras\\engine\\training.py\u001b[0m in \u001b[0;36mfit\u001b[1;34m(self, x, y, batch_size, epochs, verbose, callbacks, validation_split, validation_data, shuffle, class_weight, sample_weight, initial_epoch, steps_per_epoch, validation_steps, validation_freq, max_queue_size, workers, use_multiprocessing, **kwargs)\u001b[0m\n\u001b[0;32m    725\u001b[0m         \u001b[0mmax_queue_size\u001b[0m\u001b[1;33m=\u001b[0m\u001b[0mmax_queue_size\u001b[0m\u001b[1;33m,\u001b[0m\u001b[1;33m\u001b[0m\u001b[1;33m\u001b[0m\u001b[0m\n\u001b[0;32m    726\u001b[0m         \u001b[0mworkers\u001b[0m\u001b[1;33m=\u001b[0m\u001b[0mworkers\u001b[0m\u001b[1;33m,\u001b[0m\u001b[1;33m\u001b[0m\u001b[1;33m\u001b[0m\u001b[0m\n\u001b[1;32m--> 727\u001b[1;33m         use_multiprocessing=use_multiprocessing)\n\u001b[0m\u001b[0;32m    728\u001b[0m \u001b[1;33m\u001b[0m\u001b[0m\n\u001b[0;32m    729\u001b[0m   def evaluate(self,\n",
      "\u001b[1;32mc:\\program files\\python36\\lib\\site-packages\\tensorflow_core\\python\\keras\\engine\\training_arrays.py\u001b[0m in \u001b[0;36mfit\u001b[1;34m(self, model, x, y, batch_size, epochs, verbose, callbacks, validation_split, validation_data, shuffle, class_weight, sample_weight, initial_epoch, steps_per_epoch, validation_steps, validation_freq, **kwargs)\u001b[0m\n\u001b[0;32m    673\u001b[0m         \u001b[0mvalidation_steps\u001b[0m\u001b[1;33m=\u001b[0m\u001b[0mvalidation_steps\u001b[0m\u001b[1;33m,\u001b[0m\u001b[1;33m\u001b[0m\u001b[1;33m\u001b[0m\u001b[0m\n\u001b[0;32m    674\u001b[0m         \u001b[0mvalidation_freq\u001b[0m\u001b[1;33m=\u001b[0m\u001b[0mvalidation_freq\u001b[0m\u001b[1;33m,\u001b[0m\u001b[1;33m\u001b[0m\u001b[1;33m\u001b[0m\u001b[0m\n\u001b[1;32m--> 675\u001b[1;33m         steps_name='steps_per_epoch')\n\u001b[0m\u001b[0;32m    676\u001b[0m \u001b[1;33m\u001b[0m\u001b[0m\n\u001b[0;32m    677\u001b[0m   def evaluate(self,\n",
      "\u001b[1;32mc:\\program files\\python36\\lib\\site-packages\\tensorflow_core\\python\\keras\\engine\\training_arrays.py\u001b[0m in \u001b[0;36mmodel_iteration\u001b[1;34m(model, inputs, targets, sample_weights, batch_size, epochs, verbose, callbacks, val_inputs, val_targets, val_sample_weights, shuffle, initial_epoch, steps_per_epoch, validation_steps, validation_freq, mode, validation_in_fit, prepared_feed_values_from_dataset, steps_name, **kwargs)\u001b[0m\n\u001b[0;32m    392\u001b[0m \u001b[1;33m\u001b[0m\u001b[0m\n\u001b[0;32m    393\u001b[0m         \u001b[1;31m# Get outputs.\u001b[0m\u001b[1;33m\u001b[0m\u001b[1;33m\u001b[0m\u001b[1;33m\u001b[0m\u001b[0m\n\u001b[1;32m--> 394\u001b[1;33m         \u001b[0mbatch_outs\u001b[0m \u001b[1;33m=\u001b[0m \u001b[0mf\u001b[0m\u001b[1;33m(\u001b[0m\u001b[0mins_batch\u001b[0m\u001b[1;33m)\u001b[0m\u001b[1;33m\u001b[0m\u001b[1;33m\u001b[0m\u001b[0m\n\u001b[0m\u001b[0;32m    395\u001b[0m         \u001b[1;32mif\u001b[0m \u001b[1;32mnot\u001b[0m \u001b[0misinstance\u001b[0m\u001b[1;33m(\u001b[0m\u001b[0mbatch_outs\u001b[0m\u001b[1;33m,\u001b[0m \u001b[0mlist\u001b[0m\u001b[1;33m)\u001b[0m\u001b[1;33m:\u001b[0m\u001b[1;33m\u001b[0m\u001b[1;33m\u001b[0m\u001b[0m\n\u001b[0;32m    396\u001b[0m           \u001b[0mbatch_outs\u001b[0m \u001b[1;33m=\u001b[0m \u001b[1;33m[\u001b[0m\u001b[0mbatch_outs\u001b[0m\u001b[1;33m]\u001b[0m\u001b[1;33m\u001b[0m\u001b[1;33m\u001b[0m\u001b[0m\n",
      "\u001b[1;32mc:\\program files\\python36\\lib\\site-packages\\tensorflow_core\\python\\keras\\backend.py\u001b[0m in \u001b[0;36m__call__\u001b[1;34m(self, inputs)\u001b[0m\n\u001b[0;32m   3474\u001b[0m \u001b[1;33m\u001b[0m\u001b[0m\n\u001b[0;32m   3475\u001b[0m     fetched = self._callable_fn(*array_vals,\n\u001b[1;32m-> 3476\u001b[1;33m                                 run_metadata=self.run_metadata)\n\u001b[0m\u001b[0;32m   3477\u001b[0m     \u001b[0mself\u001b[0m\u001b[1;33m.\u001b[0m\u001b[0m_call_fetch_callbacks\u001b[0m\u001b[1;33m(\u001b[0m\u001b[0mfetched\u001b[0m\u001b[1;33m[\u001b[0m\u001b[1;33m-\u001b[0m\u001b[0mlen\u001b[0m\u001b[1;33m(\u001b[0m\u001b[0mself\u001b[0m\u001b[1;33m.\u001b[0m\u001b[0m_fetches\u001b[0m\u001b[1;33m)\u001b[0m\u001b[1;33m:\u001b[0m\u001b[1;33m]\u001b[0m\u001b[1;33m)\u001b[0m\u001b[1;33m\u001b[0m\u001b[1;33m\u001b[0m\u001b[0m\n\u001b[0;32m   3478\u001b[0m     output_structure = nest.pack_sequence_as(\n",
      "\u001b[1;32mc:\\program files\\python36\\lib\\site-packages\\tensorflow_core\\python\\client\\session.py\u001b[0m in \u001b[0;36m__call__\u001b[1;34m(self, *args, **kwargs)\u001b[0m\n\u001b[0;32m   1470\u001b[0m         ret = tf_session.TF_SessionRunCallable(self._session._session,\n\u001b[0;32m   1471\u001b[0m                                                \u001b[0mself\u001b[0m\u001b[1;33m.\u001b[0m\u001b[0m_handle\u001b[0m\u001b[1;33m,\u001b[0m \u001b[0margs\u001b[0m\u001b[1;33m,\u001b[0m\u001b[1;33m\u001b[0m\u001b[1;33m\u001b[0m\u001b[0m\n\u001b[1;32m-> 1472\u001b[1;33m                                                run_metadata_ptr)\n\u001b[0m\u001b[0;32m   1473\u001b[0m         \u001b[1;32mif\u001b[0m \u001b[0mrun_metadata\u001b[0m\u001b[1;33m:\u001b[0m\u001b[1;33m\u001b[0m\u001b[1;33m\u001b[0m\u001b[0m\n\u001b[0;32m   1474\u001b[0m           \u001b[0mproto_data\u001b[0m \u001b[1;33m=\u001b[0m \u001b[0mtf_session\u001b[0m\u001b[1;33m.\u001b[0m\u001b[0mTF_GetBuffer\u001b[0m\u001b[1;33m(\u001b[0m\u001b[0mrun_metadata_ptr\u001b[0m\u001b[1;33m)\u001b[0m\u001b[1;33m\u001b[0m\u001b[1;33m\u001b[0m\u001b[0m\n",
      "\u001b[1;31mKeyboardInterrupt\u001b[0m: "
     ]
    }
   ],
   "source": [
    "# callback = MyCustomCallback(inputs_train[:-time_limit], y_true, validation_data=(inputs_test[:-time_limit], y_true_pred))\n",
    "\n",
    "history = model.fit(\n",
    "    inputs_train[:-time_limit], \n",
    "    y_true, \n",
    "    validation_data=(inputs_test[:-time_limit], y_true_pred),\n",
    "#     validation_steps=32*5//batch_size,\n",
    "#     validation_data=(tf.convert_to_tensor(inputs_test[:32*5]), tf.convert_to_tensor([[1, i] for i in range(32*5)])),\n",
    "    epochs=10000, \n",
    "    shuffle=False,\n",
    "    batch_size=batch_size,\n",
    "#     callbacks=[callback],\n",
    "#     use_multiprocessing=True, \n",
    "#     workers=0,\n",
    "    verbose=1, \n",
    "#     max_queue_size=100,\n",
    "#     validation_freq=1000,\n",
    "#     initial_epoch=model.history.epoch[-1],\n",
    "#     initial_epoch=1\n",
    ")"
   ]
  },
  {
   "cell_type": "code",
   "execution_count": 59,
   "id": "c86fa0d2",
   "metadata": {},
   "outputs": [],
   "source": [
    "model.save('profit_model_fast_QC_hourly')"
   ]
  },
  {
   "cell_type": "code",
   "execution_count": 61,
   "metadata": {
    "scrolled": true
   },
   "outputs": [],
   "source": [
    "model.load_weights('profit_model_fast_QC_hourly')"
   ]
  },
  {
   "cell_type": "code",
   "execution_count": 31,
   "id": "c90d4896",
   "metadata": {},
   "outputs": [],
   "source": [
    "import json\n",
    "weights_list = model.get_weights()\n",
    "json.dump([w.tolist() for w in weights_list], open('profit_model_fast_QC_hourly_weights.json', 'w'))"
   ]
  },
  {
   "cell_type": "code",
   "execution_count": 92,
   "id": "37b8d23b",
   "metadata": {},
   "outputs": [
    {
     "data": {
      "text/plain": [
       "array([[[0.97965571, 0.98591549, 0.89514867, 0.91236307],\n",
       "        [0.91236307, 0.98122066, 0.91236307, 0.98122066],\n",
       "        [0.97965571, 0.99843505, 0.96400626, 0.99530516],\n",
       "        [0.99374022, 1.        , 0.94992175, 0.9514867 ],\n",
       "        [0.95305164, 0.96713615, 0.94835681, 0.96557121],\n",
       "        [0.96557121, 0.97809077, 0.9514867 , 0.96713615],\n",
       "        [0.96557121, 0.97026604, 0.93114241, 0.9342723 ],\n",
       "        [0.9342723 , 0.94992175, 0.91079812, 0.92018779],\n",
       "        [0.91862285, 0.93114241, 0.87636933, 0.9029734 ],\n",
       "        [0.90453834, 0.91236307, 0.85446009, 0.90766823],\n",
       "        [0.90923318, 0.94209703, 0.90923318, 0.93270736],\n",
       "        [0.93114241, 0.9342723 , 0.89671362, 0.91392801],\n",
       "        [0.91236307, 0.91392801, 0.85758998, 0.87636933],\n",
       "        [0.87480438, 0.90923318, 0.87480438, 0.88888889],\n",
       "        [0.88732394, 0.88888889, 0.8513302 , 0.86697966],\n",
       "        [0.86541471, 0.87793427, 0.81846635, 0.86541471],\n",
       "        [0.86541471, 0.91549296, 0.86541471, 0.90923318],\n",
       "        [0.91236307, 0.94209703, 0.90923318, 0.93896714],\n",
       "        [0.94053208, 0.95305164, 0.91549296, 0.94835681],\n",
       "        [0.94992175, 0.95931142, 0.94053208, 0.9514867 ],\n",
       "        [0.95305164, 0.96557121, 0.86697966, 0.87480438],\n",
       "        [0.87636933, 0.92018779, 0.84976526, 0.90610329],\n",
       "        [0.90766823, 0.90766823, 0.87010955, 0.89671362],\n",
       "        [0.89671362, 0.89984351, 0.87323944, 0.88732394],\n",
       "        [0.88888889, 0.90140845, 0.81533646, 0.82942097],\n",
       "        [0.82785603, 0.84037559, 0.77934272, 0.78716745],\n",
       "        [0.78873239, 0.79655712, 0.71048513, 0.72300469],\n",
       "        [0.72456964, 0.72769953, 0.63380282, 0.6400626 ],\n",
       "        [0.63849765, 0.66666667, 0.61189358, 0.64788732],\n",
       "        [0.64632238, 0.66040689, 0.59780908, 0.61815336],\n",
       "        [0.61658842, 0.63849765, 0.56651017, 0.58372457],\n",
       "        [0.58215962, 0.63536776, 0.56494523, 0.62597809],\n",
       "        [0.62754304, 0.66666667, 0.61971831, 0.66040689],\n",
       "        [0.65884194, 0.69640063, 0.6400626 , 0.67762128],\n",
       "        [0.67918623, 0.70109546, 0.66510172, 0.68388106],\n",
       "        [0.68544601, 0.69327074, 0.6713615 , 0.68544601],\n",
       "        [0.68701095, 0.6885759 , 0.62128326, 0.6400626 ],\n",
       "        [0.63849765, 0.6541471 , 0.60406886, 0.63536776],\n",
       "        [0.63849765, 0.66353678, 0.63536776, 0.65571205],\n",
       "        [0.65101721, 0.66040689, 0.61971831, 0.66040689],\n",
       "        [0.65884194, 0.66040689, 0.63693271, 0.64162754],\n",
       "        [0.6400626 , 0.65571205, 0.5399061 , 0.56964006],\n",
       "        [0.57120501, 0.60093897, 0.57120501, 0.58372457],\n",
       "        [0.58528951, 0.60250391, 0.5743349 , 0.60093897],\n",
       "        [0.59937402, 0.66510172, 0.59780908, 0.61345853],\n",
       "        [0.61189358, 0.62754304, 0.57746479, 0.58059468],\n",
       "        [0.57902973, 0.61345853, 0.56494523, 0.56651017],\n",
       "        [0.56807512, 0.5915493 , 0.56181534, 0.58841941],\n",
       "        [0.58528951, 0.6228482 , 0.56025039, 0.6228482 ],\n",
       "        [0.62128326, 0.62128326, 0.46165884, 0.46478873],\n",
       "        [0.46165884, 0.54616588, 0.45852895, 0.5399061 ],\n",
       "        [0.53521127, 0.54929577, 0.52425665, 0.54460094],\n",
       "        [0.54616588, 0.57120501, 0.51956182, 0.5258216 ],\n",
       "        [0.52425665, 0.52738654, 0.39123631, 0.44600939],\n",
       "        [0.4428795 , 0.47887324, 0.41471049, 0.47104851],\n",
       "        [0.47261346, 0.48982786, 0.43505477, 0.47104851],\n",
       "        [0.46791862, 0.48200313, 0.45696401, 0.46322379],\n",
       "        [0.46165884, 0.48043818, 0.43661972, 0.46165884],\n",
       "        [0.46478873, 0.48513302, 0.41940532, 0.48200313],\n",
       "        [0.48356808, 0.49608764, 0.45696401, 0.46948357],\n",
       "        [0.46791862, 0.48826291, 0.45070423, 0.47574335],\n",
       "        [0.4741784 , 0.50704225, 0.4600939 , 0.47887324],\n",
       "        [0.47730829, 0.50234742, 0.42097027, 0.49921753],\n",
       "        [0.50078247, 0.5258216 , 0.48982786, 0.52425665],\n",
       "        [0.52112676, 0.52425665, 0.49295775, 0.49765258],\n",
       "        [0.49921753, 0.49921753, 0.43505477, 0.45539906],\n",
       "        [0.45539906, 0.4913928 , 0.45539906, 0.48826291],\n",
       "        [0.48669797, 0.49295775, 0.43192488, 0.43192488],\n",
       "        [0.43505477, 0.4913928 , 0.4256651 , 0.47104851],\n",
       "        [0.46948357, 0.49295775, 0.43035994, 0.49295775],\n",
       "        [0.49295775, 0.51486698, 0.48669797, 0.51173709],\n",
       "        [0.51017214, 0.51643192, 0.46948357, 0.46948357],\n",
       "        [0.47574335, 0.51799687, 0.47574335, 0.48669797],\n",
       "        [0.48826291, 0.49921753, 0.4741784 , 0.48043818],\n",
       "        [0.48043818, 0.50391236, 0.47887324, 0.49921753],\n",
       "        [0.50078247, 0.50078247, 0.44444444, 0.46478873],\n",
       "        [0.46322379, 0.4741784 , 0.40532081, 0.42253521],\n",
       "        [0.42253521, 0.43192488, 0.40688576, 0.41940532],\n",
       "        [0.42097027, 0.45383412, 0.42097027, 0.43974961],\n",
       "        [0.44131455, 0.4600939 , 0.43035994, 0.43818466],\n",
       "        [0.43505477, 0.45226917, 0.33489828, 0.35524257],\n",
       "        [0.35524257, 0.46635368, 0.34115806, 0.46635368],\n",
       "        [0.46635368, 0.48982786, 0.44131455, 0.45696401],\n",
       "        [0.45696401, 0.4913928 , 0.45226917, 0.48826291],\n",
       "        [0.48669797, 0.48669797, 0.42410016, 0.44131455],\n",
       "        [0.43974961, 0.45696401, 0.41314554, 0.41471049],\n",
       "        [0.41627543, 0.41627543, 0.36463224, 0.37871674],\n",
       "        [0.38028169, 0.44600939, 0.36619718, 0.41471049],\n",
       "        [0.41627543, 0.4428795 , 0.38184664, 0.39593114],\n",
       "        [0.3943662 , 0.4256651 , 0.38028169, 0.4084507 ],\n",
       "        [0.41001565, 0.42253521, 0.37871674, 0.38810642],\n",
       "        [0.38654147, 0.4256651 , 0.38654147, 0.40375587],\n",
       "        [0.40532081, 0.43661972, 0.39123631, 0.4256651 ],\n",
       "        [0.42879499, 0.43192488, 0.37558685, 0.41158059],\n",
       "        [0.41001565, 0.44444444, 0.39280125, 0.43818466],\n",
       "        [0.43661972, 0.45852895, 0.4256651 , 0.44444444],\n",
       "        [0.4428795 , 0.44757433, 0.4084507 , 0.42723005],\n",
       "        [0.4256651 , 0.45226917, 0.42097027, 0.43348983],\n",
       "        [0.43505477, 0.43818466, 0.39593114, 0.39906103],\n",
       "        [0.39749609, 0.41158059, 0.39749609, 0.39749609],\n",
       "        [0.39906103, 0.4084507 , 0.37402191, 0.40062598],\n",
       "        [0.39906103, 0.42097027, 0.39593114, 0.40532081],\n",
       "        [0.4084507 , 0.41158059, 0.37558685, 0.41001565],\n",
       "        [0.4084507 , 0.41158059, 0.38654147, 0.38967136],\n",
       "        [0.38810642, 0.40062598, 0.38184664, 0.38967136],\n",
       "        [0.38810642, 0.39749609, 0.36932707, 0.39593114],\n",
       "        [0.3943662 , 0.39749609, 0.34898279, 0.34898279],\n",
       "        [0.35054773, 0.38184664, 0.28951487, 0.38028169],\n",
       "        [0.38028169, 0.43035994, 0.36776213, 0.41784038],\n",
       "        [0.41471049, 0.49452269, 0.40532081, 0.4741784 ],\n",
       "        [0.47261346, 0.47574335, 0.3943662 , 0.40375587],\n",
       "        [0.40532081, 0.41940532, 0.35680751, 0.37245696],\n",
       "        [0.37089202, 0.43035994, 0.36776213, 0.39749609],\n",
       "        [0.39906103, 0.39906103, 0.36463224, 0.36619718],\n",
       "        [0.36463224, 0.36776213, 0.33176839, 0.36776213],\n",
       "        [0.36619718, 0.39280125, 0.35837246, 0.38810642],\n",
       "        [0.38654147, 0.41314554, 0.37089202, 0.40062598],\n",
       "        [0.40062598, 0.42097027, 0.35680751, 0.38654147],\n",
       "        [0.38810642, 0.38810642, 0.28951487, 0.29264476],\n",
       "        [0.29577465, 0.3286385 , 0.24726135, 0.28794992],\n",
       "        [0.29107981, 0.30829421, 0.25821596, 0.30359937],\n",
       "        [0.30203443, 0.3114241 , 0.24413146, 0.26447574],\n",
       "        [0.26447574, 0.34115806, 0.2629108 , 0.31298905],\n",
       "        [0.30985915, 0.33489828, 0.30359937, 0.33333333],\n",
       "        [0.33489828, 0.37558685, 0.3286385 , 0.36306729],\n",
       "        [0.36463224, 0.38654147, 0.3458529 , 0.3458529 ],\n",
       "        [0.34741784, 0.38497653, 0.31924883, 0.37402191],\n",
       "        [0.37558685, 0.41158059, 0.37089202, 0.39123631],\n",
       "        [0.39123631, 0.41001565, 0.38028169, 0.39123631],\n",
       "        [0.39280125, 0.39749609, 0.36463224, 0.37871674],\n",
       "        [0.3771518 , 0.38497653, 0.33020344, 0.34898279],\n",
       "        [0.3458529 , 0.40688576, 0.34428795, 0.40375587],\n",
       "        [0.40219092, 0.41314554, 0.38967136, 0.39749609],\n",
       "        [0.39906103, 0.4256651 , 0.38184664, 0.38810642],\n",
       "        [0.38810642, 0.42723005, 0.38497653, 0.4084507 ],\n",
       "        [0.41158059, 0.41471049, 0.342723  , 0.3458529 ],\n",
       "        [0.34741784, 0.35680751, 0.30672926, 0.35211268],\n",
       "        [0.35211268, 0.36150235, 0.33333333, 0.33333333],\n",
       "        [0.33176839, 0.3458529 , 0.30985915, 0.34115806],\n",
       "        [0.33959311, 0.34115806, 0.30203443, 0.33020344],\n",
       "        [0.33333333, 0.34428795, 0.28794992, 0.29890454],\n",
       "        [0.29733959, 0.30203443, 0.20187793, 0.20970266],\n",
       "        [0.21283255, 0.25821596, 0.21126761, 0.23943662],\n",
       "        [0.23943662, 0.25665102, 0.20657277, 0.22535211],\n",
       "        [0.22378717, 0.23161189, 0.15336463, 0.17214397],\n",
       "        [0.17057903, 0.1971831 , 0.16431925, 0.1971831 ],\n",
       "        [0.20031299, 0.23943662, 0.16118936, 0.21596244],\n",
       "        [0.21752739, 0.23630673, 0.17370892, 0.19405321],\n",
       "        [0.1971831 , 0.25665102, 0.19248826, 0.24882629],\n",
       "        [0.24726135, 0.25195618, 0.20031299, 0.24100156],\n",
       "        [0.23943662, 0.25665102, 0.18779343, 0.25352113],\n",
       "        [0.25508607, 0.28638498, 0.18622848, 0.20187793],\n",
       "        [0.20031299, 0.21596244, 0.17683881, 0.20657277],\n",
       "        [0.20344288, 0.20970266, 0.16431925, 0.20970266],\n",
       "        [0.21126761, 0.23474178, 0.18935837, 0.1971831 ],\n",
       "        [0.19874804, 0.20813772, 0.16744914, 0.17057903],\n",
       "        [0.17214397, 0.18779343, 0.15023474, 0.16118936],\n",
       "        [0.15962441, 0.16588419, 0.1314554 , 0.13615023],\n",
       "        [0.13458529, 0.17057903, 0.        , 0.0312989 ],\n",
       "        [0.03286385, 0.08137715, 0.02503912, 0.05477308],\n",
       "        [0.05633803, 0.09076682, 0.05477308, 0.08607199],\n",
       "        [0.08450704, 0.114241  , 0.05164319, 0.09859155],\n",
       "        [0.10015649, 0.114241  , 0.0829421 , 0.09389671],\n",
       "        [0.09546166, 0.15179969, 0.09546166, 0.14397496],\n",
       "        [0.14397496, 0.17214397, 0.13302034, 0.14397496],\n",
       "        [0.14553991, 0.20813772, 0.14397496, 0.20031299],\n",
       "        [0.20187793, 0.20657277, 0.17057903, 0.17527387],\n",
       "        [0.17370892, 0.18935837, 0.12519562, 0.1314554 ],\n",
       "        [0.1314554 , 0.20031299, 0.1314554 , 0.18153365],\n",
       "        [0.18309859, 0.19874804, 0.16588419, 0.18935837],\n",
       "        [0.19092332, 0.22065728, 0.15179969, 0.15179969],\n",
       "        [0.1486698 , 0.19248826, 0.12519562, 0.18466354],\n",
       "        [0.17840376, 0.20500782, 0.14241002, 0.20031299],\n",
       "        [0.20031299, 0.20031299, 0.13458529, 0.15649452],\n",
       "        [0.15962441, 0.17840376, 0.15179969, 0.17214397],\n",
       "        [0.17057903, 0.17527387, 0.13771518, 0.1627543 ],\n",
       "        [0.16431925, 0.21126761, 0.16431925, 0.20813772],\n",
       "        [0.20657277, 0.21283255, 0.14710485, 0.15962441],\n",
       "        [0.15805947, 0.23943662, 0.15649452, 0.23787167],\n",
       "        [0.23474178, 0.24100156, 0.15492958, 0.18466354]]])"
      ]
     },
     "execution_count": 92,
     "metadata": {},
     "output_type": "execute_result"
    }
   ],
   "source": [
    "inputs_train[:1]"
   ]
  },
  {
   "cell_type": "code",
   "execution_count": 93,
   "id": "7ac07403",
   "metadata": {
    "scrolled": true
   },
   "outputs": [
    {
     "data": {
      "text/plain": [
       "array([[-0.9991012 , -0.11320163,  0.57906145]], dtype=float32)"
      ]
     },
     "execution_count": 93,
     "metadata": {},
     "output_type": "execute_result"
    }
   ],
   "source": [
    "model.predict(inputs_train[:1])"
   ]
  },
  {
   "cell_type": "code",
   "execution_count": 346,
   "metadata": {},
   "outputs": [],
   "source": [
    "import numpy as np\n",
    "def normalize(data, window, step):\n",
    "    frame = '_1min'\n",
    "    values = [c for c in data.columns if frame in c]\n",
    "    ohlc = data.iloc[step - window + 1:step + 1][values].copy()\n",
    "\n",
    "    min_low = ohlc[values].min().min()\n",
    "    for c in ohlc.columns:\n",
    "        ohlc[c] -= min_low\n",
    "\n",
    "    max_high = ohlc[values].max().max()\n",
    "    for c in ohlc.columns:\n",
    "        ohlc[c] /= max_high\n",
    "\n",
    "    return ohlc.values"
   ]
  },
  {
   "cell_type": "code",
   "execution_count": 350,
   "metadata": {},
   "outputs": [
    {
     "data": {
      "text/plain": [
       "array([[7.670842e-01, 3.024242e-01, 6.787478e-04]], dtype=float32)"
      ]
     },
     "execution_count": 350,
     "metadata": {},
     "output_type": "execute_result"
    }
   ],
   "source": [
    "model.predict(inputs_train[-1:])"
   ]
  },
  {
   "cell_type": "code",
   "execution_count": 356,
   "metadata": {},
   "outputs": [],
   "source": [
    "np.save('preds.json', y_preds['test'])"
   ]
  },
  {
   "cell_type": "code",
   "execution_count": 105,
   "id": "bb215f02",
   "metadata": {},
   "outputs": [
    {
     "data": {
      "text/plain": [
       "(0.5317056, 0.59686315)"
      ]
     },
     "execution_count": 105,
     "metadata": {},
     "output_type": "execute_result"
    }
   ],
   "source": [
    "(((y_preds['test'][:,1] + 1) / 2)).mean(), (((y_preds['test'][:,2] + 1) / 2)).mean()"
   ]
  },
  {
   "cell_type": "code",
   "execution_count": 390,
   "metadata": {},
   "outputs": [
    {
     "data": {
      "text/plain": [
       "0.0015750954227028498"
      ]
     },
     "execution_count": 390,
     "metadata": {},
     "output_type": "execute_result"
    }
   ],
   "source": [
    "abs(train['close_1min'].values[:-60] - train['close_1min'].values[60:]).mean()"
   ]
  },
  {
   "cell_type": "code",
   "execution_count": 32,
   "id": "06cb421e",
   "metadata": {},
   "outputs": [],
   "source": [
    "y_preds = {'train': model.predict(inputs_train[:-buffer_train]), 'test': model.predict(inputs_test[:-buffer_test])}"
   ]
  },
  {
   "cell_type": "code",
   "execution_count": 415,
   "id": "bb2d5582",
   "metadata": {},
   "outputs": [],
   "source": [
    "profits = {'train': get_profit(df[0], y_preds['train'], 0), 'test': get_profit(df[1], y_preds['test'], 0)}"
   ]
  },
  {
   "cell_type": "code",
   "execution_count": 44,
   "metadata": {},
   "outputs": [],
   "source": [
    "time_limit = 120\n",
    "def get_profit(data, y_preds, times_spread=0):\n",
    "    preds = y_preds[:,0].flatten()[:-time_limit]\n",
    "    direction = np.sign(preds)\n",
    "    b = data.shape[0] - preds.shape[0]\n",
    "    close1 = data['close_1min'].values[:-b]\n",
    "    close2 = data['close_1min'].values[time_limit:-b+time_limit]\n",
    "    diff = close2 - close1\n",
    "    spread = data['spread'].values[:-b]\n",
    "    profit = 100 * (margin_size*direction * (diff - (spread*direction))) /  close1\n",
    "#     profit = [p for p, pred, s, c in zip(profit, preds, spread, close1) if abs(pred) > 100*margin_size*times_spread*s/c]\n",
    "    return profit"
   ]
  },
  {
   "cell_type": "code",
   "execution_count": 38,
   "metadata": {},
   "outputs": [],
   "source": [
    "def get_profit(data, y_preds, margin_lower_limit=0):\n",
    "    idx = 0\n",
    "    profits = 0\n",
    "    margin = 0\n",
    "    account_value = [1]\n",
    "    old_date = data['date'].iloc[idx]\n",
    "    increase = 1\n",
    "    start_profit = profits\n",
    "    while idx < len(y_preds) - 2:\n",
    "        pred = y_preds[idx][0]\n",
    "        date = data['date'].iloc[idx]\n",
    "        direction = np.sign(margin)\n",
    "        close =  data.iloc[idx]['close_1min']\n",
    "        spread = data.iloc[idx]['spread']\n",
    "        if date != old_date:\n",
    "            profits += (margin * (close - (spread*direction)))\n",
    "            margin = 0\n",
    "            \n",
    "        if abs(pred + margin) < margin_size*account_value[-1]:\n",
    "            profits += (pred * (close - (spread*direction)))\n",
    "            margin += pred\n",
    "            \n",
    "        account_value.append(1 + (margin * (close - (spread*direction))) - profits)\n",
    "        idx += 1\n",
    "        \n",
    "    idx = -1\n",
    "    direction = np.sign(margin)\n",
    "    close =  data.iloc[idx]['close_1min']\n",
    "    spread = data.iloc[idx]['spread']\n",
    "    profits += (margin * (close - (spread*direction)))\n",
    "    margin = 0\n",
    "    return profits, margin, account_value"
   ]
  },
  {
   "cell_type": "code",
   "execution_count": 41,
   "metadata": {},
   "outputs": [],
   "source": [
    "p, m, v = get_profit(df[1], y_preds['test'], 0)"
   ]
  },
  {
   "cell_type": "code",
   "execution_count": 42,
   "metadata": {},
   "outputs": [
    {
     "data": {
      "text/plain": [
       "[<matplotlib.lines.Line2D at 0x24557d8ec50>]"
      ]
     },
     "execution_count": 42,
     "metadata": {},
     "output_type": "execute_result"
    },
    {
     "data": {
      "image/png": "[encoded data removed]",
      "text/plain": [
       "<Figure size 432x288 with 1 Axes>"
      ]
     },
     "metadata": {
      "needs_background": "light"
     },
     "output_type": "display_data"
    }
   ],
   "source": [
    "plt.plot(v)"
   ]
  },
  {
   "cell_type": "code",
   "execution_count": 45,
   "metadata": {
    "scrolled": true
   },
   "outputs": [],
   "source": [
    "profits_fixed = {'train': get_profit(df[0], y_preds['train'], 0), 'test': get_profit(df[1], y_preds['test'], 0)}"
   ]
  },
  {
   "cell_type": "code",
   "execution_count": 46,
   "id": "536ff360",
   "metadata": {},
   "outputs": [],
   "source": [
    "temp = {'train': train.iloc[:len(profits_fixed['train'])].copy(), 'test': test.iloc[:len(profits_fixed['test'])].copy()}\n",
    "temp['train']['profit'] = profits_fixed['train']\n",
    "temp['test']['profit'] = profits_fixed['test']"
   ]
  },
  {
   "cell_type": "code",
   "execution_count": 47,
   "metadata": {},
   "outputs": [
    {
     "data": {
      "text/plain": [
       "<matplotlib.axes._subplots.AxesSubplot at 0x24557bdd128>"
      ]
     },
     "execution_count": 47,
     "metadata": {},
     "output_type": "execute_result"
    },
    {
     "data": {
      "image/png": "[encoded data removed]",
      "text/plain": [
       "<Figure size 432x288 with 1 Axes>"
      ]
     },
     "metadata": {
      "needs_background": "light"
     },
     "output_type": "display_data"
    }
   ],
   "source": [
    "temp['train']['profit'].hist()"
   ]
  },
  {
   "cell_type": "code",
   "execution_count": 48,
   "metadata": {},
   "outputs": [
    {
     "data": {
      "text/plain": [
       "<matplotlib.axes._subplots.AxesSubplot at 0x2455804ce80>"
      ]
     },
     "execution_count": 48,
     "metadata": {},
     "output_type": "execute_result"
    },
    {
     "data": {
      "image/png": "[encoded data removed]",
      "text/plain": [
       "<Figure size 432x288 with 1 Axes>"
      ]
     },
     "metadata": {
      "needs_background": "light"
     },
     "output_type": "display_data"
    }
   ],
   "source": [
    "temp['test']['profit'].hist()"
   ]
  },
  {
   "cell_type": "code",
   "execution_count": 49,
   "id": "19e7241a",
   "metadata": {},
   "outputs": [
    {
     "data": {
      "text/plain": [
       "<matplotlib.axes._subplots.AxesSubplot at 0x245586b51d0>"
      ]
     },
     "execution_count": 49,
     "metadata": {},
     "output_type": "execute_result"
    },
    {
     "data": {
      "image/png": "[encoded data removed]",
      "text/plain": [
       "<Figure size 432x288 with 1 Axes>"
      ]
     },
     "metadata": {
      "needs_background": "light"
     },
     "output_type": "display_data"
    }
   ],
   "source": [
    "temp['train']['profit'].plot()"
   ]
  },
  {
   "cell_type": "code",
   "execution_count": 50,
   "id": "4e03b4bb",
   "metadata": {},
   "outputs": [
    {
     "data": {
      "text/plain": [
       "<matplotlib.axes._subplots.AxesSubplot at 0x245586f6080>"
      ]
     },
     "execution_count": 50,
     "metadata": {},
     "output_type": "execute_result"
    },
    {
     "data": {
      "image/png": "[encoded data removed]",
      "text/plain": [
       "<Figure size 432x288 with 1 Axes>"
      ]
     },
     "metadata": {
      "needs_background": "light"
     },
     "output_type": "display_data"
    }
   ],
   "source": [
    "temp['test']['profit'].plot()"
   ]
  },
  {
   "cell_type": "code",
   "execution_count": 51,
   "id": "90a5da88",
   "metadata": {},
   "outputs": [
    {
     "data": {
      "text/plain": [
       "<matplotlib.axes._subplots.AxesSubplot at 0x245587abcf8>"
      ]
     },
     "execution_count": 51,
     "metadata": {},
     "output_type": "execute_result"
    },
    {
     "data": {
      "image/png": "[encoded data removed]",
      "text/plain": [
       "<Figure size 432x288 with 1 Axes>"
      ]
     },
     "metadata": {
      "needs_background": "light"
     },
     "output_type": "display_data"
    }
   ],
   "source": [
    "temp['train']['profit'].cumsum().plot()"
   ]
  },
  {
   "cell_type": "code",
   "execution_count": 52,
   "id": "345e7c54",
   "metadata": {},
   "outputs": [
    {
     "data": {
      "text/plain": [
       "<matplotlib.axes._subplots.AxesSubplot at 0x24557b04908>"
      ]
     },
     "execution_count": 52,
     "metadata": {},
     "output_type": "execute_result"
    },
    {
     "data": {
      "image/png": "[encoded data removed]",
      "text/plain": [
       "<Figure size 432x288 with 1 Axes>"
      ]
     },
     "metadata": {
      "needs_background": "light"
     },
     "output_type": "display_data"
    }
   ],
   "source": [
    "temp['test']['profit'].cumsum().plot()"
   ]
  },
  {
   "cell_type": "code",
   "execution_count": 53,
   "id": "d81161e2",
   "metadata": {},
   "outputs": [
    {
     "data": {
      "text/plain": [
       "-877.1575781495643"
      ]
     },
     "execution_count": 53,
     "metadata": {},
     "output_type": "execute_result"
    }
   ],
   "source": [
    "sum(temp['train']['profit'])"
   ]
  },
  {
   "cell_type": "code",
   "execution_count": 54,
   "id": "4af3cae6",
   "metadata": {},
   "outputs": [
    {
     "data": {
      "text/plain": [
       "-23461.383361202457"
      ]
     },
     "execution_count": 54,
     "metadata": {},
     "output_type": "execute_result"
    }
   ],
   "source": [
    "sum(temp['test']['profit'])"
   ]
  },
  {
   "cell_type": "code",
   "execution_count": 55,
   "id": "ebfe8f1f",
   "metadata": {},
   "outputs": [
    {
     "data": {
      "text/plain": [
       "-0.010243052908135533"
      ]
     },
     "execution_count": 55,
     "metadata": {},
     "output_type": "execute_result"
    }
   ],
   "source": [
    "(252 ** 0.5) * np.mean(temp['train']['profit']) / np.std(temp['train']['profit'])"
   ]
  },
  {
   "cell_type": "code",
   "execution_count": 56,
   "id": "af953a97",
   "metadata": {},
   "outputs": [
    {
     "data": {
      "text/plain": [
       "-1.3102568050744339"
      ]
     },
     "execution_count": 56,
     "metadata": {},
     "output_type": "execute_result"
    }
   ],
   "source": [
    "(252 ** 0.5) * np.mean(temp['test']['profit']) / np.std(temp['test']['profit'])"
   ]
  },
  {
   "cell_type": "code",
   "execution_count": null,
   "id": "e05e48b6",
   "metadata": {},
   "outputs": [],
   "source": []
  }
 ],
 "metadata": {
  "kernelspec": {
   "display_name": "Python 3",
   "language": "python",
   "name": "python3"
  },
  "language_info": {
   "codemirror_mode": {
    "name": "ipython",
    "version": 3
   },
   "file_extension": ".py",
   "mimetype": "text/x-python",
   "name": "python",
   "nbconvert_exporter": "python",
   "pygments_lexer": "ipython3",
   "version": "3.6.8"
  }
 },
 "nbformat": 4,
 "nbformat_minor": 5
}
